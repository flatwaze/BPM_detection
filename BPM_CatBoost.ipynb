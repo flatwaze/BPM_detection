{
  "nbformat": 4,
  "nbformat_minor": 0,
  "metadata": {
    "colab": {
      "provenance": []
    },
    "kernelspec": {
      "name": "python3",
      "display_name": "Python 3"
    },
    "language_info": {
      "name": "python"
    },
    "widgets": {
      "application/vnd.jupyter.widget-state+json": {
        "0c7767e14a044a36931ca66b23a0d57e": {
          "model_module": "catboost-widget",
          "model_name": "CatboostWidgetModel",
          "model_module_version": "^1.0.0",
          "state": {
            "_dom_classes": [],
            "_model_module": "catboost-widget",
            "_model_module_version": "^1.0.0",
            "_model_name": "CatboostWidgetModel",
            "_view_count": null,
            "_view_module": "catboost-widget",
            "_view_module_version": "^1.0.0",
            "_view_name": "CatboostWidgetView",
            "data": {
              "catboost_info": {
                "path": "catboost_info",
                "name": "catboost_info",
                "content": {
                  "passed_iterations": 899,
                  "total_iterations": 900,
                  "data": {
                    "iterations": [
                      {
                        "learn": [
                          25.19494339
                        ],
                        "iteration": 0,
                        "passed_time": 0.1115964436,
                        "remaining_time": 100.3252028,
                        "test": [
                          25.26530442
                        ]
                      },
                      {
                        "learn": [
                          25.19483611
                        ],
                        "iteration": 1,
                        "passed_time": 0.2204391986,
                        "remaining_time": 98.97720019,
                        "test": [
                          25.26521478
                        ]
                      },
                      {
                        "learn": [
                          25.19470131
                        ],
                        "iteration": 2,
                        "passed_time": 0.3334094331,
                        "remaining_time": 99.6894205,
                        "test": [
                          25.26510937
                        ]
                      },
                      {
                        "learn": [
                          25.19458522
                        ],
                        "iteration": 3,
                        "passed_time": 0.4391474543,
                        "remaining_time": 98.36902975,
                        "test": [
                          25.26501125
                        ]
                      },
                      {
                        "learn": [
                          25.19448802
                        ],
                        "iteration": 4,
                        "passed_time": 0.5502998129,
                        "remaining_time": 98.50366651,
                        "test": [
                          25.26492998
                        ]
                      },
                      {
                        "learn": [
                          25.19437689
                        ],
                        "iteration": 5,
                        "passed_time": 0.690619212,
                        "remaining_time": 102.9022626,
                        "test": [
                          25.26484881
                        ]
                      },
                      {
                        "learn": [
                          25.19425794
                        ],
                        "iteration": 6,
                        "passed_time": 0.7956976884,
                        "remaining_time": 101.5082908,
                        "test": [
                          25.26474261
                        ]
                      },
                      {
                        "learn": [
                          25.19414162
                        ],
                        "iteration": 7,
                        "passed_time": 0.9091178156,
                        "remaining_time": 101.3666364,
                        "test": [
                          25.26465059
                        ]
                      },
                      {
                        "learn": [
                          25.19403249
                        ],
                        "iteration": 8,
                        "passed_time": 1.012436972,
                        "remaining_time": 100.2312602,
                        "test": [
                          25.26457897
                        ]
                      },
                      {
                        "learn": [
                          25.19391447
                        ],
                        "iteration": 9,
                        "passed_time": 1.118547774,
                        "remaining_time": 99.5507519,
                        "test": [
                          25.26447138
                        ]
                      },
                      {
                        "learn": [
                          25.19382134
                        ],
                        "iteration": 10,
                        "passed_time": 1.228191833,
                        "remaining_time": 99.26023084,
                        "test": [
                          25.26439171
                        ]
                      },
                      {
                        "learn": [
                          25.1937084
                        ],
                        "iteration": 11,
                        "passed_time": 1.339186154,
                        "remaining_time": 99.09977538,
                        "test": [
                          25.26429739
                        ]
                      },
                      {
                        "learn": [
                          25.19360119
                        ],
                        "iteration": 12,
                        "passed_time": 1.4517014,
                        "remaining_time": 99.05070318,
                        "test": [
                          25.26420781
                        ]
                      },
                      {
                        "learn": [
                          25.19348098
                        ],
                        "iteration": 13,
                        "passed_time": 1.563230567,
                        "remaining_time": 98.93016303,
                        "test": [
                          25.26411675
                        ]
                      },
                      {
                        "learn": [
                          25.19338636
                        ],
                        "iteration": 14,
                        "passed_time": 1.706365378,
                        "remaining_time": 100.6755573,
                        "test": [
                          25.26403913
                        ]
                      },
                      {
                        "learn": [
                          25.19329569
                        ],
                        "iteration": 15,
                        "passed_time": 1.812721197,
                        "remaining_time": 100.1528461,
                        "test": [
                          25.26397841
                        ]
                      },
                      {
                        "learn": [
                          25.19321293
                        ],
                        "iteration": 16,
                        "passed_time": 1.922369722,
                        "remaining_time": 99.85014496,
                        "test": [
                          25.26390694
                        ]
                      },
                      {
                        "learn": [
                          25.19311708
                        ],
                        "iteration": 17,
                        "passed_time": 2.027366049,
                        "remaining_time": 99.34093639,
                        "test": [
                          25.26384245
                        ]
                      },
                      {
                        "learn": [
                          25.19302715
                        ],
                        "iteration": 18,
                        "passed_time": 2.136144654,
                        "remaining_time": 99.04965475,
                        "test": [
                          25.2637751
                        ]
                      },
                      {
                        "learn": [
                          25.19293486
                        ],
                        "iteration": 19,
                        "passed_time": 2.245630892,
                        "remaining_time": 98.80775926,
                        "test": [
                          25.26372841
                        ]
                      },
                      {
                        "learn": [
                          25.19283172
                        ],
                        "iteration": 20,
                        "passed_time": 2.352741526,
                        "remaining_time": 98.47903816,
                        "test": [
                          25.26365439
                        ]
                      },
                      {
                        "learn": [
                          25.19274259
                        ],
                        "iteration": 21,
                        "passed_time": 2.454950129,
                        "remaining_time": 97.97482787,
                        "test": [
                          25.26359112
                        ]
                      },
                      {
                        "learn": [
                          25.19262771
                        ],
                        "iteration": 22,
                        "passed_time": 2.563898501,
                        "remaining_time": 97.76256457,
                        "test": [
                          25.2635037
                        ]
                      },
                      {
                        "learn": [
                          25.19254074
                        ],
                        "iteration": 23,
                        "passed_time": 2.68540992,
                        "remaining_time": 98.01746206,
                        "test": [
                          25.26343991
                        ]
                      },
                      {
                        "learn": [
                          25.19244693
                        ],
                        "iteration": 24,
                        "passed_time": 2.807132123,
                        "remaining_time": 98.2496243,
                        "test": [
                          25.26337676
                        ]
                      },
                      {
                        "learn": [
                          25.19233561
                        ],
                        "iteration": 25,
                        "passed_time": 2.917755932,
                        "remaining_time": 98.08148787,
                        "test": [
                          25.26327836
                        ]
                      },
                      {
                        "learn": [
                          25.19224799
                        ],
                        "iteration": 26,
                        "passed_time": 3.023856269,
                        "remaining_time": 97.77135268,
                        "test": [
                          25.26322223
                        ]
                      },
                      {
                        "learn": [
                          25.19215403
                        ],
                        "iteration": 27,
                        "passed_time": 3.126992927,
                        "remaining_time": 97.38349402,
                        "test": [
                          25.26315696
                        ]
                      },
                      {
                        "learn": [
                          25.19206627
                        ],
                        "iteration": 28,
                        "passed_time": 3.233990099,
                        "remaining_time": 97.13121986,
                        "test": [
                          25.26309613
                        ]
                      },
                      {
                        "learn": [
                          25.19198348
                        ],
                        "iteration": 29,
                        "passed_time": 3.339328646,
                        "remaining_time": 96.84053074,
                        "test": [
                          25.26303634
                        ]
                      },
                      {
                        "learn": [
                          25.19189528
                        ],
                        "iteration": 30,
                        "passed_time": 3.451082067,
                        "remaining_time": 96.74162311,
                        "test": [
                          25.26297592
                        ]
                      },
                      {
                        "learn": [
                          25.19179434
                        ],
                        "iteration": 31,
                        "passed_time": 3.559724833,
                        "remaining_time": 96.5575361,
                        "test": [
                          25.26293042
                        ]
                      },
                      {
                        "learn": [
                          25.19168965
                        ],
                        "iteration": 32,
                        "passed_time": 3.67030175,
                        "remaining_time": 96.42883689,
                        "test": [
                          25.26286554
                        ]
                      },
                      {
                        "learn": [
                          25.19160633
                        ],
                        "iteration": 33,
                        "passed_time": 3.802446403,
                        "remaining_time": 96.85054661,
                        "test": [
                          25.26279003
                        ]
                      },
                      {
                        "learn": [
                          25.19150303
                        ],
                        "iteration": 34,
                        "passed_time": 3.911216043,
                        "remaining_time": 96.66291078,
                        "test": [
                          25.26271519
                        ]
                      },
                      {
                        "learn": [
                          25.19141061
                        ],
                        "iteration": 35,
                        "passed_time": 4.017639689,
                        "remaining_time": 96.42335254,
                        "test": [
                          25.26267762
                        ]
                      },
                      {
                        "learn": [
                          25.19131648
                        ],
                        "iteration": 36,
                        "passed_time": 4.121571014,
                        "remaining_time": 96.13285905,
                        "test": [
                          25.26259377
                        ]
                      },
                      {
                        "learn": [
                          25.1912227
                        ],
                        "iteration": 37,
                        "passed_time": 4.226775293,
                        "remaining_time": 95.88106059,
                        "test": [
                          25.26251243
                        ]
                      },
                      {
                        "learn": [
                          25.19113207
                        ],
                        "iteration": 38,
                        "passed_time": 4.334511237,
                        "remaining_time": 95.69267116,
                        "test": [
                          25.26247999
                        ]
                      },
                      {
                        "learn": [
                          25.19104596
                        ],
                        "iteration": 39,
                        "passed_time": 4.442190378,
                        "remaining_time": 95.50709313,
                        "test": [
                          25.26241951
                        ]
                      },
                      {
                        "learn": [
                          25.190954
                        ],
                        "iteration": 40,
                        "passed_time": 4.550068513,
                        "remaining_time": 95.32948422,
                        "test": [
                          25.26235004
                        ]
                      },
                      {
                        "learn": [
                          25.19086563
                        ],
                        "iteration": 41,
                        "passed_time": 4.662805638,
                        "remaining_time": 95.25445804,
                        "test": [
                          25.26227611
                        ]
                      },
                      {
                        "learn": [
                          25.19078915
                        ],
                        "iteration": 42,
                        "passed_time": 4.793074575,
                        "remaining_time": 95.52709095,
                        "test": [
                          25.2622279
                        ]
                      },
                      {
                        "learn": [
                          25.19069527
                        ],
                        "iteration": 43,
                        "passed_time": 4.904508176,
                        "remaining_time": 95.41497724,
                        "test": [
                          25.26216284
                        ]
                      },
                      {
                        "learn": [
                          25.19061318
                        ],
                        "iteration": 44,
                        "passed_time": 5.016438838,
                        "remaining_time": 95.31233792,
                        "test": [
                          25.26211129
                        ]
                      },
                      {
                        "learn": [
                          25.19051388
                        ],
                        "iteration": 45,
                        "passed_time": 5.120809628,
                        "remaining_time": 95.06894396,
                        "test": [
                          25.2620363
                        ]
                      },
                      {
                        "learn": [
                          25.19042467
                        ],
                        "iteration": 46,
                        "passed_time": 5.229395134,
                        "remaining_time": 94.9079585,
                        "test": [
                          25.26199021
                        ]
                      },
                      {
                        "learn": [
                          25.19035561
                        ],
                        "iteration": 47,
                        "passed_time": 5.341097248,
                        "remaining_time": 94.80447616,
                        "test": [
                          25.26197017
                        ]
                      },
                      {
                        "learn": [
                          25.19027375
                        ],
                        "iteration": 48,
                        "passed_time": 5.45193289,
                        "remaining_time": 94.68560999,
                        "test": [
                          25.26192224
                        ]
                      },
                      {
                        "learn": [
                          25.19019906
                        ],
                        "iteration": 49,
                        "passed_time": 5.558843846,
                        "remaining_time": 94.50034538,
                        "test": [
                          25.26187156
                        ]
                      },
                      {
                        "learn": [
                          25.19011599
                        ],
                        "iteration": 50,
                        "passed_time": 5.673908515,
                        "remaining_time": 94.45388881,
                        "test": [
                          25.26181465
                        ]
                      },
                      {
                        "learn": [
                          25.19003426
                        ],
                        "iteration": 51,
                        "passed_time": 5.874746196,
                        "remaining_time": 95.80355334,
                        "test": [
                          25.26175618
                        ]
                      },
                      {
                        "learn": [
                          25.18996463
                        ],
                        "iteration": 52,
                        "passed_time": 6.09107731,
                        "remaining_time": 97.34231097,
                        "test": [
                          25.26169874
                        ]
                      },
                      {
                        "learn": [
                          25.18987495
                        ],
                        "iteration": 53,
                        "passed_time": 6.287555816,
                        "remaining_time": 98.50504112,
                        "test": [
                          25.26162238
                        ]
                      },
                      {
                        "learn": [
                          25.1898044
                        ],
                        "iteration": 54,
                        "passed_time": 6.52318286,
                        "remaining_time": 100.2198094,
                        "test": [
                          25.26158456
                        ]
                      },
                      {
                        "learn": [
                          25.18973707
                        ],
                        "iteration": 55,
                        "passed_time": 6.750900963,
                        "remaining_time": 101.7457217,
                        "test": [
                          25.26154066
                        ]
                      },
                      {
                        "learn": [
                          25.18965432
                        ],
                        "iteration": 56,
                        "passed_time": 7.012313106,
                        "remaining_time": 103.7084201,
                        "test": [
                          25.26147836
                        ]
                      },
                      {
                        "learn": [
                          25.18958641
                        ],
                        "iteration": 57,
                        "passed_time": 7.24788626,
                        "remaining_time": 105.2193143,
                        "test": [
                          25.26145292
                        ]
                      },
                      {
                        "learn": [
                          25.18953098
                        ],
                        "iteration": 58,
                        "passed_time": 7.462779351,
                        "remaining_time": 106.3762277,
                        "test": [
                          25.26141179
                        ]
                      },
                      {
                        "learn": [
                          25.18947189
                        ],
                        "iteration": 59,
                        "passed_time": 7.676076962,
                        "remaining_time": 107.4650775,
                        "test": [
                          25.26139445
                        ]
                      },
                      {
                        "learn": [
                          25.18940558
                        ],
                        "iteration": 60,
                        "passed_time": 7.900737331,
                        "remaining_time": 108.6675184,
                        "test": [
                          25.26134976
                        ]
                      },
                      {
                        "learn": [
                          25.18932765
                        ],
                        "iteration": 61,
                        "passed_time": 8.164999856,
                        "remaining_time": 110.3591916,
                        "test": [
                          25.26129133
                        ]
                      },
                      {
                        "learn": [
                          25.1892524
                        ],
                        "iteration": 62,
                        "passed_time": 8.391893655,
                        "remaining_time": 111.4923014,
                        "test": [
                          25.26125992
                        ]
                      },
                      {
                        "learn": [
                          25.18917499
                        ],
                        "iteration": 63,
                        "passed_time": 8.554821353,
                        "remaining_time": 111.7473539,
                        "test": [
                          25.26119226
                        ]
                      },
                      {
                        "learn": [
                          25.18910035
                        ],
                        "iteration": 64,
                        "passed_time": 8.74951395,
                        "remaining_time": 112.3976023,
                        "test": [
                          25.26114677
                        ]
                      },
                      {
                        "learn": [
                          25.18902608
                        ],
                        "iteration": 65,
                        "passed_time": 8.959164645,
                        "remaining_time": 113.2112623,
                        "test": [
                          25.26109666
                        ]
                      },
                      {
                        "learn": [
                          25.18895565
                        ],
                        "iteration": 66,
                        "passed_time": 9.186967271,
                        "remaining_time": 114.2200558,
                        "test": [
                          25.26106945
                        ]
                      },
                      {
                        "learn": [
                          25.18887717
                        ],
                        "iteration": 67,
                        "passed_time": 9.419806653,
                        "remaining_time": 115.2541049,
                        "test": [
                          25.26101394
                        ]
                      },
                      {
                        "learn": [
                          25.18881169
                        ],
                        "iteration": 68,
                        "passed_time": 9.654100598,
                        "remaining_time": 116.2689507,
                        "test": [
                          25.26097673
                        ]
                      },
                      {
                        "learn": [
                          25.18872205
                        ],
                        "iteration": 69,
                        "passed_time": 9.826294929,
                        "remaining_time": 116.5117827,
                        "test": [
                          25.26092242
                        ]
                      },
                      {
                        "learn": [
                          25.18863717
                        ],
                        "iteration": 70,
                        "passed_time": 9.938537982,
                        "remaining_time": 116.0429294,
                        "test": [
                          25.26087836
                        ]
                      },
                      {
                        "learn": [
                          25.18855832
                        ],
                        "iteration": 71,
                        "passed_time": 10.04462251,
                        "remaining_time": 115.5131588,
                        "test": [
                          25.26082977
                        ]
                      },
                      {
                        "learn": [
                          25.1884858
                        ],
                        "iteration": 72,
                        "passed_time": 10.15426696,
                        "remaining_time": 115.0353257,
                        "test": [
                          25.26078133
                        ]
                      },
                      {
                        "learn": [
                          25.18841228
                        ],
                        "iteration": 73,
                        "passed_time": 10.28757099,
                        "remaining_time": 114.8315357,
                        "test": [
                          25.26073767
                        ]
                      },
                      {
                        "learn": [
                          25.18833779
                        ],
                        "iteration": 74,
                        "passed_time": 10.39955696,
                        "remaining_time": 114.3951266,
                        "test": [
                          25.26069955
                        ]
                      },
                      {
                        "learn": [
                          25.18827933
                        ],
                        "iteration": 75,
                        "passed_time": 10.50517311,
                        "remaining_time": 113.8981927,
                        "test": [
                          25.26067167
                        ]
                      },
                      {
                        "learn": [
                          25.18819422
                        ],
                        "iteration": 76,
                        "passed_time": 10.61873468,
                        "remaining_time": 113.496346,
                        "test": [
                          25.26061403
                        ]
                      },
                      {
                        "learn": [
                          25.18812298
                        ],
                        "iteration": 77,
                        "passed_time": 10.72904443,
                        "remaining_time": 113.0676221,
                        "test": [
                          25.26056296
                        ]
                      },
                      {
                        "learn": [
                          25.18806589
                        ],
                        "iteration": 78,
                        "passed_time": 10.83944051,
                        "remaining_time": 112.6478565,
                        "test": [
                          25.26052925
                        ]
                      },
                      {
                        "learn": [
                          25.18800123
                        ],
                        "iteration": 79,
                        "passed_time": 10.95146199,
                        "remaining_time": 112.2524854,
                        "test": [
                          25.26050163
                        ]
                      },
                      {
                        "learn": [
                          25.18791747
                        ],
                        "iteration": 80,
                        "passed_time": 11.06190359,
                        "remaining_time": 111.8481363,
                        "test": [
                          25.26045
                        ]
                      },
                      {
                        "learn": [
                          25.18784589
                        ],
                        "iteration": 81,
                        "passed_time": 11.17549519,
                        "remaining_time": 111.4823789,
                        "test": [
                          25.26041408
                        ]
                      },
                      {
                        "learn": [
                          25.1877729
                        ],
                        "iteration": 82,
                        "passed_time": 11.30127779,
                        "remaining_time": 111.2426982,
                        "test": [
                          25.26035688
                        ]
                      },
                      {
                        "learn": [
                          25.18768804
                        ],
                        "iteration": 83,
                        "passed_time": 11.41708806,
                        "remaining_time": 110.9088555,
                        "test": [
                          25.26029978
                        ]
                      },
                      {
                        "learn": [
                          25.18761268
                        ],
                        "iteration": 84,
                        "passed_time": 11.52801819,
                        "remaining_time": 110.5333509,
                        "test": [
                          25.26025597
                        ]
                      },
                      {
                        "learn": [
                          25.18753258
                        ],
                        "iteration": 85,
                        "passed_time": 11.64919201,
                        "remaining_time": 110.2609569,
                        "test": [
                          25.26020437
                        ]
                      },
                      {
                        "learn": [
                          25.18746744
                        ],
                        "iteration": 86,
                        "passed_time": 11.75022425,
                        "remaining_time": 109.8038197,
                        "test": [
                          25.26016794
                        ]
                      },
                      {
                        "learn": [
                          25.18740186
                        ],
                        "iteration": 87,
                        "passed_time": 11.8642109,
                        "remaining_time": 109.4743097,
                        "test": [
                          25.26012913
                        ]
                      },
                      {
                        "learn": [
                          25.18733883
                        ],
                        "iteration": 88,
                        "passed_time": 11.9757153,
                        "remaining_time": 109.1270237,
                        "test": [
                          25.26008724
                        ]
                      },
                      {
                        "learn": [
                          25.18726466
                        ],
                        "iteration": 89,
                        "passed_time": 12.08365043,
                        "remaining_time": 108.7528539,
                        "test": [
                          25.26003614
                        ]
                      },
                      {
                        "learn": [
                          25.18720879
                        ],
                        "iteration": 90,
                        "passed_time": 12.1843541,
                        "remaining_time": 108.3202469,
                        "test": [
                          25.26000689
                        ]
                      },
                      {
                        "learn": [
                          25.18715466
                        ],
                        "iteration": 91,
                        "passed_time": 12.29708648,
                        "remaining_time": 108.0004986,
                        "test": [
                          25.25996343
                        ]
                      },
                      {
                        "learn": [
                          25.18709096
                        ],
                        "iteration": 92,
                        "passed_time": 12.424578,
                        "remaining_time": 107.8132736,
                        "test": [
                          25.25993195
                        ]
                      },
                      {
                        "learn": [
                          25.18700993
                        ],
                        "iteration": 93,
                        "passed_time": 12.53585075,
                        "remaining_time": 107.4882522,
                        "test": [
                          25.25988321
                        ]
                      },
                      {
                        "learn": [
                          25.18695626
                        ],
                        "iteration": 94,
                        "passed_time": 12.64877727,
                        "remaining_time": 107.1817443,
                        "test": [
                          25.25985604
                        ]
                      },
                      {
                        "learn": [
                          25.18689099
                        ],
                        "iteration": 95,
                        "passed_time": 12.75118871,
                        "remaining_time": 106.7912054,
                        "test": [
                          25.25981122
                        ]
                      },
                      {
                        "learn": [
                          25.18682029
                        ],
                        "iteration": 96,
                        "passed_time": 12.85760837,
                        "remaining_time": 106.4397889,
                        "test": [
                          25.25976042
                        ]
                      },
                      {
                        "learn": [
                          25.18673106
                        ],
                        "iteration": 97,
                        "passed_time": 12.96899695,
                        "remaining_time": 106.1340363,
                        "test": [
                          25.25970536
                        ]
                      },
                      {
                        "learn": [
                          25.18667728
                        ],
                        "iteration": 98,
                        "passed_time": 13.07571201,
                        "remaining_time": 105.7943971,
                        "test": [
                          25.25966413
                        ]
                      },
                      {
                        "learn": [
                          25.18659783
                        ],
                        "iteration": 99,
                        "passed_time": 13.1802752,
                        "remaining_time": 105.4422016,
                        "test": [
                          25.2596303
                        ]
                      },
                      {
                        "learn": [
                          25.18653024
                        ],
                        "iteration": 100,
                        "passed_time": 13.29032849,
                        "remaining_time": 105.1383412,
                        "test": [
                          25.25959101
                        ]
                      },
                      {
                        "learn": [
                          25.18646639
                        ],
                        "iteration": 101,
                        "passed_time": 13.41891104,
                        "remaining_time": 104.9832452,
                        "test": [
                          25.2595542
                        ]
                      },
                      {
                        "learn": [
                          25.1864167
                        ],
                        "iteration": 102,
                        "passed_time": 13.52403493,
                        "remaining_time": 104.6471441,
                        "test": [
                          25.25951875
                        ]
                      },
                      {
                        "learn": [
                          25.1863444
                        ],
                        "iteration": 103,
                        "passed_time": 13.63459854,
                        "remaining_time": 104.3571196,
                        "test": [
                          25.25948883
                        ]
                      },
                      {
                        "learn": [
                          25.18629315
                        ],
                        "iteration": 104,
                        "passed_time": 13.74411312,
                        "remaining_time": 104.0625708,
                        "test": [
                          25.25945096
                        ]
                      },
                      {
                        "learn": [
                          25.18622555
                        ],
                        "iteration": 105,
                        "passed_time": 13.85566363,
                        "remaining_time": 103.7867634,
                        "test": [
                          25.25942314
                        ]
                      },
                      {
                        "learn": [
                          25.18616221
                        ],
                        "iteration": 106,
                        "passed_time": 13.96081473,
                        "remaining_time": 103.4665989,
                        "test": [
                          25.25939207
                        ]
                      },
                      {
                        "learn": [
                          25.18609284
                        ],
                        "iteration": 107,
                        "passed_time": 14.06914258,
                        "remaining_time": 103.1737122,
                        "test": [
                          25.25934572
                        ]
                      },
                      {
                        "learn": [
                          25.18603621
                        ],
                        "iteration": 108,
                        "passed_time": 14.17672277,
                        "remaining_time": 102.8787863,
                        "test": [
                          25.25932388
                        ]
                      },
                      {
                        "learn": [
                          25.1859706
                        ],
                        "iteration": 109,
                        "passed_time": 14.28482557,
                        "remaining_time": 102.59102,
                        "test": [
                          25.25929023
                        ]
                      },
                      {
                        "learn": [
                          25.18591491
                        ],
                        "iteration": 110,
                        "passed_time": 14.396589,
                        "remaining_time": 102.332511,
                        "test": [
                          25.25928542
                        ]
                      },
                      {
                        "learn": [
                          25.1858418
                        ],
                        "iteration": 111,
                        "passed_time": 14.52807557,
                        "remaining_time": 102.2153888,
                        "test": [
                          25.2592382
                        ]
                      },
                      {
                        "learn": [
                          25.18577501
                        ],
                        "iteration": 112,
                        "passed_time": 14.64270992,
                        "remaining_time": 101.9806434,
                        "test": [
                          25.25921156
                        ]
                      },
                      {
                        "learn": [
                          25.18572865
                        ],
                        "iteration": 113,
                        "passed_time": 14.74165895,
                        "remaining_time": 101.6398591,
                        "test": [
                          25.25917959
                        ]
                      },
                      {
                        "learn": [
                          25.18567013
                        ],
                        "iteration": 114,
                        "passed_time": 14.84955216,
                        "remaining_time": 101.3643343,
                        "test": [
                          25.25914953
                        ]
                      },
                      {
                        "learn": [
                          25.18561211
                        ],
                        "iteration": 115,
                        "passed_time": 14.95210424,
                        "remaining_time": 101.055601,
                        "test": [
                          25.25911803
                        ]
                      },
                      {
                        "learn": [
                          25.18556021
                        ],
                        "iteration": 116,
                        "passed_time": 15.05224549,
                        "remaining_time": 100.7342583,
                        "test": [
                          25.25908242
                        ]
                      },
                      {
                        "learn": [
                          25.18548795
                        ],
                        "iteration": 117,
                        "passed_time": 15.15262037,
                        "remaining_time": 100.418213,
                        "test": [
                          25.25904909
                        ]
                      },
                      {
                        "learn": [
                          25.18543828
                        ],
                        "iteration": 118,
                        "passed_time": 15.26015445,
                        "remaining_time": 100.1527783,
                        "test": [
                          25.259031
                        ]
                      },
                      {
                        "learn": [
                          25.18537341
                        ],
                        "iteration": 119,
                        "passed_time": 15.36612619,
                        "remaining_time": 99.87982021,
                        "test": [
                          25.25900881
                        ]
                      },
                      {
                        "learn": [
                          25.18531376
                        ],
                        "iteration": 120,
                        "passed_time": 15.49495281,
                        "remaining_time": 99.75676229,
                        "test": [
                          25.25898043
                        ]
                      },
                      {
                        "learn": [
                          25.18525283
                        ],
                        "iteration": 121,
                        "passed_time": 15.60767245,
                        "remaining_time": 99.53089482,
                        "test": [
                          25.25893719
                        ]
                      },
                      {
                        "learn": [
                          25.18519074
                        ],
                        "iteration": 122,
                        "passed_time": 15.72665505,
                        "remaining_time": 99.34643071,
                        "test": [
                          25.25891593
                        ]
                      },
                      {
                        "learn": [
                          25.18513457
                        ],
                        "iteration": 123,
                        "passed_time": 15.82480383,
                        "remaining_time": 99.03264332,
                        "test": [
                          25.25888019
                        ]
                      },
                      {
                        "learn": [
                          25.18509596
                        ],
                        "iteration": 124,
                        "passed_time": 15.93581621,
                        "remaining_time": 98.80206049,
                        "test": [
                          25.25886434
                        ]
                      },
                      {
                        "learn": [
                          25.18503392
                        ],
                        "iteration": 125,
                        "passed_time": 16.04049571,
                        "remaining_time": 98.53447362,
                        "test": [
                          25.2588367
                        ]
                      },
                      {
                        "learn": [
                          25.18497617
                        ],
                        "iteration": 126,
                        "passed_time": 16.1483799,
                        "remaining_time": 98.288958,
                        "test": [
                          25.2588034
                        ]
                      },
                      {
                        "learn": [
                          25.18491782
                        ],
                        "iteration": 127,
                        "passed_time": 16.25627059,
                        "remaining_time": 98.04563199,
                        "test": [
                          25.25878832
                        ]
                      },
                      {
                        "learn": [
                          25.18485782
                        ],
                        "iteration": 128,
                        "passed_time": 16.36428407,
                        "remaining_time": 97.80513967,
                        "test": [
                          25.25876355
                        ]
                      },
                      {
                        "learn": [
                          25.18482322
                        ],
                        "iteration": 129,
                        "passed_time": 16.47192185,
                        "remaining_time": 97.5644602,
                        "test": [
                          25.25873074
                        ]
                      },
                      {
                        "learn": [
                          25.1847673
                        ],
                        "iteration": 130,
                        "passed_time": 16.61103666,
                        "remaining_time": 97.51058927,
                        "test": [
                          25.25871769
                        ]
                      },
                      {
                        "learn": [
                          25.1847204
                        ],
                        "iteration": 131,
                        "passed_time": 16.7225727,
                        "remaining_time": 97.29496842,
                        "test": [
                          25.2586948
                        ]
                      },
                      {
                        "learn": [
                          25.18466574
                        ],
                        "iteration": 132,
                        "passed_time": 16.83584285,
                        "remaining_time": 97.09091329,
                        "test": [
                          25.25869479
                        ]
                      },
                      {
                        "learn": [
                          25.18461511
                        ],
                        "iteration": 133,
                        "passed_time": 16.94691572,
                        "remaining_time": 96.87565255,
                        "test": [
                          25.25866902
                        ]
                      },
                      {
                        "learn": [
                          25.18456133
                        ],
                        "iteration": 134,
                        "passed_time": 17.04481925,
                        "remaining_time": 96.58730909,
                        "test": [
                          25.25864448
                        ]
                      },
                      {
                        "learn": [
                          25.18450848
                        ],
                        "iteration": 135,
                        "passed_time": 17.15826847,
                        "remaining_time": 96.3890964,
                        "test": [
                          25.25862486
                        ]
                      },
                      {
                        "learn": [
                          25.18444081
                        ],
                        "iteration": 136,
                        "passed_time": 17.26486531,
                        "remaining_time": 96.15395787,
                        "test": [
                          25.2585913
                        ]
                      },
                      {
                        "learn": [
                          25.18438732
                        ],
                        "iteration": 137,
                        "passed_time": 17.36816888,
                        "remaining_time": 95.90249776,
                        "test": [
                          25.25856233
                        ]
                      },
                      {
                        "learn": [
                          25.18432894
                        ],
                        "iteration": 138,
                        "passed_time": 17.46620309,
                        "remaining_time": 95.62432054,
                        "test": [
                          25.25853268
                        ]
                      },
                      {
                        "learn": [
                          25.18429201
                        ],
                        "iteration": 139,
                        "passed_time": 17.58017821,
                        "remaining_time": 95.43525313,
                        "test": [
                          25.25850568
                        ]
                      },
                      {
                        "learn": [
                          25.184238
                        ],
                        "iteration": 140,
                        "passed_time": 17.7029259,
                        "remaining_time": 95.29447345,
                        "test": [
                          25.25848573
                        ]
                      },
                      {
                        "learn": [
                          25.1841838
                        ],
                        "iteration": 141,
                        "passed_time": 17.80708475,
                        "remaining_time": 95.05472,
                        "test": [
                          25.25847719
                        ]
                      },
                      {
                        "learn": [
                          25.18414031
                        ],
                        "iteration": 142,
                        "passed_time": 17.91528881,
                        "remaining_time": 94.83827714,
                        "test": [
                          25.25845327
                        ]
                      },
                      {
                        "learn": [
                          25.18408909
                        ],
                        "iteration": 143,
                        "passed_time": 18.02224213,
                        "remaining_time": 94.61677117,
                        "test": [
                          25.25843403
                        ]
                      },
                      {
                        "learn": [
                          25.18403731
                        ],
                        "iteration": 144,
                        "passed_time": 18.12031175,
                        "remaining_time": 94.35058877,
                        "test": [
                          25.25841929
                        ]
                      },
                      {
                        "learn": [
                          25.18398121
                        ],
                        "iteration": 145,
                        "passed_time": 18.22661426,
                        "remaining_time": 94.12922705,
                        "test": [
                          25.25838967
                        ]
                      },
                      {
                        "learn": [
                          25.18391756
                        ],
                        "iteration": 146,
                        "passed_time": 18.33595243,
                        "remaining_time": 93.92498082,
                        "test": [
                          25.25838134
                        ]
                      },
                      {
                        "learn": [
                          25.18386054
                        ],
                        "iteration": 147,
                        "passed_time": 18.43690394,
                        "remaining_time": 93.6794038,
                        "test": [
                          25.25836366
                        ]
                      },
                      {
                        "learn": [
                          25.18381426
                        ],
                        "iteration": 148,
                        "passed_time": 18.54392168,
                        "remaining_time": 93.46634351,
                        "test": [
                          25.25834844
                        ]
                      },
                      {
                        "learn": [
                          25.1837568
                        ],
                        "iteration": 149,
                        "passed_time": 18.68513281,
                        "remaining_time": 93.42566403,
                        "test": [
                          25.25833473
                        ]
                      },
                      {
                        "learn": [
                          25.18369946
                        ],
                        "iteration": 150,
                        "passed_time": 18.79089568,
                        "remaining_time": 93.20782028,
                        "test": [
                          25.2583152
                        ]
                      },
                      {
                        "learn": [
                          25.18364998
                        ],
                        "iteration": 151,
                        "passed_time": 18.9026311,
                        "remaining_time": 93.02084252,
                        "test": [
                          25.25831985
                        ]
                      },
                      {
                        "learn": [
                          25.18359328
                        ],
                        "iteration": 152,
                        "passed_time": 19.00089751,
                        "remaining_time": 92.76908785,
                        "test": [
                          25.25831051
                        ]
                      },
                      {
                        "learn": [
                          25.1835444
                        ],
                        "iteration": 153,
                        "passed_time": 19.10586602,
                        "remaining_time": 92.55179252,
                        "test": [
                          25.25829335
                        ]
                      },
                      {
                        "learn": [
                          25.18349217
                        ],
                        "iteration": 154,
                        "passed_time": 19.2159772,
                        "remaining_time": 92.36066462,
                        "test": [
                          25.25829101
                        ]
                      },
                      {
                        "learn": [
                          25.18343986
                        ],
                        "iteration": 155,
                        "passed_time": 19.32448607,
                        "remaining_time": 92.16293356,
                        "test": [
                          25.25827092
                        ]
                      },
                      {
                        "learn": [
                          25.18338826
                        ],
                        "iteration": 156,
                        "passed_time": 19.43226696,
                        "remaining_time": 91.96289398,
                        "test": [
                          25.25825009
                        ]
                      },
                      {
                        "learn": [
                          25.18332912
                        ],
                        "iteration": 157,
                        "passed_time": 19.53961589,
                        "remaining_time": 91.76199362,
                        "test": [
                          25.25822936
                        ]
                      },
                      {
                        "learn": [
                          25.18328636
                        ],
                        "iteration": 158,
                        "passed_time": 19.66104013,
                        "remaining_time": 91.62786625,
                        "test": [
                          25.2582183
                        ]
                      },
                      {
                        "learn": [
                          25.1832275
                        ],
                        "iteration": 159,
                        "passed_time": 19.79262679,
                        "remaining_time": 91.5408989,
                        "test": [
                          25.25819284
                        ]
                      },
                      {
                        "learn": [
                          25.18318692
                        ],
                        "iteration": 160,
                        "passed_time": 19.99506418,
                        "remaining_time": 91.77858653,
                        "test": [
                          25.25817486
                        ]
                      },
                      {
                        "learn": [
                          25.18314723
                        ],
                        "iteration": 161,
                        "passed_time": 20.21120132,
                        "remaining_time": 92.07325046,
                        "test": [
                          25.25815526
                        ]
                      },
                      {
                        "learn": [
                          25.18309925
                        ],
                        "iteration": 162,
                        "passed_time": 20.47034349,
                        "remaining_time": 92.55609296,
                        "test": [
                          25.25814422
                        ]
                      },
                      {
                        "learn": [
                          25.183057
                        ],
                        "iteration": 163,
                        "passed_time": 20.7124761,
                        "remaining_time": 92.95355128,
                        "test": [
                          25.25813204
                        ]
                      },
                      {
                        "learn": [
                          25.18299404
                        ],
                        "iteration": 164,
                        "passed_time": 20.95351317,
                        "remaining_time": 93.33837687,
                        "test": [
                          25.25809675
                        ]
                      },
                      {
                        "learn": [
                          25.18294191
                        ],
                        "iteration": 165,
                        "passed_time": 21.18224034,
                        "remaining_time": 93.66123138,
                        "test": [
                          25.25808433
                        ]
                      },
                      {
                        "learn": [
                          25.18289368
                        ],
                        "iteration": 166,
                        "passed_time": 21.38325394,
                        "remaining_time": 93.85583915,
                        "test": [
                          25.25806595
                        ]
                      },
                      {
                        "learn": [
                          25.18285733
                        ],
                        "iteration": 167,
                        "passed_time": 21.62676181,
                        "remaining_time": 94.23089076,
                        "test": [
                          25.25804445
                        ]
                      },
                      {
                        "learn": [
                          25.18281054
                        ],
                        "iteration": 168,
                        "passed_time": 21.89718142,
                        "remaining_time": 94.71502733,
                        "test": [
                          25.25801846
                        ]
                      },
                      {
                        "learn": [
                          25.18276314
                        ],
                        "iteration": 169,
                        "passed_time": 22.13931308,
                        "remaining_time": 95.06881499,
                        "test": [
                          25.25800832
                        ]
                      },
                      {
                        "learn": [
                          25.18272628
                        ],
                        "iteration": 170,
                        "passed_time": 22.36231515,
                        "remaining_time": 95.33408038,
                        "test": [
                          25.25798451
                        ]
                      },
                      {
                        "learn": [
                          25.18267374
                        ],
                        "iteration": 171,
                        "passed_time": 22.61720713,
                        "remaining_time": 95.72864411,
                        "test": [
                          25.25796954
                        ]
                      },
                      {
                        "learn": [
                          25.18263097
                        ],
                        "iteration": 172,
                        "passed_time": 22.85933684,
                        "remaining_time": 96.06206871,
                        "test": [
                          25.25793997
                        ]
                      },
                      {
                        "learn": [
                          25.18256701
                        ],
                        "iteration": 173,
                        "passed_time": 23.095758,
                        "remaining_time": 96.36505926,
                        "test": [
                          25.25792549
                        ]
                      },
                      {
                        "learn": [
                          25.18252321
                        ],
                        "iteration": 174,
                        "passed_time": 23.32596038,
                        "remaining_time": 96.63612158,
                        "test": [
                          25.25791907
                        ]
                      },
                      {
                        "learn": [
                          25.18246813
                        ],
                        "iteration": 175,
                        "passed_time": 23.5568588,
                        "remaining_time": 96.90435097,
                        "test": [
                          25.25790269
                        ]
                      },
                      {
                        "learn": [
                          25.18241985
                        ],
                        "iteration": 176,
                        "passed_time": 23.69138621,
                        "remaining_time": 96.77328944,
                        "test": [
                          25.25789235
                        ]
                      },
                      {
                        "learn": [
                          25.18237626
                        ],
                        "iteration": 177,
                        "passed_time": 23.80012864,
                        "remaining_time": 96.53760046,
                        "test": [
                          25.25788274
                        ]
                      },
                      {
                        "learn": [
                          25.18232779
                        ],
                        "iteration": 178,
                        "passed_time": 23.90700885,
                        "remaining_time": 96.29582896,
                        "test": [
                          25.25785693
                        ]
                      },
                      {
                        "learn": [
                          25.18228267
                        ],
                        "iteration": 179,
                        "passed_time": 24.01305464,
                        "remaining_time": 96.05221856,
                        "test": [
                          25.25784192
                        ]
                      },
                      {
                        "learn": [
                          25.18223768
                        ],
                        "iteration": 180,
                        "passed_time": 24.14799397,
                        "remaining_time": 95.92490422,
                        "test": [
                          25.25784633
                        ]
                      },
                      {
                        "learn": [
                          25.18219134
                        ],
                        "iteration": 181,
                        "passed_time": 24.25648698,
                        "remaining_time": 95.69317391,
                        "test": [
                          25.25783539
                        ]
                      },
                      {
                        "learn": [
                          25.18214091
                        ],
                        "iteration": 182,
                        "passed_time": 24.36555383,
                        "remaining_time": 95.46503878,
                        "test": [
                          25.25782814
                        ]
                      },
                      {
                        "learn": [
                          25.18209294
                        ],
                        "iteration": 183,
                        "passed_time": 24.47615486,
                        "remaining_time": 95.24416783,
                        "test": [
                          25.25783126
                        ]
                      },
                      {
                        "learn": [
                          25.18206103
                        ],
                        "iteration": 184,
                        "passed_time": 24.58814852,
                        "remaining_time": 95.02987132,
                        "test": [
                          25.25782579
                        ]
                      },
                      {
                        "learn": [
                          25.18200559
                        ],
                        "iteration": 185,
                        "passed_time": 24.69671068,
                        "remaining_time": 94.80350228,
                        "test": [
                          25.25779895
                        ]
                      },
                      {
                        "learn": [
                          25.18195902
                        ],
                        "iteration": 186,
                        "passed_time": 24.81674937,
                        "remaining_time": 94.62215134,
                        "test": [
                          25.25778822
                        ]
                      },
                      {
                        "learn": [
                          25.18189832
                        ],
                        "iteration": 187,
                        "passed_time": 24.92983245,
                        "remaining_time": 94.41511012,
                        "test": [
                          25.25777083
                        ]
                      },
                      {
                        "learn": [
                          25.18186059
                        ],
                        "iteration": 188,
                        "passed_time": 25.03856727,
                        "remaining_time": 94.19270544,
                        "test": [
                          25.25774523
                        ]
                      },
                      {
                        "learn": [
                          25.18181213
                        ],
                        "iteration": 189,
                        "passed_time": 25.17833756,
                        "remaining_time": 94.08747192,
                        "test": [
                          25.25775143
                        ]
                      },
                      {
                        "learn": [
                          25.18176455
                        ],
                        "iteration": 190,
                        "passed_time": 25.28615385,
                        "remaining_time": 93.8632622,
                        "test": [
                          25.25772788
                        ]
                      },
                      {
                        "learn": [
                          25.18171177
                        ],
                        "iteration": 191,
                        "passed_time": 25.39375775,
                        "remaining_time": 93.63948171,
                        "test": [
                          25.25773999
                        ]
                      },
                      {
                        "learn": [
                          25.18166316
                        ],
                        "iteration": 192,
                        "passed_time": 25.5023708,
                        "remaining_time": 93.42060184,
                        "test": [
                          25.25773128
                        ]
                      },
                      {
                        "learn": [
                          25.18160556
                        ],
                        "iteration": 193,
                        "passed_time": 25.6261766,
                        "remaining_time": 93.25814784,
                        "test": [
                          25.25771039
                        ]
                      },
                      {
                        "learn": [
                          25.18155335
                        ],
                        "iteration": 194,
                        "passed_time": 25.74175164,
                        "remaining_time": 93.06633286,
                        "test": [
                          25.25769813
                        ]
                      },
                      {
                        "learn": [
                          25.18150177
                        ],
                        "iteration": 195,
                        "passed_time": 25.85428637,
                        "remaining_time": 92.86437555,
                        "test": [
                          25.25769699
                        ]
                      },
                      {
                        "learn": [
                          25.18144733
                        ],
                        "iteration": 196,
                        "passed_time": 25.96458795,
                        "remaining_time": 92.65535701,
                        "test": [
                          25.25766864
                        ]
                      },
                      {
                        "learn": [
                          25.18139868
                        ],
                        "iteration": 197,
                        "passed_time": 26.07500214,
                        "remaining_time": 92.44773487,
                        "test": [
                          25.25765223
                        ]
                      },
                      {
                        "learn": [
                          25.18135129
                        ],
                        "iteration": 198,
                        "passed_time": 26.2132842,
                        "remaining_time": 92.33925741,
                        "test": [
                          25.25764448
                        ]
                      },
                      {
                        "learn": [
                          25.1812915
                        ],
                        "iteration": 199,
                        "passed_time": 26.32607202,
                        "remaining_time": 92.14125209,
                        "test": [
                          25.25763167
                        ]
                      },
                      {
                        "learn": [
                          25.18123406
                        ],
                        "iteration": 200,
                        "passed_time": 26.43082268,
                        "remaining_time": 91.91614456,
                        "test": [
                          25.25761251
                        ]
                      },
                      {
                        "learn": [
                          25.1811885
                        ],
                        "iteration": 201,
                        "passed_time": 26.53347758,
                        "remaining_time": 91.68498687,
                        "test": [
                          25.25759163
                        ]
                      },
                      {
                        "learn": [
                          25.18113237
                        ],
                        "iteration": 202,
                        "passed_time": 26.64964062,
                        "remaining_time": 91.50147544,
                        "test": [
                          25.25757465
                        ]
                      },
                      {
                        "learn": [
                          25.18108497
                        ],
                        "iteration": 203,
                        "passed_time": 26.7673845,
                        "remaining_time": 91.32401771,
                        "test": [
                          25.25755738
                        ]
                      },
                      {
                        "learn": [
                          25.18102913
                        ],
                        "iteration": 204,
                        "passed_time": 26.87909726,
                        "remaining_time": 91.12669558,
                        "test": [
                          25.25754121
                        ]
                      },
                      {
                        "learn": [
                          25.18099136
                        ],
                        "iteration": 205,
                        "passed_time": 26.98731097,
                        "remaining_time": 90.91841657,
                        "test": [
                          25.25752738
                        ]
                      },
                      {
                        "learn": [
                          25.18095222
                        ],
                        "iteration": 206,
                        "passed_time": 27.09688882,
                        "remaining_time": 90.71567128,
                        "test": [
                          25.25752145
                        ]
                      },
                      {
                        "learn": [
                          25.18091418
                        ],
                        "iteration": 207,
                        "passed_time": 27.23418545,
                        "remaining_time": 90.60604005,
                        "test": [
                          25.25751682
                        ]
                      },
                      {
                        "learn": [
                          25.18085858
                        ],
                        "iteration": 208,
                        "passed_time": 27.34856507,
                        "remaining_time": 90.42037543,
                        "test": [
                          25.25749264
                        ]
                      },
                      {
                        "learn": [
                          25.18080796
                        ],
                        "iteration": 209,
                        "passed_time": 27.45831334,
                        "remaining_time": 90.2201724,
                        "test": [
                          25.25748392
                        ]
                      },
                      {
                        "learn": [
                          25.18075117
                        ],
                        "iteration": 210,
                        "passed_time": 27.56901751,
                        "remaining_time": 90.02394817,
                        "test": [
                          25.25748768
                        ]
                      },
                      {
                        "learn": [
                          25.18069585
                        ],
                        "iteration": 211,
                        "passed_time": 27.68560043,
                        "remaining_time": 89.84760894,
                        "test": [
                          25.25748639
                        ]
                      },
                      {
                        "learn": [
                          25.18065854
                        ],
                        "iteration": 212,
                        "passed_time": 27.81658274,
                        "remaining_time": 89.71827392,
                        "test": [
                          25.2574808
                        ]
                      },
                      {
                        "learn": [
                          25.18060898
                        ],
                        "iteration": 213,
                        "passed_time": 27.92829285,
                        "remaining_time": 89.52714438,
                        "test": [
                          25.25746698
                        ]
                      },
                      {
                        "learn": [
                          25.18055994
                        ],
                        "iteration": 214,
                        "passed_time": 28.03712335,
                        "remaining_time": 89.32757904,
                        "test": [
                          25.25745394
                        ]
                      },
                      {
                        "learn": [
                          25.18051244
                        ],
                        "iteration": 215,
                        "passed_time": 28.14561572,
                        "remaining_time": 89.1277831,
                        "test": [
                          25.25745268
                        ]
                      },
                      {
                        "learn": [
                          25.18045667
                        ],
                        "iteration": 216,
                        "passed_time": 28.28960975,
                        "remaining_time": 89.04056893,
                        "test": [
                          25.25744869
                        ]
                      },
                      {
                        "learn": [
                          25.18040401
                        ],
                        "iteration": 217,
                        "passed_time": 28.3954268,
                        "remaining_time": 88.83339945,
                        "test": [
                          25.25742855
                        ]
                      },
                      {
                        "learn": [
                          25.18036487
                        ],
                        "iteration": 218,
                        "passed_time": 28.5248803,
                        "remaining_time": 88.70065517,
                        "test": [
                          25.25742404
                        ]
                      },
                      {
                        "learn": [
                          25.1803129
                        ],
                        "iteration": 219,
                        "passed_time": 28.63569171,
                        "remaining_time": 88.51031984,
                        "test": [
                          25.25740809
                        ]
                      },
                      {
                        "learn": [
                          25.18025876
                        ],
                        "iteration": 220,
                        "passed_time": 28.74797159,
                        "remaining_time": 88.32521587,
                        "test": [
                          25.25739591
                        ]
                      },
                      {
                        "learn": [
                          25.18020018
                        ],
                        "iteration": 221,
                        "passed_time": 28.86408258,
                        "remaining_time": 88.15246843,
                        "test": [
                          25.25736996
                        ]
                      },
                      {
                        "learn": [
                          25.18014349
                        ],
                        "iteration": 222,
                        "passed_time": 28.9740715,
                        "remaining_time": 87.96164308,
                        "test": [
                          25.25734115
                        ]
                      },
                      {
                        "learn": [
                          25.18009447
                        ],
                        "iteration": 223,
                        "passed_time": 29.07907307,
                        "remaining_time": 87.75648837,
                        "test": [
                          25.2573438
                        ]
                      },
                      {
                        "learn": [
                          25.18003974
                        ],
                        "iteration": 224,
                        "passed_time": 29.1972559,
                        "remaining_time": 87.59176769,
                        "test": [
                          25.25732063
                        ]
                      },
                      {
                        "learn": [
                          25.17998584
                        ],
                        "iteration": 225,
                        "passed_time": 29.32213951,
                        "remaining_time": 87.44744261,
                        "test": [
                          25.25731966
                        ]
                      },
                      {
                        "learn": [
                          25.17995051
                        ],
                        "iteration": 226,
                        "passed_time": 29.43600708,
                        "remaining_time": 87.27062893,
                        "test": [
                          25.25731377
                        ]
                      },
                      {
                        "learn": [
                          25.1799057
                        ],
                        "iteration": 227,
                        "passed_time": 29.54474792,
                        "remaining_time": 87.07925702,
                        "test": [
                          25.25729638
                        ]
                      },
                      {
                        "learn": [
                          25.17985956
                        ],
                        "iteration": 228,
                        "passed_time": 29.65500901,
                        "remaining_time": 86.89306133,
                        "test": [
                          25.25728369
                        ]
                      },
                      {
                        "learn": [
                          25.17981413
                        ],
                        "iteration": 229,
                        "passed_time": 29.77319287,
                        "remaining_time": 86.73060532,
                        "test": [
                          25.25728076
                        ]
                      },
                      {
                        "learn": [
                          25.17976033
                        ],
                        "iteration": 230,
                        "passed_time": 29.88977249,
                        "remaining_time": 86.56388655,
                        "test": [
                          25.25728175
                        ]
                      },
                      {
                        "learn": [
                          25.1797299
                        ],
                        "iteration": 231,
                        "passed_time": 30.00594215,
                        "remaining_time": 86.39641964,
                        "test": [
                          25.25729299
                        ]
                      },
                      {
                        "learn": [
                          25.17968834
                        ],
                        "iteration": 232,
                        "passed_time": 30.11405941,
                        "remaining_time": 86.20634174,
                        "test": [
                          25.25729175
                        ]
                      },
                      {
                        "learn": [
                          25.17965097
                        ],
                        "iteration": 233,
                        "passed_time": 30.21494387,
                        "remaining_time": 85.99637872,
                        "test": [
                          25.25728365
                        ]
                      },
                      {
                        "learn": [
                          25.17961135
                        ],
                        "iteration": 234,
                        "passed_time": 30.34143346,
                        "remaining_time": 85.85980106,
                        "test": [
                          25.25726943
                        ]
                      },
                      {
                        "learn": [
                          25.17955514
                        ],
                        "iteration": 235,
                        "passed_time": 30.45855142,
                        "remaining_time": 85.69694129,
                        "test": [
                          25.25725226
                        ]
                      },
                      {
                        "learn": [
                          25.1795125
                        ],
                        "iteration": 236,
                        "passed_time": 30.5722113,
                        "remaining_time": 85.52479364,
                        "test": [
                          25.25724042
                        ]
                      },
                      {
                        "learn": [
                          25.17946318
                        ],
                        "iteration": 237,
                        "passed_time": 30.67716999,
                        "remaining_time": 85.328935,
                        "test": [
                          25.25724427
                        ]
                      },
                      {
                        "learn": [
                          25.17941916
                        ],
                        "iteration": 238,
                        "passed_time": 30.79368998,
                        "remaining_time": 85.16581203,
                        "test": [
                          25.25722773
                        ]
                      },
                      {
                        "learn": [
                          25.1793723
                        ],
                        "iteration": 239,
                        "passed_time": 30.89797014,
                        "remaining_time": 84.96941789,
                        "test": [
                          25.257221
                        ]
                      },
                      {
                        "learn": [
                          25.17933113
                        ],
                        "iteration": 240,
                        "passed_time": 31.00675791,
                        "remaining_time": 84.78611396,
                        "test": [
                          25.25722073
                        ]
                      },
                      {
                        "learn": [
                          25.17928822
                        ],
                        "iteration": 241,
                        "passed_time": 31.1136442,
                        "remaining_time": 84.59825572,
                        "test": [
                          25.25721814
                        ]
                      },
                      {
                        "learn": [
                          25.17924214
                        ],
                        "iteration": 242,
                        "passed_time": 31.22575241,
                        "remaining_time": 84.42518245,
                        "test": [
                          25.25720481
                        ]
                      },
                      {
                        "learn": [
                          25.17919739
                        ],
                        "iteration": 243,
                        "passed_time": 31.33737229,
                        "remaining_time": 84.251296,
                        "test": [
                          25.25720187
                        ]
                      },
                      {
                        "learn": [
                          25.17915592
                        ],
                        "iteration": 244,
                        "passed_time": 31.46592404,
                        "remaining_time": 84.12318468,
                        "test": [
                          25.25719502
                        ]
                      },
                      {
                        "learn": [
                          25.17912214
                        ],
                        "iteration": 245,
                        "passed_time": 31.58239042,
                        "remaining_time": 83.9629404,
                        "test": [
                          25.25718774
                        ]
                      },
                      {
                        "learn": [
                          25.17906667
                        ],
                        "iteration": 246,
                        "passed_time": 31.68961171,
                        "remaining_time": 83.77860909,
                        "test": [
                          25.25719304
                        ]
                      },
                      {
                        "learn": [
                          25.17902647
                        ],
                        "iteration": 247,
                        "passed_time": 31.80789507,
                        "remaining_time": 83.6239822,
                        "test": [
                          25.25717151
                        ]
                      },
                      {
                        "learn": [
                          25.17898227
                        ],
                        "iteration": 248,
                        "passed_time": 31.92167268,
                        "remaining_time": 83.45786714,
                        "test": [
                          25.25717448
                        ]
                      },
                      {
                        "learn": [
                          25.17894471
                        ],
                        "iteration": 249,
                        "passed_time": 32.03134781,
                        "remaining_time": 83.28150431,
                        "test": [
                          25.25718458
                        ]
                      },
                      {
                        "learn": [
                          25.1789108
                        ],
                        "iteration": 250,
                        "passed_time": 32.1389056,
                        "remaining_time": 83.10019814,
                        "test": [
                          25.25717366
                        ]
                      },
                      {
                        "learn": [
                          25.17887078
                        ],
                        "iteration": 251,
                        "passed_time": 32.25273251,
                        "remaining_time": 82.93559788,
                        "test": [
                          25.25717596
                        ]
                      },
                      {
                        "learn": [
                          25.17882951
                        ],
                        "iteration": 252,
                        "passed_time": 32.36966238,
                        "remaining_time": 82.77933423,
                        "test": [
                          25.2571564
                        ]
                      },
                      {
                        "learn": [
                          25.17879612
                        ],
                        "iteration": 253,
                        "passed_time": 32.50159367,
                        "remaining_time": 82.6615335,
                        "test": [
                          25.25715262
                        ]
                      },
                      {
                        "learn": [
                          25.17875054
                        ],
                        "iteration": 254,
                        "passed_time": 32.61135083,
                        "remaining_time": 82.48753445,
                        "test": [
                          25.25716018
                        ]
                      },
                      {
                        "learn": [
                          25.17871335
                        ],
                        "iteration": 255,
                        "passed_time": 32.72088897,
                        "remaining_time": 82.31348632,
                        "test": [
                          25.25717035
                        ]
                      },
                      {
                        "learn": [
                          25.17867567
                        ],
                        "iteration": 256,
                        "passed_time": 32.84340214,
                        "remaining_time": 82.17240301,
                        "test": [
                          25.25714703
                        ]
                      },
                      {
                        "learn": [
                          25.17863628
                        ],
                        "iteration": 257,
                        "passed_time": 32.95125818,
                        "remaining_time": 81.99499127,
                        "test": [
                          25.25714635
                        ]
                      },
                      {
                        "learn": [
                          25.17859226
                        ],
                        "iteration": 258,
                        "passed_time": 33.06273471,
                        "remaining_time": 81.82707703,
                        "test": [
                          25.25714828
                        ]
                      },
                      {
                        "learn": [
                          25.1785561
                        ],
                        "iteration": 259,
                        "passed_time": 33.17285052,
                        "remaining_time": 81.65624745,
                        "test": [
                          25.25714466
                        ]
                      },
                      {
                        "learn": [
                          25.1785147
                        ],
                        "iteration": 260,
                        "passed_time": 33.28357787,
                        "remaining_time": 81.48738031,
                        "test": [
                          25.25712535
                        ]
                      },
                      {
                        "learn": [
                          25.17846498
                        ],
                        "iteration": 261,
                        "passed_time": 33.39629776,
                        "remaining_time": 81.32380906,
                        "test": [
                          25.25710371
                        ]
                      },
                      {
                        "learn": [
                          25.17842494
                        ],
                        "iteration": 262,
                        "passed_time": 33.52608951,
                        "remaining_time": 81.20197345,
                        "test": [
                          25.25711196
                        ]
                      },
                      {
                        "learn": [
                          25.17838156
                        ],
                        "iteration": 263,
                        "passed_time": 33.68062021,
                        "remaining_time": 81.13967596,
                        "test": [
                          25.25711924
                        ]
                      },
                      {
                        "learn": [
                          25.17834875
                        ],
                        "iteration": 264,
                        "passed_time": 33.87283171,
                        "remaining_time": 81.16697411,
                        "test": [
                          25.25710923
                        ]
                      },
                      {
                        "learn": [
                          25.178297
                        ],
                        "iteration": 265,
                        "passed_time": 34.0935715,
                        "remaining_time": 81.26061779,
                        "test": [
                          25.2571192
                        ]
                      },
                      {
                        "learn": [
                          25.17825424
                        ],
                        "iteration": 266,
                        "passed_time": 34.32978318,
                        "remaining_time": 81.38858708,
                        "test": [
                          25.25712082
                        ]
                      },
                      {
                        "learn": [
                          25.17820979
                        ],
                        "iteration": 267,
                        "passed_time": 34.58024703,
                        "remaining_time": 81.54744823,
                        "test": [
                          25.25711826
                        ]
                      },
                      {
                        "learn": [
                          25.17816971
                        ],
                        "iteration": 268,
                        "passed_time": 34.8534872,
                        "remaining_time": 81.75669303,
                        "test": [
                          25.25710868
                        ]
                      },
                      {
                        "learn": [
                          25.17811601
                        ],
                        "iteration": 269,
                        "passed_time": 35.0769095,
                        "remaining_time": 81.84612217,
                        "test": [
                          25.25710474
                        ]
                      },
                      {
                        "learn": [
                          25.17806251
                        ],
                        "iteration": 270,
                        "passed_time": 35.2878973,
                        "remaining_time": 81.90438155,
                        "test": [
                          25.25708583
                        ]
                      },
                      {
                        "learn": [
                          25.17801438
                        ],
                        "iteration": 271,
                        "passed_time": 35.51987464,
                        "remaining_time": 82.00912233,
                        "test": [
                          25.25708445
                        ]
                      },
                      {
                        "learn": [
                          25.17797887
                        ],
                        "iteration": 272,
                        "passed_time": 35.76673434,
                        "remaining_time": 82.14557666,
                        "test": [
                          25.25707951
                        ]
                      },
                      {
                        "learn": [
                          25.17793185
                        ],
                        "iteration": 273,
                        "passed_time": 36.01666542,
                        "remaining_time": 82.28625019,
                        "test": [
                          25.25707054
                        ]
                      },
                      {
                        "learn": [
                          25.17788806
                        ],
                        "iteration": 274,
                        "passed_time": 36.20554282,
                        "remaining_time": 82.28532459,
                        "test": [
                          25.25706004
                        ]
                      },
                      {
                        "learn": [
                          25.17785075
                        ],
                        "iteration": 275,
                        "passed_time": 36.38127953,
                        "remaining_time": 82.25332764,
                        "test": [
                          25.2570508
                        ]
                      },
                      {
                        "learn": [
                          25.17781503
                        ],
                        "iteration": 276,
                        "passed_time": 36.61362782,
                        "remaining_time": 82.3476178,
                        "test": [
                          25.25703984
                        ]
                      },
                      {
                        "learn": [
                          25.17778382
                        ],
                        "iteration": 277,
                        "passed_time": 36.86249107,
                        "remaining_time": 82.4765088,
                        "test": [
                          25.25703459
                        ]
                      },
                      {
                        "learn": [
                          25.17774594
                        ],
                        "iteration": 278,
                        "passed_time": 37.06051956,
                        "remaining_time": 82.48954353,
                        "test": [
                          25.25702606
                        ]
                      },
                      {
                        "learn": [
                          25.17770401
                        ],
                        "iteration": 279,
                        "passed_time": 37.31300605,
                        "remaining_time": 82.62165625,
                        "test": [
                          25.25701298
                        ]
                      },
                      {
                        "learn": [
                          25.17766186
                        ],
                        "iteration": 280,
                        "passed_time": 37.48230463,
                        "remaining_time": 82.56778137,
                        "test": [
                          25.25700041
                        ]
                      },
                      {
                        "learn": [
                          25.17760661
                        ],
                        "iteration": 281,
                        "passed_time": 37.68923133,
                        "remaining_time": 82.59554951,
                        "test": [
                          25.25699951
                        ]
                      },
                      {
                        "learn": [
                          25.17756473
                        ],
                        "iteration": 282,
                        "passed_time": 37.81541696,
                        "remaining_time": 82.44562637,
                        "test": [
                          25.25700003
                        ]
                      },
                      {
                        "learn": [
                          25.17752458
                        ],
                        "iteration": 283,
                        "passed_time": 37.94013441,
                        "remaining_time": 82.29268591,
                        "test": [
                          25.25700664
                        ]
                      },
                      {
                        "learn": [
                          25.17748906
                        ],
                        "iteration": 284,
                        "passed_time": 38.04539183,
                        "remaining_time": 82.09795078,
                        "test": [
                          25.25700376
                        ]
                      },
                      {
                        "learn": [
                          25.17744021
                        ],
                        "iteration": 285,
                        "passed_time": 38.15974182,
                        "remaining_time": 81.92336181,
                        "test": [
                          25.25700463
                        ]
                      },
                      {
                        "learn": [
                          25.1773904
                        ],
                        "iteration": 286,
                        "passed_time": 38.26264965,
                        "remaining_time": 81.72475344,
                        "test": [
                          25.25699654
                        ]
                      },
                      {
                        "learn": [
                          25.17734136
                        ],
                        "iteration": 287,
                        "passed_time": 38.36841063,
                        "remaining_time": 81.53287259,
                        "test": [
                          25.25699052
                        ]
                      },
                      {
                        "learn": [
                          25.1773029
                        ],
                        "iteration": 288,
                        "passed_time": 38.47858307,
                        "remaining_time": 81.35091438,
                        "test": [
                          25.25698823
                        ]
                      },
                      {
                        "learn": [
                          25.17726331
                        ],
                        "iteration": 289,
                        "passed_time": 38.59047939,
                        "remaining_time": 81.17307733,
                        "test": [
                          25.25698549
                        ]
                      },
                      {
                        "learn": [
                          25.17721189
                        ],
                        "iteration": 290,
                        "passed_time": 38.69353224,
                        "remaining_time": 80.97718603,
                        "test": [
                          25.25697588
                        ]
                      },
                      {
                        "learn": [
                          25.17717093
                        ],
                        "iteration": 291,
                        "passed_time": 38.8023995,
                        "remaining_time": 80.79403733,
                        "test": [
                          25.25697972
                        ]
                      },
                      {
                        "learn": [
                          25.17712805
                        ],
                        "iteration": 292,
                        "passed_time": 38.94939907,
                        "remaining_time": 80.69039329,
                        "test": [
                          25.25699625
                        ]
                      },
                      {
                        "learn": [
                          25.17707408
                        ],
                        "iteration": 293,
                        "passed_time": 39.06096133,
                        "remaining_time": 80.51341009,
                        "test": [
                          25.25700417
                        ]
                      },
                      {
                        "learn": [
                          25.1770253
                        ],
                        "iteration": 294,
                        "passed_time": 39.17055985,
                        "remaining_time": 80.33284308,
                        "test": [
                          25.25700174
                        ]
                      },
                      {
                        "learn": [
                          25.17698271
                        ],
                        "iteration": 295,
                        "passed_time": 39.28650744,
                        "remaining_time": 80.16571112,
                        "test": [
                          25.25699983
                        ]
                      },
                      {
                        "learn": [
                          25.17693569
                        ],
                        "iteration": 296,
                        "passed_time": 39.40586677,
                        "remaining_time": 80.00585072,
                        "test": [
                          25.25699843
                        ]
                      },
                      {
                        "learn": [
                          25.17688468
                        ],
                        "iteration": 297,
                        "passed_time": 39.51796257,
                        "remaining_time": 79.83158882,
                        "test": [
                          25.25698446
                        ]
                      },
                      {
                        "learn": [
                          25.17684218
                        ],
                        "iteration": 298,
                        "passed_time": 39.62394963,
                        "remaining_time": 79.64546397,
                        "test": [
                          25.25699354
                        ]
                      },
                      {
                        "learn": [
                          25.17680167
                        ],
                        "iteration": 299,
                        "passed_time": 39.73597794,
                        "remaining_time": 79.47195589,
                        "test": [
                          25.25698221
                        ]
                      },
                      {
                        "learn": [
                          25.17676533
                        ],
                        "iteration": 300,
                        "passed_time": 39.83991233,
                        "remaining_time": 79.28274912,
                        "test": [
                          25.25697497
                        ]
                      },
                      {
                        "learn": [
                          25.17672557
                        ],
                        "iteration": 301,
                        "passed_time": 39.98060805,
                        "remaining_time": 79.16689939,
                        "test": [
                          25.25696062
                        ]
                      },
                      {
                        "learn": [
                          25.17667771
                        ],
                        "iteration": 302,
                        "passed_time": 40.09049403,
                        "remaining_time": 78.9901813,
                        "test": [
                          25.256955
                        ]
                      },
                      {
                        "learn": [
                          25.17663859
                        ],
                        "iteration": 303,
                        "passed_time": 40.19911458,
                        "remaining_time": 78.81142201,
                        "test": [
                          25.25696664
                        ]
                      },
                      {
                        "learn": [
                          25.17659442
                        ],
                        "iteration": 304,
                        "passed_time": 40.31599289,
                        "remaining_time": 78.64923204,
                        "test": [
                          25.2569612
                        ]
                      },
                      {
                        "learn": [
                          25.17655543
                        ],
                        "iteration": 305,
                        "passed_time": 40.42631942,
                        "remaining_time": 78.47462005,
                        "test": [
                          25.25697383
                        ]
                      },
                      {
                        "learn": [
                          25.17652035
                        ],
                        "iteration": 306,
                        "passed_time": 40.53558719,
                        "remaining_time": 78.29838177,
                        "test": [
                          25.25696775
                        ]
                      },
                      {
                        "learn": [
                          25.17646649
                        ],
                        "iteration": 307,
                        "passed_time": 40.64101786,
                        "remaining_time": 78.11520316,
                        "test": [
                          25.25696453
                        ]
                      },
                      {
                        "learn": [
                          25.176427
                        ],
                        "iteration": 308,
                        "passed_time": 40.75053322,
                        "remaining_time": 77.94034024,
                        "test": [
                          25.25696072
                        ]
                      },
                      {
                        "learn": [
                          25.17638295
                        ],
                        "iteration": 309,
                        "passed_time": 40.85289458,
                        "remaining_time": 77.75228324,
                        "test": [
                          25.25695294
                        ]
                      },
                      {
                        "learn": [
                          25.17633868
                        ],
                        "iteration": 310,
                        "passed_time": 40.99729986,
                        "remaining_time": 77.64440391,
                        "test": [
                          25.25693868
                        ]
                      },
                      {
                        "learn": [
                          25.17629674
                        ],
                        "iteration": 311,
                        "passed_time": 41.10624192,
                        "remaining_time": 77.46945593,
                        "test": [
                          25.25693895
                        ]
                      },
                      {
                        "learn": [
                          25.17626562
                        ],
                        "iteration": 312,
                        "passed_time": 41.21199078,
                        "remaining_time": 77.28894118,
                        "test": [
                          25.25693798
                        ]
                      },
                      {
                        "learn": [
                          25.17623006
                        ],
                        "iteration": 313,
                        "passed_time": 41.33259343,
                        "remaining_time": 77.13662341,
                        "test": [
                          25.25692801
                        ]
                      },
                      {
                        "learn": [
                          25.17617702
                        ],
                        "iteration": 314,
                        "passed_time": 41.44232601,
                        "remaining_time": 76.96431974,
                        "test": [
                          25.25690677
                        ]
                      },
                      {
                        "learn": [
                          25.17614054
                        ],
                        "iteration": 315,
                        "passed_time": 41.56235753,
                        "remaining_time": 76.81144556,
                        "test": [
                          25.25690581
                        ]
                      },
                      {
                        "learn": [
                          25.17611015
                        ],
                        "iteration": 316,
                        "passed_time": 41.6776184,
                        "remaining_time": 76.65000481,
                        "test": [
                          25.25689938
                        ]
                      },
                      {
                        "learn": [
                          25.17606376
                        ],
                        "iteration": 317,
                        "passed_time": 41.78788514,
                        "remaining_time": 76.47971431,
                        "test": [
                          25.25690224
                        ]
                      },
                      {
                        "learn": [
                          25.17601561
                        ],
                        "iteration": 318,
                        "passed_time": 41.91001886,
                        "remaining_time": 76.33141366,
                        "test": [
                          25.25690891
                        ]
                      },
                      {
                        "learn": [
                          25.17598125
                        ],
                        "iteration": 319,
                        "passed_time": 42.04027629,
                        "remaining_time": 76.19800078,
                        "test": [
                          25.25690129
                        ]
                      },
                      {
                        "learn": [
                          25.17593798
                        ],
                        "iteration": 320,
                        "passed_time": 42.15135102,
                        "remaining_time": 76.03000699,
                        "test": [
                          25.25689673
                        ]
                      },
                      {
                        "learn": [
                          25.17589729
                        ],
                        "iteration": 321,
                        "passed_time": 42.26257056,
                        "remaining_time": 75.86262667,
                        "test": [
                          25.2568938
                        ]
                      },
                      {
                        "learn": [
                          25.1758536
                        ],
                        "iteration": 322,
                        "passed_time": 42.37221645,
                        "remaining_time": 75.69278294,
                        "test": [
                          25.25689186
                        ]
                      },
                      {
                        "learn": [
                          25.17581751
                        ],
                        "iteration": 323,
                        "passed_time": 42.47353471,
                        "remaining_time": 75.50850614,
                        "test": [
                          25.25689043
                        ]
                      },
                      {
                        "learn": [
                          25.17577846
                        ],
                        "iteration": 324,
                        "passed_time": 42.57953393,
                        "remaining_time": 75.33302157,
                        "test": [
                          25.25690227
                        ]
                      },
                      {
                        "learn": [
                          25.1757346
                        ],
                        "iteration": 325,
                        "passed_time": 42.6889912,
                        "remaining_time": 75.16405199,
                        "test": [
                          25.25688955
                        ]
                      },
                      {
                        "learn": [
                          25.17568791
                        ],
                        "iteration": 326,
                        "passed_time": 42.79568426,
                        "remaining_time": 74.9906027,
                        "test": [
                          25.25687493
                        ]
                      },
                      {
                        "learn": [
                          25.17564114
                        ],
                        "iteration": 327,
                        "passed_time": 42.91349791,
                        "remaining_time": 74.83695367,
                        "test": [
                          25.25685115
                        ]
                      },
                      {
                        "learn": [
                          25.17560353
                        ],
                        "iteration": 328,
                        "passed_time": 43.04821022,
                        "remaining_time": 74.71285117,
                        "test": [
                          25.25684276
                        ]
                      },
                      {
                        "learn": [
                          25.17556667
                        ],
                        "iteration": 329,
                        "passed_time": 43.15980715,
                        "remaining_time": 74.5487578,
                        "test": [
                          25.25685411
                        ]
                      },
                      {
                        "learn": [
                          25.17553349
                        ],
                        "iteration": 330,
                        "passed_time": 43.26733415,
                        "remaining_time": 74.37798529,
                        "test": [
                          25.25685493
                        ]
                      },
                      {
                        "learn": [
                          25.17547148
                        ],
                        "iteration": 331,
                        "passed_time": 43.38340464,
                        "remaining_time": 74.22221035,
                        "test": [
                          25.25683911
                        ]
                      },
                      {
                        "learn": [
                          25.17543094
                        ],
                        "iteration": 332,
                        "passed_time": 43.48775585,
                        "remaining_time": 74.04671942,
                        "test": [
                          25.25683225
                        ]
                      },
                      {
                        "learn": [
                          25.17539276
                        ],
                        "iteration": 333,
                        "passed_time": 43.59611656,
                        "remaining_time": 73.87844901,
                        "test": [
                          25.25682647
                        ]
                      },
                      {
                        "learn": [
                          25.17536487
                        ],
                        "iteration": 334,
                        "passed_time": 43.70222415,
                        "remaining_time": 73.70673625,
                        "test": [
                          25.25682809
                        ]
                      },
                      {
                        "learn": [
                          25.17532033
                        ],
                        "iteration": 335,
                        "passed_time": 43.81027949,
                        "remaining_time": 73.53868343,
                        "test": [
                          25.25681578
                        ]
                      },
                      {
                        "learn": [
                          25.17529191
                        ],
                        "iteration": 336,
                        "passed_time": 43.93457618,
                        "remaining_time": 73.39811985,
                        "test": [
                          25.25682563
                        ]
                      },
                      {
                        "learn": [
                          25.17524909
                        ],
                        "iteration": 337,
                        "passed_time": 44.0601187,
                        "remaining_time": 73.259724,
                        "test": [
                          25.25681831
                        ]
                      },
                      {
                        "learn": [
                          25.17520809
                        ],
                        "iteration": 338,
                        "passed_time": 44.17716514,
                        "remaining_time": 73.10734408,
                        "test": [
                          25.25682495
                        ]
                      },
                      {
                        "learn": [
                          25.17517553
                        ],
                        "iteration": 339,
                        "passed_time": 44.28363968,
                        "remaining_time": 72.93775947,
                        "test": [
                          25.25682573
                        ]
                      },
                      {
                        "learn": [
                          25.17513644
                        ],
                        "iteration": 340,
                        "passed_time": 44.39332475,
                        "remaining_time": 72.77380803,
                        "test": [
                          25.25682186
                        ]
                      },
                      {
                        "learn": [
                          25.17510545
                        ],
                        "iteration": 341,
                        "passed_time": 44.50092109,
                        "remaining_time": 72.606766,
                        "test": [
                          25.25681857
                        ]
                      },
                      {
                        "learn": [
                          25.17507777
                        ],
                        "iteration": 342,
                        "passed_time": 44.60698998,
                        "remaining_time": 72.43759014,
                        "test": [
                          25.25681825
                        ]
                      },
                      {
                        "learn": [
                          25.17502787
                        ],
                        "iteration": 343,
                        "passed_time": 44.70905336,
                        "remaining_time": 72.26230717,
                        "test": [
                          25.25681733
                        ]
                      },
                      {
                        "learn": [
                          25.17499109
                        ],
                        "iteration": 344,
                        "passed_time": 44.81902896,
                        "remaining_time": 72.10017702,
                        "test": [
                          25.2568338
                        ]
                      },
                      {
                        "learn": [
                          25.17495981
                        ],
                        "iteration": 345,
                        "passed_time": 44.92192617,
                        "remaining_time": 71.92701474,
                        "test": [
                          25.256828
                        ]
                      },
                      {
                        "learn": [
                          25.17489984
                        ],
                        "iteration": 346,
                        "passed_time": 45.04152408,
                        "remaining_time": 71.78087268,
                        "test": [
                          25.25681226
                        ]
                      },
                      {
                        "learn": [
                          25.17485342
                        ],
                        "iteration": 347,
                        "passed_time": 45.17597754,
                        "remaining_time": 71.65844714,
                        "test": [
                          25.25680051
                        ]
                      },
                      {
                        "learn": [
                          25.1748097
                        ],
                        "iteration": 348,
                        "passed_time": 45.29518468,
                        "remaining_time": 71.51188183,
                        "test": [
                          25.25679936
                        ]
                      },
                      {
                        "learn": [
                          25.17477067
                        ],
                        "iteration": 349,
                        "passed_time": 45.40107699,
                        "remaining_time": 71.34454956,
                        "test": [
                          25.25679582
                        ]
                      },
                      {
                        "learn": [
                          25.17474232
                        ],
                        "iteration": 350,
                        "passed_time": 45.51183869,
                        "remaining_time": 71.18518359,
                        "test": [
                          25.25679054
                        ]
                      },
                      {
                        "learn": [
                          25.17470517
                        ],
                        "iteration": 351,
                        "passed_time": 45.62102452,
                        "remaining_time": 71.02364045,
                        "test": [
                          25.2567874
                        ]
                      },
                      {
                        "learn": [
                          25.1746754
                        ],
                        "iteration": 352,
                        "passed_time": 45.73152693,
                        "remaining_time": 70.86443407,
                        "test": [
                          25.25679021
                        ]
                      },
                      {
                        "learn": [
                          25.17462891
                        ],
                        "iteration": 353,
                        "passed_time": 45.83786255,
                        "remaining_time": 70.69907614,
                        "test": [
                          25.25677591
                        ]
                      },
                      {
                        "learn": [
                          25.17459345
                        ],
                        "iteration": 354,
                        "passed_time": 45.96078293,
                        "remaining_time": 70.55951181,
                        "test": [
                          25.25677899
                        ]
                      },
                      {
                        "learn": [
                          25.17455683
                        ],
                        "iteration": 355,
                        "passed_time": 46.08439873,
                        "remaining_time": 70.42110367,
                        "test": [
                          25.25677719
                        ]
                      },
                      {
                        "learn": [
                          25.17450499
                        ],
                        "iteration": 356,
                        "passed_time": 46.21505191,
                        "remaining_time": 70.29348231,
                        "test": [
                          25.25676677
                        ]
                      },
                      {
                        "learn": [
                          25.1744561
                        ],
                        "iteration": 357,
                        "passed_time": 46.32473649,
                        "remaining_time": 70.13409827,
                        "test": [
                          25.25676804
                        ]
                      },
                      {
                        "learn": [
                          25.17439791
                        ],
                        "iteration": 358,
                        "passed_time": 46.43783556,
                        "remaining_time": 69.98013659,
                        "test": [
                          25.25677431
                        ]
                      },
                      {
                        "learn": [
                          25.17435442
                        ],
                        "iteration": 359,
                        "passed_time": 46.57837012,
                        "remaining_time": 69.86755518,
                        "test": [
                          25.25678087
                        ]
                      },
                      {
                        "learn": [
                          25.17432024
                        ],
                        "iteration": 360,
                        "passed_time": 46.68813479,
                        "remaining_time": 69.70887715,
                        "test": [
                          25.25679355
                        ]
                      },
                      {
                        "learn": [
                          25.17428445
                        ],
                        "iteration": 361,
                        "passed_time": 46.78899182,
                        "remaining_time": 69.53723094,
                        "test": [
                          25.2567881
                        ]
                      },
                      {
                        "learn": [
                          25.17424329
                        ],
                        "iteration": 362,
                        "passed_time": 46.9304909,
                        "remaining_time": 69.42609811,
                        "test": [
                          25.25677776
                        ]
                      },
                      {
                        "learn": [
                          25.17421625
                        ],
                        "iteration": 363,
                        "passed_time": 47.05176883,
                        "remaining_time": 69.28502223,
                        "test": [
                          25.25679979
                        ]
                      },
                      {
                        "learn": [
                          25.17417339
                        ],
                        "iteration": 364,
                        "passed_time": 47.17930055,
                        "remaining_time": 69.15322135,
                        "test": [
                          25.25680439
                        ]
                      },
                      {
                        "learn": [
                          25.17413734
                        ],
                        "iteration": 365,
                        "passed_time": 47.30714135,
                        "remaining_time": 69.02189476,
                        "test": [
                          25.25679014
                        ]
                      },
                      {
                        "learn": [
                          25.17410928
                        ],
                        "iteration": 366,
                        "passed_time": 47.42146714,
                        "remaining_time": 68.87095908,
                        "test": [
                          25.25679326
                        ]
                      },
                      {
                        "learn": [
                          25.17407132
                        ],
                        "iteration": 367,
                        "passed_time": 47.52663107,
                        "remaining_time": 68.70697753,
                        "test": [
                          25.25681114
                        ]
                      },
                      {
                        "learn": [
                          25.17403577
                        ],
                        "iteration": 368,
                        "passed_time": 47.64129628,
                        "remaining_time": 68.55698733,
                        "test": [
                          25.25680095
                        ]
                      },
                      {
                        "learn": [
                          25.17400155
                        ],
                        "iteration": 369,
                        "passed_time": 47.82774115,
                        "remaining_time": 68.51000759,
                        "test": [
                          25.25679453
                        ]
                      },
                      {
                        "learn": [
                          25.17396368
                        ],
                        "iteration": 370,
                        "passed_time": 48.02662277,
                        "remaining_time": 68.48000929,
                        "test": [
                          25.2567946
                        ]
                      },
                      {
                        "learn": [
                          25.17392653
                        ],
                        "iteration": 371,
                        "passed_time": 48.26101642,
                        "remaining_time": 68.49950718,
                        "test": [
                          25.256796
                        ]
                      },
                      {
                        "learn": [
                          25.17387452
                        ],
                        "iteration": 372,
                        "passed_time": 48.44299222,
                        "remaining_time": 68.44358418,
                        "test": [
                          25.25678754
                        ]
                      },
                      {
                        "learn": [
                          25.17384667
                        ],
                        "iteration": 373,
                        "passed_time": 48.66844262,
                        "remaining_time": 68.44813052,
                        "test": [
                          25.2567943
                        ]
                      },
                      {
                        "learn": [
                          25.17380847
                        ],
                        "iteration": 374,
                        "passed_time": 48.91370669,
                        "remaining_time": 68.47918937,
                        "test": [
                          25.25680351
                        ]
                      },
                      {
                        "learn": [
                          25.17376942
                        ],
                        "iteration": 375,
                        "passed_time": 49.16502094,
                        "remaining_time": 68.51721004,
                        "test": [
                          25.25680087
                        ]
                      },
                      {
                        "learn": [
                          25.17373217
                        ],
                        "iteration": 376,
                        "passed_time": 49.39735583,
                        "remaining_time": 68.52736631,
                        "test": [
                          25.25680913
                        ]
                      },
                      {
                        "learn": [
                          25.17368535
                        ],
                        "iteration": 377,
                        "passed_time": 49.6295133,
                        "remaining_time": 68.53599456,
                        "test": [
                          25.25680866
                        ]
                      },
                      {
                        "learn": [
                          25.17364137
                        ],
                        "iteration": 378,
                        "passed_time": 49.88030385,
                        "remaining_time": 68.56896651,
                        "test": [
                          25.25680246
                        ]
                      },
                      {
                        "learn": [
                          25.17358518
                        ],
                        "iteration": 379,
                        "passed_time": 50.14232511,
                        "remaining_time": 68.61581331,
                        "test": [
                          25.25679498
                        ]
                      },
                      {
                        "learn": [
                          25.17354256
                        ],
                        "iteration": 380,
                        "passed_time": 50.34831008,
                        "remaining_time": 68.58470585,
                        "test": [
                          25.25679196
                        ]
                      },
                      {
                        "learn": [
                          25.17350092
                        ],
                        "iteration": 381,
                        "passed_time": 50.60899217,
                        "remaining_time": 68.62685325,
                        "test": [
                          25.25678238
                        ]
                      },
                      {
                        "learn": [
                          25.17346456
                        ],
                        "iteration": 382,
                        "passed_time": 50.82923032,
                        "remaining_time": 68.61282526,
                        "test": [
                          25.25676752
                        ]
                      },
                      {
                        "learn": [
                          25.17342675
                        ],
                        "iteration": 383,
                        "passed_time": 51.0597303,
                        "remaining_time": 68.61151259,
                        "test": [
                          25.2567661
                        ]
                      },
                      {
                        "learn": [
                          25.17338973
                        ],
                        "iteration": 384,
                        "passed_time": 51.30212161,
                        "remaining_time": 68.62491592,
                        "test": [
                          25.25677554
                        ]
                      },
                      {
                        "learn": [
                          25.17335305
                        ],
                        "iteration": 385,
                        "passed_time": 51.54824938,
                        "remaining_time": 68.64196938,
                        "test": [
                          25.25677493
                        ]
                      },
                      {
                        "learn": [
                          25.17331947
                        ],
                        "iteration": 386,
                        "passed_time": 51.70584229,
                        "remaining_time": 68.54030257,
                        "test": [
                          25.25678016
                        ]
                      },
                      {
                        "learn": [
                          25.17327409
                        ],
                        "iteration": 387,
                        "passed_time": 51.82185471,
                        "remaining_time": 68.38347837,
                        "test": [
                          25.25678246
                        ]
                      },
                      {
                        "learn": [
                          25.17324289
                        ],
                        "iteration": 388,
                        "passed_time": 51.93146625,
                        "remaining_time": 68.21845567,
                        "test": [
                          25.2567605
                        ]
                      },
                      {
                        "learn": [
                          25.17320234
                        ],
                        "iteration": 389,
                        "passed_time": 52.04225827,
                        "remaining_time": 68.05526082,
                        "test": [
                          25.2567509
                        ]
                      },
                      {
                        "learn": [
                          25.17316039
                        ],
                        "iteration": 390,
                        "passed_time": 52.16175373,
                        "remaining_time": 67.90366407,
                        "test": [
                          25.25676479
                        ]
                      },
                      {
                        "learn": [
                          25.17311968
                        ],
                        "iteration": 391,
                        "passed_time": 52.27323797,
                        "remaining_time": 67.74184921,
                        "test": [
                          25.25675827
                        ]
                      },
                      {
                        "learn": [
                          25.17308749
                        ],
                        "iteration": 392,
                        "passed_time": 52.38957493,
                        "remaining_time": 67.58655087,
                        "test": [
                          25.25674632
                        ]
                      },
                      {
                        "learn": [
                          25.17305052
                        ],
                        "iteration": 393,
                        "passed_time": 52.4968646,
                        "remaining_time": 67.41983118,
                        "test": [
                          25.25675404
                        ]
                      },
                      {
                        "learn": [
                          25.17301011
                        ],
                        "iteration": 394,
                        "passed_time": 52.61409286,
                        "remaining_time": 67.26611872,
                        "test": [
                          25.25676536
                        ]
                      },
                      {
                        "learn": [
                          25.17297082
                        ],
                        "iteration": 395,
                        "passed_time": 52.72603264,
                        "remaining_time": 67.10585973,
                        "test": [
                          25.25675609
                        ]
                      },
                      {
                        "learn": [
                          25.17291545
                        ],
                        "iteration": 396,
                        "passed_time": 52.83468862,
                        "remaining_time": 66.94168357,
                        "test": [
                          25.25674435
                        ]
                      },
                      {
                        "learn": [
                          25.17287852
                        ],
                        "iteration": 397,
                        "passed_time": 52.93994883,
                        "remaining_time": 66.7735033,
                        "test": [
                          25.25673739
                        ]
                      },
                      {
                        "learn": [
                          25.17284443
                        ],
                        "iteration": 398,
                        "passed_time": 53.05040149,
                        "remaining_time": 66.61215826,
                        "test": [
                          25.25673064
                        ]
                      },
                      {
                        "learn": [
                          25.17281255
                        ],
                        "iteration": 399,
                        "passed_time": 53.17747787,
                        "remaining_time": 66.47184734,
                        "test": [
                          25.25672776
                        ]
                      },
                      {
                        "learn": [
                          25.172775
                        ],
                        "iteration": 400,
                        "passed_time": 53.28687902,
                        "remaining_time": 66.30960756,
                        "test": [
                          25.25672607
                        ]
                      },
                      {
                        "learn": [
                          25.1727185
                        ],
                        "iteration": 401,
                        "passed_time": 53.39694024,
                        "remaining_time": 66.14844836,
                        "test": [
                          25.25672854
                        ]
                      },
                      {
                        "learn": [
                          25.17268113
                        ],
                        "iteration": 402,
                        "passed_time": 53.50974556,
                        "remaining_time": 65.99092691,
                        "test": [
                          25.25672158
                        ]
                      },
                      {
                        "learn": [
                          25.17264444
                        ],
                        "iteration": 403,
                        "passed_time": 53.62126648,
                        "remaining_time": 65.83204993,
                        "test": [
                          25.25671925
                        ]
                      },
                      {
                        "learn": [
                          25.17261562
                        ],
                        "iteration": 404,
                        "passed_time": 53.7376682,
                        "remaining_time": 65.67937224,
                        "test": [
                          25.25672306
                        ]
                      },
                      {
                        "learn": [
                          25.17258225
                        ],
                        "iteration": 405,
                        "passed_time": 53.84245526,
                        "remaining_time": 65.51274113,
                        "test": [
                          25.25671516
                        ]
                      },
                      {
                        "learn": [
                          25.17254657
                        ],
                        "iteration": 406,
                        "passed_time": 53.94862304,
                        "remaining_time": 65.34808639,
                        "test": [
                          25.25670136
                        ]
                      },
                      {
                        "learn": [
                          25.17251175
                        ],
                        "iteration": 407,
                        "passed_time": 54.05872771,
                        "remaining_time": 65.18846577,
                        "test": [
                          25.25669827
                        ]
                      },
                      {
                        "learn": [
                          25.17247446
                        ],
                        "iteration": 408,
                        "passed_time": 54.18603796,
                        "remaining_time": 65.0497424,
                        "test": [
                          25.25669188
                        ]
                      },
                      {
                        "learn": [
                          25.17243563
                        ],
                        "iteration": 409,
                        "passed_time": 54.29860783,
                        "remaining_time": 64.89345814,
                        "test": [
                          25.2566971
                        ]
                      },
                      {
                        "learn": [
                          25.17239841
                        ],
                        "iteration": 410,
                        "passed_time": 54.41445009,
                        "remaining_time": 64.74128003,
                        "test": [
                          25.25668928
                        ]
                      },
                      {
                        "learn": [
                          25.17236922
                        ],
                        "iteration": 411,
                        "passed_time": 54.52001204,
                        "remaining_time": 64.57710164,
                        "test": [
                          25.25668518
                        ]
                      },
                      {
                        "learn": [
                          25.17233633
                        ],
                        "iteration": 412,
                        "passed_time": 54.62806691,
                        "remaining_time": 64.41614669,
                        "test": [
                          25.25667227
                        ]
                      },
                      {
                        "learn": [
                          25.17229477
                        ],
                        "iteration": 413,
                        "passed_time": 54.76161658,
                        "remaining_time": 64.28537598,
                        "test": [
                          25.25667819
                        ]
                      },
                      {
                        "learn": [
                          25.17226201
                        ],
                        "iteration": 414,
                        "passed_time": 54.87573057,
                        "remaining_time": 64.1318779,
                        "test": [
                          25.25668915
                        ]
                      },
                      {
                        "learn": [
                          25.17221612
                        ],
                        "iteration": 415,
                        "passed_time": 54.98245805,
                        "remaining_time": 63.96997523,
                        "test": [
                          25.25668108
                        ]
                      },
                      {
                        "learn": [
                          25.17217591
                        ],
                        "iteration": 416,
                        "passed_time": 55.0892391,
                        "remaining_time": 63.80839925,
                        "test": [
                          25.25668022
                        ]
                      },
                      {
                        "learn": [
                          25.17214275
                        ],
                        "iteration": 417,
                        "passed_time": 55.21392098,
                        "remaining_time": 63.66772706,
                        "test": [
                          25.25667231
                        ]
                      },
                      {
                        "learn": [
                          25.17211379
                        ],
                        "iteration": 418,
                        "passed_time": 55.31313545,
                        "remaining_time": 63.49789535,
                        "test": [
                          25.25665584
                        ]
                      },
                      {
                        "learn": [
                          25.17208092
                        ],
                        "iteration": 419,
                        "passed_time": 55.4301225,
                        "remaining_time": 63.34871143,
                        "test": [
                          25.25665642
                        ]
                      },
                      {
                        "learn": [
                          25.17203922
                        ],
                        "iteration": 420,
                        "passed_time": 55.5467997,
                        "remaining_time": 63.19932792,
                        "test": [
                          25.2566644
                        ]
                      },
                      {
                        "learn": [
                          25.17200621
                        ],
                        "iteration": 421,
                        "passed_time": 55.65252446,
                        "remaining_time": 63.03769359,
                        "test": [
                          25.25664954
                        ]
                      },
                      {
                        "learn": [
                          25.17197274
                        ],
                        "iteration": 422,
                        "passed_time": 55.78859299,
                        "remaining_time": 62.91054103,
                        "test": [
                          25.25665237
                        ]
                      },
                      {
                        "learn": [
                          25.17192452
                        ],
                        "iteration": 423,
                        "passed_time": 55.89182633,
                        "remaining_time": 62.74648428,
                        "test": [
                          25.25666628
                        ]
                      },
                      {
                        "learn": [
                          25.17188532
                        ],
                        "iteration": 424,
                        "passed_time": 56.00371268,
                        "remaining_time": 62.59238476,
                        "test": [
                          25.25666104
                        ]
                      },
                      {
                        "learn": [
                          25.17184209
                        ],
                        "iteration": 425,
                        "passed_time": 56.10707428,
                        "remaining_time": 62.42899814,
                        "test": [
                          25.25666883
                        ]
                      },
                      {
                        "learn": [
                          25.17181419
                        ],
                        "iteration": 426,
                        "passed_time": 56.22811619,
                        "remaining_time": 62.28547765,
                        "test": [
                          25.25665251
                        ]
                      },
                      {
                        "learn": [
                          25.17177106
                        ],
                        "iteration": 427,
                        "passed_time": 56.32720529,
                        "remaining_time": 62.11785256,
                        "test": [
                          25.25664927
                        ]
                      },
                      {
                        "learn": [
                          25.17173176
                        ],
                        "iteration": 428,
                        "passed_time": 56.44806214,
                        "remaining_time": 61.97444585,
                        "test": [
                          25.25665853
                        ]
                      },
                      {
                        "learn": [
                          25.17168725
                        ],
                        "iteration": 429,
                        "passed_time": 56.57021602,
                        "remaining_time": 61.8325617,
                        "test": [
                          25.25666327
                        ]
                      },
                      {
                        "learn": [
                          25.17166104
                        ],
                        "iteration": 430,
                        "passed_time": 56.6765761,
                        "remaining_time": 61.67358281,
                        "test": [
                          25.25666408
                        ]
                      },
                      {
                        "learn": [
                          25.17161728
                        ],
                        "iteration": 431,
                        "passed_time": 56.81620724,
                        "remaining_time": 61.55089118,
                        "test": [
                          25.2566802
                        ]
                      },
                      {
                        "learn": [
                          25.17156881
                        ],
                        "iteration": 432,
                        "passed_time": 56.9241644,
                        "remaining_time": 61.39396021,
                        "test": [
                          25.25667429
                        ]
                      },
                      {
                        "learn": [
                          25.17153311
                        ],
                        "iteration": 433,
                        "passed_time": 57.02871982,
                        "remaining_time": 61.23360239,
                        "test": [
                          25.25668737
                        ]
                      },
                      {
                        "learn": [
                          25.17149794
                        ],
                        "iteration": 434,
                        "passed_time": 57.14369659,
                        "remaining_time": 61.08464118,
                        "test": [
                          25.25668512
                        ]
                      },
                      {
                        "learn": [
                          25.17145958
                        ],
                        "iteration": 435,
                        "passed_time": 57.26767616,
                        "remaining_time": 60.94541683,
                        "test": [
                          25.25669351
                        ]
                      },
                      {
                        "learn": [
                          25.171423
                        ],
                        "iteration": 436,
                        "passed_time": 57.38307775,
                        "remaining_time": 60.79717391,
                        "test": [
                          25.25667913
                        ]
                      },
                      {
                        "learn": [
                          25.17139062
                        ],
                        "iteration": 437,
                        "passed_time": 57.49642481,
                        "remaining_time": 60.64691384,
                        "test": [
                          25.25667442
                        ]
                      },
                      {
                        "learn": [
                          25.17135462
                        ],
                        "iteration": 438,
                        "passed_time": 57.60960142,
                        "remaining_time": 60.49664295,
                        "test": [
                          25.25667555
                        ]
                      },
                      {
                        "learn": [
                          25.17131714
                        ],
                        "iteration": 439,
                        "passed_time": 57.71712795,
                        "remaining_time": 60.34063377,
                        "test": [
                          25.25669251
                        ]
                      },
                      {
                        "learn": [
                          25.17128984
                        ],
                        "iteration": 440,
                        "passed_time": 57.85054704,
                        "remaining_time": 60.21179386,
                        "test": [
                          25.25668904
                        ]
                      },
                      {
                        "learn": [
                          25.17125019
                        ],
                        "iteration": 441,
                        "passed_time": 57.95058474,
                        "remaining_time": 60.04834346,
                        "test": [
                          25.25667022
                        ]
                      },
                      {
                        "learn": [
                          25.17120471
                        ],
                        "iteration": 442,
                        "passed_time": 58.06557917,
                        "remaining_time": 59.90060876,
                        "test": [
                          25.25667797
                        ]
                      },
                      {
                        "learn": [
                          25.17115861
                        ],
                        "iteration": 443,
                        "passed_time": 58.18388665,
                        "remaining_time": 59.75642413,
                        "test": [
                          25.25667353
                        ]
                      },
                      {
                        "learn": [
                          25.17112642
                        ],
                        "iteration": 444,
                        "passed_time": 58.29611154,
                        "remaining_time": 59.60613652,
                        "test": [
                          25.25666965
                        ]
                      },
                      {
                        "learn": [
                          25.17108742
                        ],
                        "iteration": 445,
                        "passed_time": 58.41334032,
                        "remaining_time": 59.46111324,
                        "test": [
                          25.25666382
                        ]
                      },
                      {
                        "learn": [
                          25.17105072
                        ],
                        "iteration": 446,
                        "passed_time": 58.51469173,
                        "remaining_time": 59.30012384,
                        "test": [
                          25.25666109
                        ]
                      },
                      {
                        "learn": [
                          25.17100941
                        ],
                        "iteration": 447,
                        "passed_time": 58.61921458,
                        "remaining_time": 59.14260042,
                        "test": [
                          25.25665527
                        ]
                      },
                      {
                        "learn": [
                          25.17097003
                        ],
                        "iteration": 448,
                        "passed_time": 58.72712344,
                        "remaining_time": 58.98871419,
                        "test": [
                          25.25664215
                        ]
                      },
                      {
                        "learn": [
                          25.17092899
                        ],
                        "iteration": 449,
                        "passed_time": 58.84319982,
                        "remaining_time": 58.84319982,
                        "test": [
                          25.2566482
                        ]
                      },
                      {
                        "learn": [
                          25.17090075
                        ],
                        "iteration": 450,
                        "passed_time": 58.96814955,
                        "remaining_time": 58.70664999,
                        "test": [
                          25.25664617
                        ]
                      },
                      {
                        "learn": [
                          25.17086348
                        ],
                        "iteration": 451,
                        "passed_time": 59.08020912,
                        "remaining_time": 58.55737541,
                        "test": [
                          25.25665921
                        ]
                      },
                      {
                        "learn": [
                          25.1708203
                        ],
                        "iteration": 452,
                        "passed_time": 59.20401698,
                        "remaining_time": 58.41985782,
                        "test": [
                          25.25663109
                        ]
                      },
                      {
                        "learn": [
                          25.17079456
                        ],
                        "iteration": 453,
                        "passed_time": 59.30752259,
                        "remaining_time": 58.26245612,
                        "test": [
                          25.25663192
                        ]
                      },
                      {
                        "learn": [
                          25.17076001
                        ],
                        "iteration": 454,
                        "passed_time": 59.42304362,
                        "remaining_time": 58.11704266,
                        "test": [
                          25.25662124
                        ]
                      },
                      {
                        "learn": [
                          25.17072489
                        ],
                        "iteration": 455,
                        "passed_time": 59.53054962,
                        "remaining_time": 57.96395621,
                        "test": [
                          25.25662549
                        ]
                      },
                      {
                        "learn": [
                          25.17068465
                        ],
                        "iteration": 456,
                        "passed_time": 59.64391975,
                        "remaining_time": 57.81675372,
                        "test": [
                          25.2566173
                        ]
                      },
                      {
                        "learn": [
                          25.17064987
                        ],
                        "iteration": 457,
                        "passed_time": 59.75091017,
                        "remaining_time": 57.66354212,
                        "test": [
                          25.25661241
                        ]
                      },
                      {
                        "learn": [
                          25.17061404
                        ],
                        "iteration": 458,
                        "passed_time": 59.86501426,
                        "remaining_time": 57.51736664,
                        "test": [
                          25.25660314
                        ]
                      },
                      {
                        "learn": [
                          25.17057661
                        ],
                        "iteration": 459,
                        "passed_time": 60.00029899,
                        "remaining_time": 57.39159034,
                        "test": [
                          25.25660929
                        ]
                      },
                      {
                        "learn": [
                          25.17053077
                        ],
                        "iteration": 460,
                        "passed_time": 60.105136,
                        "remaining_time": 57.2367781,
                        "test": [
                          25.25658051
                        ]
                      },
                      {
                        "learn": [
                          25.17049456
                        ],
                        "iteration": 461,
                        "passed_time": 60.2236719,
                        "remaining_time": 57.09516946,
                        "test": [
                          25.256579
                        ]
                      },
                      {
                        "learn": [
                          25.17045393
                        ],
                        "iteration": 462,
                        "passed_time": 60.33706036,
                        "remaining_time": 56.94880211,
                        "test": [
                          25.25659708
                        ]
                      },
                      {
                        "learn": [
                          25.17042425
                        ],
                        "iteration": 463,
                        "passed_time": 60.44745144,
                        "remaining_time": 56.7997604,
                        "test": [
                          25.2565875
                        ]
                      },
                      {
                        "learn": [
                          25.17038653
                        ],
                        "iteration": 464,
                        "passed_time": 60.55499672,
                        "remaining_time": 56.64822274,
                        "test": [
                          25.25658936
                        ]
                      },
                      {
                        "learn": [
                          25.17033487
                        ],
                        "iteration": 465,
                        "passed_time": 60.66467214,
                        "remaining_time": 56.49885774,
                        "test": [
                          25.25656075
                        ]
                      },
                      {
                        "learn": [
                          25.17030139
                        ],
                        "iteration": 466,
                        "passed_time": 60.77518214,
                        "remaining_time": 56.35043654,
                        "test": [
                          25.25655566
                        ]
                      },
                      {
                        "learn": [
                          25.17025803
                        ],
                        "iteration": 467,
                        "passed_time": 60.87850865,
                        "remaining_time": 56.19554645,
                        "test": [
                          25.25654978
                        ]
                      },
                      {
                        "learn": [
                          25.17022518
                        ],
                        "iteration": 468,
                        "passed_time": 61.01234859,
                        "remaining_time": 56.06891736,
                        "test": [
                          25.2565458
                        ]
                      },
                      {
                        "learn": [
                          25.17018476
                        ],
                        "iteration": 469,
                        "passed_time": 61.12798178,
                        "remaining_time": 55.92560035,
                        "test": [
                          25.25654602
                        ]
                      },
                      {
                        "learn": [
                          25.17014552
                        ],
                        "iteration": 470,
                        "passed_time": 61.25985764,
                        "remaining_time": 55.79719517,
                        "test": [
                          25.25654294
                        ]
                      },
                      {
                        "learn": [
                          25.17010396
                        ],
                        "iteration": 471,
                        "passed_time": 61.36821897,
                        "remaining_time": 55.64745279,
                        "test": [
                          25.25654113
                        ]
                      },
                      {
                        "learn": [
                          25.17006775
                        ],
                        "iteration": 472,
                        "passed_time": 61.49377446,
                        "remaining_time": 55.51340738,
                        "test": [
                          25.25653594
                        ]
                      },
                      {
                        "learn": [
                          25.1700398
                        ],
                        "iteration": 473,
                        "passed_time": 61.60076746,
                        "remaining_time": 55.36271505,
                        "test": [
                          25.25653829
                        ]
                      },
                      {
                        "learn": [
                          25.16999215
                        ],
                        "iteration": 474,
                        "passed_time": 61.74764232,
                        "remaining_time": 55.2478905,
                        "test": [
                          25.25652979
                        ]
                      },
                      {
                        "learn": [
                          25.1699452
                        ],
                        "iteration": 475,
                        "passed_time": 61.93025345,
                        "remaining_time": 55.16476357,
                        "test": [
                          25.25650375
                        ]
                      },
                      {
                        "learn": [
                          25.16990072
                        ],
                        "iteration": 476,
                        "passed_time": 62.1710005,
                        "remaining_time": 55.13277403,
                        "test": [
                          25.25651049
                        ]
                      },
                      {
                        "learn": [
                          25.16986609
                        ],
                        "iteration": 477,
                        "passed_time": 62.44912134,
                        "remaining_time": 55.13290629,
                        "test": [
                          25.25651104
                        ]
                      },
                      {
                        "learn": [
                          25.16983279
                        ],
                        "iteration": 478,
                        "passed_time": 62.6912103,
                        "remaining_time": 55.1002078,
                        "test": [
                          25.25651459
                        ]
                      },
                      {
                        "learn": [
                          25.16979698
                        ],
                        "iteration": 479,
                        "passed_time": 62.94096347,
                        "remaining_time": 55.07334303,
                        "test": [
                          25.25652205
                        ]
                      },
                      {
                        "learn": [
                          25.1697586
                        ],
                        "iteration": 480,
                        "passed_time": 63.19767578,
                        "remaining_time": 55.05161362,
                        "test": [
                          25.25652537
                        ]
                      },
                      {
                        "learn": [
                          25.16971743
                        ],
                        "iteration": 481,
                        "passed_time": 63.44027155,
                        "remaining_time": 55.01666703,
                        "test": [
                          25.25652604
                        ]
                      },
                      {
                        "learn": [
                          25.16967834
                        ],
                        "iteration": 482,
                        "passed_time": 63.66861546,
                        "remaining_time": 54.9685562,
                        "test": [
                          25.25653873
                        ]
                      },
                      {
                        "learn": [
                          25.16963456
                        ],
                        "iteration": 483,
                        "passed_time": 63.90125868,
                        "remaining_time": 54.92339589,
                        "test": [
                          25.25653684
                        ]
                      },
                      {
                        "learn": [
                          25.16960137
                        ],
                        "iteration": 484,
                        "passed_time": 64.11578342,
                        "remaining_time": 54.86195901,
                        "test": [
                          25.25652729
                        ]
                      },
                      {
                        "learn": [
                          25.16957089
                        ],
                        "iteration": 485,
                        "passed_time": 64.34735355,
                        "remaining_time": 54.81441228,
                        "test": [
                          25.25651394
                        ]
                      },
                      {
                        "learn": [
                          25.16952948
                        ],
                        "iteration": 486,
                        "passed_time": 64.58946979,
                        "remaining_time": 54.77505344,
                        "test": [
                          25.25651043
                        ]
                      },
                      {
                        "learn": [
                          25.16950032
                        ],
                        "iteration": 487,
                        "passed_time": 64.84522845,
                        "remaining_time": 54.7463814,
                        "test": [
                          25.2565113
                        ]
                      },
                      {
                        "learn": [
                          25.1694601
                        ],
                        "iteration": 488,
                        "passed_time": 65.07243034,
                        "remaining_time": 54.69277888,
                        "test": [
                          25.25650807
                        ]
                      },
                      {
                        "learn": [
                          25.16942398
                        ],
                        "iteration": 489,
                        "passed_time": 65.30947906,
                        "remaining_time": 54.64670697,
                        "test": [
                          25.25650559
                        ]
                      },
                      {
                        "learn": [
                          25.16937433
                        ],
                        "iteration": 490,
                        "passed_time": 65.54940093,
                        "remaining_time": 54.60225047,
                        "test": [
                          25.2565114
                        ]
                      },
                      {
                        "learn": [
                          25.16933773
                        ],
                        "iteration": 491,
                        "passed_time": 65.67384262,
                        "remaining_time": 54.46123534,
                        "test": [
                          25.25652419
                        ]
                      },
                      {
                        "learn": [
                          25.16930581
                        ],
                        "iteration": 492,
                        "passed_time": 65.77667984,
                        "remaining_time": 54.30245171,
                        "test": [
                          25.25651996
                        ]
                      },
                      {
                        "learn": [
                          25.16926545
                        ],
                        "iteration": 493,
                        "passed_time": 65.88726119,
                        "remaining_time": 54.1502592,
                        "test": [
                          25.25651462
                        ]
                      },
                      {
                        "learn": [
                          25.1692341
                        ],
                        "iteration": 494,
                        "passed_time": 65.99774312,
                        "remaining_time": 53.99815346,
                        "test": [
                          25.25651437
                        ]
                      },
                      {
                        "learn": [
                          25.16919804
                        ],
                        "iteration": 495,
                        "passed_time": 66.10623672,
                        "remaining_time": 53.84459603,
                        "test": [
                          25.25652997
                        ]
                      },
                      {
                        "learn": [
                          25.16916025
                        ],
                        "iteration": 496,
                        "passed_time": 66.22083952,
                        "remaining_time": 53.6961737,
                        "test": [
                          25.25652649
                        ]
                      },
                      {
                        "learn": [
                          25.16912151
                        ],
                        "iteration": 497,
                        "passed_time": 66.33476601,
                        "remaining_time": 53.54734124,
                        "test": [
                          25.25652102
                        ]
                      },
                      {
                        "learn": [
                          25.16908205
                        ],
                        "iteration": 498,
                        "passed_time": 66.47265858,
                        "remaining_time": 53.417908,
                        "test": [
                          25.25651453
                        ]
                      },
                      {
                        "learn": [
                          25.16904593
                        ],
                        "iteration": 499,
                        "passed_time": 66.57972867,
                        "remaining_time": 53.26378293,
                        "test": [
                          25.25651365
                        ]
                      },
                      {
                        "learn": [
                          25.16900694
                        ],
                        "iteration": 500,
                        "passed_time": 66.69003996,
                        "remaining_time": 53.11242703,
                        "test": [
                          25.25650173
                        ]
                      },
                      {
                        "learn": [
                          25.16896496
                        ],
                        "iteration": 501,
                        "passed_time": 66.79176351,
                        "remaining_time": 52.95442605,
                        "test": [
                          25.25651651
                        ]
                      },
                      {
                        "learn": [
                          25.16892762
                        ],
                        "iteration": 502,
                        "passed_time": 66.89500316,
                        "remaining_time": 52.79784544,
                        "test": [
                          25.2565213
                        ]
                      },
                      {
                        "learn": [
                          25.168897
                        ],
                        "iteration": 503,
                        "passed_time": 67.0208175,
                        "remaining_time": 52.65921375,
                        "test": [
                          25.25651317
                        ]
                      },
                      {
                        "learn": [
                          25.16886245
                        ],
                        "iteration": 504,
                        "passed_time": 67.12646283,
                        "remaining_time": 52.50485706,
                        "test": [
                          25.25651864
                        ]
                      },
                      {
                        "learn": [
                          25.16882598
                        ],
                        "iteration": 505,
                        "passed_time": 67.26614093,
                        "remaining_time": 52.37719274,
                        "test": [
                          25.25651972
                        ]
                      },
                      {
                        "learn": [
                          25.16877253
                        ],
                        "iteration": 506,
                        "passed_time": 67.39665009,
                        "remaining_time": 52.24237373,
                        "test": [
                          25.25651831
                        ]
                      },
                      {
                        "learn": [
                          25.16873321
                        ],
                        "iteration": 507,
                        "passed_time": 67.5280558,
                        "remaining_time": 52.10826353,
                        "test": [
                          25.2565114
                        ]
                      },
                      {
                        "learn": [
                          25.16869172
                        ],
                        "iteration": 508,
                        "passed_time": 67.63835378,
                        "remaining_time": 51.95794956,
                        "test": [
                          25.25649946
                        ]
                      },
                      {
                        "learn": [
                          25.16865709
                        ],
                        "iteration": 509,
                        "passed_time": 67.7460086,
                        "remaining_time": 51.80577128,
                        "test": [
                          25.25649102
                        ]
                      },
                      {
                        "learn": [
                          25.16862503
                        ],
                        "iteration": 510,
                        "passed_time": 67.86287849,
                        "remaining_time": 51.66078225,
                        "test": [
                          25.25648992
                        ]
                      },
                      {
                        "learn": [
                          25.16859251
                        ],
                        "iteration": 511,
                        "passed_time": 67.97121963,
                        "remaining_time": 51.50943987,
                        "test": [
                          25.25649817
                        ]
                      },
                      {
                        "learn": [
                          25.16855606
                        ],
                        "iteration": 512,
                        "passed_time": 68.08598846,
                        "remaining_time": 51.3631141,
                        "test": [
                          25.25648694
                        ]
                      },
                      {
                        "learn": [
                          25.16852075
                        ],
                        "iteration": 513,
                        "passed_time": 68.19393205,
                        "remaining_time": 51.21178554,
                        "test": [
                          25.25647219
                        ]
                      },
                      {
                        "learn": [
                          25.16848459
                        ],
                        "iteration": 514,
                        "passed_time": 68.30303801,
                        "remaining_time": 51.06149443,
                        "test": [
                          25.25647741
                        ]
                      },
                      {
                        "learn": [
                          25.1684395
                        ],
                        "iteration": 515,
                        "passed_time": 68.44002167,
                        "remaining_time": 50.93210915,
                        "test": [
                          25.25647812
                        ]
                      },
                      {
                        "learn": [
                          25.16840431
                        ],
                        "iteration": 516,
                        "passed_time": 68.57571244,
                        "remaining_time": 50.80173668,
                        "test": [
                          25.25648455
                        ]
                      },
                      {
                        "learn": [
                          25.16837102
                        ],
                        "iteration": 517,
                        "passed_time": 68.68400495,
                        "remaining_time": 50.65113878,
                        "test": [
                          25.25648726
                        ]
                      },
                      {
                        "learn": [
                          25.16833891
                        ],
                        "iteration": 518,
                        "passed_time": 68.79463066,
                        "remaining_time": 50.50241673,
                        "test": [
                          25.25647636
                        ]
                      },
                      {
                        "learn": [
                          25.16829946
                        ],
                        "iteration": 519,
                        "passed_time": 68.90416951,
                        "remaining_time": 50.35304695,
                        "test": [
                          25.25647442
                        ]
                      },
                      {
                        "learn": [
                          25.16825946
                        ],
                        "iteration": 520,
                        "passed_time": 69.00900549,
                        "remaining_time": 50.20040898,
                        "test": [
                          25.25649136
                        ]
                      },
                      {
                        "learn": [
                          25.16822528
                        ],
                        "iteration": 521,
                        "passed_time": 69.11143193,
                        "remaining_time": 50.04620933,
                        "test": [
                          25.25648635
                        ]
                      },
                      {
                        "learn": [
                          25.16819957
                        ],
                        "iteration": 522,
                        "passed_time": 69.220377,
                        "remaining_time": 49.89690656,
                        "test": [
                          25.25648801
                        ]
                      },
                      {
                        "learn": [
                          25.16816186
                        ],
                        "iteration": 523,
                        "passed_time": 69.33029264,
                        "remaining_time": 49.74845426,
                        "test": [
                          25.25648881
                        ]
                      },
                      {
                        "learn": [
                          25.16812172
                        ],
                        "iteration": 524,
                        "passed_time": 69.4615374,
                        "remaining_time": 49.61538386,
                        "test": [
                          25.25647731
                        ]
                      },
                      {
                        "learn": [
                          25.16808008
                        ],
                        "iteration": 525,
                        "passed_time": 69.59819882,
                        "remaining_time": 49.48617179,
                        "test": [
                          25.25646654
                        ]
                      },
                      {
                        "learn": [
                          25.16804429
                        ],
                        "iteration": 526,
                        "passed_time": 69.70614277,
                        "remaining_time": 49.3366058,
                        "test": [
                          25.2564712
                        ]
                      },
                      {
                        "learn": [
                          25.16800204
                        ],
                        "iteration": 527,
                        "passed_time": 69.811049,
                        "remaining_time": 49.18505725,
                        "test": [
                          25.25646435
                        ]
                      },
                      {
                        "learn": [
                          25.1679676
                        ],
                        "iteration": 528,
                        "passed_time": 69.92227854,
                        "remaining_time": 49.03811973,
                        "test": [
                          25.25646797
                        ]
                      },
                      {
                        "learn": [
                          25.16793232
                        ],
                        "iteration": 529,
                        "passed_time": 70.02966174,
                        "remaining_time": 48.88863178,
                        "test": [
                          25.2564616
                        ]
                      },
                      {
                        "learn": [
                          25.16788943
                        ],
                        "iteration": 530,
                        "passed_time": 70.13413542,
                        "remaining_time": 48.73728055,
                        "test": [
                          25.25645798
                        ]
                      },
                      {
                        "learn": [
                          25.16785643
                        ],
                        "iteration": 531,
                        "passed_time": 70.24082687,
                        "remaining_time": 48.58763964,
                        "test": [
                          25.25646073
                        ]
                      },
                      {
                        "learn": [
                          25.16780745
                        ],
                        "iteration": 532,
                        "passed_time": 70.34883661,
                        "remaining_time": 48.43906761,
                        "test": [
                          25.25644743
                        ]
                      },
                      {
                        "learn": [
                          25.167778
                        ],
                        "iteration": 533,
                        "passed_time": 70.48322248,
                        "remaining_time": 48.30872552,
                        "test": [
                          25.25644982
                        ]
                      },
                      {
                        "learn": [
                          25.16774548
                        ],
                        "iteration": 534,
                        "passed_time": 70.60314156,
                        "remaining_time": 48.16849844,
                        "test": [
                          25.25644652
                        ]
                      },
                      {
                        "learn": [
                          25.16770731
                        ],
                        "iteration": 535,
                        "passed_time": 70.71960273,
                        "remaining_time": 48.02599887,
                        "test": [
                          25.25645264
                        ]
                      },
                      {
                        "learn": [
                          25.16765879
                        ],
                        "iteration": 536,
                        "passed_time": 70.82472512,
                        "remaining_time": 47.8759315,
                        "test": [
                          25.25643949
                        ]
                      },
                      {
                        "learn": [
                          25.16761554
                        ],
                        "iteration": 537,
                        "passed_time": 70.93426208,
                        "remaining_time": 47.72900162,
                        "test": [
                          25.25643932
                        ]
                      },
                      {
                        "learn": [
                          25.1675853
                        ],
                        "iteration": 538,
                        "passed_time": 71.03988531,
                        "remaining_time": 47.57958923,
                        "test": [
                          25.25642638
                        ]
                      },
                      {
                        "learn": [
                          25.16756002
                        ],
                        "iteration": 539,
                        "passed_time": 71.14514265,
                        "remaining_time": 47.4300951,
                        "test": [
                          25.25643287
                        ]
                      },
                      {
                        "learn": [
                          25.16751605
                        ],
                        "iteration": 540,
                        "passed_time": 71.25813885,
                        "remaining_time": 47.2858999,
                        "test": [
                          25.25642976
                        ]
                      },
                      {
                        "learn": [
                          25.16748389
                        ],
                        "iteration": 541,
                        "passed_time": 71.36227003,
                        "remaining_time": 47.13596434,
                        "test": [
                          25.25642422
                        ]
                      },
                      {
                        "learn": [
                          25.167458
                        ],
                        "iteration": 542,
                        "passed_time": 71.51059478,
                        "remaining_time": 47.01525292,
                        "test": [
                          25.2564299
                        ]
                      },
                      {
                        "learn": [
                          25.16740273
                        ],
                        "iteration": 543,
                        "passed_time": 71.64310764,
                        "remaining_time": 46.8840925,
                        "test": [
                          25.2564403
                        ]
                      },
                      {
                        "learn": [
                          25.16735993
                        ],
                        "iteration": 544,
                        "passed_time": 71.75525951,
                        "remaining_time": 46.73966445,
                        "test": [
                          25.25643785
                        ]
                      },
                      {
                        "learn": [
                          25.16732752
                        ],
                        "iteration": 545,
                        "passed_time": 71.86328813,
                        "remaining_time": 46.59268131,
                        "test": [
                          25.25644024
                        ]
                      },
                      {
                        "learn": [
                          25.16729033
                        ],
                        "iteration": 546,
                        "passed_time": 71.96879763,
                        "remaining_time": 46.44421492,
                        "test": [
                          25.25644309
                        ]
                      },
                      {
                        "learn": [
                          25.1672603
                        ],
                        "iteration": 547,
                        "passed_time": 72.07763962,
                        "remaining_time": 46.29804589,
                        "test": [
                          25.25644141
                        ]
                      },
                      {
                        "learn": [
                          25.16721769
                        ],
                        "iteration": 548,
                        "passed_time": 72.18504724,
                        "remaining_time": 46.15109578,
                        "test": [
                          25.25644839
                        ]
                      },
                      {
                        "learn": [
                          25.16717782
                        ],
                        "iteration": 549,
                        "passed_time": 72.29472082,
                        "remaining_time": 46.00573143,
                        "test": [
                          25.25643704
                        ]
                      },
                      {
                        "learn": [
                          25.16714203
                        ],
                        "iteration": 550,
                        "passed_time": 72.39812607,
                        "remaining_time": 45.85652631,
                        "test": [
                          25.25645677
                        ]
                      },
                      {
                        "learn": [
                          25.16711319
                        ],
                        "iteration": 551,
                        "passed_time": 72.53145973,
                        "remaining_time": 45.72635505,
                        "test": [
                          25.25646695
                        ]
                      },
                      {
                        "learn": [
                          25.16708543
                        ],
                        "iteration": 552,
                        "passed_time": 72.63381173,
                        "remaining_time": 45.57673177,
                        "test": [
                          25.25646887
                        ]
                      },
                      {
                        "learn": [
                          25.16704886
                        ],
                        "iteration": 553,
                        "passed_time": 72.7690327,
                        "remaining_time": 45.44780743,
                        "test": [
                          25.25646907
                        ]
                      },
                      {
                        "learn": [
                          25.16701111
                        ],
                        "iteration": 554,
                        "passed_time": 72.87934865,
                        "remaining_time": 45.30337889,
                        "test": [
                          25.25648852
                        ]
                      },
                      {
                        "learn": [
                          25.16698016
                        ],
                        "iteration": 555,
                        "passed_time": 72.9916459,
                        "remaining_time": 45.1602989,
                        "test": [
                          25.25648877
                        ]
                      },
                      {
                        "learn": [
                          25.16694584
                        ],
                        "iteration": 556,
                        "passed_time": 73.09674173,
                        "remaining_time": 45.01289482,
                        "test": [
                          25.25648997
                        ]
                      },
                      {
                        "learn": [
                          25.16691392
                        ],
                        "iteration": 557,
                        "passed_time": 73.19900344,
                        "remaining_time": 44.86390533,
                        "test": [
                          25.25648201
                        ]
                      },
                      {
                        "learn": [
                          25.16687981
                        ],
                        "iteration": 558,
                        "passed_time": 73.30107967,
                        "remaining_time": 44.71496989,
                        "test": [
                          25.2564895
                        ]
                      },
                      {
                        "learn": [
                          25.16684339
                        ],
                        "iteration": 559,
                        "passed_time": 73.41034524,
                        "remaining_time": 44.57056675,
                        "test": [
                          25.25648516
                        ]
                      },
                      {
                        "learn": [
                          25.16680611
                        ],
                        "iteration": 560,
                        "passed_time": 73.53432993,
                        "remaining_time": 44.43518333,
                        "test": [
                          25.25648734
                        ]
                      },
                      {
                        "learn": [
                          25.16677287
                        ],
                        "iteration": 561,
                        "passed_time": 73.64197749,
                        "remaining_time": 44.29001493,
                        "test": [
                          25.25648429
                        ]
                      },
                      {
                        "learn": [
                          25.16672247
                        ],
                        "iteration": 562,
                        "passed_time": 73.77360626,
                        "remaining_time": 44.15933448,
                        "test": [
                          25.25648048
                        ]
                      },
                      {
                        "learn": [
                          25.16668142
                        ],
                        "iteration": 563,
                        "passed_time": 73.88325747,
                        "remaining_time": 44.01555764,
                        "test": [
                          25.25647557
                        ]
                      },
                      {
                        "learn": [
                          25.16664964
                        ],
                        "iteration": 564,
                        "passed_time": 73.99204059,
                        "remaining_time": 43.8713869,
                        "test": [
                          25.25645396
                        ]
                      },
                      {
                        "learn": [
                          25.16660338
                        ],
                        "iteration": 565,
                        "passed_time": 74.10444911,
                        "remaining_time": 43.72948057,
                        "test": [
                          25.25644648
                        ]
                      },
                      {
                        "learn": [
                          25.16657138
                        ],
                        "iteration": 566,
                        "passed_time": 74.20835981,
                        "remaining_time": 43.58268751,
                        "test": [
                          25.25645507
                        ]
                      },
                      {
                        "learn": [
                          25.16652218
                        ],
                        "iteration": 567,
                        "passed_time": 74.31769021,
                        "remaining_time": 43.43921329,
                        "test": [
                          25.2564479
                        ]
                      },
                      {
                        "learn": [
                          25.16648393
                        ],
                        "iteration": 568,
                        "passed_time": 74.42186772,
                        "remaining_time": 43.29286154,
                        "test": [
                          25.25644595
                        ]
                      },
                      {
                        "learn": [
                          25.16644818
                        ],
                        "iteration": 569,
                        "passed_time": 74.55694967,
                        "remaining_time": 43.16454981,
                        "test": [
                          25.25646343
                        ]
                      },
                      {
                        "learn": [
                          25.166403
                        ],
                        "iteration": 570,
                        "passed_time": 74.66139396,
                        "remaining_time": 43.01856149,
                        "test": [
                          25.25647563
                        ]
                      },
                      {
                        "learn": [
                          25.16635919
                        ],
                        "iteration": 571,
                        "passed_time": 74.78773301,
                        "remaining_time": 42.88527348,
                        "test": [
                          25.25648804
                        ]
                      },
                      {
                        "learn": [
                          25.1663289
                        ],
                        "iteration": 572,
                        "passed_time": 74.89838778,
                        "remaining_time": 42.74305899,
                        "test": [
                          25.2564822
                        ]
                      },
                      {
                        "learn": [
                          25.16629707
                        ],
                        "iteration": 573,
                        "passed_time": 74.99742879,
                        "remaining_time": 42.59435851,
                        "test": [
                          25.25648121
                        ]
                      },
                      {
                        "learn": [
                          25.1662554
                        ],
                        "iteration": 574,
                        "passed_time": 75.10537288,
                        "remaining_time": 42.45086293,
                        "test": [
                          25.25648274
                        ]
                      },
                      {
                        "learn": [
                          25.16622017
                        ],
                        "iteration": 575,
                        "passed_time": 75.21089192,
                        "remaining_time": 42.30612671,
                        "test": [
                          25.25648808
                        ]
                      },
                      {
                        "learn": [
                          25.166177
                        ],
                        "iteration": 576,
                        "passed_time": 75.31686888,
                        "remaining_time": 42.16178275,
                        "test": [
                          25.25648849
                        ]
                      },
                      {
                        "learn": [
                          25.16614804
                        ],
                        "iteration": 577,
                        "passed_time": 75.42691824,
                        "remaining_time": 42.01984026,
                        "test": [
                          25.25650003
                        ]
                      },
                      {
                        "learn": [
                          25.16611416
                        ],
                        "iteration": 578,
                        "passed_time": 75.55408122,
                        "remaining_time": 41.88749581,
                        "test": [
                          25.25651007
                        ]
                      },
                      {
                        "learn": [
                          25.16608542
                        ],
                        "iteration": 579,
                        "passed_time": 75.70975422,
                        "remaining_time": 41.77089888,
                        "test": [
                          25.25651536
                        ]
                      },
                      {
                        "learn": [
                          25.16605601
                        ],
                        "iteration": 580,
                        "passed_time": 75.92690036,
                        "remaining_time": 41.68791948,
                        "test": [
                          25.25651483
                        ]
                      },
                      {
                        "learn": [
                          25.16601512
                        ],
                        "iteration": 581,
                        "passed_time": 76.16440153,
                        "remaining_time": 41.61560084,
                        "test": [
                          25.25651068
                        ]
                      },
                      {
                        "learn": [
                          25.16598102
                        ],
                        "iteration": 582,
                        "passed_time": 76.38635183,
                        "remaining_time": 41.53425991,
                        "test": [
                          25.25650147
                        ]
                      },
                      {
                        "learn": [
                          25.16594774
                        ],
                        "iteration": 583,
                        "passed_time": 76.65194198,
                        "remaining_time": 41.4760508,
                        "test": [
                          25.25650688
                        ]
                      },
                      {
                        "learn": [
                          25.16591012
                        ],
                        "iteration": 584,
                        "passed_time": 76.881151,
                        "remaining_time": 41.39754285,
                        "test": [
                          25.25650118
                        ]
                      },
                      {
                        "learn": [
                          25.16588302
                        ],
                        "iteration": 585,
                        "passed_time": 77.07718316,
                        "remaining_time": 41.3007432,
                        "test": [
                          25.25649007
                        ]
                      },
                      {
                        "learn": [
                          25.16582549
                        ],
                        "iteration": 586,
                        "passed_time": 77.28765369,
                        "remaining_time": 41.21130427,
                        "test": [
                          25.25649043
                        ]
                      },
                      {
                        "learn": [
                          25.16579721
                        ],
                        "iteration": 587,
                        "passed_time": 77.54450941,
                        "remaining_time": 41.14606622,
                        "test": [
                          25.25648066
                        ]
                      },
                      {
                        "learn": [
                          25.16576222
                        ],
                        "iteration": 588,
                        "passed_time": 77.79108569,
                        "remaining_time": 41.07474983,
                        "test": [
                          25.25647738
                        ]
                      },
                      {
                        "learn": [
                          25.16573151
                        ],
                        "iteration": 589,
                        "passed_time": 78.03962209,
                        "remaining_time": 41.00386923,
                        "test": [
                          25.2564839
                        ]
                      },
                      {
                        "learn": [
                          25.16569793
                        ],
                        "iteration": 590,
                        "passed_time": 78.25592585,
                        "remaining_time": 40.91553483,
                        "test": [
                          25.25649166
                        ]
                      },
                      {
                        "learn": [
                          25.16566129
                        ],
                        "iteration": 591,
                        "passed_time": 78.4772647,
                        "remaining_time": 40.82938771,
                        "test": [
                          25.25650042
                        ]
                      },
                      {
                        "learn": [
                          25.16561062
                        ],
                        "iteration": 592,
                        "passed_time": 78.72594266,
                        "remaining_time": 40.75693827,
                        "test": [
                          25.25649235
                        ]
                      },
                      {
                        "learn": [
                          25.16558577
                        ],
                        "iteration": 593,
                        "passed_time": 78.94131029,
                        "remaining_time": 40.6667356,
                        "test": [
                          25.2564926
                        ]
                      },
                      {
                        "learn": [
                          25.16554641
                        ],
                        "iteration": 594,
                        "passed_time": 79.17805681,
                        "remaining_time": 40.58707114,
                        "test": [
                          25.25649178
                        ]
                      },
                      {
                        "learn": [
                          25.16550892
                        ],
                        "iteration": 595,
                        "passed_time": 79.37985043,
                        "remaining_time": 40.48905123,
                        "test": [
                          25.25649132
                        ]
                      },
                      {
                        "learn": [
                          25.1654632
                        ],
                        "iteration": 596,
                        "passed_time": 79.55449134,
                        "remaining_time": 40.37690264,
                        "test": [
                          25.25650303
                        ]
                      },
                      {
                        "learn": [
                          25.16543339
                        ],
                        "iteration": 597,
                        "passed_time": 79.6823216,
                        "remaining_time": 40.24090489,
                        "test": [
                          25.25650872
                        ]
                      },
                      {
                        "learn": [
                          25.16539349
                        ],
                        "iteration": 598,
                        "passed_time": 79.78434317,
                        "remaining_time": 40.09196543,
                        "test": [
                          25.25650294
                        ]
                      },
                      {
                        "learn": [
                          25.16536256
                        ],
                        "iteration": 599,
                        "passed_time": 79.89039353,
                        "remaining_time": 39.94519676,
                        "test": [
                          25.25650838
                        ]
                      },
                      {
                        "learn": [
                          25.16533483
                        ],
                        "iteration": 600,
                        "passed_time": 79.99851848,
                        "remaining_time": 39.79959572,
                        "test": [
                          25.25651107
                        ]
                      },
                      {
                        "learn": [
                          25.16529746
                        ],
                        "iteration": 601,
                        "passed_time": 80.11295513,
                        "remaining_time": 39.65724357,
                        "test": [
                          25.25651137
                        ]
                      },
                      {
                        "learn": [
                          25.1652686
                        ],
                        "iteration": 602,
                        "passed_time": 80.24700485,
                        "remaining_time": 39.52464418,
                        "test": [
                          25.25650903
                        ]
                      },
                      {
                        "learn": [
                          25.16523099
                        ],
                        "iteration": 603,
                        "passed_time": 80.35607978,
                        "remaining_time": 39.37980069,
                        "test": [
                          25.25650748
                        ]
                      },
                      {
                        "learn": [
                          25.16519825
                        ],
                        "iteration": 604,
                        "passed_time": 80.46571048,
                        "remaining_time": 39.23534643,
                        "test": [
                          25.25649932
                        ]
                      },
                      {
                        "learn": [
                          25.16517486
                        ],
                        "iteration": 605,
                        "passed_time": 80.58048796,
                        "remaining_time": 39.09350406,
                        "test": [
                          25.25649617
                        ]
                      },
                      {
                        "learn": [
                          25.16513456
                        ],
                        "iteration": 606,
                        "passed_time": 80.70476502,
                        "remaining_time": 38.95633633,
                        "test": [
                          25.25650694
                        ]
                      },
                      {
                        "learn": [
                          25.16510914
                        ],
                        "iteration": 607,
                        "passed_time": 80.81864646,
                        "remaining_time": 38.81421837,
                        "test": [
                          25.2565027
                        ]
                      },
                      {
                        "learn": [
                          25.16508295
                        ],
                        "iteration": 608,
                        "passed_time": 80.9240812,
                        "remaining_time": 38.66815703,
                        "test": [
                          25.25649959
                        ]
                      },
                      {
                        "learn": [
                          25.16506107
                        ],
                        "iteration": 609,
                        "passed_time": 81.03097324,
                        "remaining_time": 38.5229217,
                        "test": [
                          25.25650077
                        ]
                      },
                      {
                        "learn": [
                          25.16502912
                        ],
                        "iteration": 610,
                        "passed_time": 81.13697956,
                        "remaining_time": 38.37739295,
                        "test": [
                          25.25649541
                        ]
                      },
                      {
                        "learn": [
                          25.16499006
                        ],
                        "iteration": 611,
                        "passed_time": 81.26470002,
                        "remaining_time": 38.24221177,
                        "test": [
                          25.25649356
                        ]
                      },
                      {
                        "learn": [
                          25.16495906
                        ],
                        "iteration": 612,
                        "passed_time": 81.37674715,
                        "remaining_time": 38.09971686,
                        "test": [
                          25.25649625
                        ]
                      },
                      {
                        "learn": [
                          25.16492482
                        ],
                        "iteration": 613,
                        "passed_time": 81.4952245,
                        "remaining_time": 37.9603163,
                        "test": [
                          25.25650504
                        ]
                      },
                      {
                        "learn": [
                          25.16489083
                        ],
                        "iteration": 614,
                        "passed_time": 81.60296593,
                        "remaining_time": 37.8160086,
                        "test": [
                          25.25650988
                        ]
                      },
                      {
                        "learn": [
                          25.16485574
                        ],
                        "iteration": 615,
                        "passed_time": 81.73289162,
                        "remaining_time": 37.68204744,
                        "test": [
                          25.25651836
                        ]
                      },
                      {
                        "learn": [
                          25.16481828
                        ],
                        "iteration": 616,
                        "passed_time": 81.8343942,
                        "remaining_time": 37.53506249,
                        "test": [
                          25.25650451
                        ]
                      },
                      {
                        "learn": [
                          25.16479649
                        ],
                        "iteration": 617,
                        "passed_time": 81.94227238,
                        "remaining_time": 37.391134,
                        "test": [
                          25.25649816
                        ]
                      },
                      {
                        "learn": [
                          25.16475233
                        ],
                        "iteration": 618,
                        "passed_time": 82.05015706,
                        "remaining_time": 37.24732493,
                        "test": [
                          25.25646714
                        ]
                      },
                      {
                        "learn": [
                          25.16471975
                        ],
                        "iteration": 619,
                        "passed_time": 82.15401874,
                        "remaining_time": 37.10181492,
                        "test": [
                          25.25648609
                        ]
                      },
                      {
                        "learn": [
                          25.16467882
                        ],
                        "iteration": 620,
                        "passed_time": 82.27845334,
                        "remaining_time": 36.96568194,
                        "test": [
                          25.25649242
                        ]
                      },
                      {
                        "learn": [
                          25.16464147
                        ],
                        "iteration": 621,
                        "passed_time": 82.38122342,
                        "remaining_time": 36.81990371,
                        "test": [
                          25.25650077
                        ]
                      },
                      {
                        "learn": [
                          25.16460984
                        ],
                        "iteration": 622,
                        "passed_time": 82.48308637,
                        "remaining_time": 36.67386023,
                        "test": [
                          25.2565035
                        ]
                      },
                      {
                        "learn": [
                          25.16456865
                        ],
                        "iteration": 623,
                        "passed_time": 82.58811506,
                        "remaining_time": 36.52935859,
                        "test": [
                          25.25649991
                        ]
                      },
                      {
                        "learn": [
                          25.16454572
                        ],
                        "iteration": 624,
                        "passed_time": 82.71849076,
                        "remaining_time": 36.39613593,
                        "test": [
                          25.2564945
                        ]
                      },
                      {
                        "learn": [
                          25.16450051
                        ],
                        "iteration": 625,
                        "passed_time": 82.82546225,
                        "remaining_time": 36.25267837,
                        "test": [
                          25.2565018
                        ]
                      },
                      {
                        "learn": [
                          25.16446501
                        ],
                        "iteration": 626,
                        "passed_time": 82.9420784,
                        "remaining_time": 36.11353653,
                        "test": [
                          25.2565013
                        ]
                      },
                      {
                        "learn": [
                          25.16443339
                        ],
                        "iteration": 627,
                        "passed_time": 83.05291852,
                        "remaining_time": 35.97196471,
                        "test": [
                          25.25650103
                        ]
                      },
                      {
                        "learn": [
                          25.16439271
                        ],
                        "iteration": 628,
                        "passed_time": 83.16208847,
                        "remaining_time": 35.82977103,
                        "test": [
                          25.25649605
                        ]
                      },
                      {
                        "learn": [
                          25.16434126
                        ],
                        "iteration": 629,
                        "passed_time": 83.26537142,
                        "remaining_time": 35.68515918,
                        "test": [
                          25.25648497
                        ]
                      },
                      {
                        "learn": [
                          25.16431138
                        ],
                        "iteration": 630,
                        "passed_time": 83.38987483,
                        "remaining_time": 35.54972477,
                        "test": [
                          25.25647859
                        ]
                      },
                      {
                        "learn": [
                          25.16427282
                        ],
                        "iteration": 631,
                        "passed_time": 83.49882502,
                        "remaining_time": 35.4077296,
                        "test": [
                          25.25649617
                        ]
                      },
                      {
                        "learn": [
                          25.16424768
                        ],
                        "iteration": 632,
                        "passed_time": 83.60615621,
                        "remaining_time": 35.26515594,
                        "test": [
                          25.25649639
                        ]
                      },
                      {
                        "learn": [
                          25.16421925
                        ],
                        "iteration": 633,
                        "passed_time": 83.7337199,
                        "remaining_time": 35.13118217,
                        "test": [
                          25.25649659
                        ]
                      },
                      {
                        "learn": [
                          25.16418479
                        ],
                        "iteration": 634,
                        "passed_time": 83.84403404,
                        "remaining_time": 34.99002995,
                        "test": [
                          25.25648975
                        ]
                      },
                      {
                        "learn": [
                          25.16415271
                        ],
                        "iteration": 635,
                        "passed_time": 83.95365861,
                        "remaining_time": 34.84868848,
                        "test": [
                          25.25650524
                        ]
                      },
                      {
                        "learn": [
                          25.16411136
                        ],
                        "iteration": 636,
                        "passed_time": 84.06377402,
                        "remaining_time": 34.70764924,
                        "test": [
                          25.25651406
                        ]
                      },
                      {
                        "learn": [
                          25.16407518
                        ],
                        "iteration": 637,
                        "passed_time": 84.16600303,
                        "remaining_time": 34.56346833,
                        "test": [
                          25.25653046
                        ]
                      },
                      {
                        "learn": [
                          25.1640394
                        ],
                        "iteration": 638,
                        "passed_time": 84.27039383,
                        "remaining_time": 34.4203017,
                        "test": [
                          25.25653632
                        ]
                      },
                      {
                        "learn": [
                          25.16400262
                        ],
                        "iteration": 639,
                        "passed_time": 84.39299722,
                        "remaining_time": 34.28465512,
                        "test": [
                          25.25654866
                        ]
                      },
                      {
                        "learn": [
                          25.16397405
                        ],
                        "iteration": 640,
                        "passed_time": 84.50110214,
                        "remaining_time": 34.14319104,
                        "test": [
                          25.25654481
                        ]
                      },
                      {
                        "learn": [
                          25.16394223
                        ],
                        "iteration": 641,
                        "passed_time": 84.61160207,
                        "remaining_time": 34.00279336,
                        "test": [
                          25.25654562
                        ]
                      },
                      {
                        "learn": [
                          25.1639185
                        ],
                        "iteration": 642,
                        "passed_time": 84.71535617,
                        "remaining_time": 33.85979244,
                        "test": [
                          25.25655026
                        ]
                      },
                      {
                        "learn": [
                          25.16388118
                        ],
                        "iteration": 643,
                        "passed_time": 84.83547247,
                        "remaining_time": 33.72341763,
                        "test": [
                          25.25656169
                        ]
                      },
                      {
                        "learn": [
                          25.16385003
                        ],
                        "iteration": 644,
                        "passed_time": 84.94686942,
                        "remaining_time": 33.58364605,
                        "test": [
                          25.25656675
                        ]
                      },
                      {
                        "learn": [
                          25.16381361
                        ],
                        "iteration": 645,
                        "passed_time": 85.058752,
                        "remaining_time": 33.44415326,
                        "test": [
                          25.25657654
                        ]
                      },
                      {
                        "learn": [
                          25.16377808
                        ],
                        "iteration": 646,
                        "passed_time": 85.45208897,
                        "remaining_time": 33.4148045,
                        "test": [
                          25.25657975
                        ]
                      },
                      {
                        "learn": [
                          25.16373088
                        ],
                        "iteration": 647,
                        "passed_time": 85.67397528,
                        "remaining_time": 33.31765705,
                        "test": [
                          25.25657925
                        ]
                      },
                      {
                        "learn": [
                          25.16368714
                        ],
                        "iteration": 648,
                        "passed_time": 85.80082899,
                        "remaining_time": 33.18337146,
                        "test": [
                          25.25656783
                        ]
                      },
                      {
                        "learn": [
                          25.163651
                        ],
                        "iteration": 649,
                        "passed_time": 85.90681609,
                        "remaining_time": 33.04108311,
                        "test": [
                          25.25656865
                        ]
                      },
                      {
                        "learn": [
                          25.16360834
                        ],
                        "iteration": 650,
                        "passed_time": 86.00988706,
                        "remaining_time": 32.8977909,
                        "test": [
                          25.25656119
                        ]
                      },
                      {
                        "learn": [
                          25.16357135
                        ],
                        "iteration": 651,
                        "passed_time": 86.11858911,
                        "remaining_time": 32.75676395,
                        "test": [
                          25.25656133
                        ]
                      },
                      {
                        "learn": [
                          25.16352788
                        ],
                        "iteration": 652,
                        "passed_time": 86.23287897,
                        "remaining_time": 32.61794963,
                        "test": [
                          25.25655406
                        ]
                      },
                      {
                        "learn": [
                          25.16349936
                        ],
                        "iteration": 653,
                        "passed_time": 86.34439063,
                        "remaining_time": 32.47816528,
                        "test": [
                          25.25656424
                        ]
                      },
                      {
                        "learn": [
                          25.1634616
                        ],
                        "iteration": 654,
                        "passed_time": 86.46849835,
                        "remaining_time": 32.34317877,
                        "test": [
                          25.25655596
                        ]
                      },
                      {
                        "learn": [
                          25.16342067
                        ],
                        "iteration": 655,
                        "passed_time": 86.5850897,
                        "remaining_time": 32.20542971,
                        "test": [
                          25.25656367
                        ]
                      },
                      {
                        "learn": [
                          25.16339371
                        ],
                        "iteration": 656,
                        "passed_time": 86.68652416,
                        "remaining_time": 32.06213907,
                        "test": [
                          25.25656543
                        ]
                      },
                      {
                        "learn": [
                          25.16335736
                        ],
                        "iteration": 657,
                        "passed_time": 86.82439433,
                        "remaining_time": 31.93237603,
                        "test": [
                          25.25657023
                        ]
                      },
                      {
                        "learn": [
                          25.16332053
                        ],
                        "iteration": 658,
                        "passed_time": 86.92961277,
                        "remaining_time": 31.79064746,
                        "test": [
                          25.25657471
                        ]
                      },
                      {
                        "learn": [
                          25.16326564
                        ],
                        "iteration": 659,
                        "passed_time": 87.03857954,
                        "remaining_time": 31.65039256,
                        "test": [
                          25.25657325
                        ]
                      },
                      {
                        "learn": [
                          25.16323945
                        ],
                        "iteration": 660,
                        "passed_time": 87.14959791,
                        "remaining_time": 31.51097413,
                        "test": [
                          25.25657955
                        ]
                      },
                      {
                        "learn": [
                          25.16319781
                        ],
                        "iteration": 661,
                        "passed_time": 87.25961158,
                        "remaining_time": 31.3712803,
                        "test": [
                          25.25658024
                        ]
                      },
                      {
                        "learn": [
                          25.16316959
                        ],
                        "iteration": 662,
                        "passed_time": 87.36925549,
                        "remaining_time": 31.23154382,
                        "test": [
                          25.25658951
                        ]
                      },
                      {
                        "learn": [
                          25.1631455
                        ],
                        "iteration": 663,
                        "passed_time": 87.47393475,
                        "remaining_time": 31.09013344,
                        "test": [
                          25.25659543
                        ]
                      },
                      {
                        "learn": [
                          25.16311096
                        ],
                        "iteration": 664,
                        "passed_time": 87.6028204,
                        "remaining_time": 30.95738766,
                        "test": [
                          25.25658573
                        ]
                      },
                      {
                        "learn": [
                          25.16308019
                        ],
                        "iteration": 665,
                        "passed_time": 87.70940745,
                        "remaining_time": 30.81681883,
                        "test": [
                          25.25658649
                        ]
                      },
                      {
                        "learn": [
                          25.16305019
                        ],
                        "iteration": 666,
                        "passed_time": 87.84342194,
                        "remaining_time": 30.685933,
                        "test": [
                          25.25660327
                        ]
                      },
                      {
                        "learn": [
                          25.16301458
                        ],
                        "iteration": 667,
                        "passed_time": 87.95232323,
                        "remaining_time": 30.54631585,
                        "test": [
                          25.25660441
                        ]
                      },
                      {
                        "learn": [
                          25.16297846
                        ],
                        "iteration": 668,
                        "passed_time": 88.0633341,
                        "remaining_time": 30.40751895,
                        "test": [
                          25.25660525
                        ]
                      },
                      {
                        "learn": [
                          25.16294125
                        ],
                        "iteration": 669,
                        "passed_time": 88.17481753,
                        "remaining_time": 30.26896721,
                        "test": [
                          25.25661426
                        ]
                      },
                      {
                        "learn": [
                          25.1629093
                        ],
                        "iteration": 670,
                        "passed_time": 88.28188649,
                        "remaining_time": 30.12898958,
                        "test": [
                          25.25661322
                        ]
                      },
                      {
                        "learn": [
                          25.16287199
                        ],
                        "iteration": 671,
                        "passed_time": 88.38734098,
                        "remaining_time": 29.98856212,
                        "test": [
                          25.25662491
                        ]
                      },
                      {
                        "learn": [
                          25.16284614
                        ],
                        "iteration": 672,
                        "passed_time": 88.50115563,
                        "remaining_time": 29.85105844,
                        "test": [
                          25.2566271
                        ]
                      },
                      {
                        "learn": [
                          25.16281152
                        ],
                        "iteration": 673,
                        "passed_time": 88.63414393,
                        "remaining_time": 29.7200542,
                        "test": [
                          25.25663661
                        ]
                      },
                      {
                        "learn": [
                          25.16278375
                        ],
                        "iteration": 674,
                        "passed_time": 88.74275658,
                        "remaining_time": 29.58091886,
                        "test": [
                          25.25662894
                        ]
                      },
                      {
                        "learn": [
                          25.16273801
                        ],
                        "iteration": 675,
                        "passed_time": 88.86070019,
                        "remaining_time": 29.44496574,
                        "test": [
                          25.25664359
                        ]
                      },
                      {
                        "learn": [
                          25.16270084
                        ],
                        "iteration": 676,
                        "passed_time": 88.96492216,
                        "remaining_time": 29.304546,
                        "test": [
                          25.25664845
                        ]
                      },
                      {
                        "learn": [
                          25.162672
                        ],
                        "iteration": 677,
                        "passed_time": 89.06908271,
                        "remaining_time": 29.16421292,
                        "test": [
                          25.25664713
                        ]
                      },
                      {
                        "learn": [
                          25.16262672
                        ],
                        "iteration": 678,
                        "passed_time": 89.17244044,
                        "remaining_time": 29.02372509,
                        "test": [
                          25.25664669
                        ]
                      },
                      {
                        "learn": [
                          25.16258964
                        ],
                        "iteration": 679,
                        "passed_time": 89.2875043,
                        "remaining_time": 28.88713374,
                        "test": [
                          25.256645
                        ]
                      },
                      {
                        "learn": [
                          25.1625539
                        ],
                        "iteration": 680,
                        "passed_time": 89.39737349,
                        "remaining_time": 28.74893509,
                        "test": [
                          25.25664584
                        ]
                      },
                      {
                        "learn": [
                          25.16251798
                        ],
                        "iteration": 681,
                        "passed_time": 89.51448334,
                        "remaining_time": 28.61313397,
                        "test": [
                          25.25665452
                        ]
                      },
                      {
                        "learn": [
                          25.16248434
                        ],
                        "iteration": 682,
                        "passed_time": 89.71964975,
                        "remaining_time": 28.50536456,
                        "test": [
                          25.25664597
                        ]
                      },
                      {
                        "learn": [
                          25.1624531
                        ],
                        "iteration": 683,
                        "passed_time": 89.92370354,
                        "remaining_time": 28.39695901,
                        "test": [
                          25.25665903
                        ]
                      },
                      {
                        "learn": [
                          25.16241759
                        ],
                        "iteration": 684,
                        "passed_time": 90.15842792,
                        "remaining_time": 28.29790073,
                        "test": [
                          25.25666842
                        ]
                      },
                      {
                        "learn": [
                          25.16238156
                        ],
                        "iteration": 685,
                        "passed_time": 90.40138165,
                        "remaining_time": 28.2010141,
                        "test": [
                          25.25666631
                        ]
                      },
                      {
                        "learn": [
                          25.16235699
                        ],
                        "iteration": 686,
                        "passed_time": 90.63796452,
                        "remaining_time": 28.10172699,
                        "test": [
                          25.25665972
                        ]
                      },
                      {
                        "learn": [
                          25.16231771
                        ],
                        "iteration": 687,
                        "passed_time": 90.99314771,
                        "remaining_time": 28.03858621,
                        "test": [
                          25.2566648
                        ]
                      },
                      {
                        "learn": [
                          25.16228933
                        ],
                        "iteration": 688,
                        "passed_time": 91.25772228,
                        "remaining_time": 27.94684964,
                        "test": [
                          25.25666013
                        ]
                      },
                      {
                        "learn": [
                          25.16225176
                        ],
                        "iteration": 689,
                        "passed_time": 91.48522469,
                        "remaining_time": 27.84332925,
                        "test": [
                          25.25666459
                        ]
                      },
                      {
                        "learn": [
                          25.16221411
                        ],
                        "iteration": 690,
                        "passed_time": 91.7331145,
                        "remaining_time": 27.7456164,
                        "test": [
                          25.25666453
                        ]
                      },
                      {
                        "learn": [
                          25.16217606
                        ],
                        "iteration": 691,
                        "passed_time": 91.96360363,
                        "remaining_time": 27.64223924,
                        "test": [
                          25.25666615
                        ]
                      },
                      {
                        "learn": [
                          25.16214254
                        ],
                        "iteration": 692,
                        "passed_time": 92.20375469,
                        "remaining_time": 27.54138127,
                        "test": [
                          25.25666131
                        ]
                      },
                      {
                        "learn": [
                          25.16211227
                        ],
                        "iteration": 693,
                        "passed_time": 92.44240826,
                        "remaining_time": 27.43967738,
                        "test": [
                          25.25666941
                        ]
                      },
                      {
                        "learn": [
                          25.16207143
                        ],
                        "iteration": 694,
                        "passed_time": 92.66919578,
                        "remaining_time": 27.33407933,
                        "test": [
                          25.25667143
                        ]
                      },
                      {
                        "learn": [
                          25.16204393
                        ],
                        "iteration": 695,
                        "passed_time": 92.90018715,
                        "remaining_time": 27.2293652,
                        "test": [
                          25.2566739
                        ]
                      },
                      {
                        "learn": [
                          25.16201362
                        ],
                        "iteration": 696,
                        "passed_time": 93.16437766,
                        "remaining_time": 27.13395791,
                        "test": [
                          25.25667619
                        ]
                      },
                      {
                        "learn": [
                          25.16196884
                        ],
                        "iteration": 697,
                        "passed_time": 93.39902479,
                        "remaining_time": 27.0295172,
                        "test": [
                          25.25666317
                        ]
                      },
                      {
                        "learn": [
                          25.16193143
                        ],
                        "iteration": 698,
                        "passed_time": 93.53934579,
                        "remaining_time": 26.89758012,
                        "test": [
                          25.25666207
                        ]
                      },
                      {
                        "learn": [
                          25.1618871
                        ],
                        "iteration": 699,
                        "passed_time": 93.64573045,
                        "remaining_time": 26.75592299,
                        "test": [
                          25.2566543
                        ]
                      },
                      {
                        "learn": [
                          25.16185077
                        ],
                        "iteration": 700,
                        "passed_time": 93.75206066,
                        "remaining_time": 26.61435103,
                        "test": [
                          25.25664766
                        ]
                      },
                      {
                        "learn": [
                          25.16181091
                        ],
                        "iteration": 701,
                        "passed_time": 93.86557822,
                        "remaining_time": 26.47490668,
                        "test": [
                          25.25664538
                        ]
                      },
                      {
                        "learn": [
                          25.16177067
                        ],
                        "iteration": 702,
                        "passed_time": 93.99679969,
                        "remaining_time": 26.34049721,
                        "test": [
                          25.25662997
                        ]
                      },
                      {
                        "learn": [
                          25.16174827
                        ],
                        "iteration": 703,
                        "passed_time": 94.10238882,
                        "remaining_time": 26.19896052,
                        "test": [
                          25.25662723
                        ]
                      },
                      {
                        "learn": [
                          25.1617148
                        ],
                        "iteration": 704,
                        "passed_time": 94.24580007,
                        "remaining_time": 26.06798725,
                        "test": [
                          25.25663358
                        ]
                      },
                      {
                        "learn": [
                          25.16168931
                        ],
                        "iteration": 705,
                        "passed_time": 94.35331911,
                        "remaining_time": 25.92711602,
                        "test": [
                          25.25664068
                        ]
                      },
                      {
                        "learn": [
                          25.16166494
                        ],
                        "iteration": 706,
                        "passed_time": 94.46865651,
                        "remaining_time": 25.78847342,
                        "test": [
                          25.25662721
                        ]
                      },
                      {
                        "learn": [
                          25.16163108
                        ],
                        "iteration": 707,
                        "passed_time": 94.58175658,
                        "remaining_time": 25.64928992,
                        "test": [
                          25.25664226
                        ]
                      },
                      {
                        "learn": [
                          25.16160633
                        ],
                        "iteration": 708,
                        "passed_time": 94.68803857,
                        "remaining_time": 25.50834325,
                        "test": [
                          25.25663358
                        ]
                      },
                      {
                        "learn": [
                          25.16157058
                        ],
                        "iteration": 709,
                        "passed_time": 94.79358139,
                        "remaining_time": 25.36729643,
                        "test": [
                          25.25661828
                        ]
                      },
                      {
                        "learn": [
                          25.16152991
                        ],
                        "iteration": 710,
                        "passed_time": 94.90071056,
                        "remaining_time": 25.22677116,
                        "test": [
                          25.25662302
                        ]
                      },
                      {
                        "learn": [
                          25.16150137
                        ],
                        "iteration": 711,
                        "passed_time": 95.02401641,
                        "remaining_time": 25.09061108,
                        "test": [
                          25.2566175
                        ]
                      },
                      {
                        "learn": [
                          25.16146722
                        ],
                        "iteration": 712,
                        "passed_time": 95.13965836,
                        "remaining_time": 24.95247702,
                        "test": [
                          25.25661119
                        ]
                      },
                      {
                        "learn": [
                          25.16143196
                        ],
                        "iteration": 713,
                        "passed_time": 95.26666959,
                        "remaining_time": 24.81736771,
                        "test": [
                          25.25661015
                        ]
                      },
                      {
                        "learn": [
                          25.16139147
                        ],
                        "iteration": 714,
                        "passed_time": 95.37051857,
                        "remaining_time": 24.67628802,
                        "test": [
                          25.25662523
                        ]
                      },
                      {
                        "learn": [
                          25.16135767
                        ],
                        "iteration": 715,
                        "passed_time": 95.47591847,
                        "remaining_time": 24.53571089,
                        "test": [
                          25.25662698
                        ]
                      },
                      {
                        "learn": [
                          25.16133815
                        ],
                        "iteration": 716,
                        "passed_time": 95.58411261,
                        "remaining_time": 24.39594506,
                        "test": [
                          25.25662789
                        ]
                      },
                      {
                        "learn": [
                          25.16130896
                        ],
                        "iteration": 717,
                        "passed_time": 95.69521987,
                        "remaining_time": 24.25700559,
                        "test": [
                          25.2566319
                        ]
                      },
                      {
                        "learn": [
                          25.16126761
                        ],
                        "iteration": 718,
                        "passed_time": 95.80263426,
                        "remaining_time": 24.11721391,
                        "test": [
                          25.2566343
                        ]
                      },
                      {
                        "learn": [
                          25.16123725
                        ],
                        "iteration": 719,
                        "passed_time": 95.9056848,
                        "remaining_time": 23.9764212,
                        "test": [
                          25.25664027
                        ]
                      },
                      {
                        "learn": [
                          25.16119981
                        ],
                        "iteration": 720,
                        "passed_time": 96.00947204,
                        "remaining_time": 23.83591608,
                        "test": [
                          25.25663967
                        ]
                      },
                      {
                        "learn": [
                          25.16116417
                        ],
                        "iteration": 721,
                        "passed_time": 96.13552032,
                        "remaining_time": 23.70100086,
                        "test": [
                          25.25664634
                        ]
                      },
                      {
                        "learn": [
                          25.16112524
                        ],
                        "iteration": 722,
                        "passed_time": 96.27441262,
                        "remaining_time": 23.56925454,
                        "test": [
                          25.2566477
                        ]
                      },
                      {
                        "learn": [
                          25.16108714
                        ],
                        "iteration": 723,
                        "passed_time": 96.38658518,
                        "remaining_time": 23.43099308,
                        "test": [
                          25.25663946
                        ]
                      },
                      {
                        "learn": [
                          25.16106036
                        ],
                        "iteration": 724,
                        "passed_time": 96.50692604,
                        "remaining_time": 23.29477525,
                        "test": [
                          25.25664337
                        ]
                      },
                      {
                        "learn": [
                          25.1610291
                        ],
                        "iteration": 725,
                        "passed_time": 96.6148414,
                        "remaining_time": 23.15562315,
                        "test": [
                          25.25663939
                        ]
                      },
                      {
                        "learn": [
                          25.16098969
                        ],
                        "iteration": 726,
                        "passed_time": 96.72428093,
                        "remaining_time": 23.01691967,
                        "test": [
                          25.25662791
                        ]
                      },
                      {
                        "learn": [
                          25.16096107
                        ],
                        "iteration": 727,
                        "passed_time": 96.83090364,
                        "remaining_time": 22.87763108,
                        "test": [
                          25.25662228
                        ]
                      },
                      {
                        "learn": [
                          25.16093141
                        ],
                        "iteration": 728,
                        "passed_time": 96.9348665,
                        "remaining_time": 22.73780819,
                        "test": [
                          25.25662846
                        ]
                      },
                      {
                        "learn": [
                          25.16090065
                        ],
                        "iteration": 729,
                        "passed_time": 97.04683931,
                        "remaining_time": 22.59994888,
                        "test": [
                          25.25662281
                        ]
                      },
                      {
                        "learn": [
                          25.16086468
                        ],
                        "iteration": 730,
                        "passed_time": 97.18796057,
                        "remaining_time": 22.46889923,
                        "test": [
                          25.25661223
                        ]
                      },
                      {
                        "learn": [
                          25.1608337
                        ],
                        "iteration": 731,
                        "passed_time": 97.34924128,
                        "remaining_time": 22.34244882,
                        "test": [
                          25.25660114
                        ]
                      },
                      {
                        "learn": [
                          25.16079683
                        ],
                        "iteration": 732,
                        "passed_time": 97.46384726,
                        "remaining_time": 22.20526943,
                        "test": [
                          25.25660441
                        ]
                      },
                      {
                        "learn": [
                          25.16076184
                        ],
                        "iteration": 733,
                        "passed_time": 97.57025574,
                        "remaining_time": 22.06629762,
                        "test": [
                          25.25660811
                        ]
                      },
                      {
                        "learn": [
                          25.16073002
                        ],
                        "iteration": 734,
                        "passed_time": 97.6802133,
                        "remaining_time": 21.92821115,
                        "test": [
                          25.25661615
                        ]
                      },
                      {
                        "learn": [
                          25.16069632
                        ],
                        "iteration": 735,
                        "passed_time": 97.78803536,
                        "remaining_time": 21.78972527,
                        "test": [
                          25.25662643
                        ]
                      },
                      {
                        "learn": [
                          25.16064263
                        ],
                        "iteration": 736,
                        "passed_time": 97.89860819,
                        "remaining_time": 21.65193098,
                        "test": [
                          25.25663063
                        ]
                      },
                      {
                        "learn": [
                          25.16060206
                        ],
                        "iteration": 737,
                        "passed_time": 98.0068481,
                        "remaining_time": 21.51369836,
                        "test": [
                          25.25664264
                        ]
                      },
                      {
                        "learn": [
                          25.16057342
                        ],
                        "iteration": 738,
                        "passed_time": 98.11715494,
                        "remaining_time": 21.37599722,
                        "test": [
                          25.2566373
                        ]
                      },
                      {
                        "learn": [
                          25.16054164
                        ],
                        "iteration": 739,
                        "passed_time": 98.25397849,
                        "remaining_time": 21.24410346,
                        "test": [
                          25.25664526
                        ]
                      },
                      {
                        "learn": [
                          25.16050709
                        ],
                        "iteration": 740,
                        "passed_time": 98.37801764,
                        "remaining_time": 21.10945318,
                        "test": [
                          25.25664691
                        ]
                      },
                      {
                        "learn": [
                          25.16048177
                        ],
                        "iteration": 741,
                        "passed_time": 98.49433344,
                        "remaining_time": 20.97318691,
                        "test": [
                          25.25664444
                        ]
                      },
                      {
                        "learn": [
                          25.16044735
                        ],
                        "iteration": 742,
                        "passed_time": 98.59816868,
                        "remaining_time": 20.83433712,
                        "test": [
                          25.25665721
                        ]
                      },
                      {
                        "learn": [
                          25.16041436
                        ],
                        "iteration": 743,
                        "passed_time": 98.70906647,
                        "remaining_time": 20.69706233,
                        "test": [
                          25.2566564
                        ]
                      },
                      {
                        "learn": [
                          25.16038127
                        ],
                        "iteration": 744,
                        "passed_time": 98.82329775,
                        "remaining_time": 20.56055188,
                        "test": [
                          25.25664048
                        ]
                      },
                      {
                        "learn": [
                          25.16035699
                        ],
                        "iteration": 745,
                        "passed_time": 98.93200273,
                        "remaining_time": 20.42296035,
                        "test": [
                          25.25664747
                        ]
                      },
                      {
                        "learn": [
                          25.16032518
                        ],
                        "iteration": 746,
                        "passed_time": 99.0350774,
                        "remaining_time": 20.28429296,
                        "test": [
                          25.25664897
                        ]
                      },
                      {
                        "learn": [
                          25.16028129
                        ],
                        "iteration": 747,
                        "passed_time": 99.13858668,
                        "remaining_time": 20.14580906,
                        "test": [
                          25.25665258
                        ]
                      },
                      {
                        "learn": [
                          25.16024142
                        ],
                        "iteration": 748,
                        "passed_time": 99.29584054,
                        "remaining_time": 20.01825357,
                        "test": [
                          25.25665648
                        ]
                      },
                      {
                        "learn": [
                          25.16019508
                        ],
                        "iteration": 749,
                        "passed_time": 99.40825502,
                        "remaining_time": 19.881651,
                        "test": [
                          25.25665391
                        ]
                      },
                      {
                        "learn": [
                          25.16016638
                        ],
                        "iteration": 750,
                        "passed_time": 99.51890425,
                        "remaining_time": 19.74476263,
                        "test": [
                          25.25665888
                        ]
                      },
                      {
                        "learn": [
                          25.16013893
                        ],
                        "iteration": 751,
                        "passed_time": 99.6268558,
                        "remaining_time": 19.60741311,
                        "test": [
                          25.25664894
                        ]
                      },
                      {
                        "learn": [
                          25.16009878
                        ],
                        "iteration": 752,
                        "passed_time": 99.73913779,
                        "remaining_time": 19.47098706,
                        "test": [
                          25.25664109
                        ]
                      },
                      {
                        "learn": [
                          25.160056
                        ],
                        "iteration": 753,
                        "passed_time": 99.84668548,
                        "remaining_time": 19.33370833,
                        "test": [
                          25.25662905
                        ]
                      },
                      {
                        "learn": [
                          25.16002205
                        ],
                        "iteration": 754,
                        "passed_time": 99.94718262,
                        "remaining_time": 19.19515428,
                        "test": [
                          25.25664761
                        ]
                      },
                      {
                        "learn": [
                          25.15998931
                        ],
                        "iteration": 755,
                        "passed_time": 100.0628681,
                        "remaining_time": 19.05959393,
                        "test": [
                          25.25664514
                        ]
                      },
                      {
                        "learn": [
                          25.15996369
                        ],
                        "iteration": 756,
                        "passed_time": 100.174794,
                        "remaining_time": 18.92337587,
                        "test": [
                          25.25664018
                        ]
                      },
                      {
                        "learn": [
                          25.15993642
                        ],
                        "iteration": 757,
                        "passed_time": 100.3253927,
                        "remaining_time": 18.79446671,
                        "test": [
                          25.25663456
                        ]
                      },
                      {
                        "learn": [
                          25.15989866
                        ],
                        "iteration": 758,
                        "passed_time": 100.4353945,
                        "remaining_time": 18.65795867,
                        "test": [
                          25.25663641
                        ]
                      },
                      {
                        "learn": [
                          25.15986477
                        ],
                        "iteration": 759,
                        "passed_time": 100.5429071,
                        "remaining_time": 18.52106184,
                        "test": [
                          25.25663577
                        ]
                      },
                      {
                        "learn": [
                          25.15982885
                        ],
                        "iteration": 760,
                        "passed_time": 100.6564643,
                        "remaining_time": 18.3853463,
                        "test": [
                          25.25663341
                        ]
                      },
                      {
                        "learn": [
                          25.15978308
                        ],
                        "iteration": 761,
                        "passed_time": 100.7639559,
                        "remaining_time": 18.24859045,
                        "test": [
                          25.25663752
                        ]
                      },
                      {
                        "learn": [
                          25.15974318
                        ],
                        "iteration": 762,
                        "passed_time": 100.8755203,
                        "remaining_time": 18.11264257,
                        "test": [
                          25.25663547
                        ]
                      },
                      {
                        "learn": [
                          25.15970074
                        ],
                        "iteration": 763,
                        "passed_time": 100.977879,
                        "remaining_time": 17.97511981,
                        "test": [
                          25.25664098
                        ]
                      },
                      {
                        "learn": [
                          25.15967282
                        ],
                        "iteration": 764,
                        "passed_time": 101.0891286,
                        "remaining_time": 17.83925799,
                        "test": [
                          25.25664601
                        ]
                      },
                      {
                        "learn": [
                          25.15963597
                        ],
                        "iteration": 765,
                        "passed_time": 101.2042606,
                        "remaining_time": 17.70413958,
                        "test": [
                          25.25665043
                        ]
                      },
                      {
                        "learn": [
                          25.15960123
                        ],
                        "iteration": 766,
                        "passed_time": 101.3671656,
                        "remaining_time": 17.57735727,
                        "test": [
                          25.25665723
                        ]
                      },
                      {
                        "learn": [
                          25.15955713
                        ],
                        "iteration": 767,
                        "passed_time": 101.4936414,
                        "remaining_time": 17.44421961,
                        "test": [
                          25.25666222
                        ]
                      },
                      {
                        "learn": [
                          25.15952126
                        ],
                        "iteration": 768,
                        "passed_time": 101.6030104,
                        "remaining_time": 17.30818512,
                        "test": [
                          25.25666614
                        ]
                      },
                      {
                        "learn": [
                          25.15948522
                        ],
                        "iteration": 769,
                        "passed_time": 101.7109994,
                        "remaining_time": 17.17198692,
                        "test": [
                          25.25665999
                        ]
                      },
                      {
                        "learn": [
                          25.15945433
                        ],
                        "iteration": 770,
                        "passed_time": 101.8213691,
                        "remaining_time": 17.0362602,
                        "test": [
                          25.25667
                        ]
                      },
                      {
                        "learn": [
                          25.15941784
                        ],
                        "iteration": 771,
                        "passed_time": 101.929287,
                        "remaining_time": 16.90019267,
                        "test": [
                          25.25666289
                        ]
                      },
                      {
                        "learn": [
                          25.15938596
                        ],
                        "iteration": 772,
                        "passed_time": 102.0425008,
                        "remaining_time": 16.76506804,
                        "test": [
                          25.25666404
                        ]
                      },
                      {
                        "learn": [
                          25.15935279
                        ],
                        "iteration": 773,
                        "passed_time": 102.1509142,
                        "remaining_time": 16.62921859,
                        "test": [
                          25.25667504
                        ]
                      },
                      {
                        "learn": [
                          25.15930684
                        ],
                        "iteration": 774,
                        "passed_time": 102.2586875,
                        "remaining_time": 16.49333669,
                        "test": [
                          25.25667806
                        ]
                      },
                      {
                        "learn": [
                          25.15927091
                        ],
                        "iteration": 775,
                        "passed_time": 102.4119786,
                        "remaining_time": 16.36480071,
                        "test": [
                          25.25667619
                        ]
                      },
                      {
                        "learn": [
                          25.15924149
                        ],
                        "iteration": 776,
                        "passed_time": 102.524596,
                        "remaining_time": 16.2297623,
                        "test": [
                          25.2566791
                        ]
                      },
                      {
                        "learn": [
                          25.15920756
                        ],
                        "iteration": 777,
                        "passed_time": 102.6363742,
                        "remaining_time": 16.09464993,
                        "test": [
                          25.25666708
                        ]
                      },
                      {
                        "learn": [
                          25.15918171
                        ],
                        "iteration": 778,
                        "passed_time": 102.7455738,
                        "remaining_time": 15.95919696,
                        "test": [
                          25.25666094
                        ]
                      },
                      {
                        "learn": [
                          25.15913665
                        ],
                        "iteration": 779,
                        "passed_time": 102.8477235,
                        "remaining_time": 15.82272669,
                        "test": [
                          25.25666833
                        ]
                      },
                      {
                        "learn": [
                          25.1591085
                        ],
                        "iteration": 780,
                        "passed_time": 102.9547659,
                        "remaining_time": 15.68708982,
                        "test": [
                          25.2566725
                        ]
                      },
                      {
                        "learn": [
                          25.15907839
                        ],
                        "iteration": 781,
                        "passed_time": 103.064757,
                        "remaining_time": 15.55197101,
                        "test": [
                          25.25666233
                        ]
                      },
                      {
                        "learn": [
                          25.15904741
                        ],
                        "iteration": 782,
                        "passed_time": 103.1704069,
                        "remaining_time": 15.4162677,
                        "test": [
                          25.2566636
                        ]
                      },
                      {
                        "learn": [
                          25.15901614
                        ],
                        "iteration": 783,
                        "passed_time": 103.2839343,
                        "remaining_time": 15.2818066,
                        "test": [
                          25.25667214
                        ]
                      },
                      {
                        "learn": [
                          25.15897652
                        ],
                        "iteration": 784,
                        "passed_time": 103.4398065,
                        "remaining_time": 15.15360223,
                        "test": [
                          25.25668165
                        ]
                      },
                      {
                        "learn": [
                          25.15894574
                        ],
                        "iteration": 785,
                        "passed_time": 103.6275796,
                        "remaining_time": 15.0299543,
                        "test": [
                          25.25668762
                        ]
                      },
                      {
                        "learn": [
                          25.15890693
                        ],
                        "iteration": 786,
                        "passed_time": 103.84314,
                        "remaining_time": 14.91013319,
                        "test": [
                          25.25668683
                        ]
                      },
                      {
                        "learn": [
                          25.15887191
                        ],
                        "iteration": 787,
                        "passed_time": 104.0929062,
                        "remaining_time": 14.79493083,
                        "test": [
                          25.2566905
                        ]
                      },
                      {
                        "learn": [
                          25.15884389
                        ],
                        "iteration": 788,
                        "passed_time": 104.3296009,
                        "remaining_time": 14.67754841,
                        "test": [
                          25.25670285
                        ]
                      },
                      {
                        "learn": [
                          25.15881541
                        ],
                        "iteration": 789,
                        "passed_time": 104.6039495,
                        "remaining_time": 14.56510689,
                        "test": [
                          25.25670592
                        ]
                      },
                      {
                        "learn": [
                          25.15877488
                        ],
                        "iteration": 790,
                        "passed_time": 104.8075871,
                        "remaining_time": 14.442512,
                        "test": [
                          25.25671032
                        ]
                      },
                      {
                        "learn": [
                          25.15874303
                        ],
                        "iteration": 791,
                        "passed_time": 105.0056055,
                        "remaining_time": 14.31894621,
                        "test": [
                          25.25670241
                        ]
                      },
                      {
                        "learn": [
                          25.15870505
                        ],
                        "iteration": 792,
                        "passed_time": 105.1877849,
                        "remaining_time": 14.19305546,
                        "test": [
                          25.25670506
                        ]
                      },
                      {
                        "learn": [
                          25.15867612
                        ],
                        "iteration": 793,
                        "passed_time": 105.430265,
                        "remaining_time": 14.07507316,
                        "test": [
                          25.25670839
                        ]
                      },
                      {
                        "learn": [
                          25.1586457
                        ],
                        "iteration": 794,
                        "passed_time": 105.6850763,
                        "remaining_time": 13.95840631,
                        "test": [
                          25.25672277
                        ]
                      },
                      {
                        "learn": [
                          25.15860823
                        ],
                        "iteration": 795,
                        "passed_time": 105.9285232,
                        "remaining_time": 13.83990756,
                        "test": [
                          25.25672839
                        ]
                      },
                      {
                        "learn": [
                          25.15857334
                        ],
                        "iteration": 796,
                        "passed_time": 106.1612901,
                        "remaining_time": 13.71971503,
                        "test": [
                          25.25673469
                        ]
                      },
                      {
                        "learn": [
                          25.15854408
                        ],
                        "iteration": 797,
                        "passed_time": 106.4061901,
                        "remaining_time": 13.60079121,
                        "test": [
                          25.2567414
                        ]
                      },
                      {
                        "learn": [
                          25.15850817
                        ],
                        "iteration": 798,
                        "passed_time": 106.6604081,
                        "remaining_time": 13.48272993,
                        "test": [
                          25.25674358
                        ]
                      },
                      {
                        "learn": [
                          25.15846378
                        ],
                        "iteration": 799,
                        "passed_time": 106.8986946,
                        "remaining_time": 13.36233682,
                        "test": [
                          25.25673876
                        ]
                      },
                      {
                        "learn": [
                          25.1584327
                        ],
                        "iteration": 800,
                        "passed_time": 107.1383095,
                        "remaining_time": 13.24181353,
                        "test": [
                          25.25675974
                        ]
                      },
                      {
                        "learn": [
                          25.15839501
                        ],
                        "iteration": 801,
                        "passed_time": 107.3524758,
                        "remaining_time": 13.11788357,
                        "test": [
                          25.2567626
                        ]
                      },
                      {
                        "learn": [
                          25.15836186
                        ],
                        "iteration": 802,
                        "passed_time": 107.4999561,
                        "remaining_time": 12.9856734,
                        "test": [
                          25.25676471
                        ]
                      },
                      {
                        "learn": [
                          25.15833142
                        ],
                        "iteration": 803,
                        "passed_time": 107.6379509,
                        "remaining_time": 12.85229264,
                        "test": [
                          25.25676343
                        ]
                      },
                      {
                        "learn": [
                          25.15829865
                        ],
                        "iteration": 804,
                        "passed_time": 107.7660823,
                        "remaining_time": 12.71773643,
                        "test": [
                          25.25675273
                        ]
                      },
                      {
                        "learn": [
                          25.15826415
                        ],
                        "iteration": 805,
                        "passed_time": 107.876399,
                        "remaining_time": 12.58111849,
                        "test": [
                          25.25675062
                        ]
                      },
                      {
                        "learn": [
                          25.15824086
                        ],
                        "iteration": 806,
                        "passed_time": 107.979972,
                        "remaining_time": 12.44378859,
                        "test": [
                          25.25675057
                        ]
                      },
                      {
                        "learn": [
                          25.15821531
                        ],
                        "iteration": 807,
                        "passed_time": 108.0980999,
                        "remaining_time": 12.3081995,
                        "test": [
                          25.25674414
                        ]
                      },
                      {
                        "learn": [
                          25.15818907
                        ],
                        "iteration": 808,
                        "passed_time": 108.2086529,
                        "remaining_time": 12.1718015,
                        "test": [
                          25.2567395
                        ]
                      },
                      {
                        "learn": [
                          25.15816533
                        ],
                        "iteration": 809,
                        "passed_time": 108.3135063,
                        "remaining_time": 12.03483404,
                        "test": [
                          25.25673999
                        ]
                      },
                      {
                        "learn": [
                          25.15812179
                        ],
                        "iteration": 810,
                        "passed_time": 108.4216164,
                        "remaining_time": 11.89830316,
                        "test": [
                          25.25674908
                        ]
                      },
                      {
                        "learn": [
                          25.15808847
                        ],
                        "iteration": 811,
                        "passed_time": 108.535661,
                        "remaining_time": 11.76248543,
                        "test": [
                          25.25675609
                        ]
                      },
                      {
                        "learn": [
                          25.15806215
                        ],
                        "iteration": 812,
                        "passed_time": 108.6712583,
                        "remaining_time": 11.62902764,
                        "test": [
                          25.2567574
                        ]
                      },
                      {
                        "learn": [
                          25.15802881
                        ],
                        "iteration": 813,
                        "passed_time": 108.798976,
                        "remaining_time": 11.49473211,
                        "test": [
                          25.25675596
                        ]
                      },
                      {
                        "learn": [
                          25.15799033
                        ],
                        "iteration": 814,
                        "passed_time": 108.9123471,
                        "remaining_time": 11.35895644,
                        "test": [
                          25.25675458
                        ]
                      },
                      {
                        "learn": [
                          25.15796051
                        ],
                        "iteration": 815,
                        "passed_time": 109.0163339,
                        "remaining_time": 11.22226967,
                        "test": [
                          25.25675887
                        ]
                      },
                      {
                        "learn": [
                          25.15792344
                        ],
                        "iteration": 816,
                        "passed_time": 109.1180161,
                        "remaining_time": 11.08542881,
                        "test": [
                          25.2567653
                        ]
                      },
                      {
                        "learn": [
                          25.15787577
                        ],
                        "iteration": 817,
                        "passed_time": 109.2312454,
                        "remaining_time": 10.94983145,
                        "test": [
                          25.25676978
                        ]
                      },
                      {
                        "learn": [
                          25.15784056
                        ],
                        "iteration": 818,
                        "passed_time": 109.3453812,
                        "remaining_time": 10.81437836,
                        "test": [
                          25.25677919
                        ]
                      },
                      {
                        "learn": [
                          25.15779444
                        ],
                        "iteration": 819,
                        "passed_time": 109.4554119,
                        "remaining_time": 10.67857677,
                        "test": [
                          25.25678576
                        ]
                      },
                      {
                        "learn": [
                          25.15775945
                        ],
                        "iteration": 820,
                        "passed_time": 109.5677962,
                        "remaining_time": 10.54306444,
                        "test": [
                          25.25678863
                        ]
                      },
                      {
                        "learn": [
                          25.15772855
                        ],
                        "iteration": 821,
                        "passed_time": 109.7129253,
                        "remaining_time": 10.41071554,
                        "test": [
                          25.25678761
                        ]
                      },
                      {
                        "learn": [
                          25.15768605
                        ],
                        "iteration": 822,
                        "passed_time": 109.8370328,
                        "remaining_time": 10.27636881,
                        "test": [
                          25.2567946
                        ]
                      },
                      {
                        "learn": [
                          25.15766513
                        ],
                        "iteration": 823,
                        "passed_time": 109.9439769,
                        "remaining_time": 10.14046389,
                        "test": [
                          25.25680144
                        ]
                      },
                      {
                        "learn": [
                          25.15762992
                        ],
                        "iteration": 824,
                        "passed_time": 110.055982,
                        "remaining_time": 10.00508927,
                        "test": [
                          25.256797
                        ]
                      },
                      {
                        "learn": [
                          25.15760083
                        ],
                        "iteration": 825,
                        "passed_time": 110.1623742,
                        "remaining_time": 9.869268391,
                        "test": [
                          25.25678442
                        ]
                      },
                      {
                        "learn": [
                          25.15757566
                        ],
                        "iteration": 826,
                        "passed_time": 110.2636001,
                        "remaining_time": 9.733062646,
                        "test": [
                          25.25679017
                        ]
                      },
                      {
                        "learn": [
                          25.1575465
                        ],
                        "iteration": 827,
                        "passed_time": 110.3927502,
                        "remaining_time": 9.599369586,
                        "test": [
                          25.25678829
                        ]
                      },
                      {
                        "learn": [
                          25.15751451
                        ],
                        "iteration": 828,
                        "passed_time": 110.787643,
                        "remaining_time": 9.488447113,
                        "test": [
                          25.25678671
                        ]
                      },
                      {
                        "learn": [
                          25.15748565
                        ],
                        "iteration": 829,
                        "passed_time": 111.0122929,
                        "remaining_time": 9.362482537,
                        "test": [
                          25.25678496
                        ]
                      },
                      {
                        "learn": [
                          25.15745113
                        ],
                        "iteration": 830,
                        "passed_time": 111.1234148,
                        "remaining_time": 9.226853938,
                        "test": [
                          25.25678475
                        ]
                      },
                      {
                        "learn": [
                          25.15741398
                        ],
                        "iteration": 831,
                        "passed_time": 111.241795,
                        "remaining_time": 9.091877477,
                        "test": [
                          25.25677563
                        ]
                      },
                      {
                        "learn": [
                          25.157371
                        ],
                        "iteration": 832,
                        "passed_time": 111.3808888,
                        "remaining_time": 8.958606905,
                        "test": [
                          25.25676618
                        ]
                      },
                      {
                        "learn": [
                          25.15734453
                        ],
                        "iteration": 833,
                        "passed_time": 111.4868279,
                        "remaining_time": 8.822698612,
                        "test": [
                          25.25676951
                        ]
                      },
                      {
                        "learn": [
                          25.15730954
                        ],
                        "iteration": 834,
                        "passed_time": 111.5981553,
                        "remaining_time": 8.687281548,
                        "test": [
                          25.25676972
                        ]
                      },
                      {
                        "learn": [
                          25.15727618
                        ],
                        "iteration": 835,
                        "passed_time": 111.7243518,
                        "remaining_time": 8.553060427,
                        "test": [
                          25.25677587
                        ]
                      },
                      {
                        "learn": [
                          25.15724324
                        ],
                        "iteration": 836,
                        "passed_time": 111.8434976,
                        "remaining_time": 8.418327779,
                        "test": [
                          25.25679
                        ]
                      },
                      {
                        "learn": [
                          25.15720002
                        ],
                        "iteration": 837,
                        "passed_time": 111.9759145,
                        "remaining_time": 8.284614197,
                        "test": [
                          25.25678493
                        ]
                      },
                      {
                        "learn": [
                          25.1571687
                        ],
                        "iteration": 838,
                        "passed_time": 112.0765169,
                        "remaining_time": 8.148590624,
                        "test": [
                          25.25677653
                        ]
                      },
                      {
                        "learn": [
                          25.15713237
                        ],
                        "iteration": 839,
                        "passed_time": 112.1833566,
                        "remaining_time": 8.0130969,
                        "test": [
                          25.25679187
                        ]
                      },
                      {
                        "learn": [
                          25.15709943
                        ],
                        "iteration": 840,
                        "passed_time": 112.2878915,
                        "remaining_time": 7.877509627,
                        "test": [
                          25.2567857
                        ]
                      },
                      {
                        "learn": [
                          25.15707433
                        ],
                        "iteration": 841,
                        "passed_time": 112.396447,
                        "remaining_time": 7.742273074,
                        "test": [
                          25.25679121
                        ]
                      },
                      {
                        "learn": [
                          25.1570416
                        ],
                        "iteration": 842,
                        "passed_time": 112.5006509,
                        "remaining_time": 7.606805575,
                        "test": [
                          25.25678822
                        ]
                      },
                      {
                        "learn": [
                          25.15700965
                        ],
                        "iteration": 843,
                        "passed_time": 112.6156597,
                        "remaining_time": 7.472129081,
                        "test": [
                          25.25679571
                        ]
                      },
                      {
                        "learn": [
                          25.15697396
                        ],
                        "iteration": 844,
                        "passed_time": 112.7214236,
                        "remaining_time": 7.336897393,
                        "test": [
                          25.25679328
                        ]
                      },
                      {
                        "learn": [
                          25.15693138
                        ],
                        "iteration": 845,
                        "passed_time": 112.8601206,
                        "remaining_time": 7.203837482,
                        "test": [
                          25.25677868
                        ]
                      },
                      {
                        "learn": [
                          25.15689879
                        ],
                        "iteration": 846,
                        "passed_time": 112.9865289,
                        "remaining_time": 7.069995312,
                        "test": [
                          25.25678094
                        ]
                      },
                      {
                        "learn": [
                          25.1568655
                        ],
                        "iteration": 847,
                        "passed_time": 113.1032683,
                        "remaining_time": 6.935577772,
                        "test": [
                          25.25678043
                        ]
                      },
                      {
                        "learn": [
                          25.15684433
                        ],
                        "iteration": 848,
                        "passed_time": 113.215766,
                        "remaining_time": 6.800947075,
                        "test": [
                          25.25678407
                        ]
                      },
                      {
                        "learn": [
                          25.15680872
                        ],
                        "iteration": 849,
                        "passed_time": 113.3236597,
                        "remaining_time": 6.666097628,
                        "test": [
                          25.25678114
                        ]
                      },
                      {
                        "learn": [
                          25.15677304
                        ],
                        "iteration": 850,
                        "passed_time": 113.4274968,
                        "remaining_time": 6.531077959,
                        "test": [
                          25.25678158
                        ]
                      },
                      {
                        "learn": [
                          25.15674241
                        ],
                        "iteration": 851,
                        "passed_time": 113.5317237,
                        "remaining_time": 6.396153448,
                        "test": [
                          25.25678156
                        ]
                      },
                      {
                        "learn": [
                          25.1567124
                        ],
                        "iteration": 852,
                        "passed_time": 113.6454494,
                        "remaining_time": 6.261824292,
                        "test": [
                          25.25679095
                        ]
                      },
                      {
                        "learn": [
                          25.15667909
                        ],
                        "iteration": 853,
                        "passed_time": 113.7525872,
                        "remaining_time": 6.127188538,
                        "test": [
                          25.25678914
                        ]
                      },
                      {
                        "learn": [
                          25.15663603
                        ],
                        "iteration": 854,
                        "passed_time": 113.893247,
                        "remaining_time": 5.994381421,
                        "test": [
                          25.25678576
                        ]
                      },
                      {
                        "learn": [
                          25.15660185
                        ],
                        "iteration": 855,
                        "passed_time": 114.0095836,
                        "remaining_time": 5.860305697,
                        "test": [
                          25.25677712
                        ]
                      },
                      {
                        "learn": [
                          25.15655521
                        ],
                        "iteration": 856,
                        "passed_time": 114.1328919,
                        "remaining_time": 5.726621181,
                        "test": [
                          25.25676781
                        ]
                      },
                      {
                        "learn": [
                          25.15651908
                        ],
                        "iteration": 857,
                        "passed_time": 114.2455195,
                        "remaining_time": 5.59243802,
                        "test": [
                          25.25676771
                        ]
                      },
                      {
                        "learn": [
                          25.1564928
                        ],
                        "iteration": 858,
                        "passed_time": 114.3553313,
                        "remaining_time": 5.458170646,
                        "test": [
                          25.2567774
                        ]
                      },
                      {
                        "learn": [
                          25.15645733
                        ],
                        "iteration": 859,
                        "passed_time": 114.4616947,
                        "remaining_time": 5.323799754,
                        "test": [
                          25.25677943
                        ]
                      },
                      {
                        "learn": [
                          25.15642105
                        ],
                        "iteration": 860,
                        "passed_time": 114.5760368,
                        "remaining_time": 5.189855326,
                        "test": [
                          25.25677785
                        ]
                      },
                      {
                        "learn": [
                          25.15637494
                        ],
                        "iteration": 861,
                        "passed_time": 114.6835133,
                        "remaining_time": 5.055653719,
                        "test": [
                          25.25678457
                        ]
                      },
                      {
                        "learn": [
                          25.15634033
                        ],
                        "iteration": 862,
                        "passed_time": 114.7930733,
                        "remaining_time": 4.921603376,
                        "test": [
                          25.25678441
                        ]
                      },
                      {
                        "learn": [
                          25.15631171
                        ],
                        "iteration": 863,
                        "passed_time": 114.9290989,
                        "remaining_time": 4.788712454,
                        "test": [
                          25.25678849
                        ]
                      },
                      {
                        "learn": [
                          25.15627521
                        ],
                        "iteration": 864,
                        "passed_time": 115.0330351,
                        "remaining_time": 4.654515869,
                        "test": [
                          25.256786
                        ]
                      },
                      {
                        "learn": [
                          25.15624003
                        ],
                        "iteration": 865,
                        "passed_time": 115.1673083,
                        "remaining_time": 4.521580235,
                        "test": [
                          25.25678516
                        ]
                      },
                      {
                        "learn": [
                          25.1562039
                        ],
                        "iteration": 866,
                        "passed_time": 115.2827036,
                        "remaining_time": 4.387922975,
                        "test": [
                          25.25678148
                        ]
                      },
                      {
                        "learn": [
                          25.15616665
                        ],
                        "iteration": 867,
                        "passed_time": 115.392089,
                        "remaining_time": 4.254086232,
                        "test": [
                          25.25677519
                        ]
                      },
                      {
                        "learn": [
                          25.15612538
                        ],
                        "iteration": 868,
                        "passed_time": 115.5073452,
                        "remaining_time": 4.120515191,
                        "test": [
                          25.25678154
                        ]
                      },
                      {
                        "learn": [
                          25.15608774
                        ],
                        "iteration": 869,
                        "passed_time": 115.6154772,
                        "remaining_time": 3.986740592,
                        "test": [
                          25.25677414
                        ]
                      },
                      {
                        "learn": [
                          25.15605556
                        ],
                        "iteration": 870,
                        "passed_time": 115.7217893,
                        "remaining_time": 3.852964283,
                        "test": [
                          25.25677515
                        ]
                      },
                      {
                        "learn": [
                          25.15601917
                        ],
                        "iteration": 871,
                        "passed_time": 115.8417928,
                        "remaining_time": 3.719690593,
                        "test": [
                          25.2567589
                        ]
                      },
                      {
                        "learn": [
                          25.15598593
                        ],
                        "iteration": 872,
                        "passed_time": 115.9616415,
                        "remaining_time": 3.586442521,
                        "test": [
                          25.25675594
                        ]
                      },
                      {
                        "learn": [
                          25.15594926
                        ],
                        "iteration": 873,
                        "passed_time": 116.0624158,
                        "remaining_time": 3.452657678,
                        "test": [
                          25.25674149
                        ]
                      },
                      {
                        "learn": [
                          25.15590431
                        ],
                        "iteration": 874,
                        "passed_time": 116.1983764,
                        "remaining_time": 3.319953612,
                        "test": [
                          25.25671992
                        ]
                      },
                      {
                        "learn": [
                          25.15587031
                        ],
                        "iteration": 875,
                        "passed_time": 116.3033652,
                        "remaining_time": 3.186393567,
                        "test": [
                          25.25672347
                        ]
                      },
                      {
                        "learn": [
                          25.15584325
                        ],
                        "iteration": 876,
                        "passed_time": 116.4308947,
                        "remaining_time": 3.053489826,
                        "test": [
                          25.25672432
                        ]
                      },
                      {
                        "learn": [
                          25.1558093
                        ],
                        "iteration": 877,
                        "passed_time": 116.5438587,
                        "remaining_time": 2.920233362,
                        "test": [
                          25.25673377
                        ]
                      },
                      {
                        "learn": [
                          25.1557709
                        ],
                        "iteration": 878,
                        "passed_time": 116.6528751,
                        "remaining_time": 2.786928757,
                        "test": [
                          25.25673605
                        ]
                      },
                      {
                        "learn": [
                          25.15573739
                        ],
                        "iteration": 879,
                        "passed_time": 116.7638638,
                        "remaining_time": 2.653724177,
                        "test": [
                          25.25673348
                        ]
                      },
                      {
                        "learn": [
                          25.15571305
                        ],
                        "iteration": 880,
                        "passed_time": 116.9049967,
                        "remaining_time": 2.521220132,
                        "test": [
                          25.25673952
                        ]
                      },
                      {
                        "learn": [
                          25.15567183
                        ],
                        "iteration": 881,
                        "passed_time": 117.0073797,
                        "remaining_time": 2.387905707,
                        "test": [
                          25.25673885
                        ]
                      },
                      {
                        "learn": [
                          25.15564596
                        ],
                        "iteration": 882,
                        "passed_time": 117.1195669,
                        "remaining_time": 2.254850098,
                        "test": [
                          25.25673566
                        ]
                      },
                      {
                        "learn": [
                          25.155615
                        ],
                        "iteration": 883,
                        "passed_time": 117.2508697,
                        "remaining_time": 2.122187686,
                        "test": [
                          25.25675095
                        ]
                      },
                      {
                        "learn": [
                          25.15557981
                        ],
                        "iteration": 884,
                        "passed_time": 117.358766,
                        "remaining_time": 1.989131627,
                        "test": [
                          25.25675269
                        ]
                      },
                      {
                        "learn": [
                          25.15554628
                        ],
                        "iteration": 885,
                        "passed_time": 117.5143417,
                        "remaining_time": 1.85688576,
                        "test": [
                          25.25674514
                        ]
                      },
                      {
                        "learn": [
                          25.15551529
                        ],
                        "iteration": 886,
                        "passed_time": 117.7306355,
                        "remaining_time": 1.725477183,
                        "test": [
                          25.25674547
                        ]
                      },
                      {
                        "learn": [
                          25.15548164
                        ],
                        "iteration": 887,
                        "passed_time": 118.00304,
                        "remaining_time": 1.594635675,
                        "test": [
                          25.25676365
                        ]
                      },
                      {
                        "learn": [
                          25.15545011
                        ],
                        "iteration": 888,
                        "passed_time": 118.2334093,
                        "remaining_time": 1.462955571,
                        "test": [
                          25.25676769
                        ]
                      },
                      {
                        "learn": [
                          25.15542582
                        ],
                        "iteration": 889,
                        "passed_time": 118.459981,
                        "remaining_time": 1.331011022,
                        "test": [
                          25.25677854
                        ]
                      },
                      {
                        "learn": [
                          25.15539098
                        ],
                        "iteration": 890,
                        "passed_time": 118.7016524,
                        "remaining_time": 1.19900659,
                        "test": [
                          25.25677691
                        ]
                      },
                      {
                        "learn": [
                          25.15535144
                        ],
                        "iteration": 891,
                        "passed_time": 118.9148848,
                        "remaining_time": 1.066501209,
                        "test": [
                          25.25676858
                        ]
                      },
                      {
                        "learn": [
                          25.15531079
                        ],
                        "iteration": 892,
                        "passed_time": 119.1820665,
                        "remaining_time": 0.9342379233,
                        "test": [
                          25.25677844
                        ]
                      },
                      {
                        "learn": [
                          25.15528398
                        ],
                        "iteration": 893,
                        "passed_time": 119.4278931,
                        "remaining_time": 0.8015294839,
                        "test": [
                          25.2567754
                        ]
                      },
                      {
                        "learn": [
                          25.15525033
                        ],
                        "iteration": 894,
                        "passed_time": 119.6192331,
                        "remaining_time": 0.6682638722,
                        "test": [
                          25.2567818
                        ]
                      },
                      {
                        "learn": [
                          25.15522575
                        ],
                        "iteration": 895,
                        "passed_time": 119.8589117,
                        "remaining_time": 0.5350844273,
                        "test": [
                          25.25677915
                        ]
                      },
                      {
                        "learn": [
                          25.155196
                        ],
                        "iteration": 896,
                        "passed_time": 120.1179982,
                        "remaining_time": 0.4017324355,
                        "test": [
                          25.25677218
                        ]
                      },
                      {
                        "learn": [
                          25.15515944
                        ],
                        "iteration": 897,
                        "passed_time": 120.354734,
                        "remaining_time": 0.2680506325,
                        "test": [
                          25.25678114
                        ]
                      },
                      {
                        "learn": [
                          25.15512985
                        ],
                        "iteration": 898,
                        "passed_time": 120.6015601,
                        "remaining_time": 0.1341507899,
                        "test": [
                          25.25678957
                        ]
                      },
                      {
                        "learn": [
                          25.15509886
                        ],
                        "iteration": 899,
                        "passed_time": 120.8108649,
                        "remaining_time": 0,
                        "test": [
                          25.25678926
                        ]
                      }
                    ],
                    "meta": {
                      "test_sets": [
                        "test"
                      ],
                      "test_metrics": [
                        {
                          "best_value": "Min",
                          "name": "RMSE"
                        }
                      ],
                      "learn_metrics": [
                        {
                          "best_value": "Min",
                          "name": "RMSE"
                        }
                      ],
                      "launch_mode": "Train",
                      "parameters": "",
                      "iteration_count": 900,
                      "learn_sets": [
                        "learn"
                      ],
                      "name": "experiment"
                    }
                  }
                }
              }
            },
            "layout": "IPY_MODEL_69cebd41153c4477aabf1e340383d95c"
          }
        },
        "b6684f3b2d9a4e509d52eef83d745603": {
          "model_module": "catboost-widget",
          "model_name": "CatboostWidgetModel",
          "model_module_version": "^1.0.0",
          "state": {
            "_dom_classes": [],
            "_model_module": "catboost-widget",
            "_model_module_version": "^1.0.0",
            "_model_name": "CatboostWidgetModel",
            "_view_count": null,
            "_view_module": "catboost-widget",
            "_view_module_version": "^1.0.0",
            "_view_name": "CatboostWidgetView",
            "data": {
              "catboost_info": {
                "path": "catboost_info",
                "name": "catboost_info",
                "content": {
                  "passed_iterations": 899,
                  "total_iterations": 900,
                  "data": {
                    "iterations": [
                      {
                        "learn": [
                          25.19491388
                        ],
                        "iteration": 0,
                        "passed_time": 0.3270616445,
                        "remaining_time": 294.0284184,
                        "test": [
                          25.26527312
                        ]
                      },
                      {
                        "learn": [
                          25.19479316
                        ],
                        "iteration": 1,
                        "passed_time": 0.6678347004,
                        "remaining_time": 299.8577805,
                        "test": [
                          25.26518086
                        ]
                      },
                      {
                        "learn": [
                          25.1946865
                        ],
                        "iteration": 2,
                        "passed_time": 1.090898694,
                        "remaining_time": 326.1787096,
                        "test": [
                          25.26512315
                        ]
                      },
                      {
                        "learn": [
                          25.1945507
                        ],
                        "iteration": 3,
                        "passed_time": 1.436801188,
                        "remaining_time": 321.8434662,
                        "test": [
                          25.26503751
                        ]
                      },
                      {
                        "learn": [
                          25.19442735
                        ],
                        "iteration": 4,
                        "passed_time": 1.681441513,
                        "remaining_time": 300.9780308,
                        "test": [
                          25.26494396
                        ]
                      },
                      {
                        "learn": [
                          25.19430892
                        ],
                        "iteration": 5,
                        "passed_time": 1.831324257,
                        "remaining_time": 272.8673143,
                        "test": [
                          25.26485994
                        ]
                      },
                      {
                        "learn": [
                          25.194158
                        ],
                        "iteration": 6,
                        "passed_time": 1.991846697,
                        "remaining_time": 254.1027286,
                        "test": [
                          25.2647424
                        ]
                      },
                      {
                        "learn": [
                          25.19404274
                        ],
                        "iteration": 7,
                        "passed_time": 2.217275999,
                        "remaining_time": 247.2262739,
                        "test": [
                          25.26467854
                        ]
                      },
                      {
                        "learn": [
                          25.19393769
                        ],
                        "iteration": 8,
                        "passed_time": 2.398074478,
                        "remaining_time": 237.4093733,
                        "test": [
                          25.26458619
                        ]
                      },
                      {
                        "learn": [
                          25.19383243
                        ],
                        "iteration": 9,
                        "passed_time": 2.577444647,
                        "remaining_time": 229.3925736,
                        "test": [
                          25.26453244
                        ]
                      },
                      {
                        "learn": [
                          25.19370838
                        ],
                        "iteration": 10,
                        "passed_time": 2.780161483,
                        "remaining_time": 224.6875962,
                        "test": [
                          25.26444227
                        ]
                      },
                      {
                        "learn": [
                          25.19357067
                        ],
                        "iteration": 11,
                        "passed_time": 2.979278566,
                        "remaining_time": 220.4666139,
                        "test": [
                          25.2643466
                        ]
                      },
                      {
                        "learn": [
                          25.19345454
                        ],
                        "iteration": 12,
                        "passed_time": 3.156600215,
                        "remaining_time": 215.3772608,
                        "test": [
                          25.2642809
                        ]
                      },
                      {
                        "learn": [
                          25.19333974
                        ],
                        "iteration": 13,
                        "passed_time": 3.343335795,
                        "remaining_time": 211.5853939,
                        "test": [
                          25.26419341
                        ]
                      },
                      {
                        "learn": [
                          25.19321027
                        ],
                        "iteration": 14,
                        "passed_time": 3.472752021,
                        "remaining_time": 204.8923692,
                        "test": [
                          25.26412333
                        ]
                      },
                      {
                        "learn": [
                          25.19309912
                        ],
                        "iteration": 15,
                        "passed_time": 3.649823276,
                        "remaining_time": 201.652736,
                        "test": [
                          25.26404261
                        ]
                      },
                      {
                        "learn": [
                          25.1929833
                        ],
                        "iteration": 16,
                        "passed_time": 3.899164084,
                        "remaining_time": 202.5271698,
                        "test": [
                          25.26395984
                        ]
                      },
                      {
                        "learn": [
                          25.19287302
                        ],
                        "iteration": 17,
                        "passed_time": 4.084864247,
                        "remaining_time": 200.1583481,
                        "test": [
                          25.26389429
                        ]
                      },
                      {
                        "learn": [
                          25.19274767
                        ],
                        "iteration": 18,
                        "passed_time": 4.188237501,
                        "remaining_time": 194.2019599,
                        "test": [
                          25.26379335
                        ]
                      },
                      {
                        "learn": [
                          25.19262362
                        ],
                        "iteration": 19,
                        "passed_time": 4.377204365,
                        "remaining_time": 192.5969921,
                        "test": [
                          25.26372541
                        ]
                      },
                      {
                        "learn": [
                          25.19251737
                        ],
                        "iteration": 20,
                        "passed_time": 4.55257396,
                        "remaining_time": 190.5577386,
                        "test": [
                          25.26365688
                        ]
                      },
                      {
                        "learn": [
                          25.19242558
                        ],
                        "iteration": 21,
                        "passed_time": 4.744482359,
                        "remaining_time": 189.3479778,
                        "test": [
                          25.26358819
                        ]
                      },
                      {
                        "learn": [
                          25.19231752
                        ],
                        "iteration": 22,
                        "passed_time": 4.958864959,
                        "remaining_time": 189.0836769,
                        "test": [
                          25.26352449
                        ]
                      },
                      {
                        "learn": [
                          25.19220643
                        ],
                        "iteration": 23,
                        "passed_time": 5.105460755,
                        "remaining_time": 186.3493176,
                        "test": [
                          25.26345473
                        ]
                      },
                      {
                        "learn": [
                          25.19206659
                        ],
                        "iteration": 24,
                        "passed_time": 5.313208794,
                        "remaining_time": 185.9623078,
                        "test": [
                          25.26339317
                        ]
                      },
                      {
                        "learn": [
                          25.19195349
                        ],
                        "iteration": 25,
                        "passed_time": 5.438096746,
                        "remaining_time": 182.8037137,
                        "test": [
                          25.26328669
                        ]
                      },
                      {
                        "learn": [
                          25.19184258
                        ],
                        "iteration": 26,
                        "passed_time": 5.621528379,
                        "remaining_time": 181.7627509,
                        "test": [
                          25.26321045
                        ]
                      },
                      {
                        "learn": [
                          25.19172311
                        ],
                        "iteration": 27,
                        "passed_time": 5.816350248,
                        "remaining_time": 181.1377649,
                        "test": [
                          25.26313748
                        ]
                      },
                      {
                        "learn": [
                          25.19162418
                        ],
                        "iteration": 28,
                        "passed_time": 6.015824328,
                        "remaining_time": 180.682172,
                        "test": [
                          25.26307592
                        ]
                      },
                      {
                        "learn": [
                          25.19152623
                        ],
                        "iteration": 29,
                        "passed_time": 6.16773899,
                        "remaining_time": 178.8644307,
                        "test": [
                          25.26299868
                        ]
                      },
                      {
                        "learn": [
                          25.19143456
                        ],
                        "iteration": 30,
                        "passed_time": 6.353643361,
                        "remaining_time": 178.1069704,
                        "test": [
                          25.26296318
                        ]
                      },
                      {
                        "learn": [
                          25.19134836
                        ],
                        "iteration": 31,
                        "passed_time": 6.548199215,
                        "remaining_time": 177.6199037,
                        "test": [
                          25.26291999
                        ]
                      },
                      {
                        "learn": [
                          25.19124985
                        ],
                        "iteration": 32,
                        "passed_time": 6.658062954,
                        "remaining_time": 174.9254722,
                        "test": [
                          25.26287915
                        ]
                      },
                      {
                        "learn": [
                          25.19116052
                        ],
                        "iteration": 33,
                        "passed_time": 6.830660761,
                        "remaining_time": 173.9809476,
                        "test": [
                          25.26283348
                        ]
                      },
                      {
                        "learn": [
                          25.19107212
                        ],
                        "iteration": 34,
                        "passed_time": 7.02689468,
                        "remaining_time": 173.6646828,
                        "test": [
                          25.26278167
                        ]
                      },
                      {
                        "learn": [
                          25.19098212
                        ],
                        "iteration": 35,
                        "passed_time": 7.209772312,
                        "remaining_time": 173.0345355,
                        "test": [
                          25.2627259
                        ]
                      },
                      {
                        "learn": [
                          25.19087714
                        ],
                        "iteration": 36,
                        "passed_time": 7.379260095,
                        "remaining_time": 172.1162557,
                        "test": [
                          25.26268937
                        ]
                      },
                      {
                        "learn": [
                          25.19079424
                        ],
                        "iteration": 37,
                        "passed_time": 7.506141118,
                        "remaining_time": 170.2708854,
                        "test": [
                          25.26263822
                        ]
                      },
                      {
                        "learn": [
                          25.19067727
                        ],
                        "iteration": 38,
                        "passed_time": 7.67797612,
                        "remaining_time": 169.5060882,
                        "test": [
                          25.26256653
                        ]
                      },
                      {
                        "learn": [
                          25.19057974
                        ],
                        "iteration": 39,
                        "passed_time": 7.846083959,
                        "remaining_time": 168.6908051,
                        "test": [
                          25.26249267
                        ]
                      },
                      {
                        "learn": [
                          25.19048379
                        ],
                        "iteration": 40,
                        "passed_time": 8.017235622,
                        "remaining_time": 167.9708634,
                        "test": [
                          25.2624344
                        ]
                      },
                      {
                        "learn": [
                          25.19037507
                        ],
                        "iteration": 41,
                        "passed_time": 8.171217402,
                        "remaining_time": 166.9262984,
                        "test": [
                          25.26239471
                        ]
                      },
                      {
                        "learn": [
                          25.19028076
                        ],
                        "iteration": 42,
                        "passed_time": 8.332179715,
                        "remaining_time": 166.0622794,
                        "test": [
                          25.26233698
                        ]
                      },
                      {
                        "learn": [
                          25.19018633
                        ],
                        "iteration": 43,
                        "passed_time": 8.507943698,
                        "remaining_time": 165.5181774,
                        "test": [
                          25.26229122
                        ]
                      },
                      {
                        "learn": [
                          25.1900671
                        ],
                        "iteration": 44,
                        "passed_time": 8.699847938,
                        "remaining_time": 165.2971108,
                        "test": [
                          25.26220778
                        ]
                      },
                      {
                        "learn": [
                          25.18998498
                        ],
                        "iteration": 45,
                        "passed_time": 8.922609411,
                        "remaining_time": 165.6501834,
                        "test": [
                          25.26216578
                        ]
                      },
                      {
                        "learn": [
                          25.18990326
                        ],
                        "iteration": 46,
                        "passed_time": 9.04231152,
                        "remaining_time": 164.1083346,
                        "test": [
                          25.2621289
                        ]
                      },
                      {
                        "learn": [
                          25.18982155
                        ],
                        "iteration": 47,
                        "passed_time": 9.178169082,
                        "remaining_time": 162.9125012,
                        "test": [
                          25.26208817
                        ]
                      },
                      {
                        "learn": [
                          25.18973832
                        ],
                        "iteration": 48,
                        "passed_time": 9.338795797,
                        "remaining_time": 162.1901066,
                        "test": [
                          25.26206013
                        ]
                      },
                      {
                        "learn": [
                          25.18963745
                        ],
                        "iteration": 49,
                        "passed_time": 9.458841726,
                        "remaining_time": 160.8003093,
                        "test": [
                          25.26201293
                        ]
                      },
                      {
                        "learn": [
                          25.18955979
                        ],
                        "iteration": 50,
                        "passed_time": 9.655467419,
                        "remaining_time": 160.7351341,
                        "test": [
                          25.26197599
                        ]
                      },
                      {
                        "learn": [
                          25.18942801
                        ],
                        "iteration": 51,
                        "passed_time": 9.848321886,
                        "remaining_time": 160.6034031,
                        "test": [
                          25.26190668
                        ]
                      },
                      {
                        "learn": [
                          25.18932778
                        ],
                        "iteration": 52,
                        "passed_time": 10.06630219,
                        "remaining_time": 160.8709048,
                        "test": [
                          25.26184266
                        ]
                      },
                      {
                        "learn": [
                          25.18922923
                        ],
                        "iteration": 53,
                        "passed_time": 10.24065981,
                        "remaining_time": 160.4370036,
                        "test": [
                          25.26179648
                        ]
                      },
                      {
                        "learn": [
                          25.18911904
                        ],
                        "iteration": 54,
                        "passed_time": 10.42787318,
                        "remaining_time": 160.2100516,
                        "test": [
                          25.2617512
                        ]
                      },
                      {
                        "learn": [
                          25.18903969
                        ],
                        "iteration": 55,
                        "passed_time": 10.59745878,
                        "remaining_time": 159.718843,
                        "test": [
                          25.26172236
                        ]
                      },
                      {
                        "learn": [
                          25.18894744
                        ],
                        "iteration": 56,
                        "passed_time": 10.74411156,
                        "remaining_time": 158.8997552,
                        "test": [
                          25.26168709
                        ]
                      },
                      {
                        "learn": [
                          25.1888292
                        ],
                        "iteration": 57,
                        "passed_time": 10.95284953,
                        "remaining_time": 159.0051604,
                        "test": [
                          25.26163515
                        ]
                      },
                      {
                        "learn": [
                          25.18874455
                        ],
                        "iteration": 58,
                        "passed_time": 11.0686799,
                        "remaining_time": 157.7755898,
                        "test": [
                          25.26158682
                        ]
                      },
                      {
                        "learn": [
                          25.18866347
                        ],
                        "iteration": 59,
                        "passed_time": 11.31023922,
                        "remaining_time": 158.343349,
                        "test": [
                          25.26154783
                        ]
                      },
                      {
                        "learn": [
                          25.18858034
                        ],
                        "iteration": 60,
                        "passed_time": 11.51773328,
                        "remaining_time": 158.4160364,
                        "test": [
                          25.26150926
                        ]
                      },
                      {
                        "learn": [
                          25.18847635
                        ],
                        "iteration": 61,
                        "passed_time": 11.80234247,
                        "remaining_time": 159.5219838,
                        "test": [
                          25.26144947
                        ]
                      },
                      {
                        "learn": [
                          25.18839016
                        ],
                        "iteration": 62,
                        "passed_time": 12.2089291,
                        "remaining_time": 162.2043437,
                        "test": [
                          25.26141837
                        ]
                      },
                      {
                        "learn": [
                          25.18829864
                        ],
                        "iteration": 63,
                        "passed_time": 12.56656581,
                        "remaining_time": 164.1507659,
                        "test": [
                          25.26136546
                        ]
                      },
                      {
                        "learn": [
                          25.18820603
                        ],
                        "iteration": 64,
                        "passed_time": 12.86491177,
                        "remaining_time": 165.2646358,
                        "test": [
                          25.26130989
                        ]
                      },
                      {
                        "learn": [
                          25.18812912
                        ],
                        "iteration": 65,
                        "passed_time": 13.01197375,
                        "remaining_time": 164.4240319,
                        "test": [
                          25.26127196
                        ]
                      },
                      {
                        "learn": [
                          25.18805465
                        ],
                        "iteration": 66,
                        "passed_time": 13.38188592,
                        "remaining_time": 166.3747906,
                        "test": [
                          25.26122317
                        ]
                      },
                      {
                        "learn": [
                          25.18798212
                        ],
                        "iteration": 67,
                        "passed_time": 13.61903251,
                        "remaining_time": 166.6328683,
                        "test": [
                          25.26117878
                        ]
                      },
                      {
                        "learn": [
                          25.18787879
                        ],
                        "iteration": 68,
                        "passed_time": 13.90542577,
                        "remaining_time": 167.4696929,
                        "test": [
                          25.26113344
                        ]
                      },
                      {
                        "learn": [
                          25.187811
                        ],
                        "iteration": 69,
                        "passed_time": 14.30643071,
                        "remaining_time": 169.6333927,
                        "test": [
                          25.26109585
                        ]
                      },
                      {
                        "learn": [
                          25.18773431
                        ],
                        "iteration": 70,
                        "passed_time": 14.63034866,
                        "remaining_time": 170.8247752,
                        "test": [
                          25.26104786
                        ]
                      },
                      {
                        "learn": [
                          25.18765916
                        ],
                        "iteration": 71,
                        "passed_time": 15.0481201,
                        "remaining_time": 173.0533812,
                        "test": [
                          25.26102564
                        ]
                      },
                      {
                        "learn": [
                          25.18756984
                        ],
                        "iteration": 72,
                        "passed_time": 15.3471895,
                        "remaining_time": 173.8647358,
                        "test": [
                          25.26096049
                        ]
                      },
                      {
                        "learn": [
                          25.18746819
                        ],
                        "iteration": 73,
                        "passed_time": 15.53677866,
                        "remaining_time": 173.4240428,
                        "test": [
                          25.26091954
                        ]
                      },
                      {
                        "learn": [
                          25.18736506
                        ],
                        "iteration": 74,
                        "passed_time": 15.63684332,
                        "remaining_time": 172.0052765,
                        "test": [
                          25.26087684
                        ]
                      },
                      {
                        "learn": [
                          25.18729668
                        ],
                        "iteration": 75,
                        "passed_time": 15.81168383,
                        "remaining_time": 171.4319405,
                        "test": [
                          25.26085342
                        ]
                      },
                      {
                        "learn": [
                          25.18722015
                        ],
                        "iteration": 76,
                        "passed_time": 15.97173036,
                        "remaining_time": 170.7108323,
                        "test": [
                          25.26082445
                        ]
                      },
                      {
                        "learn": [
                          25.18712253
                        ],
                        "iteration": 77,
                        "passed_time": 16.13664515,
                        "remaining_time": 170.0554142,
                        "test": [
                          25.26079101
                        ]
                      },
                      {
                        "learn": [
                          25.18702499
                        ],
                        "iteration": 78,
                        "passed_time": 16.26167719,
                        "remaining_time": 168.9979363,
                        "test": [
                          25.26075098
                        ]
                      },
                      {
                        "learn": [
                          25.18693732
                        ],
                        "iteration": 79,
                        "passed_time": 16.4468889,
                        "remaining_time": 168.5806112,
                        "test": [
                          25.26069262
                        ]
                      },
                      {
                        "learn": [
                          25.18685217
                        ],
                        "iteration": 80,
                        "passed_time": 16.61685116,
                        "remaining_time": 168.0148284,
                        "test": [
                          25.26065701
                        ]
                      },
                      {
                        "learn": [
                          25.18676764
                        ],
                        "iteration": 81,
                        "passed_time": 16.71714302,
                        "remaining_time": 166.763695,
                        "test": [
                          25.260611
                        ]
                      },
                      {
                        "learn": [
                          25.18668195
                        ],
                        "iteration": 82,
                        "passed_time": 16.87858453,
                        "remaining_time": 166.1422115,
                        "test": [
                          25.26055923
                        ]
                      },
                      {
                        "learn": [
                          25.18660618
                        ],
                        "iteration": 83,
                        "passed_time": 17.03955882,
                        "remaining_time": 165.5271428,
                        "test": [
                          25.26055011
                        ]
                      },
                      {
                        "learn": [
                          25.1865366
                        ],
                        "iteration": 84,
                        "passed_time": 17.18557938,
                        "remaining_time": 164.7793787,
                        "test": [
                          25.26052852
                        ]
                      },
                      {
                        "learn": [
                          25.18646201
                        ],
                        "iteration": 85,
                        "passed_time": 17.36494881,
                        "remaining_time": 164.3612597,
                        "test": [
                          25.26051459
                        ]
                      },
                      {
                        "learn": [
                          25.1863854
                        ],
                        "iteration": 86,
                        "passed_time": 17.49675495,
                        "remaining_time": 163.5041583,
                        "test": [
                          25.26048998
                        ]
                      },
                      {
                        "learn": [
                          25.18630832
                        ],
                        "iteration": 87,
                        "passed_time": 17.70615835,
                        "remaining_time": 163.379552,
                        "test": [
                          25.26044512
                        ]
                      },
                      {
                        "learn": [
                          25.18623241
                        ],
                        "iteration": 88,
                        "passed_time": 17.80833576,
                        "remaining_time": 162.2759584,
                        "test": [
                          25.26041444
                        ]
                      },
                      {
                        "learn": [
                          25.18615209
                        ],
                        "iteration": 89,
                        "passed_time": 17.93658709,
                        "remaining_time": 161.4292838,
                        "test": [
                          25.26038094
                        ]
                      },
                      {
                        "learn": [
                          25.18606997
                        ],
                        "iteration": 90,
                        "passed_time": 18.12177573,
                        "remaining_time": 161.1045776,
                        "test": [
                          25.26032814
                        ]
                      },
                      {
                        "learn": [
                          25.18599122
                        ],
                        "iteration": 91,
                        "passed_time": 18.32924376,
                        "remaining_time": 160.9785756,
                        "test": [
                          25.26030056
                        ]
                      },
                      {
                        "learn": [
                          25.18590859
                        ],
                        "iteration": 92,
                        "passed_time": 18.52225798,
                        "remaining_time": 160.7253999,
                        "test": [
                          25.26024874
                        ]
                      },
                      {
                        "learn": [
                          25.18583449
                        ],
                        "iteration": 93,
                        "passed_time": 18.70187402,
                        "remaining_time": 160.3586219,
                        "test": [
                          25.26022587
                        ]
                      },
                      {
                        "learn": [
                          25.18577148
                        ],
                        "iteration": 94,
                        "passed_time": 18.87880538,
                        "remaining_time": 159.973035,
                        "test": [
                          25.26018515
                        ]
                      },
                      {
                        "learn": [
                          25.18568925
                        ],
                        "iteration": 95,
                        "passed_time": 19.07733003,
                        "remaining_time": 159.772639,
                        "test": [
                          25.26016459
                        ]
                      },
                      {
                        "learn": [
                          25.18560376
                        ],
                        "iteration": 96,
                        "passed_time": 19.24631183,
                        "remaining_time": 159.3277155,
                        "test": [
                          25.26011519
                        ]
                      },
                      {
                        "learn": [
                          25.1855242
                        ],
                        "iteration": 97,
                        "passed_time": 19.38599403,
                        "remaining_time": 158.648645,
                        "test": [
                          25.26010688
                        ]
                      },
                      {
                        "learn": [
                          25.18544534
                        ],
                        "iteration": 98,
                        "passed_time": 19.5438172,
                        "remaining_time": 158.1272482,
                        "test": [
                          25.26008858
                        ]
                      },
                      {
                        "learn": [
                          25.18538497
                        ],
                        "iteration": 99,
                        "passed_time": 19.66401556,
                        "remaining_time": 157.3121245,
                        "test": [
                          25.26005817
                        ]
                      },
                      {
                        "learn": [
                          25.18529253
                        ],
                        "iteration": 100,
                        "passed_time": 19.82945123,
                        "remaining_time": 156.868629,
                        "test": [
                          25.2599922
                        ]
                      },
                      {
                        "learn": [
                          25.18523069
                        ],
                        "iteration": 101,
                        "passed_time": 19.97864819,
                        "remaining_time": 156.3035417,
                        "test": [
                          25.25996442
                        ]
                      },
                      {
                        "learn": [
                          25.18516363
                        ],
                        "iteration": 102,
                        "passed_time": 20.13546303,
                        "remaining_time": 155.8054761,
                        "test": [
                          25.25993179
                        ]
                      },
                      {
                        "learn": [
                          25.18509844
                        ],
                        "iteration": 103,
                        "passed_time": 20.24541219,
                        "remaining_time": 154.9552702,
                        "test": [
                          25.25991492
                        ]
                      },
                      {
                        "learn": [
                          25.18500089
                        ],
                        "iteration": 104,
                        "passed_time": 20.41848743,
                        "remaining_time": 154.5971191,
                        "test": [
                          25.25987918
                        ]
                      },
                      {
                        "learn": [
                          25.18494249
                        ],
                        "iteration": 105,
                        "passed_time": 20.58506199,
                        "remaining_time": 154.1937663,
                        "test": [
                          25.25986076
                        ]
                      },
                      {
                        "learn": [
                          25.18485584
                        ],
                        "iteration": 106,
                        "passed_time": 20.72544043,
                        "remaining_time": 153.600694,
                        "test": [
                          25.25982371
                        ]
                      },
                      {
                        "learn": [
                          25.18476964
                        ],
                        "iteration": 107,
                        "passed_time": 20.92323816,
                        "remaining_time": 153.4370799,
                        "test": [
                          25.25977517
                        ]
                      },
                      {
                        "learn": [
                          25.18469222
                        ],
                        "iteration": 108,
                        "passed_time": 21.07452316,
                        "remaining_time": 152.9353011,
                        "test": [
                          25.25974272
                        ]
                      },
                      {
                        "learn": [
                          25.18461728
                        ],
                        "iteration": 109,
                        "passed_time": 21.22878223,
                        "remaining_time": 152.4612542,
                        "test": [
                          25.25969136
                        ]
                      },
                      {
                        "learn": [
                          25.18452889
                        ],
                        "iteration": 110,
                        "passed_time": 21.40907052,
                        "remaining_time": 152.1779877,
                        "test": [
                          25.25966266
                        ]
                      },
                      {
                        "learn": [
                          25.18447618
                        ],
                        "iteration": 111,
                        "passed_time": 21.57163355,
                        "remaining_time": 151.7718503,
                        "test": [
                          25.25964564
                        ]
                      },
                      {
                        "learn": [
                          25.18439224
                        ],
                        "iteration": 112,
                        "passed_time": 21.75489612,
                        "remaining_time": 151.514188,
                        "test": [
                          25.25960396
                        ]
                      },
                      {
                        "learn": [
                          25.18432224
                        ],
                        "iteration": 113,
                        "passed_time": 21.90311897,
                        "remaining_time": 151.0162413,
                        "test": [
                          25.25960632
                        ]
                      },
                      {
                        "learn": [
                          25.18426173
                        ],
                        "iteration": 114,
                        "passed_time": 22.06753937,
                        "remaining_time": 150.6349426,
                        "test": [
                          25.25959011
                        ]
                      },
                      {
                        "learn": [
                          25.18418244
                        ],
                        "iteration": 115,
                        "passed_time": 22.26127681,
                        "remaining_time": 150.455526,
                        "test": [
                          25.25958673
                        ]
                      },
                      {
                        "learn": [
                          25.18411074
                        ],
                        "iteration": 116,
                        "passed_time": 22.45986951,
                        "remaining_time": 150.3083575,
                        "test": [
                          25.25956406
                        ]
                      },
                      {
                        "learn": [
                          25.18403509
                        ],
                        "iteration": 117,
                        "passed_time": 22.58775909,
                        "remaining_time": 149.6917594,
                        "test": [
                          25.25953134
                        ]
                      },
                      {
                        "learn": [
                          25.18395306
                        ],
                        "iteration": 118,
                        "passed_time": 22.76249266,
                        "remaining_time": 149.3908132,
                        "test": [
                          25.25950154
                        ]
                      },
                      {
                        "learn": [
                          25.18388873
                        ],
                        "iteration": 119,
                        "passed_time": 22.90964454,
                        "remaining_time": 148.9126895,
                        "test": [
                          25.2594527
                        ]
                      },
                      {
                        "learn": [
                          25.18383342
                        ],
                        "iteration": 120,
                        "passed_time": 23.03265908,
                        "remaining_time": 148.2846399,
                        "test": [
                          25.25943462
                        ]
                      },
                      {
                        "learn": [
                          25.18377237
                        ],
                        "iteration": 121,
                        "passed_time": 23.22296899,
                        "remaining_time": 148.0940153,
                        "test": [
                          25.25941319
                        ]
                      },
                      {
                        "learn": [
                          25.18367183
                        ],
                        "iteration": 122,
                        "passed_time": 23.40428991,
                        "remaining_time": 147.8466118,
                        "test": [
                          25.25936311
                        ]
                      },
                      {
                        "learn": [
                          25.18359698
                        ],
                        "iteration": 123,
                        "passed_time": 23.62521555,
                        "remaining_time": 147.8481231,
                        "test": [
                          25.25932735
                        ]
                      },
                      {
                        "learn": [
                          25.18353427
                        ],
                        "iteration": 124,
                        "passed_time": 23.80162259,
                        "remaining_time": 147.57006,
                        "test": [
                          25.2593137
                        ]
                      },
                      {
                        "learn": [
                          25.18347079
                        ],
                        "iteration": 125,
                        "passed_time": 23.97242938,
                        "remaining_time": 147.2592091,
                        "test": [
                          25.25928421
                        ]
                      },
                      {
                        "learn": [
                          25.18340218
                        ],
                        "iteration": 126,
                        "passed_time": 24.1069602,
                        "remaining_time": 146.7297657,
                        "test": [
                          25.25924775
                        ]
                      },
                      {
                        "learn": [
                          25.18332196
                        ],
                        "iteration": 127,
                        "passed_time": 24.27629785,
                        "remaining_time": 146.4164214,
                        "test": [
                          25.25920977
                        ]
                      },
                      {
                        "learn": [
                          25.1832581
                        ],
                        "iteration": 128,
                        "passed_time": 24.41196689,
                        "remaining_time": 145.9040812,
                        "test": [
                          25.2591706
                        ]
                      },
                      {
                        "learn": [
                          25.18319687
                        ],
                        "iteration": 129,
                        "passed_time": 24.52049366,
                        "remaining_time": 145.2367701,
                        "test": [
                          25.25917783
                        ]
                      },
                      {
                        "learn": [
                          25.18312122
                        ],
                        "iteration": 130,
                        "passed_time": 24.69001705,
                        "remaining_time": 144.9360543,
                        "test": [
                          25.25916305
                        ]
                      },
                      {
                        "learn": [
                          25.18304898
                        ],
                        "iteration": 131,
                        "passed_time": 24.92887599,
                        "remaining_time": 145.040733,
                        "test": [
                          25.25913996
                        ]
                      },
                      {
                        "learn": [
                          25.18298301
                        ],
                        "iteration": 132,
                        "passed_time": 25.10744498,
                        "remaining_time": 144.7925587,
                        "test": [
                          25.25912326
                        ]
                      },
                      {
                        "learn": [
                          25.18292509
                        ],
                        "iteration": 133,
                        "passed_time": 25.21756182,
                        "remaining_time": 144.1541221,
                        "test": [
                          25.25913751
                        ]
                      },
                      {
                        "learn": [
                          25.18285406
                        ],
                        "iteration": 134,
                        "passed_time": 25.56317453,
                        "remaining_time": 144.857989,
                        "test": [
                          25.25912709
                        ]
                      },
                      {
                        "learn": [
                          25.18278114
                        ],
                        "iteration": 135,
                        "passed_time": 26.00514489,
                        "remaining_time": 146.0877257,
                        "test": [
                          25.2591159
                        ]
                      },
                      {
                        "learn": [
                          25.18270577
                        ],
                        "iteration": 136,
                        "passed_time": 26.38809527,
                        "remaining_time": 146.9643554,
                        "test": [
                          25.25909438
                        ]
                      },
                      {
                        "learn": [
                          25.18264481
                        ],
                        "iteration": 137,
                        "passed_time": 26.68864508,
                        "remaining_time": 147.3677359,
                        "test": [
                          25.25909074
                        ]
                      },
                      {
                        "learn": [
                          25.18254177
                        ],
                        "iteration": 138,
                        "passed_time": 27.00523475,
                        "remaining_time": 147.8488032,
                        "test": [
                          25.25904567
                        ]
                      },
                      {
                        "learn": [
                          25.18245306
                        ],
                        "iteration": 139,
                        "passed_time": 27.27393223,
                        "remaining_time": 148.0584893,
                        "test": [
                          25.25903962
                        ]
                      },
                      {
                        "learn": [
                          25.18237755
                        ],
                        "iteration": 140,
                        "passed_time": 27.53152771,
                        "remaining_time": 148.2016279,
                        "test": [
                          25.25902475
                        ]
                      },
                      {
                        "learn": [
                          25.18231101
                        ],
                        "iteration": 141,
                        "passed_time": 27.88686986,
                        "remaining_time": 148.8608969,
                        "test": [
                          25.25901594
                        ]
                      },
                      {
                        "learn": [
                          25.18224261
                        ],
                        "iteration": 142,
                        "passed_time": 28.27305316,
                        "remaining_time": 149.6692395,
                        "test": [
                          25.25899611
                        ]
                      },
                      {
                        "learn": [
                          25.18216263
                        ],
                        "iteration": 143,
                        "passed_time": 28.60488536,
                        "remaining_time": 150.1756481,
                        "test": [
                          25.25899579
                        ]
                      },
                      {
                        "learn": [
                          25.18209564
                        ],
                        "iteration": 144,
                        "passed_time": 28.98142946,
                        "remaining_time": 150.9033051,
                        "test": [
                          25.25898293
                        ]
                      },
                      {
                        "learn": [
                          25.18202209
                        ],
                        "iteration": 145,
                        "passed_time": 29.29008816,
                        "remaining_time": 151.2652498,
                        "test": [
                          25.25892735
                        ]
                      },
                      {
                        "learn": [
                          25.18194182
                        ],
                        "iteration": 146,
                        "passed_time": 29.48590083,
                        "remaining_time": 151.0400226,
                        "test": [
                          25.25890155
                        ]
                      },
                      {
                        "learn": [
                          25.18185954
                        ],
                        "iteration": 147,
                        "passed_time": 29.68263785,
                        "remaining_time": 150.8198896,
                        "test": [
                          25.25885085
                        ]
                      },
                      {
                        "learn": [
                          25.18179052
                        ],
                        "iteration": 148,
                        "passed_time": 29.87654338,
                        "remaining_time": 150.5857992,
                        "test": [
                          25.25887586
                        ]
                      },
                      {
                        "learn": [
                          25.18172025
                        ],
                        "iteration": 149,
                        "passed_time": 30.0096651,
                        "remaining_time": 150.0483255,
                        "test": [
                          25.25884927
                        ]
                      },
                      {
                        "learn": [
                          25.1816336
                        ],
                        "iteration": 150,
                        "passed_time": 30.17507912,
                        "remaining_time": 149.6763859,
                        "test": [
                          25.25880379
                        ]
                      },
                      {
                        "learn": [
                          25.18155999
                        ],
                        "iteration": 151,
                        "passed_time": 30.28649392,
                        "remaining_time": 149.0414306,
                        "test": [
                          25.2587842
                        ]
                      },
                      {
                        "learn": [
                          25.18150151
                        ],
                        "iteration": 152,
                        "passed_time": 30.45213191,
                        "remaining_time": 148.6780558,
                        "test": [
                          25.2587907
                        ]
                      },
                      {
                        "learn": [
                          25.18145661
                        ],
                        "iteration": 153,
                        "passed_time": 30.57140983,
                        "remaining_time": 148.0926736,
                        "test": [
                          25.25879116
                        ]
                      },
                      {
                        "learn": [
                          25.18138188
                        ],
                        "iteration": 154,
                        "passed_time": 30.77841558,
                        "remaining_time": 147.9349652,
                        "test": [
                          25.2587642
                        ]
                      },
                      {
                        "learn": [
                          25.18132302
                        ],
                        "iteration": 155,
                        "passed_time": 30.93427523,
                        "remaining_time": 147.5326973,
                        "test": [
                          25.25875994
                        ]
                      },
                      {
                        "learn": [
                          25.18125937
                        ],
                        "iteration": 156,
                        "passed_time": 31.06198485,
                        "remaining_time": 147.0003487,
                        "test": [
                          25.25873364
                        ]
                      },
                      {
                        "learn": [
                          25.18118542
                        ],
                        "iteration": 157,
                        "passed_time": 31.20303889,
                        "remaining_time": 146.5357902,
                        "test": [
                          25.25870728
                        ]
                      },
                      {
                        "learn": [
                          25.18112791
                        ],
                        "iteration": 158,
                        "passed_time": 31.37610292,
                        "remaining_time": 146.2244796,
                        "test": [
                          25.25870016
                        ]
                      },
                      {
                        "learn": [
                          25.18105435
                        ],
                        "iteration": 159,
                        "passed_time": 31.52041689,
                        "remaining_time": 145.7819281,
                        "test": [
                          25.25868475
                        ]
                      },
                      {
                        "learn": [
                          25.18099495
                        ],
                        "iteration": 160,
                        "passed_time": 31.66852624,
                        "remaining_time": 145.3605024,
                        "test": [
                          25.25867716
                        ]
                      },
                      {
                        "learn": [
                          25.18093505
                        ],
                        "iteration": 161,
                        "passed_time": 31.85487617,
                        "remaining_time": 145.1166581,
                        "test": [
                          25.25868091
                        ]
                      },
                      {
                        "learn": [
                          25.18088246
                        ],
                        "iteration": 162,
                        "passed_time": 31.97823417,
                        "remaining_time": 144.588703,
                        "test": [
                          25.25867243
                        ]
                      },
                      {
                        "learn": [
                          25.18082057
                        ],
                        "iteration": 163,
                        "passed_time": 32.16008382,
                        "remaining_time": 144.328181,
                        "test": [
                          25.2586359
                        ]
                      },
                      {
                        "learn": [
                          25.18076609
                        ],
                        "iteration": 164,
                        "passed_time": 32.3126478,
                        "remaining_time": 143.9381584,
                        "test": [
                          25.25863591
                        ]
                      },
                      {
                        "learn": [
                          25.18069395
                        ],
                        "iteration": 165,
                        "passed_time": 32.48798847,
                        "remaining_time": 143.6517081,
                        "test": [
                          25.25860647
                        ]
                      },
                      {
                        "learn": [
                          25.18062938
                        ],
                        "iteration": 166,
                        "passed_time": 32.62944914,
                        "remaining_time": 143.2178815,
                        "test": [
                          25.2585979
                        ]
                      },
                      {
                        "learn": [
                          25.18056052
                        ],
                        "iteration": 167,
                        "passed_time": 32.7484691,
                        "remaining_time": 142.6897582,
                        "test": [
                          25.25856173
                        ]
                      },
                      {
                        "learn": [
                          25.18050567
                        ],
                        "iteration": 168,
                        "passed_time": 32.90888054,
                        "remaining_time": 142.3455129,
                        "test": [
                          25.2585273
                        ]
                      },
                      {
                        "learn": [
                          25.18043834
                        ],
                        "iteration": 169,
                        "passed_time": 33.03356643,
                        "remaining_time": 141.8500205,
                        "test": [
                          25.25853219
                        ]
                      },
                      {
                        "learn": [
                          25.18038302
                        ],
                        "iteration": 170,
                        "passed_time": 33.20104926,
                        "remaining_time": 141.5413153,
                        "test": [
                          25.25853246
                        ]
                      },
                      {
                        "learn": [
                          25.18031621
                        ],
                        "iteration": 171,
                        "passed_time": 33.32665424,
                        "remaining_time": 141.0570017,
                        "test": [
                          25.25851806
                        ]
                      },
                      {
                        "learn": [
                          25.18022561
                        ],
                        "iteration": 172,
                        "passed_time": 33.53609509,
                        "remaining_time": 140.9291395,
                        "test": [
                          25.25848249
                        ]
                      },
                      {
                        "learn": [
                          25.18014629
                        ],
                        "iteration": 173,
                        "passed_time": 33.72567369,
                        "remaining_time": 140.7174661,
                        "test": [
                          25.25847612
                        ]
                      },
                      {
                        "learn": [
                          25.18007333
                        ],
                        "iteration": 174,
                        "passed_time": 33.88546783,
                        "remaining_time": 140.3826524,
                        "test": [
                          25.25844285
                        ]
                      },
                      {
                        "learn": [
                          25.18000837
                        ],
                        "iteration": 175,
                        "passed_time": 34.05288993,
                        "remaining_time": 140.0812063,
                        "test": [
                          25.25841329
                        ]
                      },
                      {
                        "learn": [
                          25.17994349
                        ],
                        "iteration": 176,
                        "passed_time": 34.21304955,
                        "remaining_time": 139.7516092,
                        "test": [
                          25.25838706
                        ]
                      },
                      {
                        "learn": [
                          25.17988674
                        ],
                        "iteration": 177,
                        "passed_time": 34.34019727,
                        "remaining_time": 139.2900136,
                        "test": [
                          25.25837591
                        ]
                      },
                      {
                        "learn": [
                          25.17981954
                        ],
                        "iteration": 178,
                        "passed_time": 34.50336274,
                        "remaining_time": 138.977232,
                        "test": [
                          25.2583544
                        ]
                      },
                      {
                        "learn": [
                          25.17974622
                        ],
                        "iteration": 179,
                        "passed_time": 34.70186616,
                        "remaining_time": 138.8074647,
                        "test": [
                          25.25833964
                        ]
                      },
                      {
                        "learn": [
                          25.17968592
                        ],
                        "iteration": 180,
                        "passed_time": 34.83860212,
                        "remaining_time": 138.3920162,
                        "test": [
                          25.25833174
                        ]
                      },
                      {
                        "learn": [
                          25.17963138
                        ],
                        "iteration": 181,
                        "passed_time": 34.95590899,
                        "remaining_time": 137.9029816,
                        "test": [
                          25.25833281
                        ]
                      },
                      {
                        "learn": [
                          25.17957014
                        ],
                        "iteration": 182,
                        "passed_time": 35.11718397,
                        "remaining_time": 137.5902782,
                        "test": [
                          25.25832924
                        ]
                      },
                      {
                        "learn": [
                          25.17951665
                        ],
                        "iteration": 183,
                        "passed_time": 35.25044636,
                        "remaining_time": 137.1702152,
                        "test": [
                          25.25830588
                        ]
                      },
                      {
                        "learn": [
                          25.17942035
                        ],
                        "iteration": 184,
                        "passed_time": 35.40155371,
                        "remaining_time": 136.8222211,
                        "test": [
                          25.25824455
                        ]
                      },
                      {
                        "learn": [
                          25.17937934
                        ],
                        "iteration": 185,
                        "passed_time": 35.55162534,
                        "remaining_time": 136.4723682,
                        "test": [
                          25.25824751
                        ]
                      },
                      {
                        "learn": [
                          25.17931254
                        ],
                        "iteration": 186,
                        "passed_time": 35.71210609,
                        "remaining_time": 136.1643403,
                        "test": [
                          25.25824434
                        ]
                      },
                      {
                        "learn": [
                          25.17925949
                        ],
                        "iteration": 187,
                        "passed_time": 35.85096045,
                        "remaining_time": 135.7759779,
                        "test": [
                          25.25824192
                        ]
                      },
                      {
                        "learn": [
                          25.17920311
                        ],
                        "iteration": 188,
                        "passed_time": 35.94098395,
                        "remaining_time": 135.2065587,
                        "test": [
                          25.25823466
                        ]
                      },
                      {
                        "learn": [
                          25.17914829
                        ],
                        "iteration": 189,
                        "passed_time": 36.09883126,
                        "remaining_time": 134.8956326,
                        "test": [
                          25.25822152
                        ]
                      },
                      {
                        "learn": [
                          25.17908854
                        ],
                        "iteration": 190,
                        "passed_time": 36.26988835,
                        "remaining_time": 134.6353447,
                        "test": [
                          25.25819627
                        ]
                      },
                      {
                        "learn": [
                          25.17901841
                        ],
                        "iteration": 191,
                        "passed_time": 36.44206224,
                        "remaining_time": 134.3801045,
                        "test": [
                          25.258165
                        ]
                      },
                      {
                        "learn": [
                          25.17893932
                        ],
                        "iteration": 192,
                        "passed_time": 36.62644482,
                        "remaining_time": 134.1704481,
                        "test": [
                          25.25813403
                        ]
                      },
                      {
                        "learn": [
                          25.17888413
                        ],
                        "iteration": 193,
                        "passed_time": 36.76848061,
                        "remaining_time": 133.8069449,
                        "test": [
                          25.25812699
                        ]
                      },
                      {
                        "learn": [
                          25.17882008
                        ],
                        "iteration": 194,
                        "passed_time": 36.96985711,
                        "remaining_time": 133.6602526,
                        "test": [
                          25.25808963
                        ]
                      },
                      {
                        "learn": [
                          25.17874349
                        ],
                        "iteration": 195,
                        "passed_time": 37.11140656,
                        "remaining_time": 133.2981133,
                        "test": [
                          25.25806199
                        ]
                      },
                      {
                        "learn": [
                          25.17867471
                        ],
                        "iteration": 196,
                        "passed_time": 37.22009611,
                        "remaining_time": 132.8209521,
                        "test": [
                          25.25804724
                        ]
                      },
                      {
                        "learn": [
                          25.17861949
                        ],
                        "iteration": 197,
                        "passed_time": 37.32257943,
                        "remaining_time": 132.3255089,
                        "test": [
                          25.25804924
                        ]
                      },
                      {
                        "learn": [
                          25.17855161
                        ],
                        "iteration": 198,
                        "passed_time": 37.49072611,
                        "remaining_time": 132.0653216,
                        "test": [
                          25.25803291
                        ]
                      },
                      {
                        "learn": [
                          25.17848902
                        ],
                        "iteration": 199,
                        "passed_time": 37.61687552,
                        "remaining_time": 131.6590643,
                        "test": [
                          25.25802251
                        ]
                      },
                      {
                        "learn": [
                          25.17844063
                        ],
                        "iteration": 200,
                        "passed_time": 37.79751211,
                        "remaining_time": 131.4450794,
                        "test": [
                          25.25800527
                        ]
                      },
                      {
                        "learn": [
                          25.17837307
                        ],
                        "iteration": 201,
                        "passed_time": 37.9616045,
                        "remaining_time": 131.1742571,
                        "test": [
                          25.2579818
                        ]
                      },
                      {
                        "learn": [
                          25.17830949
                        ],
                        "iteration": 202,
                        "passed_time": 38.10872521,
                        "remaining_time": 130.8462142,
                        "test": [
                          25.25798902
                        ]
                      },
                      {
                        "learn": [
                          25.17824846
                        ],
                        "iteration": 203,
                        "passed_time": 38.2480423,
                        "remaining_time": 130.4933208,
                        "test": [
                          25.25797677
                        ]
                      },
                      {
                        "learn": [
                          25.17819229
                        ],
                        "iteration": 204,
                        "passed_time": 38.34343899,
                        "remaining_time": 129.9936102,
                        "test": [
                          25.2579685
                        ]
                      },
                      {
                        "learn": [
                          25.1781204
                        ],
                        "iteration": 205,
                        "passed_time": 38.54207518,
                        "remaining_time": 129.8456319,
                        "test": [
                          25.25795672
                        ]
                      },
                      {
                        "learn": [
                          25.17806737
                        ],
                        "iteration": 206,
                        "passed_time": 38.74488043,
                        "remaining_time": 129.7111214,
                        "test": [
                          25.25796001
                        ]
                      },
                      {
                        "learn": [
                          25.17801698
                        ],
                        "iteration": 207,
                        "passed_time": 38.90279676,
                        "remaining_time": 129.4266123,
                        "test": [
                          25.25795222
                        ]
                      },
                      {
                        "learn": [
                          25.17795008
                        ],
                        "iteration": 208,
                        "passed_time": 39.07654192,
                        "remaining_time": 129.1956482,
                        "test": [
                          25.25795121
                        ]
                      },
                      {
                        "learn": [
                          25.17788195
                        ],
                        "iteration": 209,
                        "passed_time": 39.25496376,
                        "remaining_time": 128.9805952,
                        "test": [
                          25.25793515
                        ]
                      },
                      {
                        "learn": [
                          25.17781025
                        ],
                        "iteration": 210,
                        "passed_time": 39.46500641,
                        "remaining_time": 128.8691441,
                        "test": [
                          25.25790719
                        ]
                      },
                      {
                        "learn": [
                          25.17774053
                        ],
                        "iteration": 211,
                        "passed_time": 39.71460066,
                        "remaining_time": 128.8851191,
                        "test": [
                          25.25789939
                        ]
                      },
                      {
                        "learn": [
                          25.17768752
                        ],
                        "iteration": 212,
                        "passed_time": 39.91838914,
                        "remaining_time": 128.7508608,
                        "test": [
                          25.2578964
                        ]
                      },
                      {
                        "learn": [
                          25.17761585
                        ],
                        "iteration": 213,
                        "passed_time": 40.3026584,
                        "remaining_time": 129.1945031,
                        "test": [
                          25.25787854
                        ]
                      },
                      {
                        "learn": [
                          25.17753639
                        ],
                        "iteration": 214,
                        "passed_time": 40.6711453,
                        "remaining_time": 129.5801606,
                        "test": [
                          25.25785791
                        ]
                      },
                      {
                        "learn": [
                          25.17748119
                        ],
                        "iteration": 215,
                        "passed_time": 40.93595384,
                        "remaining_time": 129.6305205,
                        "test": [
                          25.25785466
                        ]
                      },
                      {
                        "learn": [
                          25.17742274
                        ],
                        "iteration": 216,
                        "passed_time": 41.23010254,
                        "remaining_time": 129.7703227,
                        "test": [
                          25.25786274
                        ]
                      },
                      {
                        "learn": [
                          25.17737293
                        ],
                        "iteration": 217,
                        "passed_time": 41.52752556,
                        "remaining_time": 129.9163873,
                        "test": [
                          25.25787171
                        ]
                      },
                      {
                        "learn": [
                          25.17731166
                        ],
                        "iteration": 218,
                        "passed_time": 41.8886722,
                        "remaining_time": 130.256556,
                        "test": [
                          25.25785889
                        ]
                      },
                      {
                        "learn": [
                          25.17724168
                        ],
                        "iteration": 219,
                        "passed_time": 42.13627145,
                        "remaining_time": 130.2393845,
                        "test": [
                          25.25786236
                        ]
                      },
                      {
                        "learn": [
                          25.17718221
                        ],
                        "iteration": 220,
                        "passed_time": 42.45112541,
                        "remaining_time": 130.4267609,
                        "test": [
                          25.25787281
                        ]
                      },
                      {
                        "learn": [
                          25.17710727
                        ],
                        "iteration": 221,
                        "passed_time": 42.73185067,
                        "remaining_time": 130.5053818,
                        "test": [
                          25.25784845
                        ]
                      },
                      {
                        "learn": [
                          25.17706129
                        ],
                        "iteration": 222,
                        "passed_time": 42.94963788,
                        "remaining_time": 130.3897078,
                        "test": [
                          25.25784783
                        ]
                      },
                      {
                        "learn": [
                          25.17698746
                        ],
                        "iteration": 223,
                        "passed_time": 43.28624922,
                        "remaining_time": 130.6317164,
                        "test": [
                          25.25782295
                        ]
                      },
                      {
                        "learn": [
                          25.17694272
                        ],
                        "iteration": 224,
                        "passed_time": 43.49463604,
                        "remaining_time": 130.4839081,
                        "test": [
                          25.25782729
                        ]
                      },
                      {
                        "learn": [
                          25.17688844
                        ],
                        "iteration": 225,
                        "passed_time": 43.6113085,
                        "remaining_time": 130.0620439,
                        "test": [
                          25.25782782
                        ]
                      },
                      {
                        "learn": [
                          25.17681258
                        ],
                        "iteration": 226,
                        "passed_time": 43.7923114,
                        "remaining_time": 129.8335928,
                        "test": [
                          25.25780559
                        ]
                      },
                      {
                        "learn": [
                          25.17676171
                        ],
                        "iteration": 227,
                        "passed_time": 43.94487439,
                        "remaining_time": 129.5217351,
                        "test": [
                          25.25779922
                        ]
                      },
                      {
                        "learn": [
                          25.17671346
                        ],
                        "iteration": 228,
                        "passed_time": 44.08483677,
                        "remaining_time": 129.174347,
                        "test": [
                          25.25779856
                        ]
                      },
                      {
                        "learn": [
                          25.17664543
                        ],
                        "iteration": 229,
                        "passed_time": 44.25977411,
                        "remaining_time": 128.9306463,
                        "test": [
                          25.25779661
                        ]
                      },
                      {
                        "learn": [
                          25.17658556
                        ],
                        "iteration": 230,
                        "passed_time": 44.38732946,
                        "remaining_time": 128.5503178,
                        "test": [
                          25.25778975
                        ]
                      },
                      {
                        "learn": [
                          25.17653333
                        ],
                        "iteration": 231,
                        "passed_time": 44.53288914,
                        "remaining_time": 128.2240084,
                        "test": [
                          25.25776021
                        ]
                      },
                      {
                        "learn": [
                          25.17648425
                        ],
                        "iteration": 232,
                        "passed_time": 44.63285638,
                        "remaining_time": 127.7687348,
                        "test": [
                          25.2577518
                        ]
                      },
                      {
                        "learn": [
                          25.17642519
                        ],
                        "iteration": 233,
                        "passed_time": 44.78271064,
                        "remaining_time": 127.4584841,
                        "test": [
                          25.25772424
                        ]
                      },
                      {
                        "learn": [
                          25.17637662
                        ],
                        "iteration": 234,
                        "passed_time": 44.89556923,
                        "remaining_time": 127.0449087,
                        "test": [
                          25.2577433
                        ]
                      },
                      {
                        "learn": [
                          25.17633722
                        ],
                        "iteration": 235,
                        "passed_time": 45.00316139,
                        "remaining_time": 126.6190643,
                        "test": [
                          25.25775203
                        ]
                      },
                      {
                        "learn": [
                          25.17627166
                        ],
                        "iteration": 236,
                        "passed_time": 45.11523132,
                        "remaining_time": 126.2084319,
                        "test": [
                          25.25774862
                        ]
                      },
                      {
                        "learn": [
                          25.17621971
                        ],
                        "iteration": 237,
                        "passed_time": 45.26122693,
                        "remaining_time": 125.8946732,
                        "test": [
                          25.25775743
                        ]
                      },
                      {
                        "learn": [
                          25.17616131
                        ],
                        "iteration": 238,
                        "passed_time": 45.43674604,
                        "remaining_time": 125.6639713,
                        "test": [
                          25.2577637
                        ]
                      },
                      {
                        "learn": [
                          25.17611326
                        ],
                        "iteration": 239,
                        "passed_time": 45.54578908,
                        "remaining_time": 125.25092,
                        "test": [
                          25.25777163
                        ]
                      },
                      {
                        "learn": [
                          25.17606388
                        ],
                        "iteration": 240,
                        "passed_time": 45.76060791,
                        "remaining_time": 125.1296291,
                        "test": [
                          25.25778898
                        ]
                      },
                      {
                        "learn": [
                          25.17599369
                        ],
                        "iteration": 241,
                        "passed_time": 45.94102492,
                        "remaining_time": 124.9140264,
                        "test": [
                          25.25777079
                        ]
                      },
                      {
                        "learn": [
                          25.17594395
                        ],
                        "iteration": 242,
                        "passed_time": 46.07035815,
                        "remaining_time": 124.560598,
                        "test": [
                          25.25776042
                        ]
                      },
                      {
                        "learn": [
                          25.17587934
                        ],
                        "iteration": 243,
                        "passed_time": 46.29077307,
                        "remaining_time": 124.4538817,
                        "test": [
                          25.25774418
                        ]
                      },
                      {
                        "learn": [
                          25.1758045
                        ],
                        "iteration": 244,
                        "passed_time": 46.47863303,
                        "remaining_time": 124.2592026,
                        "test": [
                          25.25771548
                        ]
                      },
                      {
                        "learn": [
                          25.17574413
                        ],
                        "iteration": 245,
                        "passed_time": 46.64117984,
                        "remaining_time": 123.997283,
                        "test": [
                          25.25772471
                        ]
                      },
                      {
                        "learn": [
                          25.1756877
                        ],
                        "iteration": 246,
                        "passed_time": 46.80220846,
                        "remaining_time": 123.7321544,
                        "test": [
                          25.25769183
                        ]
                      },
                      {
                        "learn": [
                          25.17564219
                        ],
                        "iteration": 247,
                        "passed_time": 46.93131014,
                        "remaining_time": 123.3839283,
                        "test": [
                          25.25768655
                        ]
                      },
                      {
                        "learn": [
                          25.17558958
                        ],
                        "iteration": 248,
                        "passed_time": 47.0603813,
                        "remaining_time": 123.0373824,
                        "test": [
                          25.25768234
                        ]
                      },
                      {
                        "learn": [
                          25.17553049
                        ],
                        "iteration": 249,
                        "passed_time": 47.20740552,
                        "remaining_time": 122.7392543,
                        "test": [
                          25.25767699
                        ]
                      },
                      {
                        "learn": [
                          25.17546633
                        ],
                        "iteration": 250,
                        "passed_time": 47.37355271,
                        "remaining_time": 122.4917757,
                        "test": [
                          25.25767687
                        ]
                      },
                      {
                        "learn": [
                          25.17539969
                        ],
                        "iteration": 251,
                        "passed_time": 47.53901415,
                        "remaining_time": 122.2431793,
                        "test": [
                          25.25765643
                        ]
                      },
                      {
                        "learn": [
                          25.17534487
                        ],
                        "iteration": 252,
                        "passed_time": 47.69205106,
                        "remaining_time": 121.9634666,
                        "test": [
                          25.25765995
                        ]
                      },
                      {
                        "learn": [
                          25.17529642
                        ],
                        "iteration": 253,
                        "passed_time": 47.82818744,
                        "remaining_time": 121.6417681,
                        "test": [
                          25.25766014
                        ]
                      },
                      {
                        "learn": [
                          25.17522829
                        ],
                        "iteration": 254,
                        "passed_time": 47.9866912,
                        "remaining_time": 121.3781013,
                        "test": [
                          25.25763735
                        ]
                      },
                      {
                        "learn": [
                          25.17516764
                        ],
                        "iteration": 255,
                        "passed_time": 48.12336739,
                        "remaining_time": 121.0603461,
                        "test": [
                          25.25762395
                        ]
                      },
                      {
                        "learn": [
                          25.17511795
                        ],
                        "iteration": 256,
                        "passed_time": 48.2683089,
                        "remaining_time": 120.7646795,
                        "test": [
                          25.25762357
                        ]
                      },
                      {
                        "learn": [
                          25.175065
                        ],
                        "iteration": 257,
                        "passed_time": 48.43878318,
                        "remaining_time": 120.5337163,
                        "test": [
                          25.25762511
                        ]
                      },
                      {
                        "learn": [
                          25.17501126
                        ],
                        "iteration": 258,
                        "passed_time": 48.58527543,
                        "remaining_time": 120.243867,
                        "test": [
                          25.25762362
                        ]
                      },
                      {
                        "learn": [
                          25.17494375
                        ],
                        "iteration": 259,
                        "passed_time": 48.7498144,
                        "remaining_time": 119.9995431,
                        "test": [
                          25.25759946
                        ]
                      },
                      {
                        "learn": [
                          25.17488576
                        ],
                        "iteration": 260,
                        "passed_time": 48.93423264,
                        "remaining_time": 119.8045006,
                        "test": [
                          25.25759767
                        ]
                      },
                      {
                        "learn": [
                          25.17482271
                        ],
                        "iteration": 261,
                        "passed_time": 49.11420251,
                        "remaining_time": 119.5987069,
                        "test": [
                          25.25758418
                        ]
                      },
                      {
                        "learn": [
                          25.17476751
                        ],
                        "iteration": 262,
                        "passed_time": 49.25999578,
                        "remaining_time": 119.310332,
                        "test": [
                          25.25757408
                        ]
                      },
                      {
                        "learn": [
                          25.1747218
                        ],
                        "iteration": 263,
                        "passed_time": 49.4999867,
                        "remaining_time": 119.249968,
                        "test": [
                          25.25756035
                        ]
                      },
                      {
                        "learn": [
                          25.17465434
                        ],
                        "iteration": 264,
                        "passed_time": 49.67633592,
                        "remaining_time": 119.0357483,
                        "test": [
                          25.25752069
                        ]
                      },
                      {
                        "learn": [
                          25.17460104
                        ],
                        "iteration": 265,
                        "passed_time": 49.81606178,
                        "remaining_time": 118.7345232,
                        "test": [
                          25.25752195
                        ]
                      },
                      {
                        "learn": [
                          25.1745465
                        ],
                        "iteration": 266,
                        "passed_time": 49.9661373,
                        "remaining_time": 118.4590446,
                        "test": [
                          25.2575018
                        ]
                      },
                      {
                        "learn": [
                          25.17447718
                        ],
                        "iteration": 267,
                        "passed_time": 50.13377942,
                        "remaining_time": 118.2259276,
                        "test": [
                          25.25746971
                        ]
                      },
                      {
                        "learn": [
                          25.17442943
                        ],
                        "iteration": 268,
                        "passed_time": 50.29237993,
                        "remaining_time": 117.9720882,
                        "test": [
                          25.25745668
                        ]
                      },
                      {
                        "learn": [
                          25.17437095
                        ],
                        "iteration": 269,
                        "passed_time": 50.48787692,
                        "remaining_time": 117.8050462,
                        "test": [
                          25.25746046
                        ]
                      },
                      {
                        "learn": [
                          25.17431465
                        ],
                        "iteration": 270,
                        "passed_time": 50.62431172,
                        "remaining_time": 117.5007088,
                        "test": [
                          25.25745395
                        ]
                      },
                      {
                        "learn": [
                          25.17426113
                        ],
                        "iteration": 271,
                        "passed_time": 50.78193466,
                        "remaining_time": 117.2465256,
                        "test": [
                          25.25746086
                        ]
                      },
                      {
                        "learn": [
                          25.17420272
                        ],
                        "iteration": 272,
                        "passed_time": 50.90947803,
                        "remaining_time": 116.923966,
                        "test": [
                          25.25746706
                        ]
                      },
                      {
                        "learn": [
                          25.17414327
                        ],
                        "iteration": 273,
                        "passed_time": 51.06265905,
                        "remaining_time": 116.6614035,
                        "test": [
                          25.25746693
                        ]
                      },
                      {
                        "learn": [
                          25.17408704
                        ],
                        "iteration": 274,
                        "passed_time": 51.22352183,
                        "remaining_time": 116.4170951,
                        "test": [
                          25.25746395
                        ]
                      },
                      {
                        "learn": [
                          25.17403917
                        ],
                        "iteration": 275,
                        "passed_time": 51.37049011,
                        "remaining_time": 116.1419776,
                        "test": [
                          25.25745178
                        ]
                      },
                      {
                        "learn": [
                          25.17398285
                        ],
                        "iteration": 276,
                        "passed_time": 51.53336336,
                        "remaining_time": 115.9035573,
                        "test": [
                          25.25743535
                        ]
                      },
                      {
                        "learn": [
                          25.17392185
                        ],
                        "iteration": 277,
                        "passed_time": 51.6875365,
                        "remaining_time": 115.6462148,
                        "test": [
                          25.25742207
                        ]
                      },
                      {
                        "learn": [
                          25.1738721
                        ],
                        "iteration": 278,
                        "passed_time": 51.8236488,
                        "remaining_time": 115.3494118,
                        "test": [
                          25.25742563
                        ]
                      },
                      {
                        "learn": [
                          25.17381499
                        ],
                        "iteration": 279,
                        "passed_time": 51.99411469,
                        "remaining_time": 115.1298254,
                        "test": [
                          25.25742866
                        ]
                      },
                      {
                        "learn": [
                          25.17375514
                        ],
                        "iteration": 280,
                        "passed_time": 52.09904823,
                        "remaining_time": 114.7662308,
                        "test": [
                          25.25743275
                        ]
                      },
                      {
                        "learn": [
                          25.17369383
                        ],
                        "iteration": 281,
                        "passed_time": 52.25870183,
                        "remaining_time": 114.5243891,
                        "test": [
                          25.25743908
                        ]
                      },
                      {
                        "learn": [
                          25.17363856
                        ],
                        "iteration": 282,
                        "passed_time": 52.42715346,
                        "remaining_time": 114.3023098,
                        "test": [
                          25.2574344
                        ]
                      },
                      {
                        "learn": [
                          25.17357245
                        ],
                        "iteration": 283,
                        "passed_time": 52.61717758,
                        "remaining_time": 114.1273992,
                        "test": [
                          25.25740866
                        ]
                      },
                      {
                        "learn": [
                          25.17351609
                        ],
                        "iteration": 284,
                        "passed_time": 52.80059375,
                        "remaining_time": 113.9381233,
                        "test": [
                          25.25739528
                        ]
                      },
                      {
                        "learn": [
                          25.17344904
                        ],
                        "iteration": 285,
                        "passed_time": 52.99333742,
                        "remaining_time": 113.7689132,
                        "test": [
                          25.2573824
                        ]
                      },
                      {
                        "learn": [
                          25.17340009
                        ],
                        "iteration": 286,
                        "passed_time": 53.17916858,
                        "remaining_time": 113.5847747,
                        "test": [
                          25.25737463
                        ]
                      },
                      {
                        "learn": [
                          25.17334316
                        ],
                        "iteration": 287,
                        "passed_time": 53.30181253,
                        "remaining_time": 113.2663516,
                        "test": [
                          25.25737831
                        ]
                      },
                      {
                        "learn": [
                          25.17328966
                        ],
                        "iteration": 288,
                        "passed_time": 53.46336666,
                        "remaining_time": 113.0315468,
                        "test": [
                          25.25735824
                        ]
                      },
                      {
                        "learn": [
                          25.17320907
                        ],
                        "iteration": 289,
                        "passed_time": 53.78032736,
                        "remaining_time": 113.1241369,
                        "test": [
                          25.25735539
                        ]
                      },
                      {
                        "learn": [
                          25.17316918
                        ],
                        "iteration": 290,
                        "passed_time": 54.04212273,
                        "remaining_time": 113.098463,
                        "test": [
                          25.25734157
                        ]
                      },
                      {
                        "learn": [
                          25.17312378
                        ],
                        "iteration": 291,
                        "passed_time": 54.32274046,
                        "remaining_time": 113.1103637,
                        "test": [
                          25.25733644
                        ]
                      },
                      {
                        "learn": [
                          25.17307573
                        ],
                        "iteration": 292,
                        "passed_time": 54.68832355,
                        "remaining_time": 113.296288,
                        "test": [
                          25.25732482
                        ]
                      },
                      {
                        "learn": [
                          25.17301403
                        ],
                        "iteration": 293,
                        "passed_time": 55.01393758,
                        "remaining_time": 113.3960754,
                        "test": [
                          25.25732511
                        ]
                      },
                      {
                        "learn": [
                          25.17296213
                        ],
                        "iteration": 294,
                        "passed_time": 55.3307601,
                        "remaining_time": 113.4749487,
                        "test": [
                          25.25733021
                        ]
                      },
                      {
                        "learn": [
                          25.17291207
                        ],
                        "iteration": 295,
                        "passed_time": 55.66728433,
                        "remaining_time": 113.5913505,
                        "test": [
                          25.25733212
                        ]
                      },
                      {
                        "learn": [
                          25.17285095
                        ],
                        "iteration": 296,
                        "passed_time": 56.07016857,
                        "remaining_time": 113.8394332,
                        "test": [
                          25.25732068
                        ]
                      },
                      {
                        "learn": [
                          25.17279856
                        ],
                        "iteration": 297,
                        "passed_time": 56.36085275,
                        "remaining_time": 113.8564878,
                        "test": [
                          25.25732711
                        ]
                      },
                      {
                        "learn": [
                          25.17275198
                        ],
                        "iteration": 298,
                        "passed_time": 56.5667965,
                        "remaining_time": 113.7011528,
                        "test": [
                          25.25732894
                        ]
                      },
                      {
                        "learn": [
                          25.17268712
                        ],
                        "iteration": 299,
                        "passed_time": 56.96520261,
                        "remaining_time": 113.9304052,
                        "test": [
                          25.25733127
                        ]
                      },
                      {
                        "learn": [
                          25.17264924
                        ],
                        "iteration": 300,
                        "passed_time": 57.1355702,
                        "remaining_time": 113.7016829,
                        "test": [
                          25.25731494
                        ]
                      },
                      {
                        "learn": [
                          25.17259151
                        ],
                        "iteration": 301,
                        "passed_time": 57.45041772,
                        "remaining_time": 113.7594364,
                        "test": [
                          25.25729759
                        ]
                      },
                      {
                        "learn": [
                          25.17253538
                        ],
                        "iteration": 302,
                        "passed_time": 57.5917719,
                        "remaining_time": 113.4728971,
                        "test": [
                          25.25728008
                        ]
                      },
                      {
                        "learn": [
                          25.1724634
                        ],
                        "iteration": 303,
                        "passed_time": 57.74270896,
                        "remaining_time": 113.2061005,
                        "test": [
                          25.25727054
                        ]
                      },
                      {
                        "learn": [
                          25.17241857
                        ],
                        "iteration": 304,
                        "passed_time": 57.95030681,
                        "remaining_time": 113.0505985,
                        "test": [
                          25.25727186
                        ]
                      },
                      {
                        "learn": [
                          25.17236266
                        ],
                        "iteration": 305,
                        "passed_time": 58.05959154,
                        "remaining_time": 112.703913,
                        "test": [
                          25.25726321
                        ]
                      },
                      {
                        "learn": [
                          25.17231112
                        ],
                        "iteration": 306,
                        "passed_time": 58.16474371,
                        "remaining_time": 112.3507916,
                        "test": [
                          25.25725731
                        ]
                      },
                      {
                        "learn": [
                          25.17225828
                        ],
                        "iteration": 307,
                        "passed_time": 58.31649966,
                        "remaining_time": 112.0888565,
                        "test": [
                          25.25726486
                        ]
                      },
                      {
                        "learn": [
                          25.17219828
                        ],
                        "iteration": 308,
                        "passed_time": 58.49395637,
                        "remaining_time": 111.8767903,
                        "test": [
                          25.2572516
                        ]
                      },
                      {
                        "learn": [
                          25.17214357
                        ],
                        "iteration": 309,
                        "passed_time": 58.66936094,
                        "remaining_time": 111.6610418,
                        "test": [
                          25.25722024
                        ]
                      },
                      {
                        "learn": [
                          25.17209427
                        ],
                        "iteration": 310,
                        "passed_time": 58.82530956,
                        "remaining_time": 111.4087052,
                        "test": [
                          25.25722221
                        ]
                      },
                      {
                        "learn": [
                          25.17202888
                        ],
                        "iteration": 311,
                        "passed_time": 58.91429317,
                        "remaining_time": 111.0307833,
                        "test": [
                          25.25720197
                        ]
                      },
                      {
                        "learn": [
                          25.17197741
                        ],
                        "iteration": 312,
                        "passed_time": 59.03254388,
                        "remaining_time": 110.7095951,
                        "test": [
                          25.25720153
                        ]
                      },
                      {
                        "learn": [
                          25.17194595
                        ],
                        "iteration": 313,
                        "passed_time": 59.14368816,
                        "remaining_time": 110.3764371,
                        "test": [
                          25.25719741
                        ]
                      },
                      {
                        "learn": [
                          25.17189942
                        ],
                        "iteration": 314,
                        "passed_time": 59.29111081,
                        "remaining_time": 110.1120629,
                        "test": [
                          25.25720133
                        ]
                      },
                      {
                        "learn": [
                          25.1718336
                        ],
                        "iteration": 315,
                        "passed_time": 59.43291112,
                        "remaining_time": 109.8380383,
                        "test": [
                          25.25718505
                        ]
                      },
                      {
                        "learn": [
                          25.17177223
                        ],
                        "iteration": 316,
                        "passed_time": 59.56620041,
                        "remaining_time": 109.5491951,
                        "test": [
                          25.25718545
                        ]
                      },
                      {
                        "learn": [
                          25.17172007
                        ],
                        "iteration": 317,
                        "passed_time": 59.6891836,
                        "remaining_time": 109.2424681,
                        "test": [
                          25.2572004
                        ]
                      },
                      {
                        "learn": [
                          25.17166399
                        ],
                        "iteration": 318,
                        "passed_time": 59.88612564,
                        "remaining_time": 109.0715956,
                        "test": [
                          25.25719571
                        ]
                      },
                      {
                        "learn": [
                          25.17162236
                        ],
                        "iteration": 319,
                        "passed_time": 60.02044501,
                        "remaining_time": 108.7870566,
                        "test": [
                          25.25719884
                        ]
                      },
                      {
                        "learn": [
                          25.17157321
                        ],
                        "iteration": 320,
                        "passed_time": 60.17990862,
                        "remaining_time": 108.5488071,
                        "test": [
                          25.25718494
                        ]
                      },
                      {
                        "learn": [
                          25.17150724
                        ],
                        "iteration": 321,
                        "passed_time": 60.32837658,
                        "remaining_time": 108.2913095,
                        "test": [
                          25.25717333
                        ]
                      },
                      {
                        "learn": [
                          25.17144772
                        ],
                        "iteration": 322,
                        "passed_time": 60.49572347,
                        "remaining_time": 108.0682119,
                        "test": [
                          25.25715673
                        ]
                      },
                      {
                        "learn": [
                          25.17137805
                        ],
                        "iteration": 323,
                        "passed_time": 60.59774364,
                        "remaining_time": 107.729322,
                        "test": [
                          25.25714564
                        ]
                      },
                      {
                        "learn": [
                          25.17131677
                        ],
                        "iteration": 324,
                        "passed_time": 60.75427802,
                        "remaining_time": 107.488338,
                        "test": [
                          25.25714692
                        ]
                      },
                      {
                        "learn": [
                          25.17125241
                        ],
                        "iteration": 325,
                        "passed_time": 60.96396335,
                        "remaining_time": 107.3414569,
                        "test": [
                          25.25713121
                        ]
                      },
                      {
                        "learn": [
                          25.17119676
                        ],
                        "iteration": 326,
                        "passed_time": 61.11804593,
                        "remaining_time": 107.0967594,
                        "test": [
                          25.25711709
                        ]
                      },
                      {
                        "learn": [
                          25.17114562
                        ],
                        "iteration": 327,
                        "passed_time": 61.22560013,
                        "remaining_time": 106.7714734,
                        "test": [
                          25.25710889
                        ]
                      },
                      {
                        "learn": [
                          25.17108753
                        ],
                        "iteration": 328,
                        "passed_time": 61.35032849,
                        "remaining_time": 106.4773178,
                        "test": [
                          25.25711351
                        ]
                      },
                      {
                        "learn": [
                          25.17102547
                        ],
                        "iteration": 329,
                        "passed_time": 61.46938739,
                        "remaining_time": 106.1743964,
                        "test": [
                          25.25713067
                        ]
                      },
                      {
                        "learn": [
                          25.17097379
                        ],
                        "iteration": 330,
                        "passed_time": 61.66343446,
                        "remaining_time": 106.0014931,
                        "test": [
                          25.25713601
                        ]
                      },
                      {
                        "learn": [
                          25.17091058
                        ],
                        "iteration": 331,
                        "passed_time": 61.7988288,
                        "remaining_time": 105.7281167,
                        "test": [
                          25.25714115
                        ]
                      },
                      {
                        "learn": [
                          25.17084656
                        ],
                        "iteration": 332,
                        "passed_time": 61.90164017,
                        "remaining_time": 105.40009,
                        "test": [
                          25.25712725
                        ]
                      },
                      {
                        "learn": [
                          25.17078226
                        ],
                        "iteration": 333,
                        "passed_time": 62.09143411,
                        "remaining_time": 105.2208135,
                        "test": [
                          25.25712798
                        ]
                      },
                      {
                        "learn": [
                          25.17072963
                        ],
                        "iteration": 334,
                        "passed_time": 62.27733745,
                        "remaining_time": 105.0349124,
                        "test": [
                          25.25712157
                        ]
                      },
                      {
                        "learn": [
                          25.17068345
                        ],
                        "iteration": 335,
                        "passed_time": 62.481151,
                        "remaining_time": 104.8790749,
                        "test": [
                          25.25712864
                        ]
                      },
                      {
                        "learn": [
                          25.17062841
                        ],
                        "iteration": 336,
                        "passed_time": 62.64885225,
                        "remaining_time": 104.6626226,
                        "test": [
                          25.25709495
                        ]
                      },
                      {
                        "learn": [
                          25.17057243
                        ],
                        "iteration": 337,
                        "passed_time": 62.81980465,
                        "remaining_time": 104.4518645,
                        "test": [
                          25.25712294
                        ]
                      },
                      {
                        "learn": [
                          25.17051103
                        ],
                        "iteration": 338,
                        "passed_time": 62.96736854,
                        "remaining_time": 104.2026364,
                        "test": [
                          25.25714106
                        ]
                      },
                      {
                        "learn": [
                          25.17045435
                        ],
                        "iteration": 339,
                        "passed_time": 63.12412194,
                        "remaining_time": 103.969142,
                        "test": [
                          25.25712696
                        ]
                      },
                      {
                        "learn": [
                          25.17040144
                        ],
                        "iteration": 340,
                        "passed_time": 63.29347678,
                        "remaining_time": 103.7567552,
                        "test": [
                          25.25712188
                        ]
                      },
                      {
                        "learn": [
                          25.17032816
                        ],
                        "iteration": 341,
                        "passed_time": 63.44482833,
                        "remaining_time": 103.5152462,
                        "test": [
                          25.25711957
                        ]
                      },
                      {
                        "learn": [
                          25.17028457
                        ],
                        "iteration": 342,
                        "passed_time": 63.5337271,
                        "remaining_time": 103.1728455,
                        "test": [
                          25.25710831
                        ]
                      },
                      {
                        "learn": [
                          25.17023001
                        ],
                        "iteration": 343,
                        "passed_time": 63.69135543,
                        "remaining_time": 102.9430047,
                        "test": [
                          25.25711328
                        ]
                      },
                      {
                        "learn": [
                          25.17017139
                        ],
                        "iteration": 344,
                        "passed_time": 63.83383315,
                        "remaining_time": 102.6892099,
                        "test": [
                          25.25712054
                        ]
                      },
                      {
                        "learn": [
                          25.17011657
                        ],
                        "iteration": 345,
                        "passed_time": 63.95383228,
                        "remaining_time": 102.4000667,
                        "test": [
                          25.25711682
                        ]
                      },
                      {
                        "learn": [
                          25.17007112
                        ],
                        "iteration": 346,
                        "passed_time": 64.08275043,
                        "remaining_time": 102.1261124,
                        "test": [
                          25.25712577
                        ]
                      },
                      {
                        "learn": [
                          25.17002143
                        ],
                        "iteration": 347,
                        "passed_time": 64.2050348,
                        "remaining_time": 101.842469,
                        "test": [
                          25.25712626
                        ]
                      },
                      {
                        "learn": [
                          25.16996714
                        ],
                        "iteration": 348,
                        "passed_time": 64.35461579,
                        "remaining_time": 101.6028461,
                        "test": [
                          25.25711184
                        ]
                      },
                      {
                        "learn": [
                          25.16990403
                        ],
                        "iteration": 349,
                        "passed_time": 64.48890469,
                        "remaining_time": 101.3397074,
                        "test": [
                          25.25708435
                        ]
                      },
                      {
                        "learn": [
                          25.16985035
                        ],
                        "iteration": 350,
                        "passed_time": 64.59757269,
                        "remaining_time": 101.0372291,
                        "test": [
                          25.25708818
                        ]
                      },
                      {
                        "learn": [
                          25.16978998
                        ],
                        "iteration": 351,
                        "passed_time": 64.69259722,
                        "remaining_time": 100.7146116,
                        "test": [
                          25.25707661
                        ]
                      },
                      {
                        "learn": [
                          25.16972766
                        ],
                        "iteration": 352,
                        "passed_time": 64.87167231,
                        "remaining_time": 100.5235262,
                        "test": [
                          25.25708992
                        ]
                      },
                      {
                        "learn": [
                          25.16967225
                        ],
                        "iteration": 353,
                        "passed_time": 65.053963,
                        "remaining_time": 100.3374684,
                        "test": [
                          25.25708407
                        ]
                      },
                      {
                        "learn": [
                          25.16960438
                        ],
                        "iteration": 354,
                        "passed_time": 65.24555088,
                        "remaining_time": 100.1657049,
                        "test": [
                          25.25707822
                        ]
                      },
                      {
                        "learn": [
                          25.16955019
                        ],
                        "iteration": 355,
                        "passed_time": 65.38136088,
                        "remaining_time": 99.9085964,
                        "test": [
                          25.25710064
                        ]
                      },
                      {
                        "learn": [
                          25.16949241
                        ],
                        "iteration": 356,
                        "passed_time": 65.50127109,
                        "remaining_time": 99.62798376,
                        "test": [
                          25.25709991
                        ]
                      },
                      {
                        "learn": [
                          25.16944765
                        ],
                        "iteration": 357,
                        "passed_time": 65.63515437,
                        "remaining_time": 99.36942366,
                        "test": [
                          25.2570989
                        ]
                      },
                      {
                        "learn": [
                          25.16939141
                        ],
                        "iteration": 358,
                        "passed_time": 65.82743091,
                        "remaining_time": 99.19955466,
                        "test": [
                          25.2570908
                        ]
                      },
                      {
                        "learn": [
                          25.16934543
                        ],
                        "iteration": 359,
                        "passed_time": 65.92463205,
                        "remaining_time": 98.88694808,
                        "test": [
                          25.25710211
                        ]
                      },
                      {
                        "learn": [
                          25.16928669
                        ],
                        "iteration": 360,
                        "passed_time": 66.08641702,
                        "remaining_time": 98.67196336,
                        "test": [
                          25.25709711
                        ]
                      },
                      {
                        "learn": [
                          25.16923772
                        ],
                        "iteration": 361,
                        "passed_time": 66.2111744,
                        "remaining_time": 98.40224262,
                        "test": [
                          25.25709113
                        ]
                      },
                      {
                        "learn": [
                          25.16918958
                        ],
                        "iteration": 362,
                        "passed_time": 66.35450557,
                        "remaining_time": 98.1607975,
                        "test": [
                          25.25709913
                        ]
                      },
                      {
                        "learn": [
                          25.16913941
                        ],
                        "iteration": 363,
                        "passed_time": 66.57694414,
                        "remaining_time": 98.03637928,
                        "test": [
                          25.25710757
                        ]
                      },
                      {
                        "learn": [
                          25.16908076
                        ],
                        "iteration": 364,
                        "passed_time": 66.71478876,
                        "remaining_time": 97.7874301,
                        "test": [
                          25.25710953
                        ]
                      },
                      {
                        "learn": [
                          25.169031
                        ],
                        "iteration": 365,
                        "passed_time": 66.85680453,
                        "remaining_time": 97.54517382,
                        "test": [
                          25.25711276
                        ]
                      },
                      {
                        "learn": [
                          25.16897864
                        ],
                        "iteration": 366,
                        "passed_time": 67.03843449,
                        "remaining_time": 97.36099614,
                        "test": [
                          25.25711558
                        ]
                      },
                      {
                        "learn": [
                          25.16892544
                        ],
                        "iteration": 367,
                        "passed_time": 67.15254757,
                        "remaining_time": 97.07922638,
                        "test": [
                          25.2571121
                        ]
                      },
                      {
                        "learn": [
                          25.16887753
                        ],
                        "iteration": 368,
                        "passed_time": 67.25871561,
                        "remaining_time": 96.78693222,
                        "test": [
                          25.25711398
                        ]
                      },
                      {
                        "learn": [
                          25.16883742
                        ],
                        "iteration": 369,
                        "passed_time": 67.38250675,
                        "remaining_time": 96.52088804,
                        "test": [
                          25.25709141
                        ]
                      },
                      {
                        "learn": [
                          25.16879017
                        ],
                        "iteration": 370,
                        "passed_time": 67.61870414,
                        "remaining_time": 96.41588811,
                        "test": [
                          25.25710634
                        ]
                      },
                      {
                        "learn": [
                          25.16873703
                        ],
                        "iteration": 371,
                        "passed_time": 67.91851678,
                        "remaining_time": 96.40047543,
                        "test": [
                          25.25711585
                        ]
                      },
                      {
                        "learn": [
                          25.16867167
                        ],
                        "iteration": 372,
                        "passed_time": 68.16108866,
                        "remaining_time": 96.30266414,
                        "test": [
                          25.25708227
                        ]
                      },
                      {
                        "learn": [
                          25.16860475
                        ],
                        "iteration": 373,
                        "passed_time": 68.56747879,
                        "remaining_time": 96.43447551,
                        "test": [
                          25.25709015
                        ]
                      },
                      {
                        "learn": [
                          25.16854961
                        ],
                        "iteration": 374,
                        "passed_time": 68.83408021,
                        "remaining_time": 96.3677123,
                        "test": [
                          25.2570974
                        ]
                      },
                      {
                        "learn": [
                          25.1684887
                        ],
                        "iteration": 375,
                        "passed_time": 69.08315561,
                        "remaining_time": 96.27546154,
                        "test": [
                          25.25710399
                        ]
                      },
                      {
                        "learn": [
                          25.16843149
                        ],
                        "iteration": 376,
                        "passed_time": 69.27645172,
                        "remaining_time": 96.10499801,
                        "test": [
                          25.25710058
                        ]
                      },
                      {
                        "learn": [
                          25.16837449
                        ],
                        "iteration": 377,
                        "passed_time": 69.62815303,
                        "remaining_time": 96.15316371,
                        "test": [
                          25.2570917
                        ]
                      },
                      {
                        "learn": [
                          25.16832054
                        ],
                        "iteration": 378,
                        "passed_time": 69.98934226,
                        "remaining_time": 96.21226206,
                        "test": [
                          25.25709505
                        ]
                      },
                      {
                        "learn": [
                          25.16827229
                        ],
                        "iteration": 379,
                        "passed_time": 70.27497948,
                        "remaining_time": 96.1657614,
                        "test": [
                          25.25707777
                        ]
                      },
                      {
                        "learn": [
                          25.1682168
                        ],
                        "iteration": 380,
                        "passed_time": 70.62731853,
                        "remaining_time": 96.20886697,
                        "test": [
                          25.25708152
                        ]
                      },
                      {
                        "learn": [
                          25.16816208
                        ],
                        "iteration": 381,
                        "passed_time": 70.85787277,
                        "remaining_time": 96.08475941,
                        "test": [
                          25.25708632
                        ]
                      },
                      {
                        "learn": [
                          25.16811425
                        ],
                        "iteration": 382,
                        "passed_time": 71.22355384,
                        "remaining_time": 96.14249956,
                        "test": [
                          25.25708042
                        ]
                      },
                      {
                        "learn": [
                          25.16807305
                        ],
                        "iteration": 383,
                        "passed_time": 71.50569842,
                        "remaining_time": 96.08578226,
                        "test": [
                          25.25707515
                        ]
                      },
                      {
                        "learn": [
                          25.16801892
                        ],
                        "iteration": 384,
                        "passed_time": 71.62407145,
                        "remaining_time": 95.80882285,
                        "test": [
                          25.25705576
                        ]
                      },
                      {
                        "learn": [
                          25.16796247
                        ],
                        "iteration": 385,
                        "passed_time": 71.79411189,
                        "remaining_time": 95.60148578,
                        "test": [
                          25.25706061
                        ]
                      },
                      {
                        "learn": [
                          25.16790918
                        ],
                        "iteration": 386,
                        "passed_time": 71.9355277,
                        "remaining_time": 95.35639719,
                        "test": [
                          25.25704733
                        ]
                      },
                      {
                        "learn": [
                          25.16785699
                        ],
                        "iteration": 387,
                        "passed_time": 72.1031711,
                        "remaining_time": 95.14645259,
                        "test": [
                          25.25705475
                        ]
                      },
                      {
                        "learn": [
                          25.1677939
                        ],
                        "iteration": 388,
                        "passed_time": 72.26364914,
                        "remaining_time": 94.92731288,
                        "test": [
                          25.25705289
                        ]
                      },
                      {
                        "learn": [
                          25.16775646
                        ],
                        "iteration": 389,
                        "passed_time": 72.33558734,
                        "remaining_time": 94.59269114,
                        "test": [
                          25.25704013
                        ]
                      },
                      {
                        "learn": [
                          25.16770448
                        ],
                        "iteration": 390,
                        "passed_time": 72.5719856,
                        "remaining_time": 94.47350555,
                        "test": [
                          25.25704189
                        ]
                      },
                      {
                        "learn": [
                          25.16765705
                        ],
                        "iteration": 391,
                        "passed_time": 72.73872353,
                        "remaining_time": 94.26344784,
                        "test": [
                          25.25702729
                        ]
                      },
                      {
                        "learn": [
                          25.16761292
                        ],
                        "iteration": 392,
                        "passed_time": 72.85882765,
                        "remaining_time": 93.99344941,
                        "test": [
                          25.25702368
                        ]
                      },
                      {
                        "learn": [
                          25.16754817
                        ],
                        "iteration": 393,
                        "passed_time": 73.00859821,
                        "remaining_time": 93.76231141,
                        "test": [
                          25.25702306
                        ]
                      },
                      {
                        "learn": [
                          25.16749162
                        ],
                        "iteration": 394,
                        "passed_time": 73.16322608,
                        "remaining_time": 93.53779537,
                        "test": [
                          25.25703215
                        ]
                      },
                      {
                        "learn": [
                          25.1674305
                        ],
                        "iteration": 395,
                        "passed_time": 73.29555297,
                        "remaining_time": 93.28524923,
                        "test": [
                          25.25704482
                        ]
                      },
                      {
                        "learn": [
                          25.16738168
                        ],
                        "iteration": 396,
                        "passed_time": 73.42689575,
                        "remaining_time": 93.03206187,
                        "test": [
                          25.25703451
                        ]
                      },
                      {
                        "learn": [
                          25.16733117
                        ],
                        "iteration": 397,
                        "passed_time": 73.55449364,
                        "remaining_time": 92.77476334,
                        "test": [
                          25.2570314
                        ]
                      },
                      {
                        "learn": [
                          25.16726649
                        ],
                        "iteration": 398,
                        "passed_time": 73.73797517,
                        "remaining_time": 92.58828461,
                        "test": [
                          25.25701774
                        ]
                      },
                      {
                        "learn": [
                          25.16720579
                        ],
                        "iteration": 399,
                        "passed_time": 73.9306429,
                        "remaining_time": 92.41330362,
                        "test": [
                          25.256998
                        ]
                      },
                      {
                        "learn": [
                          25.16716541
                        ],
                        "iteration": 400,
                        "passed_time": 74.06723551,
                        "remaining_time": 92.16845516,
                        "test": [
                          25.25699895
                        ]
                      },
                      {
                        "learn": [
                          25.16710781
                        ],
                        "iteration": 401,
                        "passed_time": 74.1804189,
                        "remaining_time": 91.8951458,
                        "test": [
                          25.25700097
                        ]
                      },
                      {
                        "learn": [
                          25.16706062
                        ],
                        "iteration": 402,
                        "passed_time": 74.29873068,
                        "remaining_time": 91.6289557,
                        "test": [
                          25.25700496
                        ]
                      },
                      {
                        "learn": [
                          25.16700675
                        ],
                        "iteration": 403,
                        "passed_time": 74.4246208,
                        "remaining_time": 91.37280177,
                        "test": [
                          25.25700907
                        ]
                      },
                      {
                        "learn": [
                          25.16696195
                        ],
                        "iteration": 404,
                        "passed_time": 74.58262662,
                        "remaining_time": 91.15654365,
                        "test": [
                          25.25700018
                        ]
                      },
                      {
                        "learn": [
                          25.16690389
                        ],
                        "iteration": 405,
                        "passed_time": 74.73774006,
                        "remaining_time": 90.93705318,
                        "test": [
                          25.25700484
                        ]
                      },
                      {
                        "learn": [
                          25.16686396
                        ],
                        "iteration": 406,
                        "passed_time": 74.88510065,
                        "remaining_time": 90.70848801,
                        "test": [
                          25.25700308
                        ]
                      },
                      {
                        "learn": [
                          25.16681408
                        ],
                        "iteration": 407,
                        "passed_time": 75.00517369,
                        "remaining_time": 90.44741533,
                        "test": [
                          25.25702583
                        ]
                      },
                      {
                        "learn": [
                          25.16676815
                        ],
                        "iteration": 408,
                        "passed_time": 75.24905927,
                        "remaining_time": 90.33566773,
                        "test": [
                          25.25701524
                        ]
                      },
                      {
                        "learn": [
                          25.16671919
                        ],
                        "iteration": 409,
                        "passed_time": 75.36382224,
                        "remaining_time": 90.06895828,
                        "test": [
                          25.25702222
                        ]
                      },
                      {
                        "learn": [
                          25.16667695
                        ],
                        "iteration": 410,
                        "passed_time": 75.48517465,
                        "remaining_time": 89.81082823,
                        "test": [
                          25.25702273
                        ]
                      },
                      {
                        "learn": [
                          25.16662149
                        ],
                        "iteration": 411,
                        "passed_time": 75.62173718,
                        "remaining_time": 89.57137801,
                        "test": [
                          25.25702416
                        ]
                      },
                      {
                        "learn": [
                          25.16657713
                        ],
                        "iteration": 412,
                        "passed_time": 75.86530487,
                        "remaining_time": 89.45860405,
                        "test": [
                          25.25700703
                        ]
                      },
                      {
                        "learn": [
                          25.16652582
                        ],
                        "iteration": 413,
                        "passed_time": 75.98804274,
                        "remaining_time": 89.20335452,
                        "test": [
                          25.25701362
                        ]
                      },
                      {
                        "learn": [
                          25.16647869
                        ],
                        "iteration": 414,
                        "passed_time": 76.23259928,
                        "remaining_time": 89.09111,
                        "test": [
                          25.25700585
                        ]
                      },
                      {
                        "learn": [
                          25.16642796
                        ],
                        "iteration": 415,
                        "passed_time": 76.41674899,
                        "remaining_time": 88.90794834,
                        "test": [
                          25.25701302
                        ]
                      },
                      {
                        "learn": [
                          25.16636935
                        ],
                        "iteration": 416,
                        "passed_time": 76.53215498,
                        "remaining_time": 88.64515792,
                        "test": [
                          25.2570074
                        ]
                      },
                      {
                        "learn": [
                          25.16631775
                        ],
                        "iteration": 417,
                        "passed_time": 76.6671271,
                        "remaining_time": 88.4056346,
                        "test": [
                          25.25701432
                        ]
                      },
                      {
                        "learn": [
                          25.16625612
                        ],
                        "iteration": 418,
                        "passed_time": 76.80373404,
                        "remaining_time": 88.16848705,
                        "test": [
                          25.25701318
                        ]
                      },
                      {
                        "learn": [
                          25.16620199
                        ],
                        "iteration": 419,
                        "passed_time": 76.99502104,
                        "remaining_time": 87.99430976,
                        "test": [
                          25.25701461
                        ]
                      },
                      {
                        "learn": [
                          25.16614728
                        ],
                        "iteration": 420,
                        "passed_time": 77.1001988,
                        "remaining_time": 87.72207892,
                        "test": [
                          25.2570089
                        ]
                      },
                      {
                        "learn": [
                          25.16609295
                        ],
                        "iteration": 421,
                        "passed_time": 77.28400126,
                        "remaining_time": 87.53969811,
                        "test": [
                          25.25700148
                        ]
                      },
                      {
                        "learn": [
                          25.16603075
                        ],
                        "iteration": 422,
                        "passed_time": 77.42884571,
                        "remaining_time": 87.3133792,
                        "test": [
                          25.25699385
                        ]
                      },
                      {
                        "learn": [
                          25.16598564
                        ],
                        "iteration": 423,
                        "passed_time": 77.53940339,
                        "remaining_time": 87.04895286,
                        "test": [
                          25.25698066
                        ]
                      },
                      {
                        "learn": [
                          25.16593893
                        ],
                        "iteration": 424,
                        "passed_time": 77.69940868,
                        "remaining_time": 86.84051558,
                        "test": [
                          25.25696138
                        ]
                      },
                      {
                        "learn": [
                          25.16588691
                        ],
                        "iteration": 425,
                        "passed_time": 77.90277132,
                        "remaining_time": 86.68054837,
                        "test": [
                          25.25696333
                        ]
                      },
                      {
                        "learn": [
                          25.16583768
                        ],
                        "iteration": 426,
                        "passed_time": 78.04525051,
                        "remaining_time": 86.45293558,
                        "test": [
                          25.25694963
                        ]
                      },
                      {
                        "learn": [
                          25.16578117
                        ],
                        "iteration": 427,
                        "passed_time": 78.25874131,
                        "remaining_time": 86.30403248,
                        "test": [
                          25.25693448
                        ]
                      },
                      {
                        "learn": [
                          25.16572559
                        ],
                        "iteration": 428,
                        "passed_time": 78.42025121,
                        "remaining_time": 86.09775832,
                        "test": [
                          25.25690638
                        ]
                      },
                      {
                        "learn": [
                          25.1656585
                        ],
                        "iteration": 429,
                        "passed_time": 78.59813112,
                        "remaining_time": 85.90958518,
                        "test": [
                          25.25690637
                        ]
                      },
                      {
                        "learn": [
                          25.16558894
                        ],
                        "iteration": 430,
                        "passed_time": 78.79971772,
                        "remaining_time": 85.74725664,
                        "test": [
                          25.25689563
                        ]
                      },
                      {
                        "learn": [
                          25.16550958
                        ],
                        "iteration": 431,
                        "passed_time": 78.99820307,
                        "remaining_time": 85.58138666,
                        "test": [
                          25.25687642
                        ]
                      },
                      {
                        "learn": [
                          25.16546643
                        ],
                        "iteration": 432,
                        "passed_time": 79.1658489,
                        "remaining_time": 85.38210493,
                        "test": [
                          25.25687622
                        ]
                      },
                      {
                        "learn": [
                          25.16540795
                        ],
                        "iteration": 433,
                        "passed_time": 79.34716364,
                        "remaining_time": 85.19764575,
                        "test": [
                          25.25687092
                        ]
                      },
                      {
                        "learn": [
                          25.16535195
                        ],
                        "iteration": 434,
                        "passed_time": 79.50442656,
                        "remaining_time": 84.98749046,
                        "test": [
                          25.25688621
                        ]
                      },
                      {
                        "learn": [
                          25.16529858
                        ],
                        "iteration": 435,
                        "passed_time": 79.64956624,
                        "remaining_time": 84.764676,
                        "test": [
                          25.25688643
                        ]
                      },
                      {
                        "learn": [
                          25.16524622
                        ],
                        "iteration": 436,
                        "passed_time": 79.79378426,
                        "remaining_time": 84.54124054,
                        "test": [
                          25.25689097
                        ]
                      },
                      {
                        "learn": [
                          25.16520863
                        ],
                        "iteration": 437,
                        "passed_time": 79.89841896,
                        "remaining_time": 84.27641452,
                        "test": [
                          25.25689735
                        ]
                      },
                      {
                        "learn": [
                          25.16514529
                        ],
                        "iteration": 438,
                        "passed_time": 80.06932627,
                        "remaining_time": 84.0819121,
                        "test": [
                          25.25687311
                        ]
                      },
                      {
                        "learn": [
                          25.16509173
                        ],
                        "iteration": 439,
                        "passed_time": 80.25612118,
                        "remaining_time": 83.90412669,
                        "test": [
                          25.25688921
                        ]
                      },
                      {
                        "learn": [
                          25.16504125
                        ],
                        "iteration": 440,
                        "passed_time": 80.40423873,
                        "remaining_time": 83.68604439,
                        "test": [
                          25.25689718
                        ]
                      },
                      {
                        "learn": [
                          25.1650007
                        ],
                        "iteration": 441,
                        "passed_time": 80.52115188,
                        "remaining_time": 83.43594471,
                        "test": [
                          25.25688474
                        ]
                      },
                      {
                        "learn": [
                          25.16494657
                        ],
                        "iteration": 442,
                        "passed_time": 80.71399488,
                        "remaining_time": 83.26477575,
                        "test": [
                          25.25688592
                        ]
                      },
                      {
                        "learn": [
                          25.16488631
                        ],
                        "iteration": 443,
                        "passed_time": 80.86724613,
                        "remaining_time": 83.05284738,
                        "test": [
                          25.25688808
                        ]
                      },
                      {
                        "learn": [
                          25.16483723
                        ],
                        "iteration": 444,
                        "passed_time": 80.98447946,
                        "remaining_time": 82.80435541,
                        "test": [
                          25.25687475
                        ]
                      },
                      {
                        "learn": [
                          25.16478219
                        ],
                        "iteration": 445,
                        "passed_time": 81.15493114,
                        "remaining_time": 82.61062497,
                        "test": [
                          25.256872
                        ]
                      },
                      {
                        "learn": [
                          25.16472869
                        ],
                        "iteration": 446,
                        "passed_time": 81.27364547,
                        "remaining_time": 82.36456689,
                        "test": [
                          25.25687704
                        ]
                      },
                      {
                        "learn": [
                          25.16466816
                        ],
                        "iteration": 447,
                        "passed_time": 81.38008788,
                        "remaining_time": 82.10669581,
                        "test": [
                          25.25687522
                        ]
                      },
                      {
                        "learn": [
                          25.16462502
                        ],
                        "iteration": 448,
                        "passed_time": 81.60177764,
                        "remaining_time": 81.96525995,
                        "test": [
                          25.25684966
                        ]
                      },
                      {
                        "learn": [
                          25.16457086
                        ],
                        "iteration": 449,
                        "passed_time": 81.83766371,
                        "remaining_time": 81.83766371,
                        "test": [
                          25.25686305
                        ]
                      },
                      {
                        "learn": [
                          25.16452403
                        ],
                        "iteration": 450,
                        "passed_time": 82.00842212,
                        "remaining_time": 81.64474841,
                        "test": [
                          25.25686789
                        ]
                      },
                      {
                        "learn": [
                          25.16446227
                        ],
                        "iteration": 451,
                        "passed_time": 82.42051527,
                        "remaining_time": 81.69113018,
                        "test": [
                          25.25683812
                        ]
                      },
                      {
                        "learn": [
                          25.16440185
                        ],
                        "iteration": 452,
                        "passed_time": 82.68645267,
                        "remaining_time": 81.59126786,
                        "test": [
                          25.25682262
                        ]
                      },
                      {
                        "learn": [
                          25.1643461
                        ],
                        "iteration": 453,
                        "passed_time": 82.97534294,
                        "remaining_time": 81.51322236,
                        "test": [
                          25.25681827
                        ]
                      },
                      {
                        "learn": [
                          25.16428693
                        ],
                        "iteration": 454,
                        "passed_time": 83.34634078,
                        "remaining_time": 81.51455307,
                        "test": [
                          25.25682051
                        ]
                      },
                      {
                        "learn": [
                          25.16424554
                        ],
                        "iteration": 455,
                        "passed_time": 83.58646799,
                        "remaining_time": 81.38682409,
                        "test": [
                          25.25682982
                        ]
                      },
                      {
                        "learn": [
                          25.16420124
                        ],
                        "iteration": 456,
                        "passed_time": 83.88180192,
                        "remaining_time": 81.31211871,
                        "test": [
                          25.25684376
                        ]
                      },
                      {
                        "learn": [
                          25.16415464
                        ],
                        "iteration": 457,
                        "passed_time": 84.19098126,
                        "remaining_time": 81.24981161,
                        "test": [
                          25.25682642
                        ]
                      },
                      {
                        "learn": [
                          25.16409824
                        ],
                        "iteration": 458,
                        "passed_time": 84.42279942,
                        "remaining_time": 81.11210141,
                        "test": [
                          25.2568363
                        ]
                      },
                      {
                        "learn": [
                          25.16405033
                        ],
                        "iteration": 459,
                        "passed_time": 84.70623804,
                        "remaining_time": 81.02335813,
                        "test": [
                          25.2568458
                        ]
                      },
                      {
                        "learn": [
                          25.16400165
                        ],
                        "iteration": 460,
                        "passed_time": 84.98246786,
                        "remaining_time": 80.9269054,
                        "test": [
                          25.25684681
                        ]
                      },
                      {
                        "learn": [
                          25.16395828
                        ],
                        "iteration": 461,
                        "passed_time": 85.29216021,
                        "remaining_time": 80.86139864,
                        "test": [
                          25.25684132
                        ]
                      },
                      {
                        "learn": [
                          25.16390213
                        ],
                        "iteration": 462,
                        "passed_time": 85.5590635,
                        "remaining_time": 80.75445087,
                        "test": [
                          25.25684412
                        ]
                      },
                      {
                        "learn": [
                          25.16384919
                        ],
                        "iteration": 463,
                        "passed_time": 85.76786411,
                        "remaining_time": 80.59221714,
                        "test": [
                          25.25683407
                        ]
                      },
                      {
                        "learn": [
                          25.16380076
                        ],
                        "iteration": 464,
                        "passed_time": 85.9628222,
                        "remaining_time": 80.41683367,
                        "test": [
                          25.25682561
                        ]
                      },
                      {
                        "learn": [
                          25.16374297
                        ],
                        "iteration": 465,
                        "passed_time": 86.09484021,
                        "remaining_time": 80.18274817,
                        "test": [
                          25.25680721
                        ]
                      },
                      {
                        "learn": [
                          25.16368503
                        ],
                        "iteration": 466,
                        "passed_time": 86.22516086,
                        "remaining_time": 79.94752602,
                        "test": [
                          25.25680561
                        ]
                      },
                      {
                        "learn": [
                          25.16363725
                        ],
                        "iteration": 467,
                        "passed_time": 86.41145127,
                        "remaining_time": 79.76441655,
                        "test": [
                          25.25681498
                        ]
                      },
                      {
                        "learn": [
                          25.16358845
                        ],
                        "iteration": 468,
                        "passed_time": 86.57683118,
                        "remaining_time": 79.56207727,
                        "test": [
                          25.25680329
                        ]
                      },
                      {
                        "learn": [
                          25.16352639
                        ],
                        "iteration": 469,
                        "passed_time": 86.72175285,
                        "remaining_time": 79.34117814,
                        "test": [
                          25.25679649
                        ]
                      },
                      {
                        "learn": [
                          25.16346589
                        ],
                        "iteration": 470,
                        "passed_time": 86.84999867,
                        "remaining_time": 79.1054128,
                        "test": [
                          25.25679144
                        ]
                      },
                      {
                        "learn": [
                          25.16341193
                        ],
                        "iteration": 471,
                        "passed_time": 86.99743307,
                        "remaining_time": 78.88750287,
                        "test": [
                          25.25678455
                        ]
                      },
                      {
                        "learn": [
                          25.1633588
                        ],
                        "iteration": 472,
                        "passed_time": 87.1491859,
                        "remaining_time": 78.67378938,
                        "test": [
                          25.25676475
                        ]
                      },
                      {
                        "learn": [
                          25.16330809
                        ],
                        "iteration": 473,
                        "passed_time": 87.28044272,
                        "remaining_time": 78.44191687,
                        "test": [
                          25.25676546
                        ]
                      },
                      {
                        "learn": [
                          25.16325465
                        ],
                        "iteration": 474,
                        "passed_time": 87.42261661,
                        "remaining_time": 78.22023592,
                        "test": [
                          25.25674401
                        ]
                      },
                      {
                        "learn": [
                          25.16321096
                        ],
                        "iteration": 475,
                        "passed_time": 87.53814796,
                        "remaining_time": 77.975157,
                        "test": [
                          25.2567389
                        ]
                      },
                      {
                        "learn": [
                          25.163156
                        ],
                        "iteration": 476,
                        "passed_time": 87.73420749,
                        "remaining_time": 77.80203306,
                        "test": [
                          25.25672405
                        ]
                      },
                      {
                        "learn": [
                          25.16311534
                        ],
                        "iteration": 477,
                        "passed_time": 87.85777115,
                        "remaining_time": 77.56481051,
                        "test": [
                          25.25671768
                        ]
                      },
                      {
                        "learn": [
                          25.16306393
                        ],
                        "iteration": 478,
                        "passed_time": 88.0126742,
                        "remaining_time": 77.35560718,
                        "test": [
                          25.25671859
                        ]
                      },
                      {
                        "learn": [
                          25.16301634
                        ],
                        "iteration": 479,
                        "passed_time": 88.13035648,
                        "remaining_time": 77.11406192,
                        "test": [
                          25.25670212
                        ]
                      },
                      {
                        "learn": [
                          25.16296775
                        ],
                        "iteration": 480,
                        "passed_time": 88.27837374,
                        "remaining_time": 76.89945654,
                        "test": [
                          25.25671069
                        ]
                      },
                      {
                        "learn": [
                          25.1629232
                        ],
                        "iteration": 481,
                        "passed_time": 88.4275039,
                        "remaining_time": 76.6860926,
                        "test": [
                          25.2567148
                        ]
                      },
                      {
                        "learn": [
                          25.16287674
                        ],
                        "iteration": 482,
                        "passed_time": 88.58291373,
                        "remaining_time": 76.4784162,
                        "test": [
                          25.25671207
                        ]
                      },
                      {
                        "learn": [
                          25.16282464
                        ],
                        "iteration": 483,
                        "passed_time": 88.75535697,
                        "remaining_time": 76.28559608,
                        "test": [
                          25.25669818
                        ]
                      },
                      {
                        "learn": [
                          25.16278338
                        ],
                        "iteration": 484,
                        "passed_time": 88.93439076,
                        "remaining_time": 76.09849931,
                        "test": [
                          25.25669065
                        ]
                      },
                      {
                        "learn": [
                          25.16273702
                        ],
                        "iteration": 485,
                        "passed_time": 89.0703534,
                        "remaining_time": 75.87474549,
                        "test": [
                          25.25669057
                        ]
                      },
                      {
                        "learn": [
                          25.16269012
                        ],
                        "iteration": 486,
                        "passed_time": 89.20848858,
                        "remaining_time": 75.65319463,
                        "test": [
                          25.25668867
                        ]
                      },
                      {
                        "learn": [
                          25.16264501
                        ],
                        "iteration": 487,
                        "passed_time": 89.35117641,
                        "remaining_time": 75.43582926,
                        "test": [
                          25.25669008
                        ]
                      },
                      {
                        "learn": [
                          25.16259032
                        ],
                        "iteration": 488,
                        "passed_time": 89.53541169,
                        "remaining_time": 75.25368958,
                        "test": [
                          25.25669911
                        ]
                      },
                      {
                        "learn": [
                          25.16254871
                        ],
                        "iteration": 489,
                        "passed_time": 89.61573482,
                        "remaining_time": 74.98459444,
                        "test": [
                          25.25669116
                        ]
                      },
                      {
                        "learn": [
                          25.16250191
                        ],
                        "iteration": 490,
                        "passed_time": 89.73644301,
                        "remaining_time": 74.74990874,
                        "test": [
                          25.25669423
                        ]
                      },
                      {
                        "learn": [
                          25.16245211
                        ],
                        "iteration": 491,
                        "passed_time": 89.85096085,
                        "remaining_time": 74.5105529,
                        "test": [
                          25.2567017
                        ]
                      },
                      {
                        "learn": [
                          25.16239918
                        ],
                        "iteration": 492,
                        "passed_time": 89.97286442,
                        "remaining_time": 74.27780085,
                        "test": [
                          25.2566947
                        ]
                      },
                      {
                        "learn": [
                          25.16234149
                        ],
                        "iteration": 493,
                        "passed_time": 90.16131212,
                        "remaining_time": 74.10018769,
                        "test": [
                          25.25670068
                        ]
                      },
                      {
                        "learn": [
                          25.16228571
                        ],
                        "iteration": 494,
                        "passed_time": 90.29751229,
                        "remaining_time": 73.87978279,
                        "test": [
                          25.2567139
                        ]
                      },
                      {
                        "learn": [
                          25.16223796
                        ],
                        "iteration": 495,
                        "passed_time": 90.43171248,
                        "remaining_time": 73.65808839,
                        "test": [
                          25.25670642
                        ]
                      },
                      {
                        "learn": [
                          25.16220258
                        ],
                        "iteration": 496,
                        "passed_time": 90.52755235,
                        "remaining_time": 73.40564104,
                        "test": [
                          25.2567177
                        ]
                      },
                      {
                        "learn": [
                          25.16214352
                        ],
                        "iteration": 497,
                        "passed_time": 90.70162809,
                        "remaining_time": 73.21697689,
                        "test": [
                          25.25670726
                        ]
                      },
                      {
                        "learn": [
                          25.16209527
                        ],
                        "iteration": 498,
                        "passed_time": 90.85739894,
                        "remaining_time": 73.01366127,
                        "test": [
                          25.25673191
                        ]
                      },
                      {
                        "learn": [
                          25.16204253
                        ],
                        "iteration": 499,
                        "passed_time": 90.95781265,
                        "remaining_time": 72.76625012,
                        "test": [
                          25.25672317
                        ]
                      },
                      {
                        "learn": [
                          25.16198586
                        ],
                        "iteration": 500,
                        "passed_time": 91.08556289,
                        "remaining_time": 72.54119679,
                        "test": [
                          25.25672595
                        ]
                      },
                      {
                        "learn": [
                          25.16194402
                        ],
                        "iteration": 501,
                        "passed_time": 91.19491677,
                        "remaining_time": 72.30194596,
                        "test": [
                          25.25672137
                        ]
                      },
                      {
                        "learn": [
                          25.16189367
                        ],
                        "iteration": 502,
                        "passed_time": 91.31924872,
                        "remaining_time": 72.07503328,
                        "test": [
                          25.25671357
                        ]
                      },
                      {
                        "learn": [
                          25.1618517
                        ],
                        "iteration": 503,
                        "passed_time": 91.38678708,
                        "remaining_time": 71.80390414,
                        "test": [
                          25.25671367
                        ]
                      },
                      {
                        "learn": [
                          25.16180833
                        ],
                        "iteration": 504,
                        "passed_time": 91.55738145,
                        "remaining_time": 71.61418945,
                        "test": [
                          25.25671457
                        ]
                      },
                      {
                        "learn": [
                          25.16175093
                        ],
                        "iteration": 505,
                        "passed_time": 91.76459718,
                        "remaining_time": 71.45306579,
                        "test": [
                          25.25671046
                        ]
                      },
                      {
                        "learn": [
                          25.16170536
                        ],
                        "iteration": 506,
                        "passed_time": 91.9216611,
                        "remaining_time": 71.25288523,
                        "test": [
                          25.25670699
                        ]
                      },
                      {
                        "learn": [
                          25.16163988
                        ],
                        "iteration": 507,
                        "passed_time": 92.05407665,
                        "remaining_time": 71.03385442,
                        "test": [
                          25.25669292
                        ]
                      },
                      {
                        "learn": [
                          25.16157866
                        ],
                        "iteration": 508,
                        "passed_time": 92.18294342,
                        "remaining_time": 70.81243787,
                        "test": [
                          25.2566895
                        ]
                      },
                      {
                        "learn": [
                          25.16153615
                        ],
                        "iteration": 509,
                        "passed_time": 92.34605797,
                        "remaining_time": 70.61757374,
                        "test": [
                          25.25669953
                        ]
                      },
                      {
                        "learn": [
                          25.16148039
                        ],
                        "iteration": 510,
                        "passed_time": 92.52909626,
                        "remaining_time": 70.43800087,
                        "test": [
                          25.256716
                        ]
                      },
                      {
                        "learn": [
                          25.1614295
                        ],
                        "iteration": 511,
                        "passed_time": 92.67574364,
                        "remaining_time": 70.23083698,
                        "test": [
                          25.25670665
                        ]
                      },
                      {
                        "learn": [
                          25.16135793
                        ],
                        "iteration": 512,
                        "passed_time": 92.81373874,
                        "remaining_time": 70.01738186,
                        "test": [
                          25.25667877
                        ]
                      },
                      {
                        "learn": [
                          25.16129469
                        ],
                        "iteration": 513,
                        "passed_time": 93.00554381,
                        "remaining_time": 69.84463018,
                        "test": [
                          25.25666877
                        ]
                      },
                      {
                        "learn": [
                          25.16124746
                        ],
                        "iteration": 514,
                        "passed_time": 93.13184045,
                        "remaining_time": 69.62283218,
                        "test": [
                          25.25667298
                        ]
                      },
                      {
                        "learn": [
                          25.16119296
                        ],
                        "iteration": 515,
                        "passed_time": 93.23927376,
                        "remaining_time": 69.38736652,
                        "test": [
                          25.25666503
                        ]
                      },
                      {
                        "learn": [
                          25.16114398
                        ],
                        "iteration": 516,
                        "passed_time": 93.36045594,
                        "remaining_time": 69.16258148,
                        "test": [
                          25.2567059
                        ]
                      },
                      {
                        "learn": [
                          25.16110515
                        ],
                        "iteration": 517,
                        "passed_time": 93.45481801,
                        "remaining_time": 68.91841791,
                        "test": [
                          25.25670323
                        ]
                      },
                      {
                        "learn": [
                          25.16105824
                        ],
                        "iteration": 518,
                        "passed_time": 93.61073701,
                        "remaining_time": 68.72002081,
                        "test": [
                          25.25670103
                        ]
                      },
                      {
                        "learn": [
                          25.16101039
                        ],
                        "iteration": 519,
                        "passed_time": 93.78386594,
                        "remaining_time": 68.53436357,
                        "test": [
                          25.25670461
                        ]
                      },
                      {
                        "learn": [
                          25.16096292
                        ],
                        "iteration": 520,
                        "passed_time": 93.92862339,
                        "remaining_time": 68.32811567,
                        "test": [
                          25.25670907
                        ]
                      },
                      {
                        "learn": [
                          25.16089431
                        ],
                        "iteration": 521,
                        "passed_time": 94.12732732,
                        "remaining_time": 68.16116806,
                        "test": [
                          25.2567055
                        ]
                      },
                      {
                        "learn": [
                          25.16084031
                        ],
                        "iteration": 522,
                        "passed_time": 94.22533897,
                        "remaining_time": 67.92151586,
                        "test": [
                          25.25670009
                        ]
                      },
                      {
                        "learn": [
                          25.1607909
                        ],
                        "iteration": 523,
                        "passed_time": 94.33088451,
                        "remaining_time": 67.68781026,
                        "test": [
                          25.25669669
                        ]
                      },
                      {
                        "learn": [
                          25.16073215
                        ],
                        "iteration": 524,
                        "passed_time": 94.45841914,
                        "remaining_time": 67.47029939,
                        "test": [
                          25.25669623
                        ]
                      },
                      {
                        "learn": [
                          25.16068414
                        ],
                        "iteration": 525,
                        "passed_time": 94.54494038,
                        "remaining_time": 67.22396902,
                        "test": [
                          25.25669908
                        ]
                      },
                      {
                        "learn": [
                          25.16063623
                        ],
                        "iteration": 526,
                        "passed_time": 94.70657242,
                        "remaining_time": 67.03140704,
                        "test": [
                          25.25670095
                        ]
                      },
                      {
                        "learn": [
                          25.16058711
                        ],
                        "iteration": 527,
                        "passed_time": 94.82405857,
                        "remaining_time": 66.80785945,
                        "test": [
                          25.25668159
                        ]
                      },
                      {
                        "learn": [
                          25.16053767
                        ],
                        "iteration": 528,
                        "passed_time": 95.03566893,
                        "remaining_time": 66.65072433,
                        "test": [
                          25.25668772
                        ]
                      },
                      {
                        "learn": [
                          25.16048846
                        ],
                        "iteration": 529,
                        "passed_time": 95.16616411,
                        "remaining_time": 66.43675608,
                        "test": [
                          25.25669244
                        ]
                      },
                      {
                        "learn": [
                          25.1604285
                        ],
                        "iteration": 530,
                        "passed_time": 95.33924113,
                        "remaining_time": 66.25269299,
                        "test": [
                          25.25668829
                        ]
                      },
                      {
                        "learn": [
                          25.16038102
                        ],
                        "iteration": 531,
                        "passed_time": 95.53011623,
                        "remaining_time": 66.08098266,
                        "test": [
                          25.25667805
                        ]
                      },
                      {
                        "learn": [
                          25.16032463
                        ],
                        "iteration": 532,
                        "passed_time": 95.79664401,
                        "remaining_time": 65.96129146,
                        "test": [
                          25.25667715
                        ]
                      },
                      {
                        "learn": [
                          25.16027465
                        ],
                        "iteration": 533,
                        "passed_time": 96.06356392,
                        "remaining_time": 65.84131909,
                        "test": [
                          25.25667817
                        ]
                      },
                      {
                        "learn": [
                          25.16021637
                        ],
                        "iteration": 534,
                        "passed_time": 96.31876197,
                        "remaining_time": 65.71280022,
                        "test": [
                          25.25666205
                        ]
                      },
                      {
                        "learn": [
                          25.16016177
                        ],
                        "iteration": 535,
                        "passed_time": 96.64339802,
                        "remaining_time": 65.63096433,
                        "test": [
                          25.25666787
                        ]
                      },
                      {
                        "learn": [
                          25.16010663
                        ],
                        "iteration": 536,
                        "passed_time": 96.82713982,
                        "remaining_time": 65.45298278,
                        "test": [
                          25.25666499
                        ]
                      },
                      {
                        "learn": [
                          25.16006555
                        ],
                        "iteration": 537,
                        "passed_time": 97.03590339,
                        "remaining_time": 65.29181604,
                        "test": [
                          25.25664895
                        ]
                      },
                      {
                        "learn": [
                          25.16001923
                        ],
                        "iteration": 538,
                        "passed_time": 97.22303566,
                        "remaining_time": 65.11598492,
                        "test": [
                          25.25664222
                        ]
                      },
                      {
                        "learn": [
                          25.15996513
                        ],
                        "iteration": 539,
                        "passed_time": 97.68322441,
                        "remaining_time": 65.12214961,
                        "test": [
                          25.25664662
                        ]
                      },
                      {
                        "learn": [
                          25.15990934
                        ],
                        "iteration": 540,
                        "passed_time": 98.15862295,
                        "remaining_time": 65.13668325,
                        "test": [
                          25.25665624
                        ]
                      },
                      {
                        "learn": [
                          25.15985708
                        ],
                        "iteration": 541,
                        "passed_time": 98.70309692,
                        "remaining_time": 65.1950345,
                        "test": [
                          25.2566476
                        ]
                      },
                      {
                        "learn": [
                          25.15980427
                        ],
                        "iteration": 542,
                        "passed_time": 98.93095423,
                        "remaining_time": 65.04300306,
                        "test": [
                          25.25664162
                        ]
                      },
                      {
                        "learn": [
                          25.15976082
                        ],
                        "iteration": 543,
                        "passed_time": 99.1710371,
                        "remaining_time": 64.8986934,
                        "test": [
                          25.25664012
                        ]
                      },
                      {
                        "learn": [
                          25.15971179
                        ],
                        "iteration": 544,
                        "passed_time": 99.43881772,
                        "remaining_time": 64.77207393,
                        "test": [
                          25.25663437
                        ]
                      },
                      {
                        "learn": [
                          25.15965397
                        ],
                        "iteration": 545,
                        "passed_time": 99.71553559,
                        "remaining_time": 64.65073186,
                        "test": [
                          25.25662615
                        ]
                      },
                      {
                        "learn": [
                          25.15959773
                        ],
                        "iteration": 546,
                        "passed_time": 99.86897209,
                        "remaining_time": 64.44926353,
                        "test": [
                          25.256614
                        ]
                      },
                      {
                        "learn": [
                          25.15954959
                        ],
                        "iteration": 547,
                        "passed_time": 100.0767359,
                        "remaining_time": 64.28286685,
                        "test": [
                          25.25662228
                        ]
                      },
                      {
                        "learn": [
                          25.1594956
                        ],
                        "iteration": 548,
                        "passed_time": 100.1782837,
                        "remaining_time": 64.04841087,
                        "test": [
                          25.2566192
                        ]
                      },
                      {
                        "learn": [
                          25.1594526
                        ],
                        "iteration": 549,
                        "passed_time": 100.3014521,
                        "remaining_time": 63.82819681,
                        "test": [
                          25.25661725
                        ]
                      },
                      {
                        "learn": [
                          25.15939461
                        ],
                        "iteration": 550,
                        "passed_time": 100.41947,
                        "remaining_time": 63.60507265,
                        "test": [
                          25.25662242
                        ]
                      },
                      {
                        "learn": [
                          25.15934218
                        ],
                        "iteration": 551,
                        "passed_time": 100.8157319,
                        "remaining_time": 63.55774401,
                        "test": [
                          25.25662364
                        ]
                      },
                      {
                        "learn": [
                          25.159296
                        ],
                        "iteration": 552,
                        "passed_time": 101.1218309,
                        "remaining_time": 63.45257742,
                        "test": [
                          25.25661413
                        ]
                      },
                      {
                        "learn": [
                          25.15924175
                        ],
                        "iteration": 553,
                        "passed_time": 101.7034117,
                        "remaining_time": 63.51873728,
                        "test": [
                          25.25661183
                        ]
                      },
                      {
                        "learn": [
                          25.15919768
                        ],
                        "iteration": 554,
                        "passed_time": 102.0227683,
                        "remaining_time": 63.41955867,
                        "test": [
                          25.25660243
                        ]
                      },
                      {
                        "learn": [
                          25.15914833
                        ],
                        "iteration": 555,
                        "passed_time": 102.3684429,
                        "remaining_time": 63.33587113,
                        "test": [
                          25.25660438
                        ]
                      },
                      {
                        "learn": [
                          25.15911502
                        ],
                        "iteration": 556,
                        "passed_time": 102.4878615,
                        "remaining_time": 63.11191473,
                        "test": [
                          25.25660105
                        ]
                      },
                      {
                        "learn": [
                          25.15907258
                        ],
                        "iteration": 557,
                        "passed_time": 102.6270647,
                        "remaining_time": 62.90045899,
                        "test": [
                          25.25659972
                        ]
                      },
                      {
                        "learn": [
                          25.15901904
                        ],
                        "iteration": 558,
                        "passed_time": 102.7967346,
                        "remaining_time": 62.70784705,
                        "test": [
                          25.25658485
                        ]
                      },
                      {
                        "learn": [
                          25.15896
                        ],
                        "iteration": 559,
                        "passed_time": 102.9567747,
                        "remaining_time": 62.50947032,
                        "test": [
                          25.25657547
                        ]
                      },
                      {
                        "learn": [
                          25.15890374
                        ],
                        "iteration": 560,
                        "passed_time": 103.0627645,
                        "remaining_time": 62.27856895,
                        "test": [
                          25.25657669
                        ]
                      },
                      {
                        "learn": [
                          25.15884245
                        ],
                        "iteration": 561,
                        "passed_time": 103.2131373,
                        "remaining_time": 62.07480502,
                        "test": [
                          25.25654483
                        ]
                      },
                      {
                        "learn": [
                          25.15879307
                        ],
                        "iteration": 562,
                        "passed_time": 103.3453593,
                        "remaining_time": 61.86036607,
                        "test": [
                          25.25653072
                        ]
                      },
                      {
                        "learn": [
                          25.15874052
                        ],
                        "iteration": 563,
                        "passed_time": 103.5239502,
                        "remaining_time": 61.67384269,
                        "test": [
                          25.25652765
                        ]
                      },
                      {
                        "learn": [
                          25.15870461
                        ],
                        "iteration": 564,
                        "passed_time": 103.6558886,
                        "remaining_time": 61.45968617,
                        "test": [
                          25.25652734
                        ]
                      },
                      {
                        "learn": [
                          25.15864847
                        ],
                        "iteration": 565,
                        "passed_time": 103.7732243,
                        "remaining_time": 61.23720302,
                        "test": [
                          25.25651744
                        ]
                      },
                      {
                        "learn": [
                          25.15860469
                        ],
                        "iteration": 566,
                        "passed_time": 103.9357455,
                        "remaining_time": 61.04162828,
                        "test": [
                          25.25651783
                        ]
                      },
                      {
                        "learn": [
                          25.15856593
                        ],
                        "iteration": 567,
                        "passed_time": 104.1075895,
                        "remaining_time": 60.85161921,
                        "test": [
                          25.25651961
                        ]
                      },
                      {
                        "learn": [
                          25.15851688
                        ],
                        "iteration": 568,
                        "passed_time": 104.2748757,
                        "remaining_time": 60.65902262,
                        "test": [
                          25.25651213
                        ]
                      },
                      {
                        "learn": [
                          25.15845276
                        ],
                        "iteration": 569,
                        "passed_time": 104.4296039,
                        "remaining_time": 60.45924435,
                        "test": [
                          25.25651641
                        ]
                      },
                      {
                        "learn": [
                          25.1584123
                        ],
                        "iteration": 570,
                        "passed_time": 104.5794389,
                        "remaining_time": 60.25680455,
                        "test": [
                          25.25652073
                        ]
                      },
                      {
                        "learn": [
                          25.15836913
                        ],
                        "iteration": 571,
                        "passed_time": 104.7473615,
                        "remaining_time": 60.06492061,
                        "test": [
                          25.25653306
                        ]
                      },
                      {
                        "learn": [
                          25.15830622
                        ],
                        "iteration": 572,
                        "passed_time": 104.9013835,
                        "remaining_time": 59.86518746,
                        "test": [
                          25.25653292
                        ]
                      },
                      {
                        "learn": [
                          25.15825817
                        ],
                        "iteration": 573,
                        "passed_time": 105.0111015,
                        "remaining_time": 59.64045135,
                        "test": [
                          25.25654189
                        ]
                      },
                      {
                        "learn": [
                          25.15820864
                        ],
                        "iteration": 574,
                        "passed_time": 105.1857272,
                        "remaining_time": 59.45280231,
                        "test": [
                          25.25653998
                        ]
                      },
                      {
                        "learn": [
                          25.15816774
                        ],
                        "iteration": 575,
                        "passed_time": 105.3448673,
                        "remaining_time": 59.25648788,
                        "test": [
                          25.2565321
                        ]
                      },
                      {
                        "learn": [
                          25.15811584
                        ],
                        "iteration": 576,
                        "passed_time": 105.4669721,
                        "remaining_time": 59.03957019,
                        "test": [
                          25.25654387
                        ]
                      },
                      {
                        "learn": [
                          25.15807985
                        ],
                        "iteration": 577,
                        "passed_time": 105.5820249,
                        "remaining_time": 58.81905194,
                        "test": [
                          25.25653731
                        ]
                      },
                      {
                        "learn": [
                          25.15802061
                        ],
                        "iteration": 578,
                        "passed_time": 105.6894659,
                        "remaining_time": 58.59467796,
                        "test": [
                          25.25652706
                        ]
                      },
                      {
                        "learn": [
                          25.15798568
                        ],
                        "iteration": 579,
                        "passed_time": 105.8516818,
                        "remaining_time": 58.40092789,
                        "test": [
                          25.25654444
                        ]
                      },
                      {
                        "learn": [
                          25.15794353
                        ],
                        "iteration": 580,
                        "passed_time": 106.0057127,
                        "remaining_time": 58.20279234,
                        "test": [
                          25.25653337
                        ]
                      },
                      {
                        "learn": [
                          25.15788938
                        ],
                        "iteration": 581,
                        "passed_time": 106.1250585,
                        "remaining_time": 57.98585671,
                        "test": [
                          25.25652266
                        ]
                      },
                      {
                        "learn": [
                          25.15784543
                        ],
                        "iteration": 582,
                        "passed_time": 106.2496408,
                        "remaining_time": 57.77210316,
                        "test": [
                          25.25651706
                        ]
                      },
                      {
                        "learn": [
                          25.15779458
                        ],
                        "iteration": 583,
                        "passed_time": 106.4295998,
                        "remaining_time": 57.58861908,
                        "test": [
                          25.25650124
                        ]
                      },
                      {
                        "learn": [
                          25.15773382
                        ],
                        "iteration": 584,
                        "passed_time": 106.5268085,
                        "remaining_time": 57.3605892,
                        "test": [
                          25.25651517
                        ]
                      },
                      {
                        "learn": [
                          25.15767716
                        ],
                        "iteration": 585,
                        "passed_time": 106.6769176,
                        "remaining_time": 57.16135176,
                        "test": [
                          25.25650124
                        ]
                      },
                      {
                        "learn": [
                          25.15761779
                        ],
                        "iteration": 586,
                        "passed_time": 106.8462259,
                        "remaining_time": 56.97251908,
                        "test": [
                          25.25650183
                        ]
                      },
                      {
                        "learn": [
                          25.15755565
                        ],
                        "iteration": 587,
                        "passed_time": 107.027547,
                        "remaining_time": 56.79012698,
                        "test": [
                          25.25649736
                        ]
                      },
                      {
                        "learn": [
                          25.15750472
                        ],
                        "iteration": 588,
                        "passed_time": 107.1246239,
                        "remaining_time": 56.56325641,
                        "test": [
                          25.25648966
                        ]
                      },
                      {
                        "learn": [
                          25.15746014
                        ],
                        "iteration": 589,
                        "passed_time": 107.3289934,
                        "remaining_time": 56.39319991,
                        "test": [
                          25.25648082
                        ]
                      },
                      {
                        "learn": [
                          25.15741405
                        ],
                        "iteration": 590,
                        "passed_time": 107.4737931,
                        "remaining_time": 56.1918817,
                        "test": [
                          25.25648626
                        ]
                      },
                      {
                        "learn": [
                          25.15736655
                        ],
                        "iteration": 591,
                        "passed_time": 107.7135946,
                        "remaining_time": 56.04018096,
                        "test": [
                          25.25647576
                        ]
                      },
                      {
                        "learn": [
                          25.15731766
                        ],
                        "iteration": 592,
                        "passed_time": 107.8649342,
                        "remaining_time": 55.84238583,
                        "test": [
                          25.25647924
                        ]
                      },
                      {
                        "learn": [
                          25.15727581
                        ],
                        "iteration": 593,
                        "passed_time": 108.0346132,
                        "remaining_time": 55.65419469,
                        "test": [
                          25.25648109
                        ]
                      },
                      {
                        "learn": [
                          25.15722964
                        ],
                        "iteration": 594,
                        "passed_time": 108.1135658,
                        "remaining_time": 55.41955892,
                        "test": [
                          25.25648227
                        ]
                      },
                      {
                        "learn": [
                          25.15717314
                        ],
                        "iteration": 595,
                        "passed_time": 108.2060535,
                        "remaining_time": 55.19234944,
                        "test": [
                          25.25647402
                        ]
                      },
                      {
                        "learn": [
                          25.15712893
                        ],
                        "iteration": 596,
                        "passed_time": 108.339117,
                        "remaining_time": 54.98618501,
                        "test": [
                          25.25648954
                        ]
                      },
                      {
                        "learn": [
                          25.1570689
                        ],
                        "iteration": 597,
                        "passed_time": 108.4339721,
                        "remaining_time": 54.76096921,
                        "test": [
                          25.25648111
                        ]
                      },
                      {
                        "learn": [
                          25.15702542
                        ],
                        "iteration": 598,
                        "passed_time": 108.5686633,
                        "remaining_time": 54.55620643,
                        "test": [
                          25.25648397
                        ]
                      },
                      {
                        "learn": [
                          25.15699349
                        ],
                        "iteration": 599,
                        "passed_time": 108.7268155,
                        "remaining_time": 54.36340774,
                        "test": [
                          25.2564869
                        ]
                      },
                      {
                        "learn": [
                          25.15693601
                        ],
                        "iteration": 600,
                        "passed_time": 108.8677588,
                        "remaining_time": 54.16216288,
                        "test": [
                          25.25648648
                        ]
                      },
                      {
                        "learn": [
                          25.15688326
                        ],
                        "iteration": 601,
                        "passed_time": 109.0144371,
                        "remaining_time": 53.96395723,
                        "test": [
                          25.25648871
                        ]
                      },
                      {
                        "learn": [
                          25.15683352
                        ],
                        "iteration": 602,
                        "passed_time": 109.1230483,
                        "remaining_time": 53.74717304,
                        "test": [
                          25.2564862
                        ]
                      },
                      {
                        "learn": [
                          25.15678923
                        ],
                        "iteration": 603,
                        "passed_time": 109.2371345,
                        "remaining_time": 53.53343017,
                        "test": [
                          25.2564873
                        ]
                      },
                      {
                        "learn": [
                          25.15674466
                        ],
                        "iteration": 604,
                        "passed_time": 109.3811048,
                        "remaining_time": 53.3345883,
                        "test": [
                          25.25648673
                        ]
                      },
                      {
                        "learn": [
                          25.15667957
                        ],
                        "iteration": 605,
                        "passed_time": 109.5521682,
                        "remaining_time": 53.14907169,
                        "test": [
                          25.25649439
                        ]
                      },
                      {
                        "learn": [
                          25.15664173
                        ],
                        "iteration": 606,
                        "passed_time": 109.6619195,
                        "remaining_time": 52.93400727,
                        "test": [
                          25.25647871
                        ]
                      },
                      {
                        "learn": [
                          25.15659091
                        ],
                        "iteration": 607,
                        "passed_time": 109.8984715,
                        "remaining_time": 52.78018699,
                        "test": [
                          25.25647582
                        ]
                      },
                      {
                        "learn": [
                          25.15654158
                        ],
                        "iteration": 608,
                        "passed_time": 110.1662559,
                        "remaining_time": 52.64101885,
                        "test": [
                          25.25647767
                        ]
                      },
                      {
                        "learn": [
                          25.15649001
                        ],
                        "iteration": 609,
                        "passed_time": 110.4400681,
                        "remaining_time": 52.50429468,
                        "test": [
                          25.25647559
                        ]
                      },
                      {
                        "learn": [
                          25.15644282
                        ],
                        "iteration": 610,
                        "passed_time": 110.7096085,
                        "remaining_time": 52.36510125,
                        "test": [
                          25.25647824
                        ]
                      },
                      {
                        "learn": [
                          25.15639789
                        ],
                        "iteration": 611,
                        "passed_time": 111.0265103,
                        "remaining_time": 52.24776957,
                        "test": [
                          25.25647627
                        ]
                      },
                      {
                        "learn": [
                          25.15634599
                        ],
                        "iteration": 612,
                        "passed_time": 111.2496314,
                        "remaining_time": 52.08587964,
                        "test": [
                          25.25647017
                        ]
                      },
                      {
                        "learn": [
                          25.15628992
                        ],
                        "iteration": 613,
                        "passed_time": 111.5573866,
                        "remaining_time": 51.96321267,
                        "test": [
                          25.25647363
                        ]
                      },
                      {
                        "learn": [
                          25.15623782
                        ],
                        "iteration": 614,
                        "passed_time": 111.8822343,
                        "remaining_time": 51.84786467,
                        "test": [
                          25.25646728
                        ]
                      },
                      {
                        "learn": [
                          25.156185
                        ],
                        "iteration": 615,
                        "passed_time": 112.2640667,
                        "remaining_time": 51.75810868,
                        "test": [
                          25.25646799
                        ]
                      },
                      {
                        "learn": [
                          25.1561463
                        ],
                        "iteration": 616,
                        "passed_time": 112.4599304,
                        "remaining_time": 51.58210748,
                        "test": [
                          25.25646567
                        ]
                      },
                      {
                        "learn": [
                          25.15611036
                        ],
                        "iteration": 617,
                        "passed_time": 112.8304507,
                        "remaining_time": 51.48573964,
                        "test": [
                          25.25646414
                        ]
                      },
                      {
                        "learn": [
                          25.15605639
                        ],
                        "iteration": 618,
                        "passed_time": 113.1368761,
                        "remaining_time": 51.35938963,
                        "test": [
                          25.25646543
                        ]
                      },
                      {
                        "learn": [
                          25.1560149
                        ],
                        "iteration": 619,
                        "passed_time": 113.489652,
                        "remaining_time": 51.25339123,
                        "test": [
                          25.25647565
                        ]
                      },
                      {
                        "learn": [
                          25.15596909
                        ],
                        "iteration": 620,
                        "passed_time": 113.768712,
                        "remaining_time": 51.1134793,
                        "test": [
                          25.25646379
                        ]
                      },
                      {
                        "learn": [
                          25.15591478
                        ],
                        "iteration": 621,
                        "passed_time": 113.8975599,
                        "remaining_time": 50.90598338,
                        "test": [
                          25.25645926
                        ]
                      },
                      {
                        "learn": [
                          25.15586125
                        ],
                        "iteration": 622,
                        "passed_time": 114.0534393,
                        "remaining_time": 50.71075871,
                        "test": [
                          25.25647491
                        ]
                      },
                      {
                        "learn": [
                          25.15582322
                        ],
                        "iteration": 623,
                        "passed_time": 114.1971159,
                        "remaining_time": 50.51026279,
                        "test": [
                          25.25647826
                        ]
                      },
                      {
                        "learn": [
                          25.15578266
                        ],
                        "iteration": 624,
                        "passed_time": 114.309254,
                        "remaining_time": 50.29607177,
                        "test": [
                          25.25646471
                        ]
                      },
                      {
                        "learn": [
                          25.1557349
                        ],
                        "iteration": 625,
                        "passed_time": 114.4175741,
                        "remaining_time": 50.08053562,
                        "test": [
                          25.25647384
                        ]
                      },
                      {
                        "learn": [
                          25.15568349
                        ],
                        "iteration": 626,
                        "passed_time": 114.5606416,
                        "remaining_time": 49.88047074,
                        "test": [
                          25.25647994
                        ]
                      },
                      {
                        "learn": [
                          25.1556323
                        ],
                        "iteration": 627,
                        "passed_time": 114.7102822,
                        "remaining_time": 49.68343431,
                        "test": [
                          25.25648399
                        ]
                      },
                      {
                        "learn": [
                          25.15558791
                        ],
                        "iteration": 628,
                        "passed_time": 114.9146268,
                        "remaining_time": 49.51011743,
                        "test": [
                          25.256473
                        ]
                      },
                      {
                        "learn": [
                          25.15552689
                        ],
                        "iteration": 629,
                        "passed_time": 115.0803429,
                        "remaining_time": 49.32014694,
                        "test": [
                          25.25648067
                        ]
                      },
                      {
                        "learn": [
                          25.15548135
                        ],
                        "iteration": 630,
                        "passed_time": 115.1766726,
                        "remaining_time": 49.10067344,
                        "test": [
                          25.25647362
                        ]
                      },
                      {
                        "learn": [
                          25.15542612
                        ],
                        "iteration": 631,
                        "passed_time": 115.4329668,
                        "remaining_time": 48.94942264,
                        "test": [
                          25.25646874
                        ]
                      },
                      {
                        "learn": [
                          25.15537268
                        ],
                        "iteration": 632,
                        "passed_time": 115.7810706,
                        "remaining_time": 48.83656533,
                        "test": [
                          25.25646907
                        ]
                      },
                      {
                        "learn": [
                          25.15531564
                        ],
                        "iteration": 633,
                        "passed_time": 115.9529129,
                        "remaining_time": 48.64901391,
                        "test": [
                          25.25645998
                        ]
                      },
                      {
                        "learn": [
                          25.15527886
                        ],
                        "iteration": 634,
                        "passed_time": 116.072101,
                        "remaining_time": 48.4395382,
                        "test": [
                          25.25646633
                        ]
                      },
                      {
                        "learn": [
                          25.15523635
                        ],
                        "iteration": 635,
                        "passed_time": 116.2482803,
                        "remaining_time": 48.25400316,
                        "test": [
                          25.25648078
                        ]
                      },
                      {
                        "learn": [
                          25.15517987
                        ],
                        "iteration": 636,
                        "passed_time": 116.4349779,
                        "remaining_time": 48.07284019,
                        "test": [
                          25.25647723
                        ]
                      },
                      {
                        "learn": [
                          25.15512559
                        ],
                        "iteration": 637,
                        "passed_time": 116.58098,
                        "remaining_time": 47.87494789,
                        "test": [
                          25.25646977
                        ]
                      },
                      {
                        "learn": [
                          25.15508174
                        ],
                        "iteration": 638,
                        "passed_time": 116.7268952,
                        "remaining_time": 47.67718256,
                        "test": [
                          25.25646944
                        ]
                      },
                      {
                        "learn": [
                          25.15502793
                        ],
                        "iteration": 639,
                        "passed_time": 116.9379336,
                        "remaining_time": 47.50603551,
                        "test": [
                          25.25646346
                        ]
                      },
                      {
                        "learn": [
                          25.15498816
                        ],
                        "iteration": 640,
                        "passed_time": 117.0649648,
                        "remaining_time": 47.3008204,
                        "test": [
                          25.25646027
                        ]
                      },
                      {
                        "learn": [
                          25.15494983
                        ],
                        "iteration": 641,
                        "passed_time": 117.1790731,
                        "remaining_time": 47.09065555,
                        "test": [
                          25.25645714
                        ]
                      },
                      {
                        "learn": [
                          25.1549021
                        ],
                        "iteration": 642,
                        "passed_time": 117.3451936,
                        "remaining_time": 46.90157816,
                        "test": [
                          25.25645461
                        ]
                      },
                      {
                        "learn": [
                          25.15485079
                        ],
                        "iteration": 643,
                        "passed_time": 117.4416281,
                        "remaining_time": 46.68487081,
                        "test": [
                          25.25646596
                        ]
                      },
                      {
                        "learn": [
                          25.15480468
                        ],
                        "iteration": 644,
                        "passed_time": 117.5577506,
                        "remaining_time": 46.47631999,
                        "test": [
                          25.25646186
                        ]
                      },
                      {
                        "learn": [
                          25.15475331
                        ],
                        "iteration": 645,
                        "passed_time": 117.722576,
                        "remaining_time": 46.2872048,
                        "test": [
                          25.25647098
                        ]
                      },
                      {
                        "learn": [
                          25.1547028
                        ],
                        "iteration": 646,
                        "passed_time": 117.8816841,
                        "remaining_time": 46.09592903,
                        "test": [
                          25.25647578
                        ]
                      },
                      {
                        "learn": [
                          25.15465038
                        ],
                        "iteration": 647,
                        "passed_time": 118.0627056,
                        "remaining_time": 45.91327439,
                        "test": [
                          25.25646548
                        ]
                      },
                      {
                        "learn": [
                          25.15458483
                        ],
                        "iteration": 648,
                        "passed_time": 118.1502767,
                        "remaining_time": 45.69448296,
                        "test": [
                          25.25646827
                        ]
                      },
                      {
                        "learn": [
                          25.15453378
                        ],
                        "iteration": 649,
                        "passed_time": 118.2671895,
                        "remaining_time": 45.48738059,
                        "test": [
                          25.25646211
                        ]
                      },
                      {
                        "learn": [
                          25.1544798
                        ],
                        "iteration": 650,
                        "passed_time": 118.4235706,
                        "remaining_time": 45.29565144,
                        "test": [
                          25.25646194
                        ]
                      },
                      {
                        "learn": [
                          25.15442323
                        ],
                        "iteration": 651,
                        "passed_time": 118.5552274,
                        "remaining_time": 45.09462638,
                        "test": [
                          25.25645014
                        ]
                      },
                      {
                        "learn": [
                          25.15437681
                        ],
                        "iteration": 652,
                        "passed_time": 118.6946885,
                        "remaining_time": 44.89676581,
                        "test": [
                          25.25645087
                        ]
                      },
                      {
                        "learn": [
                          25.15432793
                        ],
                        "iteration": 653,
                        "passed_time": 118.7950376,
                        "remaining_time": 44.68437193,
                        "test": [
                          25.25644967
                        ]
                      },
                      {
                        "learn": [
                          25.15429534
                        ],
                        "iteration": 654,
                        "passed_time": 118.9634319,
                        "remaining_time": 44.49777224,
                        "test": [
                          25.25645355
                        ]
                      },
                      {
                        "learn": [
                          25.15424539
                        ],
                        "iteration": 655,
                        "passed_time": 119.0879127,
                        "remaining_time": 44.29489437,
                        "test": [
                          25.25644341
                        ]
                      },
                      {
                        "learn": [
                          25.15418805
                        ],
                        "iteration": 656,
                        "passed_time": 119.1757418,
                        "remaining_time": 44.07869902,
                        "test": [
                          25.25642909
                        ]
                      },
                      {
                        "learn": [
                          25.15412671
                        ],
                        "iteration": 657,
                        "passed_time": 119.3666669,
                        "remaining_time": 43.90081063,
                        "test": [
                          25.25643982
                        ]
                      },
                      {
                        "learn": [
                          25.15407809
                        ],
                        "iteration": 658,
                        "passed_time": 119.511024,
                        "remaining_time": 43.70585248,
                        "test": [
                          25.25645273
                        ]
                      },
                      {
                        "learn": [
                          25.15403038
                        ],
                        "iteration": 659,
                        "passed_time": 119.7169167,
                        "remaining_time": 43.53342424,
                        "test": [
                          25.25645877
                        ]
                      },
                      {
                        "learn": [
                          25.15397575
                        ],
                        "iteration": 660,
                        "passed_time": 119.8895224,
                        "remaining_time": 43.34885909,
                        "test": [
                          25.25646323
                        ]
                      },
                      {
                        "learn": [
                          25.15392355
                        ],
                        "iteration": 661,
                        "passed_time": 120.0190967,
                        "remaining_time": 43.14885952,
                        "test": [
                          25.25647836
                        ]
                      },
                      {
                        "learn": [
                          25.15385493
                        ],
                        "iteration": 662,
                        "passed_time": 120.1115512,
                        "remaining_time": 42.93580335,
                        "test": [
                          25.25646731
                        ]
                      },
                      {
                        "learn": [
                          25.15381694
                        ],
                        "iteration": 663,
                        "passed_time": 120.2608972,
                        "remaining_time": 42.74333094,
                        "test": [
                          25.25648865
                        ]
                      },
                      {
                        "learn": [
                          25.15377575
                        ],
                        "iteration": 664,
                        "passed_time": 120.4214897,
                        "remaining_time": 42.55496254,
                        "test": [
                          25.25648818
                        ]
                      },
                      {
                        "learn": [
                          25.15371719
                        ],
                        "iteration": 665,
                        "passed_time": 120.5604423,
                        "remaining_time": 42.35907434,
                        "test": [
                          25.25648432
                        ]
                      },
                      {
                        "learn": [
                          25.15367335
                        ],
                        "iteration": 666,
                        "passed_time": 120.7164411,
                        "remaining_time": 42.16931151,
                        "test": [
                          25.25647994
                        ]
                      },
                      {
                        "learn": [
                          25.15360846
                        ],
                        "iteration": 667,
                        "passed_time": 120.8212481,
                        "remaining_time": 41.9618706,
                        "test": [
                          25.2564906
                        ]
                      },
                      {
                        "learn": [
                          25.15355144
                        ],
                        "iteration": 668,
                        "passed_time": 120.9686061,
                        "remaining_time": 41.76942902,
                        "test": [
                          25.25648685
                        ]
                      },
                      {
                        "learn": [
                          25.15349301
                        ],
                        "iteration": 669,
                        "passed_time": 121.0702874,
                        "remaining_time": 41.56144193,
                        "test": [
                          25.25648441
                        ]
                      },
                      {
                        "learn": [
                          25.15341634
                        ],
                        "iteration": 670,
                        "passed_time": 121.2156431,
                        "remaining_time": 41.36867701,
                        "test": [
                          25.25646342
                        ]
                      },
                      {
                        "learn": [
                          25.15336115
                        ],
                        "iteration": 671,
                        "passed_time": 121.3721643,
                        "remaining_time": 41.17984148,
                        "test": [
                          25.25645824
                        ]
                      },
                      {
                        "learn": [
                          25.15331218
                        ],
                        "iteration": 672,
                        "passed_time": 121.4726455,
                        "remaining_time": 40.97219991,
                        "test": [
                          25.25644709
                        ]
                      },
                      {
                        "learn": [
                          25.15325578
                        ],
                        "iteration": 673,
                        "passed_time": 121.5762484,
                        "remaining_time": 40.76592304,
                        "test": [
                          25.25643697
                        ]
                      },
                      {
                        "learn": [
                          25.15320447
                        ],
                        "iteration": 674,
                        "passed_time": 121.7311459,
                        "remaining_time": 40.57704864,
                        "test": [
                          25.25644309
                        ]
                      },
                      {
                        "learn": [
                          25.15315252
                        ],
                        "iteration": 675,
                        "passed_time": 121.8687959,
                        "remaining_time": 40.3825596,
                        "test": [
                          25.2564428
                        ]
                      },
                      {
                        "learn": [
                          25.15310947
                        ],
                        "iteration": 676,
                        "passed_time": 122.0289498,
                        "remaining_time": 40.19565112,
                        "test": [
                          25.25642994
                        ]
                      },
                      {
                        "learn": [
                          25.15306677
                        ],
                        "iteration": 677,
                        "passed_time": 122.222772,
                        "remaining_time": 40.01984571,
                        "test": [
                          25.2564342
                        ]
                      },
                      {
                        "learn": [
                          25.15300578
                        ],
                        "iteration": 678,
                        "passed_time": 122.4148968,
                        "remaining_time": 39.84343475,
                        "test": [
                          25.25644369
                        ]
                      },
                      {
                        "learn": [
                          25.15294734
                        ],
                        "iteration": 679,
                        "passed_time": 122.5489012,
                        "remaining_time": 39.64817392,
                        "test": [
                          25.2564576
                        ]
                      },
                      {
                        "learn": [
                          25.15290448
                        ],
                        "iteration": 680,
                        "passed_time": 122.6351885,
                        "remaining_time": 39.43774784,
                        "test": [
                          25.25646749
                        ]
                      },
                      {
                        "learn": [
                          25.15285495
                        ],
                        "iteration": 681,
                        "passed_time": 122.7655822,
                        "remaining_time": 39.24178434,
                        "test": [
                          25.25646397
                        ]
                      },
                      {
                        "learn": [
                          25.15280327
                        ],
                        "iteration": 682,
                        "passed_time": 122.9872765,
                        "remaining_time": 39.07502051,
                        "test": [
                          25.25646112
                        ]
                      },
                      {
                        "learn": [
                          25.15275171
                        ],
                        "iteration": 683,
                        "passed_time": 123.1069822,
                        "remaining_time": 38.87588912,
                        "test": [
                          25.25647089
                        ]
                      },
                      {
                        "learn": [
                          25.15269613
                        ],
                        "iteration": 684,
                        "passed_time": 123.2171814,
                        "remaining_time": 38.67400583,
                        "test": [
                          25.25647959
                        ]
                      },
                      {
                        "learn": [
                          25.1526436
                        ],
                        "iteration": 685,
                        "passed_time": 123.3862307,
                        "remaining_time": 38.49074834,
                        "test": [
                          25.25647266
                        ]
                      },
                      {
                        "learn": [
                          25.15258885
                        ],
                        "iteration": 686,
                        "passed_time": 123.4964662,
                        "remaining_time": 38.28929737,
                        "test": [
                          25.25647327
                        ]
                      },
                      {
                        "learn": [
                          25.15254432
                        ],
                        "iteration": 687,
                        "passed_time": 123.7130371,
                        "remaining_time": 38.12087772,
                        "test": [
                          25.25648156
                        ]
                      },
                      {
                        "learn": [
                          25.15249333
                        ],
                        "iteration": 688,
                        "passed_time": 123.9345936,
                        "remaining_time": 37.95384506,
                        "test": [
                          25.25647521
                        ]
                      },
                      {
                        "learn": [
                          25.15244203
                        ],
                        "iteration": 689,
                        "passed_time": 124.2205626,
                        "remaining_time": 37.80625818,
                        "test": [
                          25.25645961
                        ]
                      },
                      {
                        "learn": [
                          25.15239017
                        ],
                        "iteration": 690,
                        "passed_time": 124.6643609,
                        "remaining_time": 37.70600785,
                        "test": [
                          25.25645675
                        ]
                      },
                      {
                        "learn": [
                          25.15234634
                        ],
                        "iteration": 691,
                        "passed_time": 125.0124816,
                        "remaining_time": 37.57600603,
                        "test": [
                          25.25644012
                        ]
                      },
                      {
                        "learn": [
                          25.15230228
                        ],
                        "iteration": 692,
                        "passed_time": 125.2508583,
                        "remaining_time": 37.41259405,
                        "test": [
                          25.25642898
                        ]
                      },
                      {
                        "learn": [
                          25.15225185
                        ],
                        "iteration": 693,
                        "passed_time": 125.4827163,
                        "remaining_time": 37.24703106,
                        "test": [
                          25.25643428
                        ]
                      },
                      {
                        "learn": [
                          25.15220213
                        ],
                        "iteration": 694,
                        "passed_time": 125.9097925,
                        "remaining_time": 37.13885966,
                        "test": [
                          25.25643359
                        ]
                      },
                      {
                        "learn": [
                          25.15214968
                        ],
                        "iteration": 695,
                        "passed_time": 126.192691,
                        "remaining_time": 36.98751289,
                        "test": [
                          25.25643812
                        ]
                      },
                      {
                        "learn": [
                          25.15210283
                        ],
                        "iteration": 696,
                        "passed_time": 126.4194032,
                        "remaining_time": 36.81942447,
                        "test": [
                          25.25643665
                        ]
                      },
                      {
                        "learn": [
                          25.15205715
                        ],
                        "iteration": 697,
                        "passed_time": 126.8195677,
                        "remaining_time": 36.70136486,
                        "test": [
                          25.25643102
                        ]
                      },
                      {
                        "learn": [
                          25.15201162
                        ],
                        "iteration": 698,
                        "passed_time": 127.0917536,
                        "remaining_time": 36.54569739,
                        "test": [
                          25.25643373
                        ]
                      },
                      {
                        "learn": [
                          25.15196094
                        ],
                        "iteration": 699,
                        "passed_time": 127.3360167,
                        "remaining_time": 36.38171907,
                        "test": [
                          25.25643902
                        ]
                      },
                      {
                        "learn": [
                          25.15190226
                        ],
                        "iteration": 700,
                        "passed_time": 127.5665841,
                        "remaining_time": 36.21362375,
                        "test": [
                          25.25643348
                        ]
                      },
                      {
                        "learn": [
                          25.15183839
                        ],
                        "iteration": 701,
                        "passed_time": 127.8294606,
                        "remaining_time": 36.05446326,
                        "test": [
                          25.25645009
                        ]
                      },
                      {
                        "learn": [
                          25.15177372
                        ],
                        "iteration": 702,
                        "passed_time": 128.0162051,
                        "remaining_time": 35.8736734,
                        "test": [
                          25.25645336
                        ]
                      },
                      {
                        "learn": [
                          25.15170492
                        ],
                        "iteration": 703,
                        "passed_time": 128.1349673,
                        "remaining_time": 35.67393976,
                        "test": [
                          25.25645317
                        ]
                      },
                      {
                        "learn": [
                          25.15165333
                        ],
                        "iteration": 704,
                        "passed_time": 128.2904087,
                        "remaining_time": 35.48458114,
                        "test": [
                          25.25645598
                        ]
                      },
                      {
                        "learn": [
                          25.15159638
                        ],
                        "iteration": 705,
                        "passed_time": 128.459115,
                        "remaining_time": 35.29896362,
                        "test": [
                          25.25644509
                        ]
                      },
                      {
                        "learn": [
                          25.15155882
                        ],
                        "iteration": 706,
                        "passed_time": 128.5958067,
                        "remaining_time": 35.10465445,
                        "test": [
                          25.25643535
                        ]
                      },
                      {
                        "learn": [
                          25.15151673
                        ],
                        "iteration": 707,
                        "passed_time": 128.7084178,
                        "remaining_time": 34.9039777,
                        "test": [
                          25.25642978
                        ]
                      },
                      {
                        "learn": [
                          25.15145951
                        ],
                        "iteration": 708,
                        "passed_time": 128.8214544,
                        "remaining_time": 34.70366401,
                        "test": [
                          25.25642101
                        ]
                      },
                      {
                        "learn": [
                          25.15141232
                        ],
                        "iteration": 709,
                        "passed_time": 128.9880722,
                        "remaining_time": 34.51793482,
                        "test": [
                          25.25641831
                        ]
                      },
                      {
                        "learn": [
                          25.15136415
                        ],
                        "iteration": 710,
                        "passed_time": 129.1212486,
                        "remaining_time": 34.32336988,
                        "test": [
                          25.25640624
                        ]
                      },
                      {
                        "learn": [
                          25.15132009
                        ],
                        "iteration": 711,
                        "passed_time": 129.2994423,
                        "remaining_time": 34.14086398,
                        "test": [
                          25.25640598
                        ]
                      },
                      {
                        "learn": [
                          25.15127316
                        ],
                        "iteration": 712,
                        "passed_time": 129.4156947,
                        "remaining_time": 33.9421247,
                        "test": [
                          25.25638364
                        ]
                      },
                      {
                        "learn": [
                          25.15122918
                        ],
                        "iteration": 713,
                        "passed_time": 129.5375544,
                        "remaining_time": 33.74507721,
                        "test": [
                          25.2563846
                        ]
                      },
                      {
                        "learn": [
                          25.1511867
                        ],
                        "iteration": 714,
                        "passed_time": 129.6678936,
                        "remaining_time": 33.550434,
                        "test": [
                          25.25637284
                        ]
                      },
                      {
                        "learn": [
                          25.15113355
                        ],
                        "iteration": 715,
                        "passed_time": 129.7818377,
                        "remaining_time": 33.35175718,
                        "test": [
                          25.25636656
                        ]
                      },
                      {
                        "learn": [
                          25.15108362
                        ],
                        "iteration": 716,
                        "passed_time": 129.966439,
                        "remaining_time": 33.17135054,
                        "test": [
                          25.25640468
                        ]
                      },
                      {
                        "learn": [
                          25.1510358
                        ],
                        "iteration": 717,
                        "passed_time": 130.1657752,
                        "remaining_time": 32.99466725,
                        "test": [
                          25.25639932
                        ]
                      },
                      {
                        "learn": [
                          25.1509933
                        ],
                        "iteration": 718,
                        "passed_time": 130.2488223,
                        "remaining_time": 32.7886465,
                        "test": [
                          25.25639696
                        ]
                      },
                      {
                        "learn": [
                          25.15094936
                        ],
                        "iteration": 719,
                        "passed_time": 130.3985427,
                        "remaining_time": 32.59963567,
                        "test": [
                          25.25640132
                        ]
                      },
                      {
                        "learn": [
                          25.15090661
                        ],
                        "iteration": 720,
                        "passed_time": 130.525545,
                        "remaining_time": 32.4050937,
                        "test": [
                          25.25641755
                        ]
                      },
                      {
                        "learn": [
                          25.15086093
                        ],
                        "iteration": 721,
                        "passed_time": 130.6379584,
                        "remaining_time": 32.2071421,
                        "test": [
                          25.25643341
                        ]
                      },
                      {
                        "learn": [
                          25.1508162
                        ],
                        "iteration": 722,
                        "passed_time": 130.7696104,
                        "remaining_time": 32.01413699,
                        "test": [
                          25.25643361
                        ]
                      },
                      {
                        "learn": [
                          25.15076309
                        ],
                        "iteration": 723,
                        "passed_time": 130.8402509,
                        "remaining_time": 31.80646982,
                        "test": [
                          25.25644702
                        ]
                      },
                      {
                        "learn": [
                          25.15071835
                        ],
                        "iteration": 724,
                        "passed_time": 130.9233199,
                        "remaining_time": 31.60218067,
                        "test": [
                          25.25645309
                        ]
                      },
                      {
                        "learn": [
                          25.15066664
                        ],
                        "iteration": 725,
                        "passed_time": 131.0392976,
                        "remaining_time": 31.40611265,
                        "test": [
                          25.25646293
                        ]
                      },
                      {
                        "learn": [
                          25.15061537
                        ],
                        "iteration": 726,
                        "passed_time": 131.2575329,
                        "remaining_time": 31.23459861,
                        "test": [
                          25.25647225
                        ]
                      },
                      {
                        "learn": [
                          25.15057527
                        ],
                        "iteration": 727,
                        "passed_time": 131.3310823,
                        "remaining_time": 31.0287722,
                        "test": [
                          25.25648497
                        ]
                      },
                      {
                        "learn": [
                          25.15051502
                        ],
                        "iteration": 728,
                        "passed_time": 131.47513,
                        "remaining_time": 30.83984531,
                        "test": [
                          25.25646701
                        ]
                      },
                      {
                        "learn": [
                          25.15046848
                        ],
                        "iteration": 729,
                        "passed_time": 131.763081,
                        "remaining_time": 30.68455312,
                        "test": [
                          25.25646708
                        ]
                      },
                      {
                        "learn": [
                          25.15040133
                        ],
                        "iteration": 730,
                        "passed_time": 131.9274315,
                        "remaining_time": 30.50032273,
                        "test": [
                          25.25647049
                        ]
                      },
                      {
                        "learn": [
                          25.15035235
                        ],
                        "iteration": 731,
                        "passed_time": 132.0923958,
                        "remaining_time": 30.31628756,
                        "test": [
                          25.25647659
                        ]
                      },
                      {
                        "learn": [
                          25.15030809
                        ],
                        "iteration": 732,
                        "passed_time": 132.2790259,
                        "remaining_time": 30.13724055,
                        "test": [
                          25.25647346
                        ]
                      },
                      {
                        "learn": [
                          25.15025338
                        ],
                        "iteration": 733,
                        "passed_time": 132.408569,
                        "remaining_time": 29.94526221,
                        "test": [
                          25.25648748
                        ]
                      },
                      {
                        "learn": [
                          25.15020604
                        ],
                        "iteration": 734,
                        "passed_time": 132.518092,
                        "remaining_time": 29.74895943,
                        "test": [
                          25.25649831
                        ]
                      },
                      {
                        "learn": [
                          25.15016127
                        ],
                        "iteration": 735,
                        "passed_time": 132.621212,
                        "remaining_time": 29.55146571,
                        "test": [
                          25.256504
                        ]
                      },
                      {
                        "learn": [
                          25.15011506
                        ],
                        "iteration": 736,
                        "passed_time": 132.7946082,
                        "remaining_time": 29.36977089,
                        "test": [
                          25.25649664
                        ]
                      },
                      {
                        "learn": [
                          25.15007137
                        ],
                        "iteration": 737,
                        "passed_time": 132.9777891,
                        "remaining_time": 29.1902464,
                        "test": [
                          25.25650159
                        ]
                      },
                      {
                        "learn": [
                          25.1500116
                        ],
                        "iteration": 738,
                        "passed_time": 133.0814671,
                        "remaining_time": 28.99339135,
                        "test": [
                          25.25648395
                        ]
                      },
                      {
                        "learn": [
                          25.14994936
                        ],
                        "iteration": 739,
                        "passed_time": 133.2415907,
                        "remaining_time": 28.80899259,
                        "test": [
                          25.25649713
                        ]
                      },
                      {
                        "learn": [
                          25.14989557
                        ],
                        "iteration": 740,
                        "passed_time": 133.3706176,
                        "remaining_time": 28.61798678,
                        "test": [
                          25.2564796
                        ]
                      },
                      {
                        "learn": [
                          25.14984381
                        ],
                        "iteration": 741,
                        "passed_time": 133.5636132,
                        "remaining_time": 28.4407694,
                        "test": [
                          25.25647556
                        ]
                      },
                      {
                        "learn": [
                          25.14978454
                        ],
                        "iteration": 742,
                        "passed_time": 133.7594786,
                        "remaining_time": 28.26411593,
                        "test": [
                          25.25648624
                        ]
                      },
                      {
                        "learn": [
                          25.14973235
                        ],
                        "iteration": 743,
                        "passed_time": 133.8875746,
                        "remaining_time": 28.07320112,
                        "test": [
                          25.25649004
                        ]
                      },
                      {
                        "learn": [
                          25.14968675
                        ],
                        "iteration": 744,
                        "passed_time": 133.9730053,
                        "remaining_time": 27.87357829,
                        "test": [
                          25.25647862
                        ]
                      },
                      {
                        "learn": [
                          25.14963838
                        ],
                        "iteration": 745,
                        "passed_time": 134.1643022,
                        "remaining_time": 27.69611601,
                        "test": [
                          25.25648569
                        ]
                      },
                      {
                        "learn": [
                          25.14959951
                        ],
                        "iteration": 746,
                        "passed_time": 134.3008463,
                        "remaining_time": 27.50740226,
                        "test": [
                          25.25650309
                        ]
                      },
                      {
                        "learn": [
                          25.14955268
                        ],
                        "iteration": 747,
                        "passed_time": 134.4968431,
                        "remaining_time": 27.3309093,
                        "test": [
                          25.25651422
                        ]
                      },
                      {
                        "learn": [
                          25.14950162
                        ],
                        "iteration": 748,
                        "passed_time": 134.6457158,
                        "remaining_time": 27.14486393,
                        "test": [
                          25.25650094
                        ]
                      },
                      {
                        "learn": [
                          25.14945117
                        ],
                        "iteration": 749,
                        "passed_time": 134.7644021,
                        "remaining_time": 26.95288043,
                        "test": [
                          25.25651163
                        ]
                      },
                      {
                        "learn": [
                          25.14940192
                        ],
                        "iteration": 750,
                        "passed_time": 134.9363937,
                        "remaining_time": 26.771668,
                        "test": [
                          25.2565242
                        ]
                      },
                      {
                        "learn": [
                          25.14936001
                        ],
                        "iteration": 751,
                        "passed_time": 135.0738827,
                        "remaining_time": 26.58368967,
                        "test": [
                          25.25651091
                        ]
                      },
                      {
                        "learn": [
                          25.14930056
                        ],
                        "iteration": 752,
                        "passed_time": 135.2029327,
                        "remaining_time": 26.39419801,
                        "test": [
                          25.25651605
                        ]
                      },
                      {
                        "learn": [
                          25.14925208
                        ],
                        "iteration": 753,
                        "passed_time": 135.3379653,
                        "remaining_time": 26.20602511,
                        "test": [
                          25.25652128
                        ]
                      },
                      {
                        "learn": [
                          25.14920741
                        ],
                        "iteration": 754,
                        "passed_time": 135.4368494,
                        "remaining_time": 26.01105054,
                        "test": [
                          25.25651236
                        ]
                      },
                      {
                        "learn": [
                          25.14915357
                        ],
                        "iteration": 755,
                        "passed_time": 135.6121571,
                        "remaining_time": 25.83088707,
                        "test": [
                          25.25649433
                        ]
                      },
                      {
                        "learn": [
                          25.14910682
                        ],
                        "iteration": 756,
                        "passed_time": 135.7691435,
                        "remaining_time": 25.64727545,
                        "test": [
                          25.25650171
                        ]
                      },
                      {
                        "learn": [
                          25.14905759
                        ],
                        "iteration": 757,
                        "passed_time": 135.9948317,
                        "remaining_time": 25.47660435,
                        "test": [
                          25.25649298
                        ]
                      },
                      {
                        "learn": [
                          25.14901759
                        ],
                        "iteration": 758,
                        "passed_time": 136.0875662,
                        "remaining_time": 25.28108937,
                        "test": [
                          25.25650176
                        ]
                      },
                      {
                        "learn": [
                          25.14897222
                        ],
                        "iteration": 759,
                        "passed_time": 136.1875669,
                        "remaining_time": 25.08718338,
                        "test": [
                          25.25650338
                        ]
                      },
                      {
                        "learn": [
                          25.14892262
                        ],
                        "iteration": 760,
                        "passed_time": 136.3332043,
                        "remaining_time": 24.90185992,
                        "test": [
                          25.25648371
                        ]
                      },
                      {
                        "learn": [
                          25.14886538
                        ],
                        "iteration": 761,
                        "passed_time": 136.4576258,
                        "remaining_time": 24.71279838,
                        "test": [
                          25.25648085
                        ]
                      },
                      {
                        "learn": [
                          25.14880602
                        ],
                        "iteration": 762,
                        "passed_time": 136.5988915,
                        "remaining_time": 24.52693071,
                        "test": [
                          25.25648589
                        ]
                      },
                      {
                        "learn": [
                          25.14875771
                        ],
                        "iteration": 763,
                        "passed_time": 136.7828473,
                        "remaining_time": 24.34877911,
                        "test": [
                          25.25649256
                        ]
                      },
                      {
                        "learn": [
                          25.14871062
                        ],
                        "iteration": 764,
                        "passed_time": 136.8987871,
                        "remaining_time": 24.15860949,
                        "test": [
                          25.25648998
                        ]
                      },
                      {
                        "learn": [
                          25.14865574
                        ],
                        "iteration": 765,
                        "passed_time": 137.045476,
                        "remaining_time": 23.97401277,
                        "test": [
                          25.25647953
                        ]
                      },
                      {
                        "learn": [
                          25.14860143
                        ],
                        "iteration": 766,
                        "passed_time": 137.208241,
                        "remaining_time": 23.79230255,
                        "test": [
                          25.25647867
                        ]
                      },
                      {
                        "learn": [
                          25.14854489
                        ],
                        "iteration": 767,
                        "passed_time": 137.3208919,
                        "remaining_time": 23.6020283,
                        "test": [
                          25.25649448
                        ]
                      },
                      {
                        "learn": [
                          25.14849726
                        ],
                        "iteration": 768,
                        "passed_time": 137.5386625,
                        "remaining_time": 23.42986318,
                        "test": [
                          25.25648888
                        ]
                      },
                      {
                        "learn": [
                          25.14846469
                        ],
                        "iteration": 769,
                        "passed_time": 137.7041652,
                        "remaining_time": 23.24875517,
                        "test": [
                          25.25649947
                        ]
                      },
                      {
                        "learn": [
                          25.14839238
                        ],
                        "iteration": 770,
                        "passed_time": 137.9257053,
                        "remaining_time": 23.07706353,
                        "test": [
                          25.25648271
                        ]
                      },
                      {
                        "learn": [
                          25.14834801
                        ],
                        "iteration": 771,
                        "passed_time": 138.2207825,
                        "remaining_time": 22.91743545,
                        "test": [
                          25.25647403
                        ]
                      },
                      {
                        "learn": [
                          25.14829307
                        ],
                        "iteration": 772,
                        "passed_time": 138.5159973,
                        "remaining_time": 22.75747951,
                        "test": [
                          25.25646243
                        ]
                      },
                      {
                        "learn": [
                          25.14824207
                        ],
                        "iteration": 773,
                        "passed_time": 138.8224997,
                        "remaining_time": 22.59901157,
                        "test": [
                          25.25645983
                        ]
                      },
                      {
                        "learn": [
                          25.14818698
                        ],
                        "iteration": 774,
                        "passed_time": 139.0415683,
                        "remaining_time": 22.42605941,
                        "test": [
                          25.25645836
                        ]
                      },
                      {
                        "learn": [
                          25.14813939
                        ],
                        "iteration": 775,
                        "passed_time": 139.2705022,
                        "remaining_time": 22.25456478,
                        "test": [
                          25.25645232
                        ]
                      },
                      {
                        "learn": [
                          25.14808946
                        ],
                        "iteration": 776,
                        "passed_time": 139.4098637,
                        "remaining_time": 22.0687429,
                        "test": [
                          25.25647007
                        ]
                      },
                      {
                        "learn": [
                          25.14805263
                        ],
                        "iteration": 777,
                        "passed_time": 139.7402782,
                        "remaining_time": 21.91299992,
                        "test": [
                          25.25646282
                        ]
                      },
                      {
                        "learn": [
                          25.14800224
                        ],
                        "iteration": 778,
                        "passed_time": 140.1084413,
                        "remaining_time": 21.76267188,
                        "test": [
                          25.2564845
                        ]
                      },
                      {
                        "learn": [
                          25.14794977
                        ],
                        "iteration": 779,
                        "passed_time": 140.2774439,
                        "remaining_time": 21.58114522,
                        "test": [
                          25.25647307
                        ]
                      },
                      {
                        "learn": [
                          25.14790751
                        ],
                        "iteration": 780,
                        "passed_time": 140.5875054,
                        "remaining_time": 21.42114358,
                        "test": [
                          25.25647961
                        ]
                      },
                      {
                        "learn": [
                          25.14784878
                        ],
                        "iteration": 781,
                        "passed_time": 140.9888395,
                        "remaining_time": 21.27453078,
                        "test": [
                          25.25646525
                        ]
                      },
                      {
                        "learn": [
                          25.1478015
                        ],
                        "iteration": 782,
                        "passed_time": 141.275488,
                        "remaining_time": 21.11013039,
                        "test": [
                          25.25648261
                        ]
                      },
                      {
                        "learn": [
                          25.14775406
                        ],
                        "iteration": 783,
                        "passed_time": 141.5060575,
                        "remaining_time": 20.93712075,
                        "test": [
                          25.25648842
                        ]
                      },
                      {
                        "learn": [
                          25.14769964
                        ],
                        "iteration": 784,
                        "passed_time": 141.8160523,
                        "remaining_time": 20.77560002,
                        "test": [
                          25.25649739
                        ]
                      },
                      {
                        "learn": [
                          25.14765517
                        ],
                        "iteration": 785,
                        "passed_time": 141.9561217,
                        "remaining_time": 20.58905581,
                        "test": [
                          25.25649533
                        ]
                      },
                      {
                        "learn": [
                          25.14759982
                        ],
                        "iteration": 786,
                        "passed_time": 142.1742328,
                        "remaining_time": 20.4138352,
                        "test": [
                          25.25650532
                        ]
                      },
                      {
                        "learn": [
                          25.14755987
                        ],
                        "iteration": 787,
                        "passed_time": 142.3132207,
                        "remaining_time": 20.22725979,
                        "test": [
                          25.25651029
                        ]
                      },
                      {
                        "learn": [
                          25.14750254
                        ],
                        "iteration": 788,
                        "passed_time": 142.418363,
                        "remaining_time": 20.03604347,
                        "test": [
                          25.25650527
                        ]
                      },
                      {
                        "learn": [
                          25.14743956
                        ],
                        "iteration": 789,
                        "passed_time": 142.5156992,
                        "remaining_time": 19.84395811,
                        "test": [
                          25.25651039
                        ]
                      },
                      {
                        "learn": [
                          25.14739287
                        ],
                        "iteration": 790,
                        "passed_time": 142.6047716,
                        "remaining_time": 19.65097358,
                        "test": [
                          25.25651484
                        ]
                      },
                      {
                        "learn": [
                          25.14734101
                        ],
                        "iteration": 791,
                        "passed_time": 142.6799447,
                        "remaining_time": 19.45635609,
                        "test": [
                          25.25650563
                        ]
                      },
                      {
                        "learn": [
                          25.1472792
                        ],
                        "iteration": 792,
                        "passed_time": 142.845086,
                        "remaining_time": 19.27417932,
                        "test": [
                          25.25651142
                        ]
                      },
                      {
                        "learn": [
                          25.14722811
                        ],
                        "iteration": 793,
                        "passed_time": 142.9733911,
                        "remaining_time": 19.08712778,
                        "test": [
                          25.25651708
                        ]
                      },
                      {
                        "learn": [
                          25.14716555
                        ],
                        "iteration": 794,
                        "passed_time": 143.1348379,
                        "remaining_time": 18.90460123,
                        "test": [
                          25.25650853
                        ]
                      },
                      {
                        "learn": [
                          25.14712726
                        ],
                        "iteration": 795,
                        "passed_time": 143.2177803,
                        "remaining_time": 18.71187079,
                        "test": [
                          25.25650094
                        ]
                      },
                      {
                        "learn": [
                          25.14708189
                        ],
                        "iteration": 796,
                        "passed_time": 143.3781981,
                        "remaining_time": 18.52942836,
                        "test": [
                          25.25651208
                        ]
                      },
                      {
                        "learn": [
                          25.14703448
                        ],
                        "iteration": 797,
                        "passed_time": 143.5026762,
                        "remaining_time": 18.34244734,
                        "test": [
                          25.25649284
                        ]
                      },
                      {
                        "learn": [
                          25.14698925
                        ],
                        "iteration": 798,
                        "passed_time": 143.6601123,
                        "remaining_time": 18.15978891,
                        "test": [
                          25.25649141
                        ]
                      },
                      {
                        "learn": [
                          25.14694506
                        ],
                        "iteration": 799,
                        "passed_time": 143.8355743,
                        "remaining_time": 17.97944678,
                        "test": [
                          25.25649246
                        ]
                      },
                      {
                        "learn": [
                          25.14689502
                        ],
                        "iteration": 800,
                        "passed_time": 144.0163241,
                        "remaining_time": 17.7997704,
                        "test": [
                          25.25649196
                        ]
                      },
                      {
                        "learn": [
                          25.1468234
                        ],
                        "iteration": 801,
                        "passed_time": 144.1379778,
                        "remaining_time": 17.6128701,
                        "test": [
                          25.25649651
                        ]
                      },
                      {
                        "learn": [
                          25.14678234
                        ],
                        "iteration": 802,
                        "passed_time": 144.2690836,
                        "remaining_time": 17.42727411,
                        "test": [
                          25.2565062
                        ]
                      },
                      {
                        "learn": [
                          25.14673658
                        ],
                        "iteration": 803,
                        "passed_time": 144.4071162,
                        "remaining_time": 17.24264074,
                        "test": [
                          25.25652916
                        ]
                      },
                      {
                        "learn": [
                          25.14668349
                        ],
                        "iteration": 804,
                        "passed_time": 144.4810521,
                        "remaining_time": 17.05055894,
                        "test": [
                          25.25653997
                        ]
                      },
                      {
                        "learn": [
                          25.14662199
                        ],
                        "iteration": 805,
                        "passed_time": 144.6640749,
                        "remaining_time": 16.87149261,
                        "test": [
                          25.25653703
                        ]
                      },
                      {
                        "learn": [
                          25.14657233
                        ],
                        "iteration": 806,
                        "passed_time": 144.7703273,
                        "remaining_time": 16.68356931,
                        "test": [
                          25.25654365
                        ]
                      },
                      {
                        "learn": [
                          25.1465179
                        ],
                        "iteration": 807,
                        "passed_time": 145.0051892,
                        "remaining_time": 16.51049185,
                        "test": [
                          25.25654424
                        ]
                      },
                      {
                        "learn": [
                          25.14647327
                        ],
                        "iteration": 808,
                        "passed_time": 145.1247668,
                        "remaining_time": 16.32429391,
                        "test": [
                          25.25655215
                        ]
                      },
                      {
                        "learn": [
                          25.14641904
                        ],
                        "iteration": 809,
                        "passed_time": 145.2513547,
                        "remaining_time": 16.13903941,
                        "test": [
                          25.25656574
                        ]
                      },
                      {
                        "learn": [
                          25.14635987
                        ],
                        "iteration": 810,
                        "passed_time": 145.390378,
                        "remaining_time": 15.95529426,
                        "test": [
                          25.2565537
                        ]
                      },
                      {
                        "learn": [
                          25.14631255
                        ],
                        "iteration": 811,
                        "passed_time": 145.4949873,
                        "remaining_time": 15.76792966,
                        "test": [
                          25.25655226
                        ]
                      },
                      {
                        "learn": [
                          25.14625433
                        ],
                        "iteration": 812,
                        "passed_time": 145.6687978,
                        "remaining_time": 15.58817393,
                        "test": [
                          25.25655348
                        ]
                      },
                      {
                        "learn": [
                          25.14621025
                        ],
                        "iteration": 813,
                        "passed_time": 145.7863489,
                        "remaining_time": 15.40248895,
                        "test": [
                          25.25654751
                        ]
                      },
                      {
                        "learn": [
                          25.14615979
                        ],
                        "iteration": 814,
                        "passed_time": 145.980062,
                        "remaining_time": 15.22491444,
                        "test": [
                          25.25654103
                        ]
                      },
                      {
                        "learn": [
                          25.14610814
                        ],
                        "iteration": 815,
                        "passed_time": 146.1085706,
                        "remaining_time": 15.04058815,
                        "test": [
                          25.25655322
                        ]
                      },
                      {
                        "learn": [
                          25.14605189
                        ],
                        "iteration": 816,
                        "passed_time": 146.3115043,
                        "remaining_time": 14.86395943,
                        "test": [
                          25.25653822
                        ]
                      },
                      {
                        "learn": [
                          25.14600773
                        ],
                        "iteration": 817,
                        "passed_time": 146.4404181,
                        "remaining_time": 14.67984631,
                        "test": [
                          25.25655168
                        ]
                      },
                      {
                        "learn": [
                          25.14596125
                        ],
                        "iteration": 818,
                        "passed_time": 146.5981599,
                        "remaining_time": 14.49871911,
                        "test": [
                          25.25653782
                        ]
                      },
                      {
                        "learn": [
                          25.14590958
                        ],
                        "iteration": 819,
                        "passed_time": 146.7309123,
                        "remaining_time": 14.31521095,
                        "test": [
                          25.25654292
                        ]
                      },
                      {
                        "learn": [
                          25.14587701
                        ],
                        "iteration": 820,
                        "passed_time": 146.8775064,
                        "remaining_time": 14.13315835,
                        "test": [
                          25.25652109
                        ]
                      },
                      {
                        "learn": [
                          25.14583141
                        ],
                        "iteration": 821,
                        "passed_time": 147.0314851,
                        "remaining_time": 13.95189275,
                        "test": [
                          25.25651829
                        ]
                      },
                      {
                        "learn": [
                          25.14578569
                        ],
                        "iteration": 822,
                        "passed_time": 147.2012459,
                        "remaining_time": 13.77217003,
                        "test": [
                          25.25653843
                        ]
                      },
                      {
                        "learn": [
                          25.1457436
                        ],
                        "iteration": 823,
                        "passed_time": 147.3228595,
                        "remaining_time": 13.58803073,
                        "test": [
                          25.25654824
                        ]
                      },
                      {
                        "learn": [
                          25.14570427
                        ],
                        "iteration": 824,
                        "passed_time": 147.4365983,
                        "remaining_time": 13.40332712,
                        "test": [
                          25.25655266
                        ]
                      },
                      {
                        "learn": [
                          25.14564517
                        ],
                        "iteration": 825,
                        "passed_time": 147.5440754,
                        "remaining_time": 13.21823436,
                        "test": [
                          25.25655105
                        ]
                      },
                      {
                        "learn": [
                          25.14559737
                        ],
                        "iteration": 826,
                        "passed_time": 147.6533141,
                        "remaining_time": 13.0334848,
                        "test": [
                          25.25656477
                        ]
                      },
                      {
                        "learn": [
                          25.14555466
                        ],
                        "iteration": 827,
                        "passed_time": 147.790977,
                        "remaining_time": 12.85138931,
                        "test": [
                          25.25655689
                        ]
                      },
                      {
                        "learn": [
                          25.14550714
                        ],
                        "iteration": 828,
                        "passed_time": 147.9243181,
                        "remaining_time": 12.66903087,
                        "test": [
                          25.25657147
                        ]
                      },
                      {
                        "learn": [
                          25.14545954
                        ],
                        "iteration": 829,
                        "passed_time": 148.1030516,
                        "remaining_time": 12.49061881,
                        "test": [
                          25.25654482
                        ]
                      },
                      {
                        "learn": [
                          25.14541538
                        ],
                        "iteration": 830,
                        "passed_time": 148.2010852,
                        "remaining_time": 12.30550527,
                        "test": [
                          25.25653457
                        ]
                      },
                      {
                        "learn": [
                          25.14536572
                        ],
                        "iteration": 831,
                        "passed_time": 148.3400864,
                        "remaining_time": 12.12394937,
                        "test": [
                          25.25654433
                        ]
                      },
                      {
                        "learn": [
                          25.1453174
                        ],
                        "iteration": 832,
                        "passed_time": 148.4522656,
                        "remaining_time": 11.94033829,
                        "test": [
                          25.25654428
                        ]
                      },
                      {
                        "learn": [
                          25.14527828
                        ],
                        "iteration": 833,
                        "passed_time": 148.6445526,
                        "remaining_time": 11.76323797,
                        "test": [
                          25.2565536
                        ]
                      },
                      {
                        "learn": [
                          25.14522437
                        ],
                        "iteration": 834,
                        "passed_time": 148.8125003,
                        "remaining_time": 11.58420661,
                        "test": [
                          25.25654627
                        ]
                      },
                      {
                        "learn": [
                          25.14517696
                        ],
                        "iteration": 835,
                        "passed_time": 148.9299395,
                        "remaining_time": 11.40133508,
                        "test": [
                          25.25654972
                        ]
                      },
                      {
                        "learn": [
                          25.14513319
                        ],
                        "iteration": 836,
                        "passed_time": 149.1168569,
                        "remaining_time": 11.22384944,
                        "test": [
                          25.25657277
                        ]
                      },
                      {
                        "learn": [
                          25.1450901
                        ],
                        "iteration": 837,
                        "passed_time": 149.2629318,
                        "remaining_time": 11.04331954,
                        "test": [
                          25.25657281
                        ]
                      },
                      {
                        "learn": [
                          25.14503733
                        ],
                        "iteration": 838,
                        "passed_time": 149.4148643,
                        "remaining_time": 10.86329764,
                        "test": [
                          25.25657507
                        ]
                      },
                      {
                        "learn": [
                          25.14498447
                        ],
                        "iteration": 839,
                        "passed_time": 149.5073849,
                        "remaining_time": 10.67909892,
                        "test": [
                          25.25657343
                        ]
                      },
                      {
                        "learn": [
                          25.14492612
                        ],
                        "iteration": 840,
                        "passed_time": 149.6995894,
                        "remaining_time": 10.5021115,
                        "test": [
                          25.25655638
                        ]
                      },
                      {
                        "learn": [
                          25.14487522
                        ],
                        "iteration": 841,
                        "passed_time": 149.8973427,
                        "remaining_time": 10.32547016,
                        "test": [
                          25.25655709
                        ]
                      },
                      {
                        "learn": [
                          25.14483034
                        ],
                        "iteration": 842,
                        "passed_time": 150.0302699,
                        "remaining_time": 10.14439548,
                        "test": [
                          25.25656121
                        ]
                      },
                      {
                        "learn": [
                          25.14477452
                        ],
                        "iteration": 843,
                        "passed_time": 150.2238591,
                        "remaining_time": 9.967459843,
                        "test": [
                          25.25655386
                        ]
                      },
                      {
                        "learn": [
                          25.14473091
                        ],
                        "iteration": 844,
                        "passed_time": 150.3587243,
                        "remaining_time": 9.78666253,
                        "test": [
                          25.25656457
                        ]
                      },
                      {
                        "learn": [
                          25.14468059
                        ],
                        "iteration": 845,
                        "passed_time": 150.4464518,
                        "remaining_time": 9.60296501,
                        "test": [
                          25.25655872
                        ]
                      },
                      {
                        "learn": [
                          25.14462449
                        ],
                        "iteration": 846,
                        "passed_time": 150.6052068,
                        "remaining_time": 9.423938559,
                        "test": [
                          25.25655411
                        ]
                      },
                      {
                        "learn": [
                          25.14457028
                        ],
                        "iteration": 847,
                        "passed_time": 150.6944945,
                        "remaining_time": 9.240700134,
                        "test": [
                          25.25654775
                        ]
                      },
                      {
                        "learn": [
                          25.14451744
                        ],
                        "iteration": 848,
                        "passed_time": 150.8130877,
                        "remaining_time": 9.059443433,
                        "test": [
                          25.25654821
                        ]
                      },
                      {
                        "learn": [
                          25.14447585
                        ],
                        "iteration": 849,
                        "passed_time": 150.8913621,
                        "remaining_time": 8.875962477,
                        "test": [
                          25.25654697
                        ]
                      },
                      {
                        "learn": [
                          25.14442017
                        ],
                        "iteration": 850,
                        "passed_time": 151.0721387,
                        "remaining_time": 8.698630786,
                        "test": [
                          25.25654573
                        ]
                      },
                      {
                        "learn": [
                          25.14436888
                        ],
                        "iteration": 851,
                        "passed_time": 151.2441319,
                        "remaining_time": 8.520796165,
                        "test": [
                          25.25656131
                        ]
                      },
                      {
                        "learn": [
                          25.14430915
                        ],
                        "iteration": 852,
                        "passed_time": 151.3865218,
                        "remaining_time": 8.34134411,
                        "test": [
                          25.25656295
                        ]
                      },
                      {
                        "learn": [
                          25.14427252
                        ],
                        "iteration": 853,
                        "passed_time": 151.4777864,
                        "remaining_time": 8.159225029,
                        "test": [
                          25.25657193
                        ]
                      },
                      {
                        "learn": [
                          25.14421468
                        ],
                        "iteration": 854,
                        "passed_time": 151.5949354,
                        "remaining_time": 7.978680808,
                        "test": [
                          25.25656649
                        ]
                      },
                      {
                        "learn": [
                          25.14414746
                        ],
                        "iteration": 855,
                        "passed_time": 151.7533105,
                        "remaining_time": 7.80040381,
                        "test": [
                          25.25657613
                        ]
                      },
                      {
                        "learn": [
                          25.14409375
                        ],
                        "iteration": 856,
                        "passed_time": 151.9703554,
                        "remaining_time": 7.625117017,
                        "test": [
                          25.25659974
                        ]
                      },
                      {
                        "learn": [
                          25.14405406
                        ],
                        "iteration": 857,
                        "passed_time": 152.1961878,
                        "remaining_time": 7.45016304,
                        "test": [
                          25.25660289
                        ]
                      },
                      {
                        "learn": [
                          25.14400629
                        ],
                        "iteration": 858,
                        "passed_time": 152.4526617,
                        "remaining_time": 7.276553117,
                        "test": [
                          25.25660111
                        ]
                      },
                      {
                        "learn": [
                          25.14395699
                        ],
                        "iteration": 859,
                        "passed_time": 152.6843222,
                        "remaining_time": 7.101596383,
                        "test": [
                          25.25660625
                        ]
                      },
                      {
                        "learn": [
                          25.14391235
                        ],
                        "iteration": 860,
                        "passed_time": 152.8932783,
                        "remaining_time": 6.925479507,
                        "test": [
                          25.25662084
                        ]
                      },
                      {
                        "learn": [
                          25.14386197
                        ],
                        "iteration": 861,
                        "passed_time": 153.1865861,
                        "remaining_time": 6.753004955,
                        "test": [
                          25.25660931
                        ]
                      },
                      {
                        "learn": [
                          25.14382036
                        ],
                        "iteration": 862,
                        "passed_time": 153.4247355,
                        "remaining_time": 6.577885533,
                        "test": [
                          25.25660583
                        ]
                      },
                      {
                        "learn": [
                          25.14377976
                        ],
                        "iteration": 863,
                        "passed_time": 153.7462577,
                        "remaining_time": 6.406094072,
                        "test": [
                          25.25661112
                        ]
                      },
                      {
                        "learn": [
                          25.14373626
                        ],
                        "iteration": 864,
                        "passed_time": 153.9975632,
                        "remaining_time": 6.231115273,
                        "test": [
                          25.25661685
                        ]
                      },
                      {
                        "learn": [
                          25.1436891
                        ],
                        "iteration": 865,
                        "passed_time": 154.2019109,
                        "remaining_time": 6.054116593,
                        "test": [
                          25.25660672
                        ]
                      },
                      {
                        "learn": [
                          25.14364655
                        ],
                        "iteration": 866,
                        "passed_time": 154.459226,
                        "remaining_time": 5.879070884,
                        "test": [
                          25.25661161
                        ]
                      },
                      {
                        "learn": [
                          25.14359982
                        ],
                        "iteration": 867,
                        "passed_time": 154.7350283,
                        "remaining_time": 5.704517173,
                        "test": [
                          25.25660853
                        ]
                      },
                      {
                        "learn": [
                          25.14355875
                        ],
                        "iteration": 868,
                        "passed_time": 154.9348181,
                        "remaining_time": 5.527018826,
                        "test": [
                          25.25660321
                        ]
                      },
                      {
                        "learn": [
                          25.14350842
                        ],
                        "iteration": 869,
                        "passed_time": 155.1641843,
                        "remaining_time": 5.350489113,
                        "test": [
                          25.25660158
                        ]
                      },
                      {
                        "learn": [
                          25.14344547
                        ],
                        "iteration": 870,
                        "passed_time": 155.464974,
                        "remaining_time": 5.176216127,
                        "test": [
                          25.25661154
                        ]
                      },
                      {
                        "learn": [
                          25.14339895
                        ],
                        "iteration": 871,
                        "passed_time": 155.7162501,
                        "remaining_time": 5.000063075,
                        "test": [
                          25.25659884
                        ]
                      },
                      {
                        "learn": [
                          25.14335731
                        ],
                        "iteration": 872,
                        "passed_time": 155.9065918,
                        "remaining_time": 4.821853354,
                        "test": [
                          25.256612
                        ]
                      },
                      {
                        "learn": [
                          25.14331718
                        ],
                        "iteration": 873,
                        "passed_time": 155.9820446,
                        "remaining_time": 4.640198122,
                        "test": [
                          25.25660665
                        ]
                      },
                      {
                        "learn": [
                          25.14327266
                        ],
                        "iteration": 874,
                        "passed_time": 156.0526182,
                        "remaining_time": 4.458646235,
                        "test": [
                          25.25659656
                        ]
                      },
                      {
                        "learn": [
                          25.14322688
                        ],
                        "iteration": 875,
                        "passed_time": 156.2333035,
                        "remaining_time": 4.28036448,
                        "test": [
                          25.25660576
                        ]
                      },
                      {
                        "learn": [
                          25.14317786
                        ],
                        "iteration": 876,
                        "passed_time": 156.3051444,
                        "remaining_time": 4.099222714,
                        "test": [
                          25.25659512
                        ]
                      },
                      {
                        "learn": [
                          25.14312405
                        ],
                        "iteration": 877,
                        "passed_time": 156.4721539,
                        "remaining_time": 3.920714562,
                        "test": [
                          25.25659561
                        ]
                      },
                      {
                        "learn": [
                          25.14308114
                        ],
                        "iteration": 878,
                        "passed_time": 156.6370665,
                        "remaining_time": 3.742182476,
                        "test": [
                          25.25661215
                        ]
                      },
                      {
                        "learn": [
                          25.14302916
                        ],
                        "iteration": 879,
                        "passed_time": 156.8034676,
                        "remaining_time": 3.563715172,
                        "test": [
                          25.25661402
                        ]
                      },
                      {
                        "learn": [
                          25.14298226
                        ],
                        "iteration": 880,
                        "passed_time": 156.8966846,
                        "remaining_time": 3.383696945,
                        "test": [
                          25.25661228
                        ]
                      },
                      {
                        "learn": [
                          25.14292127
                        ],
                        "iteration": 881,
                        "passed_time": 157.0555788,
                        "remaining_time": 3.205215894,
                        "test": [
                          25.25660729
                        ]
                      },
                      {
                        "learn": [
                          25.14287981
                        ],
                        "iteration": 882,
                        "passed_time": 157.2013168,
                        "remaining_time": 3.026525917,
                        "test": [
                          25.25660296
                        ]
                      },
                      {
                        "learn": [
                          25.14282309
                        ],
                        "iteration": 883,
                        "passed_time": 157.3237069,
                        "remaining_time": 2.847487908,
                        "test": [
                          25.25660024
                        ]
                      },
                      {
                        "learn": [
                          25.14276563
                        ],
                        "iteration": 884,
                        "passed_time": 157.4288739,
                        "remaining_time": 2.668285998,
                        "test": [
                          25.25658879
                        ]
                      },
                      {
                        "learn": [
                          25.1427172
                        ],
                        "iteration": 885,
                        "passed_time": 157.5861177,
                        "remaining_time": 2.490074094,
                        "test": [
                          25.25659246
                        ]
                      },
                      {
                        "learn": [
                          25.14267346
                        ],
                        "iteration": 886,
                        "passed_time": 157.7393787,
                        "remaining_time": 2.311851096,
                        "test": [
                          25.2565883
                        ]
                      },
                      {
                        "learn": [
                          25.14262071
                        ],
                        "iteration": 887,
                        "passed_time": 157.9018657,
                        "remaining_time": 2.133808996,
                        "test": [
                          25.2565933
                        ]
                      },
                      {
                        "learn": [
                          25.14257201
                        ],
                        "iteration": 888,
                        "passed_time": 158.0639823,
                        "remaining_time": 1.955797307,
                        "test": [
                          25.25661419
                        ]
                      },
                      {
                        "learn": [
                          25.14252333
                        ],
                        "iteration": 889,
                        "passed_time": 158.1849117,
                        "remaining_time": 1.777358558,
                        "test": [
                          25.25662616
                        ]
                      },
                      {
                        "learn": [
                          25.1424742
                        ],
                        "iteration": 890,
                        "passed_time": 158.3239233,
                        "remaining_time": 1.599231548,
                        "test": [
                          25.25661332
                        ]
                      },
                      {
                        "learn": [
                          25.14242311
                        ],
                        "iteration": 891,
                        "passed_time": 158.4451823,
                        "remaining_time": 1.421033026,
                        "test": [
                          25.25663109
                        ]
                      },
                      {
                        "learn": [
                          25.14236465
                        ],
                        "iteration": 892,
                        "passed_time": 158.5809526,
                        "remaining_time": 1.243075776,
                        "test": [
                          25.25660894
                        ]
                      },
                      {
                        "learn": [
                          25.14232831
                        ],
                        "iteration": 893,
                        "passed_time": 158.8223586,
                        "remaining_time": 1.065921869,
                        "test": [
                          25.25661721
                        ]
                      },
                      {
                        "learn": [
                          25.14227977
                        ],
                        "iteration": 894,
                        "passed_time": 158.9547825,
                        "remaining_time": 0.8880155449,
                        "test": [
                          25.25661571
                        ]
                      },
                      {
                        "learn": [
                          25.14224153
                        ],
                        "iteration": 895,
                        "passed_time": 159.090176,
                        "remaining_time": 0.7102239998,
                        "test": [
                          25.25661659
                        ]
                      },
                      {
                        "learn": [
                          25.14218447
                        ],
                        "iteration": 896,
                        "passed_time": 159.2245128,
                        "remaining_time": 0.5325234543,
                        "test": [
                          25.2566197
                        ]
                      },
                      {
                        "learn": [
                          25.1421357
                        ],
                        "iteration": 897,
                        "passed_time": 159.3770681,
                        "remaining_time": 0.3549600625,
                        "test": [
                          25.2566186
                        ]
                      },
                      {
                        "learn": [
                          25.14208299
                        ],
                        "iteration": 898,
                        "passed_time": 159.5317965,
                        "remaining_time": 0.1774547236,
                        "test": [
                          25.25659965
                        ]
                      },
                      {
                        "learn": [
                          25.14203819
                        ],
                        "iteration": 899,
                        "passed_time": 159.6646145,
                        "remaining_time": 0,
                        "test": [
                          25.25660196
                        ]
                      }
                    ],
                    "meta": {
                      "test_sets": [
                        "test"
                      ],
                      "test_metrics": [
                        {
                          "best_value": "Min",
                          "name": "RMSE"
                        }
                      ],
                      "learn_metrics": [
                        {
                          "best_value": "Min",
                          "name": "RMSE"
                        }
                      ],
                      "launch_mode": "Train",
                      "parameters": "",
                      "iteration_count": 900,
                      "learn_sets": [
                        "learn"
                      ],
                      "name": "experiment"
                    }
                  }
                }
              }
            },
            "layout": "IPY_MODEL_1073f957c6ad45b49d1f57e078260154"
          }
        }
      }
    }
  },
  "cells": [
    {
      "cell_type": "markdown",
      "source": [
        "# Predicting the Beats-per-Minute of Songs. Classic ML approaches vs FT-Transformer.\n",
        "# 2. CatBoost\n"
      ],
      "metadata": {
        "id": "sgJMIMVh89Ez"
      }
    },
    {
      "cell_type": "code",
      "execution_count": null,
      "metadata": {
        "id": "c22Bh7wNh_zr"
      },
      "outputs": [],
      "source": [
        "import pandas as pd\n",
        "import numpy as np\n",
        "import matplotlib.pyplot as plt\n",
        "\n",
        "from sklearn.model_selection import train_test_split\n",
        "from sklearn.preprocessing import StandardScaler\n",
        "from sklearn.metrics import mean_squared_error, r2_score, mean_absolute_error\n",
        "\n",
        "from catboost import CatBoostRegressor, Pool\n",
        "\n",
        "\n",
        "\n",
        "plt.style.use('ggplot')"
      ]
    },
    {
      "cell_type": "markdown",
      "source": [
        "First, we will load and prepare the data. During evaluation of previous models, we observed that the data contains significant noise and outliers. To partially solve these issues, we will apply the Interquartile Range (IQR) method.   "
      ],
      "metadata": {
        "id": "-A-2cbPk9S1f"
      }
    },
    {
      "cell_type": "code",
      "source": [
        "train_data = pd.read_csv('/content/drive/MyDrive/BPM detection/train.csv').drop('id', axis=1)\n",
        "train_orig_data = pd.read_csv('/content/drive/MyDrive/BPM detection/train_orig.csv')\n",
        "\n",
        "train_data = pd.concat([train_data, train_orig_data], ignore_index=True)\n",
        "test_data = pd.read_csv('/content/drive/MyDrive/BPM detection/test.csv')\n",
        "\n",
        "\n",
        "q1, q2 = train_data['BeatsPerMinute'].quantile(0.275), train_data['BeatsPerMinute'].quantile(0.725)\n",
        "iqr = q2 - q1\n",
        "\n",
        "lower_bound = q1 - 1.5 * iqr\n",
        "upper_bound = q2 + 1.5 * iqr\n",
        "\n",
        "train_data = train_data[(train_data['BeatsPerMinute'] < upper_bound) & (train_data['BeatsPerMinute'] > lower_bound)]"
      ],
      "metadata": {
        "id": "UfUrLxBhMq8K"
      },
      "execution_count": null,
      "outputs": []
    },
    {
      "cell_type": "code",
      "source": [
        "train_data"
      ],
      "metadata": {
        "colab": {
          "base_uri": "https://localhost:8080/",
          "height": 423
        },
        "id": "MxqxEkGlMwhw",
        "outputId": "96861e6c-6609-401b-d0e6-ca83329c714f"
      },
      "execution_count": null,
      "outputs": [
        {
          "output_type": "execute_result",
          "data": {
            "text/plain": [
              "        RhythmScore  AudioLoudness  VocalContent  AcousticQuality  \\\n",
              "0          0.603610      -7.636942      0.023500         0.000005   \n",
              "1          0.639451     -16.267598      0.071520         0.444929   \n",
              "3          0.734463      -1.357000      0.052965         0.001651   \n",
              "4          0.532968     -13.056437      0.023500         0.068687   \n",
              "5          0.594579     -11.715431      0.101701         0.000005   \n",
              "...             ...            ...           ...              ...   \n",
              "538792     0.769195     -13.608768      0.041826         0.551064   \n",
              "538793     0.267248      -8.657102      0.023500         0.218652   \n",
              "538794     0.469302      -1.961814      0.023500         0.912164   \n",
              "538795     0.588335      -9.766187      0.023500         0.000005   \n",
              "538796     0.949208      -1.357000      0.059920         0.519587   \n",
              "\n",
              "        InstrumentalScore  LivePerformanceLikelihood  MoodScore  \\\n",
              "0                0.000001                   0.051385   0.409866   \n",
              "1                0.349414                   0.170522   0.651010   \n",
              "3                0.159717                   0.086366   0.278745   \n",
              "4                0.000001                   0.331345   0.477769   \n",
              "5                0.259634                   0.024300   0.639254   \n",
              "...                   ...                        ...        ...   \n",
              "538792           0.127238                   0.024300   0.508722   \n",
              "538793           0.161223                   0.287364   0.763650   \n",
              "538794           0.152560                   0.227046   0.619231   \n",
              "538795           0.050234                   0.340709   0.177841   \n",
              "538796           0.000001                   0.346817   0.865321   \n",
              "\n",
              "        TrackDurationMs    Energy  BeatsPerMinute  \n",
              "0           290715.6450  0.826267      147.530200  \n",
              "1           164519.5174  0.145400      136.159630  \n",
              "3           225567.4651  0.487467      147.912120  \n",
              "4           213960.6789  0.947333       89.585110  \n",
              "5           161012.2221  0.938333      151.436020  \n",
              "...                 ...       ...             ...  \n",
              "538792      223465.5814  0.473600       82.317428  \n",
              "538793      135276.0877  0.148467      132.107938  \n",
              "538794      134735.8587  0.423133       83.344250  \n",
              "538795      187951.2290  0.340000      121.297185  \n",
              "538796      103318.7671  0.938067      128.250900  \n",
              "\n",
              "[530466 rows x 10 columns]"
            ],
            "text/html": [
              "\n",
              "  <div id=\"df-40461d49-bf97-4483-b337-bbd7317ae023\" class=\"colab-df-container\">\n",
              "    <div>\n",
              "<style scoped>\n",
              "    .dataframe tbody tr th:only-of-type {\n",
              "        vertical-align: middle;\n",
              "    }\n",
              "\n",
              "    .dataframe tbody tr th {\n",
              "        vertical-align: top;\n",
              "    }\n",
              "\n",
              "    .dataframe thead th {\n",
              "        text-align: right;\n",
              "    }\n",
              "</style>\n",
              "<table border=\"1\" class=\"dataframe\">\n",
              "  <thead>\n",
              "    <tr style=\"text-align: right;\">\n",
              "      <th></th>\n",
              "      <th>RhythmScore</th>\n",
              "      <th>AudioLoudness</th>\n",
              "      <th>VocalContent</th>\n",
              "      <th>AcousticQuality</th>\n",
              "      <th>InstrumentalScore</th>\n",
              "      <th>LivePerformanceLikelihood</th>\n",
              "      <th>MoodScore</th>\n",
              "      <th>TrackDurationMs</th>\n",
              "      <th>Energy</th>\n",
              "      <th>BeatsPerMinute</th>\n",
              "    </tr>\n",
              "  </thead>\n",
              "  <tbody>\n",
              "    <tr>\n",
              "      <th>0</th>\n",
              "      <td>0.603610</td>\n",
              "      <td>-7.636942</td>\n",
              "      <td>0.023500</td>\n",
              "      <td>0.000005</td>\n",
              "      <td>0.000001</td>\n",
              "      <td>0.051385</td>\n",
              "      <td>0.409866</td>\n",
              "      <td>290715.6450</td>\n",
              "      <td>0.826267</td>\n",
              "      <td>147.530200</td>\n",
              "    </tr>\n",
              "    <tr>\n",
              "      <th>1</th>\n",
              "      <td>0.639451</td>\n",
              "      <td>-16.267598</td>\n",
              "      <td>0.071520</td>\n",
              "      <td>0.444929</td>\n",
              "      <td>0.349414</td>\n",
              "      <td>0.170522</td>\n",
              "      <td>0.651010</td>\n",
              "      <td>164519.5174</td>\n",
              "      <td>0.145400</td>\n",
              "      <td>136.159630</td>\n",
              "    </tr>\n",
              "    <tr>\n",
              "      <th>3</th>\n",
              "      <td>0.734463</td>\n",
              "      <td>-1.357000</td>\n",
              "      <td>0.052965</td>\n",
              "      <td>0.001651</td>\n",
              "      <td>0.159717</td>\n",
              "      <td>0.086366</td>\n",
              "      <td>0.278745</td>\n",
              "      <td>225567.4651</td>\n",
              "      <td>0.487467</td>\n",
              "      <td>147.912120</td>\n",
              "    </tr>\n",
              "    <tr>\n",
              "      <th>4</th>\n",
              "      <td>0.532968</td>\n",
              "      <td>-13.056437</td>\n",
              "      <td>0.023500</td>\n",
              "      <td>0.068687</td>\n",
              "      <td>0.000001</td>\n",
              "      <td>0.331345</td>\n",
              "      <td>0.477769</td>\n",
              "      <td>213960.6789</td>\n",
              "      <td>0.947333</td>\n",
              "      <td>89.585110</td>\n",
              "    </tr>\n",
              "    <tr>\n",
              "      <th>5</th>\n",
              "      <td>0.594579</td>\n",
              "      <td>-11.715431</td>\n",
              "      <td>0.101701</td>\n",
              "      <td>0.000005</td>\n",
              "      <td>0.259634</td>\n",
              "      <td>0.024300</td>\n",
              "      <td>0.639254</td>\n",
              "      <td>161012.2221</td>\n",
              "      <td>0.938333</td>\n",
              "      <td>151.436020</td>\n",
              "    </tr>\n",
              "    <tr>\n",
              "      <th>...</th>\n",
              "      <td>...</td>\n",
              "      <td>...</td>\n",
              "      <td>...</td>\n",
              "      <td>...</td>\n",
              "      <td>...</td>\n",
              "      <td>...</td>\n",
              "      <td>...</td>\n",
              "      <td>...</td>\n",
              "      <td>...</td>\n",
              "      <td>...</td>\n",
              "    </tr>\n",
              "    <tr>\n",
              "      <th>538792</th>\n",
              "      <td>0.769195</td>\n",
              "      <td>-13.608768</td>\n",
              "      <td>0.041826</td>\n",
              "      <td>0.551064</td>\n",
              "      <td>0.127238</td>\n",
              "      <td>0.024300</td>\n",
              "      <td>0.508722</td>\n",
              "      <td>223465.5814</td>\n",
              "      <td>0.473600</td>\n",
              "      <td>82.317428</td>\n",
              "    </tr>\n",
              "    <tr>\n",
              "      <th>538793</th>\n",
              "      <td>0.267248</td>\n",
              "      <td>-8.657102</td>\n",
              "      <td>0.023500</td>\n",
              "      <td>0.218652</td>\n",
              "      <td>0.161223</td>\n",
              "      <td>0.287364</td>\n",
              "      <td>0.763650</td>\n",
              "      <td>135276.0877</td>\n",
              "      <td>0.148467</td>\n",
              "      <td>132.107938</td>\n",
              "    </tr>\n",
              "    <tr>\n",
              "      <th>538794</th>\n",
              "      <td>0.469302</td>\n",
              "      <td>-1.961814</td>\n",
              "      <td>0.023500</td>\n",
              "      <td>0.912164</td>\n",
              "      <td>0.152560</td>\n",
              "      <td>0.227046</td>\n",
              "      <td>0.619231</td>\n",
              "      <td>134735.8587</td>\n",
              "      <td>0.423133</td>\n",
              "      <td>83.344250</td>\n",
              "    </tr>\n",
              "    <tr>\n",
              "      <th>538795</th>\n",
              "      <td>0.588335</td>\n",
              "      <td>-9.766187</td>\n",
              "      <td>0.023500</td>\n",
              "      <td>0.000005</td>\n",
              "      <td>0.050234</td>\n",
              "      <td>0.340709</td>\n",
              "      <td>0.177841</td>\n",
              "      <td>187951.2290</td>\n",
              "      <td>0.340000</td>\n",
              "      <td>121.297185</td>\n",
              "    </tr>\n",
              "    <tr>\n",
              "      <th>538796</th>\n",
              "      <td>0.949208</td>\n",
              "      <td>-1.357000</td>\n",
              "      <td>0.059920</td>\n",
              "      <td>0.519587</td>\n",
              "      <td>0.000001</td>\n",
              "      <td>0.346817</td>\n",
              "      <td>0.865321</td>\n",
              "      <td>103318.7671</td>\n",
              "      <td>0.938067</td>\n",
              "      <td>128.250900</td>\n",
              "    </tr>\n",
              "  </tbody>\n",
              "</table>\n",
              "<p>530466 rows × 10 columns</p>\n",
              "</div>\n",
              "    <div class=\"colab-df-buttons\">\n",
              "\n",
              "  <div class=\"colab-df-container\">\n",
              "    <button class=\"colab-df-convert\" onclick=\"convertToInteractive('df-40461d49-bf97-4483-b337-bbd7317ae023')\"\n",
              "            title=\"Convert this dataframe to an interactive table.\"\n",
              "            style=\"display:none;\">\n",
              "\n",
              "  <svg xmlns=\"http://www.w3.org/2000/svg\" height=\"24px\" viewBox=\"0 -960 960 960\">\n",
              "    <path d=\"M120-120v-720h720v720H120Zm60-500h600v-160H180v160Zm220 220h160v-160H400v160Zm0 220h160v-160H400v160ZM180-400h160v-160H180v160Zm440 0h160v-160H620v160ZM180-180h160v-160H180v160Zm440 0h160v-160H620v160Z\"/>\n",
              "  </svg>\n",
              "    </button>\n",
              "\n",
              "  <style>\n",
              "    .colab-df-container {\n",
              "      display:flex;\n",
              "      gap: 12px;\n",
              "    }\n",
              "\n",
              "    .colab-df-convert {\n",
              "      background-color: #E8F0FE;\n",
              "      border: none;\n",
              "      border-radius: 50%;\n",
              "      cursor: pointer;\n",
              "      display: none;\n",
              "      fill: #1967D2;\n",
              "      height: 32px;\n",
              "      padding: 0 0 0 0;\n",
              "      width: 32px;\n",
              "    }\n",
              "\n",
              "    .colab-df-convert:hover {\n",
              "      background-color: #E2EBFA;\n",
              "      box-shadow: 0px 1px 2px rgba(60, 64, 67, 0.3), 0px 1px 3px 1px rgba(60, 64, 67, 0.15);\n",
              "      fill: #174EA6;\n",
              "    }\n",
              "\n",
              "    .colab-df-buttons div {\n",
              "      margin-bottom: 4px;\n",
              "    }\n",
              "\n",
              "    [theme=dark] .colab-df-convert {\n",
              "      background-color: #3B4455;\n",
              "      fill: #D2E3FC;\n",
              "    }\n",
              "\n",
              "    [theme=dark] .colab-df-convert:hover {\n",
              "      background-color: #434B5C;\n",
              "      box-shadow: 0px 1px 3px 1px rgba(0, 0, 0, 0.15);\n",
              "      filter: drop-shadow(0px 1px 2px rgba(0, 0, 0, 0.3));\n",
              "      fill: #FFFFFF;\n",
              "    }\n",
              "  </style>\n",
              "\n",
              "    <script>\n",
              "      const buttonEl =\n",
              "        document.querySelector('#df-40461d49-bf97-4483-b337-bbd7317ae023 button.colab-df-convert');\n",
              "      buttonEl.style.display =\n",
              "        google.colab.kernel.accessAllowed ? 'block' : 'none';\n",
              "\n",
              "      async function convertToInteractive(key) {\n",
              "        const element = document.querySelector('#df-40461d49-bf97-4483-b337-bbd7317ae023');\n",
              "        const dataTable =\n",
              "          await google.colab.kernel.invokeFunction('convertToInteractive',\n",
              "                                                    [key], {});\n",
              "        if (!dataTable) return;\n",
              "\n",
              "        const docLinkHtml = 'Like what you see? Visit the ' +\n",
              "          '<a target=\"_blank\" href=https://colab.research.google.com/notebooks/data_table.ipynb>data table notebook</a>'\n",
              "          + ' to learn more about interactive tables.';\n",
              "        element.innerHTML = '';\n",
              "        dataTable['output_type'] = 'display_data';\n",
              "        await google.colab.output.renderOutput(dataTable, element);\n",
              "        const docLink = document.createElement('div');\n",
              "        docLink.innerHTML = docLinkHtml;\n",
              "        element.appendChild(docLink);\n",
              "      }\n",
              "    </script>\n",
              "  </div>\n",
              "\n",
              "\n",
              "    <div id=\"df-24e74836-22fa-4bbe-b6dc-dd60752c870c\">\n",
              "      <button class=\"colab-df-quickchart\" onclick=\"quickchart('df-24e74836-22fa-4bbe-b6dc-dd60752c870c')\"\n",
              "                title=\"Suggest charts\"\n",
              "                style=\"display:none;\">\n",
              "\n",
              "<svg xmlns=\"http://www.w3.org/2000/svg\" height=\"24px\"viewBox=\"0 0 24 24\"\n",
              "     width=\"24px\">\n",
              "    <g>\n",
              "        <path d=\"M19 3H5c-1.1 0-2 .9-2 2v14c0 1.1.9 2 2 2h14c1.1 0 2-.9 2-2V5c0-1.1-.9-2-2-2zM9 17H7v-7h2v7zm4 0h-2V7h2v10zm4 0h-2v-4h2v4z\"/>\n",
              "    </g>\n",
              "</svg>\n",
              "      </button>\n",
              "\n",
              "<style>\n",
              "  .colab-df-quickchart {\n",
              "      --bg-color: #E8F0FE;\n",
              "      --fill-color: #1967D2;\n",
              "      --hover-bg-color: #E2EBFA;\n",
              "      --hover-fill-color: #174EA6;\n",
              "      --disabled-fill-color: #AAA;\n",
              "      --disabled-bg-color: #DDD;\n",
              "  }\n",
              "\n",
              "  [theme=dark] .colab-df-quickchart {\n",
              "      --bg-color: #3B4455;\n",
              "      --fill-color: #D2E3FC;\n",
              "      --hover-bg-color: #434B5C;\n",
              "      --hover-fill-color: #FFFFFF;\n",
              "      --disabled-bg-color: #3B4455;\n",
              "      --disabled-fill-color: #666;\n",
              "  }\n",
              "\n",
              "  .colab-df-quickchart {\n",
              "    background-color: var(--bg-color);\n",
              "    border: none;\n",
              "    border-radius: 50%;\n",
              "    cursor: pointer;\n",
              "    display: none;\n",
              "    fill: var(--fill-color);\n",
              "    height: 32px;\n",
              "    padding: 0;\n",
              "    width: 32px;\n",
              "  }\n",
              "\n",
              "  .colab-df-quickchart:hover {\n",
              "    background-color: var(--hover-bg-color);\n",
              "    box-shadow: 0 1px 2px rgba(60, 64, 67, 0.3), 0 1px 3px 1px rgba(60, 64, 67, 0.15);\n",
              "    fill: var(--button-hover-fill-color);\n",
              "  }\n",
              "\n",
              "  .colab-df-quickchart-complete:disabled,\n",
              "  .colab-df-quickchart-complete:disabled:hover {\n",
              "    background-color: var(--disabled-bg-color);\n",
              "    fill: var(--disabled-fill-color);\n",
              "    box-shadow: none;\n",
              "  }\n",
              "\n",
              "  .colab-df-spinner {\n",
              "    border: 2px solid var(--fill-color);\n",
              "    border-color: transparent;\n",
              "    border-bottom-color: var(--fill-color);\n",
              "    animation:\n",
              "      spin 1s steps(1) infinite;\n",
              "  }\n",
              "\n",
              "  @keyframes spin {\n",
              "    0% {\n",
              "      border-color: transparent;\n",
              "      border-bottom-color: var(--fill-color);\n",
              "      border-left-color: var(--fill-color);\n",
              "    }\n",
              "    20% {\n",
              "      border-color: transparent;\n",
              "      border-left-color: var(--fill-color);\n",
              "      border-top-color: var(--fill-color);\n",
              "    }\n",
              "    30% {\n",
              "      border-color: transparent;\n",
              "      border-left-color: var(--fill-color);\n",
              "      border-top-color: var(--fill-color);\n",
              "      border-right-color: var(--fill-color);\n",
              "    }\n",
              "    40% {\n",
              "      border-color: transparent;\n",
              "      border-right-color: var(--fill-color);\n",
              "      border-top-color: var(--fill-color);\n",
              "    }\n",
              "    60% {\n",
              "      border-color: transparent;\n",
              "      border-right-color: var(--fill-color);\n",
              "    }\n",
              "    80% {\n",
              "      border-color: transparent;\n",
              "      border-right-color: var(--fill-color);\n",
              "      border-bottom-color: var(--fill-color);\n",
              "    }\n",
              "    90% {\n",
              "      border-color: transparent;\n",
              "      border-bottom-color: var(--fill-color);\n",
              "    }\n",
              "  }\n",
              "</style>\n",
              "\n",
              "      <script>\n",
              "        async function quickchart(key) {\n",
              "          const quickchartButtonEl =\n",
              "            document.querySelector('#' + key + ' button');\n",
              "          quickchartButtonEl.disabled = true;  // To prevent multiple clicks.\n",
              "          quickchartButtonEl.classList.add('colab-df-spinner');\n",
              "          try {\n",
              "            const charts = await google.colab.kernel.invokeFunction(\n",
              "                'suggestCharts', [key], {});\n",
              "          } catch (error) {\n",
              "            console.error('Error during call to suggestCharts:', error);\n",
              "          }\n",
              "          quickchartButtonEl.classList.remove('colab-df-spinner');\n",
              "          quickchartButtonEl.classList.add('colab-df-quickchart-complete');\n",
              "        }\n",
              "        (() => {\n",
              "          let quickchartButtonEl =\n",
              "            document.querySelector('#df-24e74836-22fa-4bbe-b6dc-dd60752c870c button');\n",
              "          quickchartButtonEl.style.display =\n",
              "            google.colab.kernel.accessAllowed ? 'block' : 'none';\n",
              "        })();\n",
              "      </script>\n",
              "    </div>\n",
              "\n",
              "  <div id=\"id_a6d4794e-e155-40dd-9bd6-dd3d17cb31bd\">\n",
              "    <style>\n",
              "      .colab-df-generate {\n",
              "        background-color: #E8F0FE;\n",
              "        border: none;\n",
              "        border-radius: 50%;\n",
              "        cursor: pointer;\n",
              "        display: none;\n",
              "        fill: #1967D2;\n",
              "        height: 32px;\n",
              "        padding: 0 0 0 0;\n",
              "        width: 32px;\n",
              "      }\n",
              "\n",
              "      .colab-df-generate:hover {\n",
              "        background-color: #E2EBFA;\n",
              "        box-shadow: 0px 1px 2px rgba(60, 64, 67, 0.3), 0px 1px 3px 1px rgba(60, 64, 67, 0.15);\n",
              "        fill: #174EA6;\n",
              "      }\n",
              "\n",
              "      [theme=dark] .colab-df-generate {\n",
              "        background-color: #3B4455;\n",
              "        fill: #D2E3FC;\n",
              "      }\n",
              "\n",
              "      [theme=dark] .colab-df-generate:hover {\n",
              "        background-color: #434B5C;\n",
              "        box-shadow: 0px 1px 3px 1px rgba(0, 0, 0, 0.15);\n",
              "        filter: drop-shadow(0px 1px 2px rgba(0, 0, 0, 0.3));\n",
              "        fill: #FFFFFF;\n",
              "      }\n",
              "    </style>\n",
              "    <button class=\"colab-df-generate\" onclick=\"generateWithVariable('train_data')\"\n",
              "            title=\"Generate code using this dataframe.\"\n",
              "            style=\"display:none;\">\n",
              "\n",
              "  <svg xmlns=\"http://www.w3.org/2000/svg\" height=\"24px\"viewBox=\"0 0 24 24\"\n",
              "       width=\"24px\">\n",
              "    <path d=\"M7,19H8.4L18.45,9,17,7.55,7,17.6ZM5,21V16.75L18.45,3.32a2,2,0,0,1,2.83,0l1.4,1.43a1.91,1.91,0,0,1,.58,1.4,1.91,1.91,0,0,1-.58,1.4L9.25,21ZM18.45,9,17,7.55Zm-12,3A5.31,5.31,0,0,0,4.9,8.1,5.31,5.31,0,0,0,1,6.5,5.31,5.31,0,0,0,4.9,4.9,5.31,5.31,0,0,0,6.5,1,5.31,5.31,0,0,0,8.1,4.9,5.31,5.31,0,0,0,12,6.5,5.46,5.46,0,0,0,6.5,12Z\"/>\n",
              "  </svg>\n",
              "    </button>\n",
              "    <script>\n",
              "      (() => {\n",
              "      const buttonEl =\n",
              "        document.querySelector('#id_a6d4794e-e155-40dd-9bd6-dd3d17cb31bd button.colab-df-generate');\n",
              "      buttonEl.style.display =\n",
              "        google.colab.kernel.accessAllowed ? 'block' : 'none';\n",
              "\n",
              "      buttonEl.onclick = () => {\n",
              "        google.colab.notebook.generateWithVariable('train_data');\n",
              "      }\n",
              "      })();\n",
              "    </script>\n",
              "  </div>\n",
              "\n",
              "    </div>\n",
              "  </div>\n"
            ],
            "application/vnd.google.colaboratory.intrinsic+json": {
              "type": "dataframe",
              "variable_name": "train_data"
            }
          },
          "metadata": {},
          "execution_count": 47
        }
      ]
    },
    {
      "cell_type": "markdown",
      "source": [
        "Splitting the dataset on train/val.\n"
      ],
      "metadata": {
        "id": "jFEppgwb-nQ6"
      }
    },
    {
      "cell_type": "code",
      "source": [
        "X = train_data.drop(['BeatsPerMinute'], axis=1)\n",
        "y = train_data['BeatsPerMinute']\n",
        "\n",
        "X_train, X_val, y_train, y_val = train_test_split(X, y, test_size=0.2, random_state=113)\n",
        "\n",
        "scaler = StandardScaler()\n",
        "X_train_scaled = scaler.fit_transform(X_train)\n",
        "X_val_scaled = scaler.transform(X_val)"
      ],
      "metadata": {
        "id": "B7iDaelqSEHb"
      },
      "execution_count": null,
      "outputs": []
    },
    {
      "cell_type": "markdown",
      "source": [
        "First of all, considering the noiseness of the dataset, we will try models with small depth value."
      ],
      "metadata": {
        "id": "fpFWytMO-z2H"
      }
    },
    {
      "cell_type": "code",
      "source": [
        "train_pool = Pool(X_train_scaled, y_train, cat_features=None)\n",
        "val_pool = Pool(X_val_scaled, y_val, cat_features=None)\n",
        "\n",
        "model = CatBoostRegressor(\n",
        "    iterations = 541,\n",
        "    learning_rate=0.015,\n",
        "    depth=3,\n",
        "    l2_leaf_reg=6,\n",
        "    loss_function='RMSE',\n",
        "    grow_policy = 'Depthwise',\n",
        "    eval_metric='RMSE',\n",
        "    random_seed=113,\n",
        "    verbose=100,\n",
        "    early_stopping_rounds=500,\n",
        "    min_data_in_leaf = 10,\n",
        "    bagging_temperature=0.1\n",
        ")\n",
        "\n",
        "model.fit(\n",
        "    train_pool,\n",
        "    eval_set=val_pool,\n",
        "    use_best_model=True,\n",
        "    plot=True\n",
        ")\n",
        "\n",
        "y_pred = model.predict(X_val_scaled)\n",
        "\n",
        "print(f\"MSE: {mean_squared_error(y_val, y_pred):.5f}\")\n",
        "print(f\"R-squared: {r2_score(y_val, y_pred):.5f}\")\n",
        "print(f\"MAE: {mean_absolute_error(y_val, y_pred):.5f}\")\n",
        "\n",
        "plt.figure(figsize=(10, 6))\n",
        "plt.scatter(y_val[:50], y_pred[:50], alpha=0.5)\n",
        "plt.plot([y_val[:50].min(), y_val[:50].max()], [y_val[:50].min(), y_val[:50].max()], '--')\n",
        "plt.xlabel(\"Real values\")\n",
        "plt.ylabel(\"Predicted values\")\n",
        "plt.title(\"CatBoost Regression: Real vs Predicted\")\n",
        "plt.show()\n",
        "\n"
      ],
      "metadata": {
        "colab": {
          "base_uri": "https://localhost:8080/",
          "height": 895,
          "referenced_widgets": [
            "0c7767e14a044a36931ca66b23a0d57e"
          ]
        },
        "id": "C5XHN-E8-tpZ",
        "outputId": "d3bf14b1-b85b-4d61-86f3-bbc8c5429074"
      },
      "execution_count": null,
      "outputs": [
        {
          "output_type": "display_data",
          "data": {
            "text/plain": [
              "MetricVisualizer(layout=Layout(align_self='stretch', height='500px'))"
            ],
            "application/vnd.jupyter.widget-view+json": {
              "version_major": 2,
              "version_minor": 0,
              "model_id": "0c7767e14a044a36931ca66b23a0d57e"
            }
          },
          "metadata": {}
        },
        {
          "output_type": "stream",
          "name": "stdout",
          "text": [
            "0:\tlearn: 25.1949434\ttest: 25.2653044\tbest: 25.2653044 (0)\ttotal: 112ms\tremaining: 1m 40s\n",
            "100:\tlearn: 25.1865302\ttest: 25.2595910\tbest: 25.2595910 (100)\ttotal: 13.3s\tremaining: 1m 45s\n",
            "200:\tlearn: 25.1812341\ttest: 25.2576125\tbest: 25.2576125 (200)\ttotal: 26.4s\tremaining: 1m 31s\n",
            "300:\tlearn: 25.1767653\ttest: 25.2569750\tbest: 25.2569750 (300)\ttotal: 39.8s\tremaining: 1m 19s\n",
            "400:\tlearn: 25.1727750\ttest: 25.2567261\tbest: 25.2567261 (400)\ttotal: 53.3s\tremaining: 1m 6s\n",
            "500:\tlearn: 25.1690069\ttest: 25.2565017\tbest: 25.2565017 (500)\ttotal: 1m 6s\tremaining: 53.1s\n",
            "600:\tlearn: 25.1653348\ttest: 25.2565111\tbest: 25.2564242 (541)\ttotal: 1m 19s\tremaining: 39.8s\n",
            "700:\tlearn: 25.1618508\ttest: 25.2566477\tbest: 25.2564242 (541)\ttotal: 1m 33s\tremaining: 26.6s\n",
            "800:\tlearn: 25.1584327\ttest: 25.2567597\tbest: 25.2564242 (541)\ttotal: 1m 47s\tremaining: 13.2s\n",
            "899:\tlearn: 25.1550989\ttest: 25.2567893\tbest: 25.2564242 (541)\ttotal: 2m\tremaining: 0us\n",
            "\n",
            "bestTest = 25.25642422\n",
            "bestIteration = 541\n",
            "\n",
            "Shrink model to first 542 iterations.\n",
            "MSE: 637.88696\n",
            "R-squared: 0.00069\n",
            "MAE: 20.48947\n"
          ]
        },
        {
          "output_type": "display_data",
          "data": {
            "text/plain": [
              "<Figure size 1000x600 with 1 Axes>"
            ],
            "image/png": "[encoded data removed]"
          },
          "metadata": {}
        }
      ]
    },
    {
      "cell_type": "code",
      "source": [
        "feature_importance = model.feature_importances_\n",
        "sorted_idx = np.argsort(feature_importance)[::-1]\n",
        "features = X_train.columns[sorted_idx]\n",
        "\n",
        "plt.figure(figsize=(10, 8))\n",
        "plt.barh(range(len(sorted_idx)), feature_importance[sorted_idx])\n",
        "plt.yticks(range(len(sorted_idx)), features)\n",
        "plt.title(\"CatBoost Feature Importance\")\n",
        "plt.show()"
      ],
      "metadata": {
        "colab": {
          "base_uri": "https://localhost:8080/",
          "height": 700
        },
        "id": "b-sr4vV7OBTK",
        "outputId": "7c0dcd91-0d98-4f0c-b38c-e58d54b8adf8"
      },
      "execution_count": null,
      "outputs": [
        {
          "output_type": "display_data",
          "data": {
            "text/plain": [
              "<Figure size 1000x800 with 1 Axes>"
            ],
            "image/png": "[encoded data removed]"
          },
          "metadata": {}
        }
      ]
    },
    {
      "cell_type": "markdown",
      "source": [
        "Other models:\n",
        "\n",
        "*   RMSE=26.43126885, iterations = 307, lr = 0.025, depth = 5, l2_reg = 4.\n",
        "*   RMSE = 25.25699156, iterations = 422, lr = 0.015, depth = 4, l2_reg = 5.\n",
        "*   RMSE = 25.25661359, iterations = 900, lr = 0.015, depth = 3, l2_reg = 6. (Best Public Score in Kaggle within my tries)\n",
        "*   RMSE = 25.25660821, iterations = 307, lr = 0.07, depth = 11, l2_reg = 6, depthwise growth and bagging.\n",
        "\n",
        "\n"
      ],
      "metadata": {
        "id": "pB9zCeHLYIAa"
      }
    },
    {
      "cell_type": "markdown",
      "source": [
        "Secondly, we will test models with higher depths. The final model will be obtained by averaging the previous and above described models."
      ],
      "metadata": {
        "id": "ec1lamCG_f1g"
      }
    },
    {
      "cell_type": "code",
      "source": [
        "second_model = CatBoostRegressor(\n",
        "    iterations = 900,\n",
        "    learning_rate=0.0078,\n",
        "    depth=10,\n",
        "    l2_leaf_reg=0.3,\n",
        "    loss_function='RMSE',\n",
        "    grow_policy = 'Lossguide',\n",
        "    eval_metric='RMSE',\n",
        "    random_seed=123,\n",
        "    verbose=100,\n",
        "    early_stopping_rounds=500,\n",
        "    min_data_in_leaf = 10,\n",
        "    bagging_temperature=0.5\n",
        ")\n",
        "\n",
        "second_model.fit(\n",
        "    train_pool,\n",
        "    eval_set=val_pool,\n",
        "    use_best_model=True,\n",
        "    plot=True\n",
        ")\n",
        "\n",
        "y_pred_second = second_model.predict(X_val_scaled)\n",
        "\n",
        "print(f\"MSE: {mean_squared_error(y_val, (y_pred + y_pred_second)/2):.5f}\")\n"
      ],
      "metadata": {
        "colab": {
          "base_uri": "https://localhost:8080/",
          "height": 307,
          "referenced_widgets": [
            "b6684f3b2d9a4e509d52eef83d745603"
          ]
        },
        "id": "tHlbcfSSvFLj",
        "outputId": "5f1742f4-46f1-4cfa-c3dd-128b02ebcba2"
      },
      "execution_count": null,
      "outputs": [
        {
          "output_type": "display_data",
          "data": {
            "text/plain": [
              "MetricVisualizer(layout=Layout(align_self='stretch', height='500px'))"
            ],
            "application/vnd.jupyter.widget-view+json": {
              "version_major": 2,
              "version_minor": 0,
              "model_id": "b6684f3b2d9a4e509d52eef83d745603"
            }
          },
          "metadata": {}
        },
        {
          "output_type": "stream",
          "name": "stdout",
          "text": [
            "0:\tlearn: 25.1949139\ttest: 25.2652731\tbest: 25.2652731 (0)\ttotal: 327ms\tremaining: 4m 54s\n",
            "100:\tlearn: 25.1852925\ttest: 25.2599922\tbest: 25.2599922 (100)\ttotal: 19.8s\tremaining: 2m 36s\n",
            "200:\tlearn: 25.1784406\ttest: 25.2580053\tbest: 25.2580053 (200)\ttotal: 37.8s\tremaining: 2m 11s\n",
            "300:\tlearn: 25.1726492\ttest: 25.2573149\tbest: 25.2573149 (300)\ttotal: 57.1s\tremaining: 1m 53s\n",
            "400:\tlearn: 25.1671654\ttest: 25.2569989\tbest: 25.2569980 (399)\ttotal: 1m 14s\tremaining: 1m 32s\n",
            "500:\tlearn: 25.1619859\ttest: 25.2567260\tbest: 25.2566887 (486)\ttotal: 1m 31s\tremaining: 1m 12s\n",
            "600:\tlearn: 25.1569360\ttest: 25.2564865\tbest: 25.2564740 (595)\ttotal: 1m 48s\tremaining: 54.2s\n",
            "700:\tlearn: 25.1519023\ttest: 25.2564335\tbest: 25.2564290 (692)\ttotal: 2m 7s\tremaining: 36.2s\n",
            "800:\tlearn: 25.1468950\ttest: 25.2564920\tbest: 25.2563666 (715)\ttotal: 2m 24s\tremaining: 17.8s\n",
            "899:\tlearn: 25.1420382\ttest: 25.2566020\tbest: 25.2563666 (715)\ttotal: 2m 39s\tremaining: 0us\n",
            "\n",
            "bestTest = 25.25636656\n",
            "bestIteration = 715\n",
            "\n",
            "Shrink model to first 716 iterations.\n",
            "MSE: 637.88204\n"
          ]
        }
      ]
    },
    {
      "cell_type": "markdown",
      "source": [
        "# Results:"
      ],
      "metadata": {
        "id": "KBsPxr9n_5z8"
      }
    },
    {
      "cell_type": "code",
      "source": [
        "print(f\"Final Model, MSE: {mean_squared_error(y_val, (0.5 * y_pred + 0.5 * y_pred_second)):.5f}\")\n",
        "print(f\"First Model, MSE: {mean_squared_error(y_val, y_pred):.5f}\")\n",
        "print(f\"Second Model, MSE: {mean_squared_error(y_val, y_pred_second):.5f}\")"
      ],
      "metadata": {
        "colab": {
          "base_uri": "https://localhost:8080/"
        },
        "id": "qhEKi7B2x4en",
        "outputId": "ca8b20a1-86b0-4c9b-8fdb-ce1ff5663d8f"
      },
      "execution_count": null,
      "outputs": [
        {
          "output_type": "stream",
          "name": "stdout",
          "text": [
            "Final Model, MSE: 637.88204\n",
            "First Model, MSE: 637.88696\n",
            "Second Model, MSE: 637.88405\n"
          ]
        }
      ]
    },
    {
      "cell_type": "code",
      "source": [
        "X_test = test_data.drop('id', axis=1).to_numpy()\n",
        "\n",
        "y_test_pred = (model.predict(X_test) + second_model.predict(X_test))/2\n",
        "\n",
        "submission = pd.DataFrame()\n",
        "submission['id'] = test_data['id']\n",
        "submission['BeatsPerMinute'] = y_test_pred\n",
        "\n",
        "submission.to_csv('submission.csv', index=False)"
      ],
      "metadata": {
        "id": "vDfux-nTAK24"
      },
      "execution_count": null,
      "outputs": []
    }
  ]
}